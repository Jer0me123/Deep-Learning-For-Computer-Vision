{
 "cells": [
  {
   "cell_type": "markdown",
   "metadata": {},
   "source": [
    "**Dataset Link:** https://www.kaggle.com/c/challenges-in-representation-learning-facial-expression-recognition-challenge"
   ]
  },
  {
   "cell_type": "code",
   "execution_count": 6,
   "metadata": {},
   "outputs": [],
   "source": [
    "import os\n",
    "import shutil\n",
    "import pandas as pd\n",
    "import numpy as np\n",
    "from PIL import Image"
   ]
  },
  {
   "cell_type": "code",
   "execution_count": 7,
   "metadata": {},
   "outputs": [],
   "source": [
    "# The FER labels already align with the universal emotion labels\n",
    "FER_Label_Mapping = {0:'Angry', 1:'Disgust', 2:'Fear', 3:'Happy', 4:'Sad', 5:'Surprise', 6:'Neutral', 7:'Contempt'}\n",
    "FER_Label_Mapping_Inverse = {v: k for k, v in FER_Label_Mapping.items()}"
   ]
  },
  {
   "cell_type": "code",
   "execution_count": 8,
   "metadata": {},
   "outputs": [],
   "source": [
    "def save_images(dataset, base_dir, split_name, target_dir):\n",
    "    \"\"\"\n",
    "    Save images and create labels CSV for a dataset\n",
    "    \n",
    "    Parameters:\n",
    "    dataset (DataFrame): The dataset containing image data\n",
    "    split_name (str): Prefix for filenames (train/val/test)\n",
    "    target_dir (str): Subdirectory to save images and CSV\n",
    "    \"\"\"\n",
    "    label_data = []\n",
    "    \n",
    "    for idx, (_, row) in enumerate(dataset.iterrows()):\n",
    "        # Process pixels\n",
    "        pixels = np.array(list(map(int, row['pixels'].split())), dtype=np.uint8)\n",
    "        img_array = pixels.reshape(48, 48)\n",
    "        img = Image.fromarray(img_array)\n",
    "        \n",
    "        # Create filename components\n",
    "        emotion_label = row['emotion']\n",
    "        filename = f\"{split_name}_{idx}_{FER_Label_Mapping[emotion_label]}.png\"\n",
    "        \n",
    "        # Save image\n",
    "        img.save(os.path.join(base_dir, target_dir, filename))\n",
    "        \n",
    "        # Store label information\n",
    "        label_data.append({'filename': filename, 'label': emotion_label})\n",
    "    \n",
    "    # Create and save labels DataFrame\n",
    "    labels_df = pd.DataFrame(label_data)\n",
    "    labels_df.to_csv(os.path.join(base_dir, target_dir, 'labels.csv'), index=False)"
   ]
  },
  {
   "cell_type": "code",
   "execution_count": 11,
   "metadata": {},
   "outputs": [],
   "source": [
    "def copy_images_to_label_subdirectories(base_dir):\n",
    "    \"\"\"\n",
    "    For each subdirectory (test, train, validation) in base_dir,\n",
    "    copy images into subdirectories based on their label, extracted from the filename.\n",
    "    \n",
    "    Expected filename format: {usecase}_{index}_{label}.{ext}\n",
    "    \"\"\"\n",
    "    # Define the usage folders.\n",
    "    usage_dirs = ['train', 'test', 'validation']\n",
    "    \n",
    "    for usage in usage_dirs:\n",
    "        usage_path = os.path.join(base_dir, usage)\n",
    "        if not os.path.isdir(usage_path):\n",
    "            print(f\"Directory {usage_path} does not exist. Skipping.\")\n",
    "            continue\n",
    "        \n",
    "        # Process each file in the usage folder.\n",
    "        for filename in os.listdir(usage_path):\n",
    "            file_path = os.path.join(usage_path, filename)\n",
    "            if os.path.isfile(file_path):\n",
    "                # Parse the filename. We expect at least 3 parts separated by '_'\n",
    "                parts = filename.split('_')\n",
    "                if len(parts) < 3:\n",
    "                    print(f\"Filename {filename} does not match expected format. Skipping.\")\n",
    "                    continue\n",
    "                \n",
    "                # The label is assumed to be the last part, with the file extension removed.\n",
    "                label_with_ext = parts[-1]\n",
    "                label, _ = os.path.splitext(label_with_ext)\n",
    "                label = str(FER_Label_Mapping_Inverse.get(label, None))\n",
    "                \n",
    "                # Create the label subdirectory if it doesn't exist.\n",
    "                label_dir = os.path.join(usage_path, label)\n",
    "                os.makedirs(label_dir, exist_ok=True)\n",
    "                \n",
    "                # Copy the image into the label subdirectory.\n",
    "                destination_file_path = os.path.join(label_dir, filename)\n",
    "                shutil.copy2(file_path, destination_file_path)"
   ]
  },
  {
   "cell_type": "code",
   "execution_count": null,
   "metadata": {},
   "outputs": [
    {
     "name": "stdout",
     "output_type": "stream",
     "text": [
      "Filename labels.csv does not match expected format. Skipping.\n"
     ]
    }
   ],
   "source": [
    "# Read the CSV file\n",
    "df = pd.read_csv('FER/fer2013.csv')\n",
    "\n",
    "# Define base directory structure\n",
    "base_directory = 'FER__Structured_Aligned'\n",
    "os.makedirs(base_directory, exist_ok=True)\n",
    "\n",
    "# Create subdirectories\n",
    "for folder in ['train', 'validation', 'test']:\n",
    "    os.makedirs(os.path.join(base_directory, folder), exist_ok=True)\n",
    "\n",
    "# Filter the dataset into three sets based on the value in 'Usage'\n",
    "training_set = df[df['Usage'] == 'Training']\n",
    "validation_set = df[df['Usage'] == 'PublicTest']\n",
    "testing_set = df[df['Usage'] == 'PrivateTest']\n",
    "\n",
    "# Save all sets with images and labels\n",
    "save_images(training_set, base_directory, \"train\", \"train\")\n",
    "save_images(validation_set, base_directory, \"val\", \"validation\")\n",
    "save_images(testing_set, base_directory, \"test\", \"test\")\n",
    "\n",
    "copy_images_to_label_subdirectories(base_directory)"
   ]
  }
 ],
 "metadata": {
  "kernelspec": {
   "display_name": ".venv",
   "language": "python",
   "name": "python3"
  },
  "language_info": {
   "codemirror_mode": {
    "name": "ipython",
    "version": 3
   },
   "file_extension": ".py",
   "mimetype": "text/x-python",
   "name": "python",
   "nbconvert_exporter": "python",
   "pygments_lexer": "ipython3",
   "version": "3.10.8"
  }
 },
 "nbformat": 4,
 "nbformat_minor": 2
}
