{
 "cells": [
  {
   "cell_type": "code",
   "execution_count": 28,
   "metadata": {},
   "outputs": [],
   "source": [
    "import os\n",
    "import shutil\n",
    "import csv"
   ]
  },
  {
   "cell_type": "code",
   "execution_count": null,
   "metadata": {},
   "outputs": [],
   "source": [
    "# The affect net labels already align with the universal emotion labels\n",
    "# universal_emotion_mapping = {0: 'Angry', 1: 'Disgust', 2: 'Fear', 3: 'Happy', 4: 'Sad', 5: 'Surprise', 6: 'Neutral'}\n",
    "AffectNet_Label_Mapping = {0:'Angry', 1:'Disgust', 2:'Fear', 3:'Happy', 4:'Sad', 5:'Surprise', 6:'Neutral', 7:'Contempt'}"
   ]
  },
  {
   "cell_type": "code",
   "execution_count": null,
   "metadata": {},
   "outputs": [],
   "source": [
    "def flatten_affectnet(source_base, destination_base):\n",
    "    \"\"\"\n",
    "    Processes the AffectNet dataset by flattening images from subdirectories\n",
    "    (0 to 7) of each usage folder (train, test, val) into separate directories\n",
    "    within the destination folder. In addition, a labels.csv file is created in \n",
    "    each usage folder mapping each new filename to its original label.\n",
    "    \n",
    "    The new filename format is: {usage}_{index}_{label}.{ext}\n",
    "    \n",
    "    Args:\n",
    "        source_base (str): The path to the root directory of the AffectNet dataset.\n",
    "        destination_base (str): The path where the flattened directories will be created.\n",
    "    \"\"\"\n",
    "    # Define usage directories and how they will be represented in filenames.\n",
    "    usage_dirs = ['train', 'test', 'val']\n",
    "    usage_prefix = {\n",
    "        'train': 'train',\n",
    "        'test': 'test',\n",
    "        'val': 'validation'\n",
    "    }\n",
    "    \n",
    "    for usage in usage_dirs:\n",
    "        source_usage_path = os.path.join(source_base, usage)\n",
    "        # Use the mapping for naming output folders (e.g., 'validation' for 'val')\n",
    "        output_usage_dirname = usage_prefix[usage]\n",
    "        output_usage_path = os.path.join(destination_base, output_usage_dirname)\n",
    "        os.makedirs(output_usage_path, exist_ok=True)\n",
    "        \n",
    "        # List to keep track of (filename, label) pairs for the CSV file.\n",
    "        csv_rows = []\n",
    "        image_index = 0\n",
    "        \n",
    "        # Process each label subdirectory (e.g., \"0\" through \"7\")\n",
    "        for label in sorted(os.listdir(source_usage_path)):\n",
    "            label_path = os.path.join(source_usage_path, label)\n",
    "            if os.path.isdir(label_path):\n",
    "                for image_file in os.listdir(label_path):\n",
    "                    image_path = os.path.join(label_path, image_file)\n",
    "                    if os.path.isfile(image_path):\n",
    "                        ext = os.path.splitext(image_file)[1]\n",
    "                        # Construct new filename with the desired format.\n",
    "                        # new_filename = f\"{usage_prefix[usage]}_{image_index}_{label}{ext}\"\n",
    "                        new_filename = f\"{usage_prefix[usage]}_{image_index}_{AffectNet_Label_Mapping[int(label)]}{ext}\"\n",
    "                        new_filepath = os.path.join(output_usage_path, new_filename)\n",
    "                        shutil.copy2(image_path, new_filepath)\n",
    "                        # Append the new filename and label to our CSV list.\n",
    "                        csv_rows.append((new_filename, label))\n",
    "                        image_index += 1\n",
    "        \n",
    "        # Write the CSV file in the current usage output directory.\n",
    "        csv_path = os.path.join(output_usage_path, 'labels.csv')\n",
    "        with open(csv_path, mode='w', newline='') as csvfile:\n",
    "            csv_writer = csv.writer(csvfile)\n",
    "            # Write header row.\n",
    "            csv_writer.writerow(['filename', 'label'])\n",
    "            # Write each filename and label mapping.\n",
    "            csv_writer.writerows(csv_rows)\n",
    "        print(f\"Processed {usage_prefix[usage]}: {len(csv_rows)} images. CSV saved to {csv_path}\")"
   ]
  },
  {
   "cell_type": "code",
   "execution_count": 32,
   "metadata": {},
   "outputs": [],
   "source": [
    "def copy_images_to_label_subdirectories(base_dir):\n",
    "    \"\"\"\n",
    "    For each subdirectory (test, train, validation) in base_dir,\n",
    "    copy images into subdirectories based on their label, extracted from the filename.\n",
    "    \n",
    "    Expected filename format: {usecase}_{index}_{label}.{ext}\n",
    "    \"\"\"\n",
    "    # Define the usage folders.\n",
    "    usage_dirs = ['train', 'test', 'validation']\n",
    "    \n",
    "    for usage in usage_dirs:\n",
    "        usage_path = os.path.join(base_dir, usage)\n",
    "        if not os.path.isdir(usage_path):\n",
    "            print(f\"Directory {usage_path} does not exist. Skipping.\")\n",
    "            continue\n",
    "        \n",
    "        # Process each file in the usage folder.\n",
    "        for filename in os.listdir(usage_path):\n",
    "            file_path = os.path.join(usage_path, filename)\n",
    "            if os.path.isfile(file_path):\n",
    "                # Parse the filename. We expect at least 3 parts separated by '_'\n",
    "                parts = filename.split('_')\n",
    "                if len(parts) < 3:\n",
    "                    print(f\"Filename {filename} does not match expected format. Skipping.\")\n",
    "                    continue\n",
    "                \n",
    "                # The label is assumed to be the last part, with the file extension removed.\n",
    "                label_with_ext = parts[-1]\n",
    "                label, _ = os.path.splitext(label_with_ext)\n",
    "                \n",
    "                # Create the label subdirectory if it doesn't exist.\n",
    "                label_dir = os.path.join(usage_path, label)\n",
    "                os.makedirs(label_dir, exist_ok=True)\n",
    "                \n",
    "                # Copy the image into the label subdirectory.\n",
    "                destination_file_path = os.path.join(label_dir, filename)\n",
    "                shutil.copy2(file_path, destination_file_path)"
   ]
  },
  {
   "cell_type": "code",
   "execution_count": null,
   "metadata": {},
   "outputs": [
    {
     "name": "stdout",
     "output_type": "stream",
     "text": [
      "Filename labels.csv does not match expected format. Skipping.\n",
      "Filename labels.csv does not match expected format. Skipping.\n",
      "Filename labels.csv does not match expected format. Skipping.\n"
     ]
    }
   ],
   "source": [
    "# Set the source (AffectNet dataset) and destination directories.\n",
    "source_base = 'AffectNet'        \n",
    "destination_base = 'AffectNet_Structured_Mapping'  \n",
    "flatten_affectnet(source_base, destination_base)\n",
    "\n",
    "# Set the base directory containing the train, test, and validation subdirectories.\n",
    "base_directory = 'AffectNet_Structured_Mapping'\n",
    "copy_images_to_label_subdirectories(base_directory)"
   ]
  }
 ],
 "metadata": {
  "kernelspec": {
   "display_name": ".venv",
   "language": "python",
   "name": "python3"
  },
  "language_info": {
   "codemirror_mode": {
    "name": "ipython",
    "version": 3
   },
   "file_extension": ".py",
   "mimetype": "text/x-python",
   "name": "python",
   "nbconvert_exporter": "python",
   "pygments_lexer": "ipython3",
   "version": "3.10.8"
  }
 },
 "nbformat": 4,
 "nbformat_minor": 2
}
