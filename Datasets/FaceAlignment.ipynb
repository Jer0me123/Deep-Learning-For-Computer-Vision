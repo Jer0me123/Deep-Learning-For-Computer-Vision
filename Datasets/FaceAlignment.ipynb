{
 "cells": [
  {
   "cell_type": "markdown",
   "metadata": {},
   "source": [
    "# Face Alignment\n",
    "\n",
    "This notebook when run goes through every image in the specifed directories and using the MTCNN face detector detects and alignes faces."
   ]
  },
  {
   "cell_type": "code",
   "execution_count": null,
   "metadata": {},
   "outputs": [],
   "source": [
    "import os\n",
    "import cv2\n",
    "import numpy as np\n",
    "from mtcnn import MTCNN\n",
    "from PIL import Image\n",
    "\n",
    "# Initialise MTCNN detector\n",
    "detector = MTCNN()\n",
    "\n",
    "def align_face(image_path):\n",
    "    \"\"\" Detects, aligns, and rotates face from an image using MTCNN. Overwrites the image if a face is found. \"\"\"\n",
    "    try:\n",
    "        img = cv2.imread(image_path)\n",
    "        if img is None:\n",
    "            print(f\"Skipping {image_path}, unable to read image.\")\n",
    "            return\n",
    "        \n",
    "        img_rgb = cv2.cvtColor(img, cv2.COLOR_BGR2RGB) \n",
    "        original_size = (img.shape[1], img.shape[0]) \n",
    "        detections = detector.detect_faces(img_rgb)\n",
    "        \n",
    "        if detections:\n",
    "            for detection in detections:\n",
    "                if detection['confidence'] > 0.90:  \n",
    "                    x, y, width, height = detection['box']\n",
    "                    x, y = max(0, x), max(0, y) \n",
    "                    face = img_rgb[y:y+height, x:x+width]  \n",
    "                    \n",
    "                    # Get facial landmarks\n",
    "                    keypoints = detection['keypoints']\n",
    "                    left_eye = keypoints['left_eye']\n",
    "                    right_eye = keypoints['right_eye']\n",
    "\n",
    "                    # Convert to integers (fix TypeError)\n",
    "                    left_eye = (int(left_eye[0]), int(left_eye[1]))\n",
    "                    right_eye = (int(right_eye[0]), int(right_eye[1]))\n",
    "\n",
    "                    # Compute angle to align the eyes\n",
    "                    dx = right_eye[0] - left_eye[0]\n",
    "                    dy = right_eye[1] - left_eye[1]\n",
    "                    angle = np.degrees(np.arctan2(dy, dx))\n",
    "\n",
    "                    # Rotate the image around the center of the eyes\n",
    "                    center = ((left_eye[0] + right_eye[0]) // 2, (left_eye[1] + right_eye[1]) // 2)\n",
    "                    rot_matrix = cv2.getRotationMatrix2D(center, angle, 1.0)\n",
    "                    aligned_img = cv2.warpAffine(img_rgb, rot_matrix, (img.shape[1], img.shape[0]))\n",
    "\n",
    "                    # Crop face again after rotation\n",
    "                    aligned_face = aligned_img[y:y+height, x:x+width]\n",
    "\n",
    "                    # Convert to PIL Image for resizing\n",
    "                    face_pil = Image.fromarray(aligned_face)\n",
    "                    face_pil = face_pil.resize(original_size) \n",
    "                    \n",
    "                    # Save aligned face (overwrite original image)\n",
    "                    face_pil.save(image_path)\n",
    "                    print(f\"Aligned and saved: {image_path}\")\n",
    "                    return \n",
    "        \n",
    "    except Exception as e:\n",
    "        print(f\"Error processing {image_path}: {e}\")\n",
    "\n",
    "def process_directory(directory):\n",
    "    \"\"\" Recursively processes all images in the given directory and its subdirectories. \"\"\"\n",
    "    for root, _, files in os.walk(directory):\n",
    "        for file in files:\n",
    "            if file.lower().endswith(('.png', '.jpg', '.jpeg')):\n",
    "                image_path = os.path.join(root, file)\n",
    "                align_face(image_path)"
   ]
  },
  {
   "cell_type": "code",
   "execution_count": null,
   "metadata": {},
   "outputs": [],
   "source": [
    "# Set input directory\n",
    "input_dirs = ['AffectNet_Structured_Aligned', 'CK+_Structured_Aligned', 'FER_Structured_Aligned', 'RAF-DB_Structured_Aligned', 'JAFFE_Structured_Aligned']\n",
    "\n",
    "for input_dir in input_dirs:\n",
    "    if not os.path.exists(input_dir):\n",
    "        print(f\"Directory {input_dir} does not exist. Skipping.\")\n",
    "        continue\n",
    "    print(f\"Processing directory: {input_dir}\")\n",
    "    process_directory(input_dir)"
   ]
  }
 ],
 "metadata": {
  "kernelspec": {
   "display_name": ".venv",
   "language": "python",
   "name": "python3"
  },
  "language_info": {
   "codemirror_mode": {
    "name": "ipython",
    "version": 3
   },
   "file_extension": ".py",
   "mimetype": "text/x-python",
   "name": "python",
   "nbconvert_exporter": "python",
   "pygments_lexer": "ipython3",
   "version": "3.10.8"
  }
 },
 "nbformat": 4,
 "nbformat_minor": 2
}
