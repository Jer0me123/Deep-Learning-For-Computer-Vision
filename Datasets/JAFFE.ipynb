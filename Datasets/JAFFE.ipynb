{
 "cells": [
  {
   "cell_type": "code",
   "execution_count": 32,
   "metadata": {},
   "outputs": [],
   "source": [
    "import os\n",
    "import pandas as pd\n",
    "import numpy as np\n",
    "from PIL import Image\n",
    "from sklearn.model_selection import train_test_split\n",
    "import shutil"
   ]
  },
  {
   "cell_type": "code",
   "execution_count": 33,
   "metadata": {},
   "outputs": [
    {
     "name": "stderr",
     "output_type": "stream",
     "text": [
      "C:\\Users\\User\\AppData\\Local\\Temp\\ipykernel_75356\\3856081793.py:14: FutureWarning: The 'delim_whitespace' keyword in pd.read_csv is deprecated and will be removed in a future version. Use ``sep='\\s+'`` instead\n",
      "  df = pd.read_csv(os.path.join(image_dir, mapping_file), delim_whitespace=True)\n"
     ]
    },
    {
     "name": "stdout",
     "output_type": "stream",
     "text": [
      "Error processing KM.SA4.12.tiff: [Errno 2] No such file or directory: 'JAFFE\\\\KM.SA4.12.tiff'\n",
      "Error processing NM.DI2.108.tiff: [Errno 2] No such file or directory: 'JAFFE\\\\NM.DI2.108.tiff'\n",
      "Error processing KM.DI2.21.tiff: [Errno 2] No such file or directory: 'JAFFE\\\\KM.DI2.21.tiff'\n",
      "Error processing TM.HA4.183.tiff: [Errno 2] No such file or directory: 'JAFFE\\\\TM.HA4.183.tiff'\n",
      "Error processing KM.HA5.8.tiff: [Errno 2] No such file or directory: 'JAFFE\\\\KM.HA5.8.tiff'\n",
      "Error processing KR.HA3.76.tiff: [Errno 2] No such file or directory: 'JAFFE\\\\KR.HA3.76.tiff'\n",
      "Dataset processing complete!\n"
     ]
    }
   ],
   "source": [
    "# Configuration\n",
    "base_dir = \"JAFFE_Structured\"\n",
    "image_dir = \"JAFFE\"\n",
    "mapping_file = \"mapping.csv\"\n",
    "seed = 42\n",
    "test_val_size = 0.4  # 40% for test+validation (will split to 20% each)\n",
    "\n",
    "# Create directory structure\n",
    "os.makedirs(base_dir, exist_ok=True)\n",
    "for split in ['train', 'test', 'validation']:\n",
    "    os.makedirs(os.path.join(base_dir, split), exist_ok=True)\n",
    "\n",
    "# Load and process mapping data\n",
    "df = pd.read_csv(os.path.join(image_dir, mapping_file), delim_whitespace=True)\n",
    "emotion_columns = ['HAP', 'SAD', 'SUR', 'ANG', 'DIS', 'FEA']\n",
    "emotion_mapping = {\n",
    "    'HAP': 'Happy',\n",
    "    'SAD': 'Sad',\n",
    "    'SUR': 'Surprise',\n",
    "    'ANG': 'Angry',\n",
    "    'DIS': 'Disgust',\n",
    "    'FEA': 'Fear'\n",
    "}\n",
    "\n",
    "Universal_Label_Mapping = {'Angry':0, 'Disgust':1, 'Fear':2, 'Happy':3, 'Sad':4, 'Surprise':5, 'Neutral':6}\n",
    "\n",
    "# Determine dominant emotion for each image\n",
    "df['label'] = df[emotion_columns].idxmax(axis=1).map(emotion_mapping)\n",
    "\n",
    "# Using apply() with a lambda function\n",
    "df['filename'] = df.apply(\n",
    "    lambda row: (\n",
    "        row['PIC'].replace('-', '.') + \n",
    "        '.' + \n",
    "        str(row['Image_No']) + \n",
    "        '.tiff'\n",
    "    ), \n",
    "    axis=1\n",
    ")\n",
    "\n",
    "# Split dataset with stratification\n",
    "train_df, temp_df = train_test_split(\n",
    "    df,\n",
    "    test_size=test_val_size,\n",
    "    stratify=df['label'],\n",
    "    random_state=seed\n",
    ")\n",
    "\n",
    "val_df, test_df = train_test_split(\n",
    "    temp_df,\n",
    "    test_size=0.5,\n",
    "    stratify=temp_df['label'],\n",
    "    random_state=seed\n",
    ")\n",
    "\n",
    "def save_images(dataset, split_name):\n",
    "    labels = []\n",
    "    for idx, (_, row) in enumerate(dataset.iterrows()):\n",
    "        try:\n",
    "            # Process image\n",
    "            img_path = os.path.join(image_dir, row['filename'])\n",
    "            img = Image.open(img_path)\n",
    "            \n",
    "            # Create new filename\n",
    "            new_filename = f\"{split_name}_{idx}_{row['label']}.png\"\n",
    "            save_path = os.path.join(base_dir, split_name, new_filename)\n",
    "            img.save(save_path)\n",
    "            \n",
    "            # Record label\n",
    "            labels.append({'filename': new_filename, 'label': Universal_Label_Mapping[row['label']]})\n",
    "        except Exception as e:\n",
    "            print(f\"Error processing {row['filename']}: {str(e)}\")\n",
    "    \n",
    "    # Save labels CSV with numerical sorting\n",
    "    if labels:\n",
    "        labels_df = pd.DataFrame(labels)\n",
    "        labels_df.to_csv(os.path.join(base_dir, split_name, 'labels.csv'), index=False)\n",
    "\n",
    "# Save all splits\n",
    "save_images(train_df, 'train')\n",
    "save_images(val_df, 'validation')\n",
    "save_images(test_df, 'test')\n",
    "\n",
    "print(\"Dataset processing complete!\")"
   ]
  },
  {
   "cell_type": "code",
   "execution_count": 34,
   "metadata": {},
   "outputs": [],
   "source": [
    "def copy_images_to_label_subdirectories(base_dir):\n",
    "    \"\"\"\n",
    "    For each subdirectory (test, train, validation) in base_dir,\n",
    "    copy images into subdirectories based on their label, extracted from the filename.\n",
    "    \n",
    "    Expected filename format: {usecase}_{index}_{label}.{ext}\n",
    "    \"\"\"\n",
    "    # Define the usage folders.\n",
    "    usage_dirs = ['train', 'test', 'validation']\n",
    "    \n",
    "    for usage in usage_dirs:\n",
    "        usage_path = os.path.join(base_dir, usage)\n",
    "        if not os.path.isdir(usage_path):\n",
    "            print(f\"Directory {usage_path} does not exist. Skipping.\")\n",
    "            continue\n",
    "        \n",
    "        # Process each file in the usage folder.\n",
    "        for filename in os.listdir(usage_path):\n",
    "            file_path = os.path.join(usage_path, filename)\n",
    "            if os.path.isfile(file_path):\n",
    "                # Parse the filename. We expect at least 3 parts separated by '_'\n",
    "                parts = filename.split('_')\n",
    "                if len(parts) < 3:\n",
    "                    print(f\"Filename {filename} does not match expected format. Skipping.\")\n",
    "                    continue\n",
    "                \n",
    "                # The label is assumed to be the last part, with the file extension removed.\n",
    "                label_with_ext = parts[-1]\n",
    "                label, _ = os.path.splitext(label_with_ext)\n",
    "                \n",
    "                # Create the label subdirectory if it doesn't exist.\n",
    "                label_dir = os.path.join(usage_path, label)\n",
    "                os.makedirs(label_dir, exist_ok=True)\n",
    "                \n",
    "                # Copy the image into the label subdirectory.\n",
    "                destination_file_path = os.path.join(label_dir, filename)\n",
    "                shutil.copy2(file_path, destination_file_path)"
   ]
  },
  {
   "cell_type": "code",
   "execution_count": 35,
   "metadata": {},
   "outputs": [
    {
     "name": "stdout",
     "output_type": "stream",
     "text": [
      "Filename labels.csv does not match expected format. Skipping.\n",
      "Filename labels.csv does not match expected format. Skipping.\n",
      "Filename labels.csv does not match expected format. Skipping.\n"
     ]
    }
   ],
   "source": [
    "copy_images_to_label_subdirectories(base_dir)"
   ]
  }
 ],
 "metadata": {
  "kernelspec": {
   "display_name": ".venv",
   "language": "python",
   "name": "python3"
  },
  "language_info": {
   "codemirror_mode": {
    "name": "ipython",
    "version": 3
   },
   "file_extension": ".py",
   "mimetype": "text/x-python",
   "name": "python",
   "nbconvert_exporter": "python",
   "pygments_lexer": "ipython3",
   "version": "3.10.8"
  }
 },
 "nbformat": 4,
 "nbformat_minor": 2
}
