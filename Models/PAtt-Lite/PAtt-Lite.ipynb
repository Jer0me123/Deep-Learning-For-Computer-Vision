{
 "cells": [
  {
   "cell_type": "code",
   "execution_count": 1,
   "metadata": {},
   "outputs": [],
   "source": [
    "# !pip install scikit-learn\n",
    "# !pip install tensorflow\n",
    "# !pip install matplotlib\n",
    "# !pip install pandas\n",
    "# !pip install opencv-python\n",
    "# !pip install seaborn"
   ]
  },
  {
   "cell_type": "code",
   "execution_count": 2,
   "metadata": {},
   "outputs": [],
   "source": [
    "# import h5py\n",
    "import datetime\n",
    "# import numpy as np\n",
    "import tensorflow as tf\n",
    "from tensorflow import keras\n",
    "from sklearn.utils import shuffle\n",
    "from sklearn.utils.class_weight import compute_class_weight\n",
    "%matplotlib inline"
   ]
  },
  {
   "cell_type": "markdown",
   "metadata": {},
   "source": [
    "# PAtt-Lite\n",
    "\n",
    "The code below was adopted from the PAtt-Lite repository outlined below and altered to facilitate integration with the five datasets.\n",
    "\n",
    "**LINK**: https://github.com/JLREx/PAtt-Lite"
   ]
  },
  {
   "cell_type": "code",
   "execution_count": 3,
   "metadata": {},
   "outputs": [],
   "source": [
    "import os\n",
    "import cv2\n",
    "# import h5py\n",
    "import numpy as np\n",
    "\n",
    "def load_data(dataset_path, splits=['train', 'val', 'test']):\n",
    "    X, y = {}, {}\n",
    "\n",
    "    IMG_SIZE = 224\n",
    "\n",
    "    # Label_Mapping = {0:'Angry', 1:'Disgust', 2:'Fear', 3:'Happy', 4:'Sad', 5:'Surprise', 6:'Neutral', 7:'Contempt'}\n",
    "    Label_Mapping = {0:'0', 1:'1', 2:'2', 3:'3', 4:'4', 5:'5', 6:'6', 7:'7'}\n",
    "\n",
    "    \n",
    "    for split in splits:\n",
    "        # PATH = os.path.join(path_prefix, dataset_name, split)\n",
    "        PATH = os.path.join(dataset_path, split)\n",
    "        X[split], y[split] = [], []\n",
    "        for classes in Label_Mapping.values():\n",
    "            class_path = os.path.join(PATH, classes)\n",
    "            class_numeric = next((k for k, v in Label_Mapping.items() if v == classes), None)\n",
    "\n",
    "            try:\n",
    "                for sample in os.listdir(class_path):\n",
    "                    sample_path = os.path.join(class_path, sample)\n",
    "                    image = cv2.imread(sample_path, cv2.IMREAD_COLOR)\n",
    "                    image = cv2.cvtColor(image, cv2.COLOR_BGR2RGB)\n",
    "                    image = cv2.resize(image, (IMG_SIZE, IMG_SIZE))\n",
    "                    X[split].append(image)\n",
    "                    y[split].append(class_numeric)\n",
    "            except:\n",
    "                print(f\"Dataset doesn't have class {classes}, therefore skipping.\")\n",
    "    \n",
    "    # Convert to numpy arrays\n",
    "    for split in splits:\n",
    "        X[split] = np.array(X[split])\n",
    "        y[split] = np.array(y[split])\n",
    "        \n",
    "    return X, y"
   ]
  },
  {
   "cell_type": "code",
   "execution_count": 4,
   "metadata": {},
   "outputs": [],
   "source": [
    "# NUM_CLASSES = 7\n",
    "# IMG_SHAPE = (120, 120, 3) # (224, 224, 3)\n",
    "# BATCH_SIZE = 8\n",
    "\n",
    "# TRAIN_EPOCH = 300\n",
    "# TRAIN_LR = 1e-3\n",
    "# TRAIN_ES_PATIENCE = 15\n",
    "# TRAIN_LR_PATIENCE = 9\n",
    "# TRAIN_MIN_LR = 1e-6\n",
    "# TRAIN_DROPOUT = 0.1\n",
    "\n",
    "# FT_EPOCH = 500\n",
    "# FT_LR = 1e-5\n",
    "# FT_LR_DECAY_STEP = 80.0\n",
    "# FT_LR_DECAY_RATE = 1\n",
    "# FT_ES_PATIENCE = 20\n",
    "# FT_DROPOUT = 0.2\n",
    "\n",
    "# ES_LR_MIN_DELTA = 0.003"
   ]
  },
  {
   "cell_type": "markdown",
   "metadata": {},
   "source": [
    "## PAtt-Lite Model"
   ]
  },
  {
   "cell_type": "code",
   "execution_count": 5,
   "metadata": {},
   "outputs": [],
   "source": [
    "def Model(component = 'Training', input_layer=None, sample_resizing=None, data_augmentation=None, \n",
    "          preprocess_input=None, base_model=None, self_attention=None, patch_extraction=None, \n",
    "          global_average_layer=None, pre_classification=None, prediction_layer=None):\n",
    "    \n",
    "    if component == 'Training':\n",
    "        input_layer = tf.keras.Input(shape=IMG_SHAPE, name='universal_input')\n",
    "        sample_resizing = tf.keras.layers.Resizing(224, 224, name=\"resize\")\n",
    "        data_augmentation = tf.keras.Sequential([tf.keras.layers.RandomFlip(mode='horizontal'), tf.keras.layers.RandomContrast(factor=0.3)], name=\"augmentation\")\n",
    "        preprocess_input = tf.keras.applications.mobilenet.preprocess_input\n",
    "        backbone = tf.keras.applications.mobilenet.MobileNet(input_shape=(224, 224, 3), include_top=False, weights='imagenet')\n",
    "        backbone.trainable = False\n",
    "        base_model = tf.keras.Model(backbone.input, backbone.layers[-29].output, name='base_model')\n",
    "\n",
    "        self_attention = tf.keras.layers.Attention(use_scale=True, name='attention')\n",
    "        patch_extraction = tf.keras.Sequential([\n",
    "            tf.keras.layers.SeparableConv2D(256, kernel_size=4, strides=4, padding='same', activation='relu'), \n",
    "            tf.keras.layers.SeparableConv2D(256, kernel_size=2, strides=2, padding='valid', activation='relu'), \n",
    "            tf.keras.layers.Conv2D(256, kernel_size=1, strides=1, padding='valid', activation='relu')\n",
    "        ], name='patch_extraction')\n",
    "        global_average_layer = tf.keras.layers.GlobalAveragePooling2D(name='gap')\n",
    "        pre_classification = tf.keras.Sequential([tf.keras.layers.Dense(32, activation='relu'), \n",
    "                                                tf.keras.layers.BatchNormalization()], name='pre_classification')\n",
    "        prediction_layer = tf.keras.layers.Dense(NUM_CLASSES, activation=\"softmax\", name='classification_head')\n",
    "\n",
    "        inputs = input_layer\n",
    "        x = sample_resizing(inputs)\n",
    "        x = data_augmentation(x)\n",
    "        x = preprocess_input(x)\n",
    "        x = base_model(x, training=False)\n",
    "        x = patch_extraction(x)\n",
    "        x = global_average_layer(x)\n",
    "        x = tf.keras.layers.Dropout(TRAIN_DROPOUT)(x)\n",
    "        x = pre_classification(x)\n",
    "        x = tf.keras.layers.Reshape((1, 32))(x) \n",
    "        x = self_attention([x, x])\n",
    "        x = tf.keras.layers.Reshape((32,))(x) \n",
    "        outputs = prediction_layer(x)\n",
    "        model = tf.keras.Model(inputs, outputs, name='train-head')\n",
    "        model.compile(optimizer=keras.optimizers.Adam(learning_rate=TRAIN_LR, global_clipnorm=3.0), loss='sparse_categorical_crossentropy', metrics=['accuracy'])\n",
    "        return model, input_layer, sample_resizing, data_augmentation, preprocess_input, base_model, self_attention, patch_extraction, global_average_layer, pre_classification, prediction_layer\n",
    "    elif component == 'Finetuning':\n",
    "        preprocess_input = tf.keras.applications.mobilenet.preprocess_input\n",
    "\n",
    "        unfreeze = 59\n",
    "        base_model.trainable = True\n",
    "        fine_tune_from = len(base_model.layers) - unfreeze\n",
    "        for layer in base_model.layers[:fine_tune_from]:\n",
    "            layer.trainable = False\n",
    "        for layer in base_model.layers[fine_tune_from:]:\n",
    "            if isinstance(layer, tf.keras.layers.BatchNormalization):\n",
    "                layer.trainable = False\n",
    "\n",
    "        inputs = input_layer\n",
    "        x = sample_resizing(inputs)\n",
    "        x = data_augmentation(x)\n",
    "        x = preprocess_input(x)\n",
    "        x = base_model(x, training=False)\n",
    "        x = patch_extraction(x)\n",
    "        x = tf.keras.layers.SpatialDropout2D(FT_DROPOUT)(x)\n",
    "        x = global_average_layer(x)\n",
    "        x = tf.keras.layers.Dropout(FT_DROPOUT)(x)\n",
    "        x = pre_classification(x)\n",
    "        x = tf.keras.layers.Reshape((1, 32))(x) \n",
    "        x = self_attention([x, x])\n",
    "        x = tf.keras.layers.Reshape((32,))(x) \n",
    "        x = tf.keras.layers.Dropout(FT_DROPOUT)(x)\n",
    "        outputs = prediction_layer(x)\n",
    "        model = tf.keras.Model(inputs, outputs, name='finetune-backbone')\n",
    "        model.compile(optimizer=keras.optimizers.Adam(learning_rate=FT_LR, global_clipnorm=3.0), loss='sparse_categorical_crossentropy', metrics=['accuracy'])\n",
    "        return model"
   ]
  },
  {
   "cell_type": "markdown",
   "metadata": {},
   "source": [
    "## PAtt-Lite Training"
   ]
  },
  {
   "cell_type": "code",
   "execution_count": 6,
   "metadata": {},
   "outputs": [],
   "source": [
    "from tensorflow.keras.callbacks import ModelCheckpoint\n",
    "\n",
    "def TrainPAttLite(data_directory, dataset_name, model_cp):\n",
    "    X, y = load_data(data_directory, splits=['train', 'validation', 'test'])\n",
    "\n",
    "    X_train, y_train = shuffle(X['train'], y['train'])\n",
    "    X_valid, y_valid = X['validation'], y['validation']\n",
    "    X_test, y_test = X['test'], y['test']\n",
    "\n",
    "    # Convert images to grayscale and resize them\n",
    "    X_train = np.array([cv2.cvtColor(cv2.resize(img, (120, 120)), cv2.COLOR_RGB2GRAY) for img in X_train])\n",
    "    X_valid = np.array([cv2.cvtColor(cv2.resize(img, (120, 120)), cv2.COLOR_RGB2GRAY) for img in X_valid])\n",
    "    X_test = np.array([cv2.cvtColor(cv2.resize(img, (120, 120)), cv2.COLOR_RGB2GRAY) for img in X_test])\n",
    "    \n",
    "    # Convert grayscale to pseudo-RGB by repeating the grayscale values across 3 channels\n",
    "    X_train = np.repeat(np.expand_dims(X_train, axis=-1), 3, axis=-1)\n",
    "    X_valid = np.repeat(np.expand_dims(X_valid, axis=-1), 3, axis=-1)\n",
    "    X_test = np.repeat(np.expand_dims(X_test, axis=-1), 3, axis=-1)\n",
    "\n",
    "    print(\"Shape of train_sample: {}\".format(X_train.shape))\n",
    "    print(\"Shape of train_label: {}\".format(y_train.shape))\n",
    "    print(\"Shape of valid_sample: {}\".format(X_valid.shape))\n",
    "    print(\"Shape of valid_label: {}\".format(y_valid.shape))\n",
    "    print(\"Shape of test_sample: {}\".format(X_test.shape))\n",
    "    print(\"Shape of test_label: {}\".format(y_test.shape))\n",
    "\n",
    "    class_weights = compute_class_weight('balanced', classes=np.unique(y_train), y=y_train)\n",
    "    class_weights = dict(enumerate(class_weights))\n",
    "\n",
    "    model, input_layer, sample_resizing, data_augmentation, preprocess_input, base_model, self_attention, patch_extraction, global_average_layer, pre_classification, prediction_layer = Model('Training')\n",
    "\n",
    "    # Training Procedure\n",
    "    early_stopping_callback = tf.keras.callbacks.EarlyStopping(monitor='val_accuracy', patience=TRAIN_ES_PATIENCE, min_delta=ES_LR_MIN_DELTA, restore_best_weights=True)\n",
    "    learning_rate_callback = tf.keras.callbacks.ReduceLROnPlateau(monitor='val_accuracy', patience=TRAIN_LR_PATIENCE, verbose=0, min_delta=ES_LR_MIN_DELTA, min_lr=TRAIN_MIN_LR)\n",
    "    checkpoint_callback = ModelCheckpoint( #Modification\n",
    "        f'{dataset_name}_model_checkpoint.keras',  # The path to save the model\n",
    "        monitor='val_accuracy',  # Monitor validation accuracy\n",
    "        save_best_only=True,  # Save the best model (with the highest validation accuracy)\n",
    "        mode='max',  # 'max' for accuracy, 'min' for loss\n",
    "        verbose=1  # Display messages when saving the model\n",
    "    )\n",
    "\n",
    "    if model_cp is not None:\n",
    "        model = tf.keras.models.load_model(model_cp) if model_cp is not None else model\n",
    "        input_layer = model.input\n",
    "        sample_resizing = model.get_layer('resize')\n",
    "        data_augmentation = model.get_layer('augmentation')\n",
    "        base_model = model.get_layer('base_model')\n",
    "        self_attention = model.get_layer('attention')\n",
    "        patch_extraction = model.get_layer('patch_extraction')\n",
    "        global_average_layer = model.get_layer('gap')\n",
    "        pre_classification = model.get_layer('pre_classification')\n",
    "        prediction_layer = model.get_layer('classification_head')\n",
    "\n",
    "    print(\"Training\")\n",
    "    history = model.fit(X_train, y_train, epochs=TRAIN_EPOCH, batch_size=BATCH_SIZE, validation_data=(X_valid, y_valid), verbose=1, \n",
    "                        class_weight=class_weights, callbacks=[early_stopping_callback, learning_rate_callback, checkpoint_callback])\n",
    "\n",
    "    model = Model('Finetuning', input_layer, sample_resizing, data_augmentation, preprocess_input, base_model, self_attention, patch_extraction, global_average_layer, pre_classification, prediction_layer)\n",
    "    \n",
    "    # Custom function to ensure the scheduler output is a float\n",
    "    def lr_schedule(epoch, lr):\n",
    "        return float(scheduler(epoch))\n",
    "\n",
    "    # Training Procedure\n",
    "    log_dir = \"logs/fit/\" + datetime.datetime.now().strftime(\"%Y%m%d-%H%M%S\")\n",
    "    tensorboard_callback = tf.keras.callbacks.TensorBoard(log_dir=log_dir, histogram_freq=1)\n",
    "    early_stopping_callback = tf.keras.callbacks.EarlyStopping(monitor='accuracy', min_delta=ES_LR_MIN_DELTA, patience=FT_ES_PATIENCE, restore_best_weights=True)\n",
    "    scheduler = keras.optimizers.schedules.InverseTimeDecay(initial_learning_rate=FT_LR, decay_steps=FT_LR_DECAY_STEP, decay_rate=FT_LR_DECAY_RATE)\n",
    "    # scheduler_callback = tf.keras.callbacks.LearningRateScheduler(schedule=scheduler)\n",
    "    scheduler_callback = tf.keras.callbacks.LearningRateScheduler(schedule=lr_schedule)\n",
    "\n",
    "    checkpoint_callback = ModelCheckpoint( #Modification\n",
    "        f'{dataset_name}_model_finetune_checkpoint.keras',  # The path to save the model\n",
    "        monitor='val_accuracy',  # Monitor validation accuracy\n",
    "        save_best_only=True,  # Save the best model (with the highest validation accuracy)\n",
    "        mode='max',  # 'max' for accuracy, 'min' for loss\n",
    "        verbose=1  # Display messages when saving the model\n",
    "    )\n",
    "\n",
    "    print(\"Finetuning\")\n",
    "    history_finetune = model.fit(X_train, y_train, epochs=FT_EPOCH, batch_size=BATCH_SIZE, validation_data=(X_valid, y_valid), verbose=1, \n",
    "                                initial_epoch=history.epoch[-TRAIN_ES_PATIENCE], callbacks=[early_stopping_callback, scheduler_callback, tensorboard_callback, checkpoint_callback])\n",
    "\n",
    "    model.save(f'{dataset_name}_NEW.keras')\n",
    "    model.save(f'ModelsReadyForComparison/{dataset_name}.keras')\n",
    "    \n"
   ]
  },
  {
   "cell_type": "markdown",
   "metadata": {},
   "source": [
    "### Training the Model"
   ]
  },
  {
   "cell_type": "code",
   "execution_count": null,
   "metadata": {},
   "outputs": [],
   "source": [
    "# Default Parameters\n",
    "IMG_SHAPE = (120, 120, 3)\n",
    "BATCH_SIZE = 8\n",
    "\n",
    "TRAIN_EPOCH = 300\n",
    "TRAIN_LR = 1e-3\n",
    "TRAIN_ES_PATIENCE = 15\n",
    "TRAIN_LR_PATIENCE = 9\n",
    "TRAIN_MIN_LR = 1e-6\n",
    "TRAIN_DROPOUT = 0.1\n",
    "\n",
    "FT_EPOCH = 500\n",
    "FT_LR = 1e-5\n",
    "FT_LR_DECAY_STEP = 80.0\n",
    "FT_LR_DECAY_RATE = 1\n",
    "FT_ES_PATIENCE = 20\n",
    "FT_DROPOUT = 0.2\n",
    "\n",
    "ES_LR_MIN_DELTA = 0.003"
   ]
  },
  {
   "cell_type": "code",
   "execution_count": null,
   "metadata": {},
   "outputs": [],
   "source": [
    "# NUM_CLASSES = 7\n",
    "# TrainPAttLite('../../Datasets/FER_Structured_Aligned', \"FER_Structured_Aligned\", model_cp = None) #11hrs | 60% ACC on Test Set | 132 Epochs\n",
    "# NUM_CLASSES = 8\n",
    "# TrainPAttLite('../../Datasets/AffectNet_Structured_Aligned', \"AffectNet_Structured_Aligned\", model_cp = None) #14hrs | 55% ACC on Test Set | 111 Epochs\n",
    "NUM_CLASSES = 7\n",
    "TrainPAttLite('../../Datasets/RAF-DB_Structured_Aligned', \"RAF-DB_Structured_Aligned\", model_cp = None) #2hrs | 80% ACC on Test Set | 63 Epochs"
   ]
  },
  {
   "cell_type": "markdown",
   "metadata": {},
   "source": [
    "## PAtt-Lite Testing"
   ]
  },
  {
   "cell_type": "code",
   "execution_count": 16,
   "metadata": {},
   "outputs": [],
   "source": [
    "import tensorflow as tf\n",
    "import numpy as np\n",
    "import matplotlib.pyplot as plt\n",
    "from tensorflow.keras.preprocessing import image\n",
    "from tensorflow.keras.models import load_model\n",
    "from sklearn.metrics import (accuracy_score, precision_score, recall_score, f1_score, classification_report, confusion_matrix)\n",
    "import seaborn as sns\n",
    "\n",
    "def TestPAttLite(data_directory, model_path, dataset=['test'], ignored_labels=[]):\n",
    "    images = []\n",
    "    labels = []\n",
    "\n",
    "    for directory in dataset:\n",
    "        X, y = load_data(data_directory, splits=[directory])\n",
    "        X_dir, y_dir = X[directory], y[directory]\n",
    "\n",
    "        # Convert images to grayscale and resize them\n",
    "        X_dir = np.array([cv2.cvtColor(cv2.resize(img, (120, 120)), cv2.COLOR_RGB2GRAY) for img in X_dir])\n",
    "        X_dir = np.repeat(np.expand_dims(X_dir, axis=-1), 3, axis=-1)\n",
    "\n",
    "        # Filter out ignored labels\n",
    "        X_filtered = []\n",
    "        y_filtered = []\n",
    "        for img, label in zip(X_dir, y_dir):\n",
    "            if label not in ignored_labels:\n",
    "                X_filtered.append(img)\n",
    "                y_filtered.append(label)\n",
    "\n",
    "        images.append(np.array(X_filtered))\n",
    "        labels.append(np.array(y_filtered))\n",
    "\n",
    "    # Combine all valid images and labels\n",
    "    all_images = np.concatenate(images, axis=0)\n",
    "    all_labels = np.concatenate(labels, axis=0)\n",
    "\n",
    "    # Load the model\n",
    "    model = load_model(model_path)\n",
    "\n",
    "    # Get prediction probabilities\n",
    "    y_pred = model.predict(all_images)\n",
    "    all_preds = np.argmax(y_pred, axis=1)\n",
    "\n",
    "    print(\"Labels: \", len(all_labels))\n",
    "    print(\"Predictions: \", len(all_preds))\n",
    "\n",
    "    # Get valid test labels only\n",
    "    test_labels = np.unique(all_labels)\n",
    "\n",
    "    # Replace invalid predictions\n",
    "    modified_preds = []\n",
    "    for i, pred in enumerate(all_preds):\n",
    "        if pred not in test_labels:\n",
    "            sorted_pred_indices = np.argsort(y_pred[i])[::-1]  # Descending order\n",
    "            for idx in sorted_pred_indices:\n",
    "                if idx in test_labels:\n",
    "                    modified_preds.append(idx)\n",
    "                    break\n",
    "        else:\n",
    "            modified_preds.append(pred)\n",
    "\n",
    "    modified_preds = np.array(modified_preds)\n",
    "\n",
    "    # Compute metrics\n",
    "    accuracy = accuracy_score(all_labels, modified_preds)\n",
    "    precision_weighted = precision_score(all_labels, modified_preds, average='weighted', zero_division=0)\n",
    "    precision_macro = precision_score(all_labels, modified_preds, average='macro', zero_division=0)\n",
    "    precision_micro = precision_score(all_labels, modified_preds, average='micro', zero_division=0)\n",
    "    recall_weighted = recall_score(all_labels, modified_preds, average='weighted', zero_division=0)\n",
    "    recall_macro = recall_score(all_labels, modified_preds, average='macro', zero_division=0)\n",
    "    recall_micro = recall_score(all_labels, modified_preds, average='micro', zero_division=0)\n",
    "    f1_weighted = f1_score(all_labels, modified_preds, average='weighted', zero_division=0)\n",
    "    f1_macro = f1_score(all_labels, modified_preds, average='macro', zero_division=0)\n",
    "    f1_micro = f1_score(all_labels, modified_preds, average='micro', zero_division=0)\n",
    "\n",
    "    report = classification_report(all_labels, modified_preds, zero_division=0)\n",
    "    cm = confusion_matrix(all_labels, modified_preds, labels=[l for l in range(8) if l not in ignored_labels])\n",
    "\n",
    "    # Print metrics\n",
    "    print(\"Test Accuracy:\", accuracy)\n",
    "    print(\"Precision (Weighted):\", precision_weighted)\n",
    "    print(\"Precision (Macro):\", precision_macro)\n",
    "    print(\"Precision (Micro):\", precision_micro)\n",
    "    print(\"Recall (Weighted):\", recall_weighted)\n",
    "    print(\"Recall (Macro):\", recall_macro)\n",
    "    print(\"Recall (Micro):\", recall_micro)\n",
    "    print(\"F1 Score (Weighted):\", f1_weighted)\n",
    "    print(\"F1 Score (Macro):\", f1_macro)\n",
    "    print(\"F1 Score (Micro):\", f1_micro)\n",
    "    print(\"\\nClassification Report:\\n\", report)\n",
    "\n",
    "    # Plot confusion matrix\n",
    "    plt.figure(figsize=(8, 6))\n",
    "    sns.heatmap(cm, annot=True, fmt='d', cmap='Blues')\n",
    "    plt.title(\"Confusion Matrix\")\n",
    "    plt.xlabel(\"Predicted Label\")\n",
    "    plt.ylabel(\"True Label\")\n",
    "    plt.show()\n"
   ]
  },
  {
   "cell_type": "markdown",
   "metadata": {},
   "source": [
    "### Deriving Metrics across all datasets"
   ]
  },
  {
   "cell_type": "code",
   "execution_count": 49,
   "metadata": {},
   "outputs": [
    {
     "name": "stderr",
     "output_type": "stream",
     "text": [
      "c:\\MastersRepos\\Deep-Learning-For-Computer-Vision\\Models\\PAtt-Lite\\.venv\\lib\\site-packages\\keras\\src\\ops\\nn.py:908: UserWarning: You are using a softmax over axis -1 of a tensor of shape (32, 1, 1). This axis has size 1. The softmax operation will always return the value 1, which is likely not what you intended. Did you mean to use a sigmoid instead?\n",
      "  warnings.warn(\n"
     ]
    },
    {
     "name": "stdout",
     "output_type": "stream",
     "text": [
      "\u001b[1m2/3\u001b[0m \u001b[32m━━━━━━━━━━━━━\u001b[0m\u001b[37m━━━━━━━\u001b[0m \u001b[1m0s\u001b[0m 360ms/step"
     ]
    },
    {
     "name": "stderr",
     "output_type": "stream",
     "text": [
      "c:\\MastersRepos\\Deep-Learning-For-Computer-Vision\\Models\\PAtt-Lite\\.venv\\lib\\site-packages\\keras\\src\\ops\\nn.py:908: UserWarning: You are using a softmax over axis -1 of a tensor of shape (None, 1, 1). This axis has size 1. The softmax operation will always return the value 1, which is likely not what you intended. Did you mean to use a sigmoid instead?\n",
      "  warnings.warn(\n"
     ]
    },
    {
     "name": "stdout",
     "output_type": "stream",
     "text": [
      "\u001b[1m3/3\u001b[0m \u001b[32m━━━━━━━━━━━━━━━━━━━━\u001b[0m\u001b[37m\u001b[0m \u001b[1m2s\u001b[0m 637ms/step\n",
      "Labels:  95\n",
      "Predictions:  95\n",
      "Test Accuracy: 0.6105263157894737\n",
      "Precision (Weighted): 0.7778352874405506\n",
      "Precision (Macro): 0.5433844355719355\n",
      "Precision (Micro): 0.6105263157894737\n",
      "Recall (Weighted): 0.6105263157894737\n",
      "Recall (Macro): 0.6638888888888889\n",
      "Recall (Micro): 0.6105263157894737\n",
      "F1 Score (Weighted): 0.6569350755790032\n",
      "F1 Score (Macro): 0.5605291006346471\n",
      "F1 Score (Micro): 0.6105263157894737\n",
      "\n",
      "Classification Report:\n",
      "               precision    recall  f1-score   support\n",
      "\n",
      "           0       1.00      0.80      0.89         5\n",
      "           1       0.45      0.83      0.59         6\n",
      "           2       0.06      0.33      0.11         3\n",
      "           3       0.78      1.00      0.88         7\n",
      "           4       0.33      0.33      0.33         3\n",
      "           5       0.40      0.44      0.42         9\n",
      "           6       0.92      0.57      0.70        60\n",
      "           7       0.40      1.00      0.57         2\n",
      "\n",
      "    accuracy                           0.61        95\n",
      "   macro avg       0.54      0.66      0.56        95\n",
      "weighted avg       0.78      0.61      0.66        95\n",
      "\n"
     ]
    },
    {
     "data": {
      "image/png": "[encoded data removed]",
      "text/plain": [
       "<Figure size 800x600 with 2 Axes>"
      ]
     },
     "metadata": {},
     "output_type": "display_data"
    }
   ],
   "source": [
    "# data_directory = '../../Datasets/AffectNet_Structured_Aligned'\n",
    "# data_directory = '../../Datasets/FER_Structured_Aligned'\n",
    "# data_directory = '../../Datasets/RAF-DB_Structured_Aligned'\n",
    "# data_directory = '../../Datasets/JAFFE_Structured_Aligned'\n",
    "data_directory = '../../Datasets/CK+_Structured_Aligned'\n",
    "model_path = 'ModelsReadyForComparison/AffectNet_Structured_Aligned.keras'\n",
    "\n",
    "TestPAttLite(data_directory, model_path, dataset=['test'])"
   ]
  },
  {
   "cell_type": "code",
   "execution_count": 48,
   "metadata": {},
   "outputs": [
    {
     "name": "stderr",
     "output_type": "stream",
     "text": [
      "c:\\MastersRepos\\Deep-Learning-For-Computer-Vision\\Models\\PAtt-Lite\\.venv\\lib\\site-packages\\keras\\src\\ops\\nn.py:908: UserWarning: You are using a softmax over axis -1 of a tensor of shape (32, 1, 1). This axis has size 1. The softmax operation will always return the value 1, which is likely not what you intended. Did you mean to use a sigmoid instead?\n",
      "  warnings.warn(\n"
     ]
    },
    {
     "name": "stdout",
     "output_type": "stream",
     "text": [
      "\u001b[1m2/3\u001b[0m \u001b[32m━━━━━━━━━━━━━\u001b[0m\u001b[37m━━━━━━━\u001b[0m \u001b[1m0s\u001b[0m 332ms/step"
     ]
    },
    {
     "name": "stderr",
     "output_type": "stream",
     "text": [
      "c:\\MastersRepos\\Deep-Learning-For-Computer-Vision\\Models\\PAtt-Lite\\.venv\\lib\\site-packages\\keras\\src\\ops\\nn.py:908: UserWarning: You are using a softmax over axis -1 of a tensor of shape (None, 1, 1). This axis has size 1. The softmax operation will always return the value 1, which is likely not what you intended. Did you mean to use a sigmoid instead?\n",
      "  warnings.warn(\n"
     ]
    },
    {
     "name": "stdout",
     "output_type": "stream",
     "text": [
      "\u001b[1m3/3\u001b[0m \u001b[32m━━━━━━━━━━━━━━━━━━━━\u001b[0m\u001b[37m\u001b[0m \u001b[1m2s\u001b[0m 610ms/step\n",
      "Labels:  93\n",
      "Predictions:  93\n",
      "Test Accuracy: 0.7419354838709677\n",
      "Precision (Weighted): 0.8127240143369177\n",
      "Precision (Macro): 0.5580808080808081\n",
      "Precision (Micro): 0.7419354838709677\n",
      "Recall (Weighted): 0.7419354838709677\n",
      "Recall (Macro): 0.5174603174603175\n",
      "Recall (Micro): 0.7419354838709677\n",
      "F1 Score (Weighted): 0.7509859459781082\n",
      "F1 Score (Macro): 0.4783703894043682\n",
      "F1 Score (Micro): 0.7419354838709677\n",
      "\n",
      "Classification Report:\n",
      "               precision    recall  f1-score   support\n",
      "\n",
      "           0       0.25      0.40      0.31         5\n",
      "           1       1.00      0.17      0.29         6\n",
      "           2       0.00      0.00      0.00         3\n",
      "           3       0.64      1.00      0.78         7\n",
      "           4       0.11      0.33      0.17         3\n",
      "           5       1.00      0.89      0.94         9\n",
      "           6       0.91      0.83      0.87        60\n",
      "\n",
      "    accuracy                           0.74        93\n",
      "   macro avg       0.56      0.52      0.48        93\n",
      "weighted avg       0.81      0.74      0.75        93\n",
      "\n"
     ]
    },
    {
     "data": {
      "image/png": "[encoded data removed]",
      "text/plain": [
       "<Figure size 800x600 with 2 Axes>"
      ]
     },
     "metadata": {},
     "output_type": "display_data"
    }
   ],
   "source": [
    "# data_directory = '../../Datasets/FER_Structured_Aligned'\n",
    "# data_directory = '../../Datasets/AffectNet_Structured_Aligned'\n",
    "# data_directory = '../../Datasets/RAF-DB_Structured_Aligned'\n",
    "# data_directory = '../../Datasets/JAFFE_Structured_Aligned'\n",
    "data_directory = '../../Datasets/CK+_Structured_Aligned'\n",
    "model_path = 'ModelsReadyForComparison/FER_Structured_Aligned.keras'\n",
    "\n",
    "TestPAttLite(data_directory, model_path, dataset=['test'], ignored_labels=[7])"
   ]
  },
  {
   "cell_type": "code",
   "execution_count": null,
   "metadata": {},
   "outputs": [
    {
     "name": "stderr",
     "output_type": "stream",
     "text": [
      "c:\\MastersRepos\\Deep-Learning-For-Computer-Vision\\Models\\PAtt-Lite\\.venv\\lib\\site-packages\\keras\\src\\ops\\nn.py:908: UserWarning: You are using a softmax over axis -1 of a tensor of shape (32, 1, 1). This axis has size 1. The softmax operation will always return the value 1, which is likely not what you intended. Did you mean to use a sigmoid instead?\n",
      "  warnings.warn(\n"
     ]
    },
    {
     "name": "stdout",
     "output_type": "stream",
     "text": [
      "\u001b[1m28/29\u001b[0m \u001b[32m━━━━━━━━━━━━━━━━━━━\u001b[0m\u001b[37m━\u001b[0m \u001b[1m0s\u001b[0m 215ms/step"
     ]
    },
    {
     "name": "stderr",
     "output_type": "stream",
     "text": [
      "c:\\MastersRepos\\Deep-Learning-For-Computer-Vision\\Models\\PAtt-Lite\\.venv\\lib\\site-packages\\keras\\src\\ops\\nn.py:908: UserWarning: You are using a softmax over axis -1 of a tensor of shape (None, 1, 1). This axis has size 1. The softmax operation will always return the value 1, which is likely not what you intended. Did you mean to use a sigmoid instead?\n",
      "  warnings.warn(\n"
     ]
    },
    {
     "name": "stdout",
     "output_type": "stream",
     "text": [
      "\u001b[1m29/29\u001b[0m \u001b[32m━━━━━━━━━━━━━━━━━━━━\u001b[0m\u001b[37m\u001b[0m \u001b[1m7s\u001b[0m 222ms/step\n",
      "Labels:  902\n",
      "Predictions:  902\n",
      "Test Accuracy: 0.6762749445676275\n",
      "Precision (Weighted): 0.7400003440796102\n",
      "Precision (Macro): 0.42900316466705923\n",
      "Precision (Micro): 0.6762749445676275\n",
      "Recall (Weighted): 0.6762749445676275\n",
      "Recall (Macro): 0.529293409686093\n",
      "Recall (Micro): 0.6762749445676275\n",
      "F1 Score (Weighted): 0.6880118966141417\n",
      "F1 Score (Macro): 0.4567961610534548\n",
      "F1 Score (Micro): 0.6762749445676275\n",
      "\n",
      "Classification Report:\n",
      "               precision    recall  f1-score   support\n",
      "\n",
      "           0       0.14      0.11      0.12        45\n",
      "           1       0.51      0.53      0.52        59\n",
      "           2       0.19      0.16      0.17        25\n",
      "           3       0.49      0.97      0.65        69\n",
      "           4       0.30      0.39      0.34        28\n",
      "           5       0.45      0.83      0.59        83\n",
      "           6       0.92      0.71      0.80       593\n",
      "\n",
      "    accuracy                           0.68       902\n",
      "   macro avg       0.43      0.53      0.46       902\n",
      "weighted avg       0.74      0.68      0.69       902\n",
      "\n"
     ]
    },
    {
     "data": {
      "image/png": "[encoded data removed]",
      "text/plain": [
       "<Figure size 800x600 with 2 Axes>"
      ]
     },
     "metadata": {},
     "output_type": "display_data"
    }
   ],
   "source": [
    "# data_directory = '../../Datasets/RAF-DB_Structured_Aligned'\n",
    "# data_directory = '../../Datasets/AffectNet_Structured_Aligned'\n",
    "# data_directory = '../../Datasets/FER_Structured_Aligned'\n",
    "# data_directory = '../../Datasets/JAFFE_Structured_Aligned'\n",
    "data_directory = '../../Datasets/CK+_Structured_Aligned'\n",
    "model_path = 'ModelsReadyForComparison/RAF-DB_Structured_Aligned.keras'\n",
    "\n",
    "TestPAttLite(data_directory, model_path, dataset=['test'], ignored_labels=[7])"
   ]
  }
 ],
 "metadata": {
  "kernelspec": {
   "display_name": ".venv",
   "language": "python",
   "name": "python3"
  },
  "language_info": {
   "codemirror_mode": {
    "name": "ipython",
    "version": 3
   },
   "file_extension": ".py",
   "mimetype": "text/x-python",
   "name": "python",
   "nbconvert_exporter": "python",
   "pygments_lexer": "ipython3",
   "version": "3.10.8"
  }
 },
 "nbformat": 4,
 "nbformat_minor": 2
}
