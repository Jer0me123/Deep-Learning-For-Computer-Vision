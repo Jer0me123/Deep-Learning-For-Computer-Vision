{
 "cells": [
  {
   "cell_type": "code",
   "execution_count": 7,
   "metadata": {},
   "outputs": [],
   "source": [
    "# !pip3 install --pre torch torchvision torchaudio --index-url https://download.pytorch.org/whl/nightly/cu128\n",
    "# !pip install tqdm\n",
    "# !pip install scikit-learn\n",
    "# !pip install matplotlib"
   ]
  },
  {
   "cell_type": "markdown",
   "metadata": {},
   "source": [
    "### LINK: https://github.com/SainingZhang/DDAMFN"
   ]
  },
  {
   "cell_type": "markdown",
   "metadata": {},
   "source": [
    "### Mixed Feature Network"
   ]
  },
  {
   "cell_type": "code",
   "execution_count": 1,
   "metadata": {},
   "outputs": [],
   "source": [
    "from torch.nn import Linear, Conv2d, BatchNorm1d, BatchNorm2d, PReLU, Sequential, Module\n",
    "import torch\n",
    "import torch.nn as nn\n",
    "class Flatten(Module):\n",
    "    def forward(self, input):\n",
    "        return input.view(input.size(0), -1)\n",
    "\n",
    "def l2_norm(input,axis=1):\n",
    "    norm = torch.norm(input,2,axis,True)\n",
    "    output = torch.div(input, norm)\n",
    "    return output\n",
    "\n",
    "class Conv_block(Module):\n",
    "    def __init__(self, in_c, out_c, kernel=(1, 1), stride=(1, 1), padding=(0, 0), groups=1):\n",
    "        super(Conv_block, self).__init__()\n",
    "        self.conv = Conv2d(in_c, out_channels=out_c, kernel_size=kernel, groups=groups, stride=stride, padding=padding, bias=False)\n",
    "        self.bn = BatchNorm2d(out_c)\n",
    "        self.prelu = PReLU(out_c)\n",
    "    def forward(self, x):\n",
    "        x = self.conv(x)\n",
    "        x = self.bn(x)\n",
    "        x = self.prelu(x)\n",
    "        return x\n",
    "\n",
    "class Linear_block(Module):\n",
    "    def __init__(self, in_c, out_c, kernel=(1, 1), stride=(1, 1), padding=(0, 0), groups=1):\n",
    "        super(Linear_block, self).__init__()\n",
    "        self.conv = Conv2d(in_c, out_channels=out_c, kernel_size=kernel, groups=groups, stride=stride, padding=padding, bias=False)\n",
    "        self.bn = BatchNorm2d(out_c)\n",
    "    def forward(self, x):\n",
    "        x = self.conv(x)\n",
    "        x = self.bn(x)\n",
    "        return x\n",
    "\n",
    "class Depth_Wise(Module):\n",
    "     def __init__(self, in_c, out_c, residual = False, kernel=(3, 3), stride=(2, 2), padding=(1, 1), groups=1):\n",
    "        super(Depth_Wise, self).__init__()\n",
    "        self.conv = Conv_block(in_c, out_c=groups, kernel=(1, 1), padding=(0, 0), stride=(1, 1))\n",
    "        self.conv_dw = Conv_block(groups, groups, groups=groups, kernel=kernel, padding=padding, stride=stride)\n",
    "        self.project = Linear_block(groups, out_c, kernel=(1, 1), padding=(0, 0), stride=(1, 1))\n",
    "        self.residual = residual\n",
    "     def forward(self, x):\n",
    "        if self.residual:\n",
    "            short_cut = x\n",
    "        x = self.conv(x)\n",
    "        x = self.conv_dw(x)\n",
    "        x = self.project(x)\n",
    "        if self.residual:\n",
    "            output = short_cut + x\n",
    "        else:\n",
    "            output = x\n",
    "        return output\n",
    "  \n",
    "\n",
    "class Swish(nn.Module):\n",
    "    def __init__(self):\n",
    "        super(Swish, self).__init__()\n",
    "\n",
    "        self.sigmoid = nn.Sigmoid()\n",
    "\n",
    "    def forward(self, x):\n",
    "        return x * self.sigmoid(x)\n",
    "\n",
    "NON_LINEARITY = {\n",
    "    'ReLU': nn.ReLU(inplace=True),\n",
    "    'Swish': Swish(),\n",
    "}        \n",
    "\n",
    "\n",
    "class h_sigmoid(nn.Module):\n",
    "    def __init__(self, inplace=True):\n",
    "        super(h_sigmoid, self).__init__()\n",
    "        self.relu = nn.ReLU6(inplace=inplace)\n",
    "\n",
    "    def forward(self, x):\n",
    "        return self.relu(x + 3) / 6\n",
    "\n",
    "class h_swish(nn.Module):\n",
    "    def __init__(self, inplace=True):\n",
    "        super(h_swish, self).__init__()\n",
    "        self.sigmoid = h_sigmoid(inplace=inplace)\n",
    "\n",
    "    def forward(self, x):\n",
    "        return x * self.sigmoid(x)\n",
    "\n",
    "class swish(nn.Module):\n",
    "    def forward(self, x):\n",
    "        return x * torch.sigmoid(x)\n",
    "    \n",
    "class CoordAtt(nn.Module):\n",
    "    def __init__(self, inp, oup, groups=32):\n",
    "        super(CoordAtt, self).__init__()\n",
    "        self.pool_h = nn.AdaptiveAvgPool2d((None, 1))\n",
    "        self.pool_w = nn.AdaptiveAvgPool2d((1, None))\n",
    "\n",
    "        mip = max(8, inp // groups)\n",
    "\n",
    "        self.conv1 = nn.Conv2d(inp, mip, kernel_size=1, stride=1, padding=0)\n",
    "        self.bn1 = nn.BatchNorm2d(mip)\n",
    "        self.conv2 = nn.Conv2d(mip, oup, kernel_size=1, stride=1, padding=0)\n",
    "        self.conv3 = nn.Conv2d(mip, oup, kernel_size=1, stride=1, padding=0)\n",
    "        self.relu = h_swish()\n",
    "\n",
    "    def forward(self, x):\n",
    "        identity = x\n",
    "        n,c,h,w = x.size()\n",
    "        x_h = self.pool_h(x)\n",
    "        x_w = self.pool_w(x).permute(0, 1, 3, 2)\n",
    "\n",
    "        y = torch.cat([x_h, x_w], dim=2)\n",
    "        y = self.conv1(y)\n",
    "        y = self.bn1(y)\n",
    "        y = self.relu(y) \n",
    "        x_h, x_w = torch.split(y, [h, w], dim=2)\n",
    "        x_w = x_w.permute(0, 1, 3, 2)\n",
    "\n",
    "        x_h = self.conv2(x_h).sigmoid()\n",
    "        x_w = self.conv3(x_w).sigmoid()\n",
    "        x_h = x_h.expand(-1, -1, h, w)\n",
    "        x_w = x_w.expand(-1, -1, h, w)\n",
    "\n",
    "        y = identity * x_w * x_h\n",
    "\n",
    "        return y\n",
    "\n",
    "        \n",
    "class MDConv(Module):\n",
    "    def __init__(self, channels, kernel_size, split_out_channels, stride):\n",
    "        super(MDConv, self).__init__()\n",
    "        self.num_groups = len(kernel_size)\n",
    "        self.split_channels = split_out_channels\n",
    "        self.mixed_depthwise_conv = nn.ModuleList()\n",
    "        for i in range(self.num_groups):\n",
    "            self.mixed_depthwise_conv.append(Conv2d(\n",
    "                self.split_channels[i],\n",
    "                self.split_channels[i],\n",
    "                kernel_size[i],\n",
    "                stride=stride,\n",
    "                padding=kernel_size[i]//2,\n",
    "                groups=self.split_channels[i],\n",
    "                bias=False\n",
    "            ))\n",
    "        self.bn = BatchNorm2d(channels)\n",
    "        self.prelu = PReLU(channels)            \n",
    "       \n",
    "    def forward(self, x):\n",
    "        if self.num_groups == 1:\n",
    "            return self.mixed_depthwise_conv[0](x)\n",
    "\n",
    "        x_split = torch.split(x, self.split_channels, dim=1)\n",
    "        x = [conv(t) for conv, t in zip(self.mixed_depthwise_conv, x_split)]\n",
    "        x = torch.cat(x, dim=1)\n",
    "\n",
    "        return x        \n",
    "      \n",
    "        \n",
    "class Mix_Depth_Wise(Module):\n",
    "     def __init__(self, in_c, out_c, residual = False, kernel=(3, 3), stride=(2, 2), padding=(1, 1), groups=1, kernel_size=[3,5,7], split_out_channels=[64,32,32]):\n",
    "        super(Mix_Depth_Wise, self).__init__()\n",
    "        self.conv = Conv_block(in_c, out_c=groups, kernel=(1, 1), padding=(0, 0), stride=(1, 1))\n",
    "        self.conv_dw = MDConv(channels=groups, kernel_size=kernel_size, split_out_channels=split_out_channels, stride=stride)\n",
    "        self.CA = CoordAtt(groups, groups)\n",
    "        self.project = Linear_block(groups, out_c, kernel=(1, 1), padding=(0, 0), stride=(1, 1))\n",
    "        self.residual = residual\n",
    "     def forward(self, x):\n",
    "        if self.residual:\n",
    "            short_cut = x\n",
    "        x = self.conv(x)\n",
    "        x = self.conv_dw(x)\n",
    "        x = self.CA(x)\n",
    "        x = self.project(x)\n",
    "        if self.residual:\n",
    "            output = short_cut + x\n",
    "        else:\n",
    "            output = x\n",
    "        return output\n",
    "          \n",
    "class Residual(Module):\n",
    "    def __init__(self, c, num_block, groups, kernel=(3, 3), stride=(1, 1), padding=(1, 1)):\n",
    "        super(Residual, self).__init__()\n",
    "        modules = []\n",
    "        for _ in range(num_block):\n",
    "            modules.append(Depth_Wise(c, c, residual=True, kernel=kernel, padding=padding, stride=stride, groups=groups))\n",
    "        self.model = Sequential(*modules)\n",
    "    def forward(self, x):\n",
    "        return self.model(x)\n",
    "        \n",
    "class Mix_Residual(Module):\n",
    "    def __init__(self, c, num_block, groups, kernel=(3, 3), stride=(1, 1), padding=(1, 1), kernel_size=[3,5], split_out_channels=[64,64]):\n",
    "        super(Mix_Residual, self).__init__()\n",
    "        modules = []\n",
    "        for _ in range(num_block):\n",
    "            modules.append(Mix_Depth_Wise(c, c, residual=True, kernel=kernel, padding=padding, stride=stride, groups=groups, kernel_size=kernel_size, split_out_channels=split_out_channels ))\n",
    "        self.model = Sequential(*modules)\n",
    "    def forward(self, x):\n",
    "        return self.model(x)\n",
    "        \n",
    "\n",
    "class MixedFeatureNet(Module):\n",
    "    def __init__(self, embedding_size=256, out_h=7, out_w=7):\n",
    "        super(MixedFeatureNet, self).__init__()\n",
    "        #112x112\n",
    "        self.conv1 = Conv_block(3, 64, kernel=(3, 3), stride=(2, 2), padding=(1, 1))\n",
    "        #56x56\n",
    "        self.conv2_dw = Conv_block(64, 64, kernel=(3, 3), stride=(1, 1), padding=(1, 1), groups=64)\n",
    "        self.conv_23 = Mix_Depth_Wise(64, 64, kernel=(3, 3), stride=(2, 2), padding=(1, 1), groups=128, kernel_size=[3,5,7], split_out_channels=[64,32,32] )\n",
    "        \n",
    "        #28x28\n",
    "        self.conv_3 = Mix_Residual(64, num_block=9, groups=128, kernel=(3, 3), stride=(1, 1), padding=(1, 1), kernel_size=[3,5], split_out_channels=[96,32])\n",
    "        self.conv_34 = Mix_Depth_Wise(64, 128, kernel=(3, 3), stride=(2, 2), padding=(1, 1), groups=256, kernel_size=[3,5,7],split_out_channels=[128,64,64] )\n",
    "        \n",
    "        #14x14\n",
    "        self.conv_4 = Mix_Residual(128, num_block=16, groups=256, kernel=(3, 3), stride=(1, 1), padding=(1, 1), kernel_size=[3,5], split_out_channels=[192,64])\n",
    "        self.conv_45 = Mix_Depth_Wise(128, 256, kernel=(3, 3), stride=(2, 2), padding=(1, 1), groups=512*2, kernel_size=[3,5,7,9],split_out_channels=[128*2,128*2,128*2,128*2] )\n",
    "        #7x7\n",
    "        self.conv_5 = Mix_Residual(256, num_block=6, groups=512, kernel=(3, 3), stride=(1, 1), padding=(1, 1), kernel_size=[3,5,7], split_out_channels=[86*2,85*2,85*2])                \n",
    "        self.conv_6_sep = Conv_block(256, 512, kernel=(1, 1), stride=(1, 1), padding=(0, 0))\n",
    "        self.conv_6_dw = Linear_block(512, 512, groups=512, kernel=(out_h, out_w), stride=(1, 1), padding=(0, 0))\n",
    "        self.conv_6_flatten = Flatten()\n",
    "        self.linear = Linear(512, embedding_size, bias=False)\n",
    "        self.bn = BatchNorm1d(embedding_size)\n",
    "    \n",
    "    def forward(self, x):\n",
    "        out = self.conv1(x)\n",
    "        out = self.conv2_dw(out)\n",
    "        out = self.conv_23(out)\n",
    "        out = self.conv_3(out)\n",
    "        out = self.conv_34(out)\n",
    "        out = self.conv_4(out)\n",
    "        out = self.conv_45(out)\n",
    "        out = self.conv_5(out)\n",
    "        out = self.conv_6_sep(out)\n",
    "        out = self.conv_6_dw(out)\n",
    "        out = self.conv_6_flatten(out)\n",
    "        out = self.linear(out)\n",
    "        out = self.bn(out)\n",
    "\n",
    "        return l2_norm(out)"
   ]
  },
  {
   "cell_type": "markdown",
   "metadata": {},
   "source": [
    "### DDAMFN++ Network"
   ]
  },
  {
   "cell_type": "code",
   "execution_count": 2,
   "metadata": {},
   "outputs": [],
   "source": [
    "from torch import nn\n",
    "import torch\n",
    "# from networks import MixedFeatureNet\n",
    "from torch.nn import Module\n",
    "import os\n",
    "class Linear_block(Module):\n",
    "    def __init__(self, in_c, out_c, kernel=(1, 1), stride=(1, 1), padding=(0, 0), groups=1):\n",
    "        super(Linear_block, self).__init__()\n",
    "        self.conv = nn.Conv2d(in_c, out_channels=out_c, kernel_size=kernel, groups=groups, stride=stride, padding=padding, bias=False)\n",
    "        self.bn = nn.BatchNorm2d(out_c)\n",
    "    def forward(self, x):\n",
    "        x = self.conv(x)\n",
    "        x = self.bn(x)\n",
    "        return x\n",
    "\n",
    "class Flatten(Module):\n",
    "    def forward(self, input):\n",
    "        return input.view(input.size(0), -1)\n",
    "        \n",
    "class DDAMNet(nn.Module):\n",
    "    def __init__(self, num_class=7,num_head=2, pretrained=True):\n",
    "        super(DDAMNet, self).__init__()\n",
    "\n",
    "        # net = MixedFeatureNet.MixedFeatureNet()\n",
    "        net = MixedFeatureNet()\n",
    "                \n",
    "        if pretrained:\n",
    "            net = torch.load(os.path.join('./pretrained/', \"MFN_msceleb.pth\"), weights_only=False)       \n",
    "      \n",
    "        self.features = nn.Sequential(*list(net.children())[:-4])\n",
    "        self.num_head = num_head\n",
    "        for i in range(int(num_head)):\n",
    "            setattr(self,\"cat_head%d\" %(i), CoordAttHead())                  \n",
    "      \n",
    "        self.Linear = Linear_block(512, 512, groups=512, kernel=(7, 7), stride=(1, 1), padding=(0, 0))\n",
    "        self.flatten = Flatten()      \n",
    "        self.fc = nn.Linear(512, num_class)\n",
    "        self.bn = nn.BatchNorm1d(num_class)\n",
    "        \n",
    "    def forward(self, x):\n",
    "        x = self.features(x)\n",
    "        heads = []\n",
    "       \n",
    "        for i in range(self.num_head):\n",
    "            heads.append(getattr(self,\"cat_head%d\" %i)(x))\n",
    "        head_out =heads\n",
    "        \n",
    "        y = heads[0]\n",
    "        \n",
    "        for i in range(1,self.num_head):\n",
    "            y = torch.max(y,heads[i])                     \n",
    "        \n",
    "        y = x*y\n",
    "        y = self.Linear(y)\n",
    "        y = self.flatten(y) \n",
    "        out = self.fc(y)        \n",
    "        return out, x, head_out\n",
    "        \n",
    "class h_sigmoid(nn.Module):\n",
    "    def __init__(self, inplace=True):\n",
    "        super(h_sigmoid, self).__init__()\n",
    "        self.relu = nn.ReLU6(inplace=inplace)\n",
    "    def forward(self, x):\n",
    "        return self.relu(x + 3) / 6\n",
    "                      \n",
    "class h_swish(nn.Module):\n",
    "    def __init__(self, inplace=True):\n",
    "        super(h_swish, self).__init__()\n",
    "        self.sigmoid = h_sigmoid(inplace=inplace)\n",
    "    def forward(self, x):\n",
    "        return x * self.sigmoid(x)\n",
    "\n",
    "class CoordAttHead(nn.Module):\n",
    "    def __init__(self):\n",
    "        super().__init__()\n",
    "        self.CoordAtt = CoordAtt(512,512)\n",
    "    def forward(self, x):\n",
    "        ca = self.CoordAtt(x)\n",
    "        return ca  \n",
    "        \n",
    "class CoordAtt(nn.Module):\n",
    "    def __init__(self, inp, oup, groups=32):\n",
    "        super(CoordAtt, self).__init__()\n",
    "      \n",
    "        self.Linear_h = Linear_block(inp, inp, groups=inp, kernel=(1, 7), stride=(1, 1), padding=(0, 0))        \n",
    "        self.Linear_w = Linear_block(inp, inp, groups=inp, kernel=(7, 1), stride=(1, 1), padding=(0, 0))\n",
    "        \n",
    "        mip = max(8, inp // groups)\n",
    "\n",
    "        self.conv1 = nn.Conv2d(inp, mip, kernel_size=1, stride=1, padding=0)\n",
    "        self.bn1 = nn.BatchNorm2d(mip)\n",
    "        self.conv2 = nn.Conv2d(mip, oup, kernel_size=1, stride=1, padding=0)\n",
    "        self.conv3 = nn.Conv2d(mip, oup, kernel_size=1, stride=1, padding=0)\n",
    "        self.relu = h_swish()\n",
    "        self.Linear = Linear_block(oup, oup, groups=oup, kernel=(7, 7), stride=(1, 1), padding=(0, 0))\n",
    "        self.flatten = Flatten() \n",
    "\n",
    "    def forward(self, x):\n",
    "        identity = x\n",
    "        n,c,h,w = x.size()\n",
    "        x_h = self.Linear_h(x)\n",
    "        x_w = self.Linear_w(x)\n",
    "        x_w = x_w.permute(0, 1, 3, 2)\n",
    "\n",
    "        y = torch.cat([x_h, x_w], dim=2)\n",
    "        y = self.conv1(y)\n",
    "        y = self.bn1(y)\n",
    "        y = self.relu(y) \n",
    "        x_h, x_w = torch.split(y, [h, w], dim=2)\n",
    "        x_w = x_w.permute(0, 1, 3, 2)\n",
    "\n",
    "        x_h = self.conv2(x_h).sigmoid()\n",
    "        x_w = self.conv3(x_w).sigmoid()\n",
    "        x_h = x_h.expand(-1, -1, h, w)\n",
    "        x_w = x_w.expand(-1, -1, h, w)\n",
    "        \n",
    "        y = x_w * x_h\n",
    " \n",
    "        return y"
   ]
  },
  {
   "cell_type": "markdown",
   "metadata": {},
   "source": [
    "### SAM Class"
   ]
  },
  {
   "cell_type": "code",
   "execution_count": 3,
   "metadata": {},
   "outputs": [],
   "source": [
    "import torch\n",
    "\n",
    "\n",
    "class SAM(torch.optim.Optimizer):\n",
    "    def __init__(self, params, base_optimizer, rho=0.05, adaptive=False, **kwargs):\n",
    "        assert rho >= 0.0, f\"Invalid rho, should be non-negative: {rho}\"\n",
    "\n",
    "        defaults = dict(rho=rho, adaptive=adaptive, **kwargs)\n",
    "        super(SAM, self).__init__(params, defaults)\n",
    "\n",
    "        self.base_optimizer = base_optimizer(self.param_groups, **kwargs)\n",
    "        self.param_groups = self.base_optimizer.param_groups\n",
    "\n",
    "    @torch.no_grad()\n",
    "    def first_step(self, zero_grad=False):\n",
    "        grad_norm = self._grad_norm()\n",
    "        for group in self.param_groups:\n",
    "            scale = group[\"rho\"] / (grad_norm + 1e-12)\n",
    "\n",
    "            for p in group[\"params\"]:\n",
    "                if p.grad is None: continue\n",
    "                self.state[p][\"old_p\"] = p.data.clone()\n",
    "                e_w = (torch.pow(p, 2) if group[\"adaptive\"] else 1.0) * p.grad * scale.to(p)\n",
    "                p.add_(e_w)  # climb to the local maximum \"w + e(w)\"\n",
    "\n",
    "        if zero_grad: self.zero_grad()\n",
    "\n",
    "    @torch.no_grad()\n",
    "    def second_step(self, zero_grad=False):\n",
    "        for group in self.param_groups:\n",
    "            for p in group[\"params\"]:\n",
    "                if p.grad is None: continue\n",
    "                p.data = self.state[p][\"old_p\"]  # get back to \"w\" from \"w + e(w)\"\n",
    "\n",
    "        self.base_optimizer.step()  # do the actual \"sharpness-aware\" update\n",
    "\n",
    "        if zero_grad: self.zero_grad()\n",
    "\n",
    "    @torch.no_grad()\n",
    "    def step(self, closure=None):\n",
    "        assert closure is not None, \"Sharpness Aware Minimization requires closure, but it was not provided\"\n",
    "        closure = torch.enable_grad()(closure)  # the closure should do a full forward-backward pass\n",
    "\n",
    "        self.first_step(zero_grad=True)\n",
    "        closure()\n",
    "        self.second_step()\n",
    "\n",
    "    def _grad_norm(self):\n",
    "        shared_device = self.param_groups[0][\"params\"][0].device  # put everything on the same device, in case of model parallelism\n",
    "        norm = torch.norm(\n",
    "                    torch.stack([\n",
    "                        ((torch.abs(p) if group[\"adaptive\"] else 1.0) * p.grad).norm(p=2).to(shared_device)\n",
    "                        for group in self.param_groups for p in group[\"params\"]\n",
    "                        if p.grad is not None\n",
    "                    ]),\n",
    "                    p=2\n",
    "               )\n",
    "        return norm\n",
    "\n",
    "    def load_state_dict(self, state_dict):\n",
    "        super().load_state_dict(state_dict)\n",
    "        self.base_optimizer.param_groups = self.param_groups"
   ]
  },
  {
   "cell_type": "markdown",
   "metadata": {},
   "source": [
    "### DDAMFN++ Training"
   ]
  },
  {
   "cell_type": "code",
   "execution_count": 4,
   "metadata": {},
   "outputs": [],
   "source": [
    "# import os\n",
    "# import sys\n",
    "# from tqdm import tqdm\n",
    "# import argparse\n",
    "# import numpy as np\n",
    "\n",
    "# import torch\n",
    "# import torch.nn as nn\n",
    "# import torch.utils.data as data\n",
    "# from torchvision import transforms, datasets\n",
    "\n",
    "# from sklearn.metrics import balanced_accuracy_score\n",
    "# import matplotlib.pyplot as plt\n",
    "# import itertools\n",
    "# import torch.nn.functional as F\n",
    "# # from networks.DDAM import DDAMNet\n",
    "\n",
    "# from sklearn.metrics import confusion_matrix\n",
    "# # from sam import SAM\n",
    "# eps = sys.float_info.epsilon\n",
    "\n",
    "# # def parse_args():\n",
    "# #     parser = argparse.ArgumentParser()\n",
    "# #     parser.add_argument('--raf_path', type=str, default='./data/fer_112_112_v2.0/rafdb/', help='Raf-DB dataset path.')\n",
    "# #     parser.add_argument('--batch_size', type=int, default=128, help='Batch size.')\n",
    "# #     parser.add_argument('--lr', type=float, default=5e-4, help='Initial learning rate for sgd.')\n",
    "# #     parser.add_argument('--workers', default=16, type=int, help='Number of data loading workers.')\n",
    "# #     parser.add_argument('--epochs', type=int, default=60, help='Total training epochs.')\n",
    "# #     parser.add_argument('--num_head', type=int, default=2, help='Number of attention head.')\n",
    "# #     return parser.parse_args()\n",
    "\n",
    "# class AttentionLoss(nn.Module):\n",
    "#     def __init__(self, ):\n",
    "#         super(AttentionLoss, self).__init__()\n",
    "    \n",
    "#     def forward(self, x):\n",
    "#         num_head = len(x)\n",
    "#         loss = 0\n",
    "#         cnt = 0\n",
    "#         if num_head > 1:\n",
    "#             for i in range(num_head-1):\n",
    "#                 for j in range(i+1, num_head):\n",
    "#                     mse = F.mse_loss(x[i], x[j])\n",
    "#                     cnt = cnt+1\n",
    "#                     loss = loss+mse\n",
    "#             loss = cnt/(loss + eps)\n",
    "#         else:\n",
    "#             loss = 0\n",
    "#         return loss     \n",
    "                \n",
    "# # def plot_confusion_matrix(cm, classes,\n",
    "# #                           normalize=False,\n",
    "# #                           title='Confusion matrix',\n",
    "# #                           cmap=plt.cm.Blues):\n",
    "# #     \"\"\"\n",
    "# #     This function prints and plots the confusion matrix.\n",
    "# #     Normalization can be applied by setting `normalize=True`.\n",
    "# #     \"\"\"\n",
    "# #     if normalize:\n",
    "# #         cm = cm.astype('float') / cm.sum(axis=1)[:, np.newaxis]\n",
    "# #         print(\"Normalized confusion matrix\")\n",
    "# #     else:\n",
    "# #         print('Confusion matrix, without normalization')\n",
    "\n",
    "# #     print(cm)\n",
    "\n",
    "# #     plt.imshow(cm, interpolation='nearest', cmap=cmap)\n",
    "# #     plt.title(title, fontsize=16)\n",
    "# #     plt.colorbar()\n",
    "# #     tick_marks = np.arange(len(classes))\n",
    "# #     plt.xticks(tick_marks, classes, rotation=45)\n",
    "# #     plt.yticks(tick_marks, classes)\n",
    "\n",
    "# #     fmt = '.2f' if normalize else 'd'\n",
    "    \n",
    "# #     thresh = cm.max() / 2.\n",
    "# #     for i, j in itertools.product(range(cm.shape[0]), range(cm.shape[1])):\n",
    "# #         plt.text(j, i, format(cm[i, j]*100, fmt)+'%',\n",
    "# #                  horizontalalignment=\"center\",\n",
    "# #                  color=\"white\" if cm[i, j] > thresh else \"black\")\n",
    "\n",
    "# #     plt.ylabel('Actual', fontsize=18)\n",
    "# #     plt.xlabel('Predicted', fontsize=18)\n",
    "# #     plt.tight_layout()\n",
    "\n",
    "# # class_names = ['Neutral', 'Happy', 'Sad', 'Surprise', 'Fear', 'Disgust', 'Angry']  \n",
    "# class_names = ['Angry', 'Disgust', 'Fear', 'Happy', 'Sad', 'Surprise', 'Neutral'] #FER\n",
    "\n",
    "# def run_training(class_count=7, num_head=2, raf_path='./data/fer_112_112_v2.0/rafdb/', batch_size=128, lr=5e-4, workers=16, epochs=60):\n",
    "#     # args = parse_args()\n",
    "#     device = torch.device(\"cuda:0\" if torch.cuda.is_available() else \"cpu\")\n",
    "#     print(device)\n",
    "\n",
    "#     if torch.cuda.is_available():\n",
    "#         torch.backends.cudnn.benchmark = True\n",
    "#         torch.backends.cudnn.deterministic = True\n",
    "#         torch.backends.cudnn.enabled = True\n",
    "\n",
    "#     # model = DDAMNet(num_class=class_count,num_head=args.num_head)\n",
    "#     model = DDAMNet(num_class=class_count,num_head=num_head)\n",
    "#     model.to(device)\n",
    "\n",
    "#     data_transforms = transforms.Compose([\n",
    "#         transforms.Resize((112, 112)),\n",
    "#         transforms.RandomHorizontalFlip(),\n",
    "#         transforms.RandomApply([\n",
    "#                 transforms.RandomRotation(5),\n",
    "#                 transforms.RandomCrop(112, padding=8)\n",
    "#   #          ], p=0.2),\n",
    "#             ], p=0.5),\n",
    "#         transforms.ToTensor(),\n",
    "#         transforms.Normalize(mean=[0.485, 0.456, 0.406],\n",
    "#                                  std=[0.229, 0.224, 0.225]),\n",
    "#         transforms.RandomErasing(scale=(0.02,0.25)),\n",
    "#         ])   \n",
    "\n",
    "#     # train_dataset = datasets.ImageFolder(f'{args.raf_path}/train', transform = data_transforms)   \n",
    "#     train_dataset = datasets.ImageFolder(f'{raf_path}/train', transform = data_transforms)   \n",
    "    \n",
    "#     print('Whole train set size:', train_dataset.__len__())\n",
    "\n",
    "#     # train_loader = torch.utils.data.DataLoader(train_dataset,\n",
    "#     #                                            batch_size = args.batch_size,\n",
    "#     #                                            num_workers = args.workers,\n",
    "#     #                                            shuffle = True,  \n",
    "#     #                                            pin_memory = True)\n",
    "\n",
    "#     train_loader = torch.utils.data.DataLoader(train_dataset,\n",
    "#                                             batch_size = batch_size,\n",
    "#                                             num_workers = workers,\n",
    "#                                             shuffle = True,  \n",
    "#                                             pin_memory = True)\n",
    "\n",
    "#     data_transforms_val = transforms.Compose([\n",
    "#         transforms.Resize((112, 112)),\n",
    "#         transforms.ToTensor(),\n",
    "#         transforms.Normalize(mean=[0.485, 0.456, 0.406],\n",
    "#                                  std=[0.229, 0.224, 0.225])])   \n",
    "  \n",
    "#     # val_dataset = datasets.ImageFolder(f'{args.raf_path}/val', transform = data_transforms_val)\n",
    "#     val_dataset = datasets.ImageFolder(f'{raf_path}/validation', transform = data_transforms_val)        \n",
    "\n",
    "#     print('Validation set size:', val_dataset.__len__())\n",
    "    \n",
    "#     # val_loader = torch.utils.data.DataLoader(val_dataset,\n",
    "#     #                                            batch_size = args.batch_size,\n",
    "#     #                                            num_workers = args.workers,\n",
    "#     #                                            shuffle = False,  \n",
    "#     #                                            pin_memory = True)\n",
    "\n",
    "#     val_loader = torch.utils.data.DataLoader(val_dataset,\n",
    "#                                             batch_size = batch_size,\n",
    "#                                             num_workers = workers,\n",
    "#                                             shuffle = False,  \n",
    "#                                             pin_memory = True)\n",
    "\n",
    "#     criterion_cls = torch.nn.CrossEntropyLoss()\n",
    "\n",
    "#     criterion_at = AttentionLoss()\n",
    "\n",
    "#     params = list(model.parameters()) \n",
    "#     # #optimizer = torch.optim.SGD(params,lr=args.lr, weight_decay = 1e-4, momentum=0.9)\n",
    "#     # # scheduler = torch.optim.lr_scheduler.StepLR(optimizer, step_size=10, gamma=0.1)\n",
    "#     # optimizer = SAM(model.parameters(), torch.optim.Adam, lr=args.lr, rho=0.05, adaptive=False, )\n",
    "#     optimizer = SAM(model.parameters(), torch.optim.Adam, lr=lr, rho=0.05, adaptive=False)\n",
    "\n",
    "#     scheduler = torch.optim.lr_scheduler.ExponentialLR(optimizer, gamma=0.9)\n",
    "\n",
    "#     best_acc = 0\n",
    "#     # for epoch in tqdm(range(1, args.epochs + 1)):\n",
    "#     # for epoch in tqdm(range(1, epochs + 1)):\n",
    "#     for epoch in range(1, epochs + 1):\n",
    "#         running_loss = 0.0\n",
    "#         correct_sum = 0\n",
    "#         iter_cnt = 0\n",
    "#         model.train()\n",
    "\n",
    "#         train_progress = tqdm(total=len(train_dataset), desc=f\"Epoch {epoch} Training\", unit='img', leave=True) #---\n",
    "#         # for (imgs, targets) in train_loader:\n",
    "\n",
    "#         for imgs, targets in tqdm(train_loader, desc=f\"Epoch {epoch} Training\", leave=True):\n",
    "#             if iter_cnt % 100 == 0:\n",
    "#                 print(iter_cnt)\n",
    "#             iter_cnt += 1\n",
    "#             optimizer.zero_grad()\n",
    "\n",
    "#             imgs = imgs.to(device)\n",
    "#             targets = targets.to(device)\n",
    "            \n",
    "#             out,feat,heads = model(imgs)\n",
    "            \n",
    "#             loss = criterion_cls(out,targets) + 0.1*criterion_at(heads)  \n",
    "\n",
    "#             loss.backward()\n",
    "#             optimizer.first_step(zero_grad=True)\n",
    "            \n",
    "#             imgs = imgs.to(device)\n",
    "#             targets = targets.to(device)\n",
    "            \n",
    "#             out,feat,heads = model(imgs)\n",
    "            \n",
    "#             loss = criterion_cls(out,targets) + 0.1*criterion_at(heads) \n",
    "            \n",
    "#             optimizer.zero_grad()\n",
    "#             loss.backward()\n",
    "#             optimizer.second_step(zero_grad=True)            \n",
    "                                    \n",
    "     \n",
    "            \n",
    "#             running_loss += loss\n",
    "#             _, predicts = torch.max(out, 1)\n",
    "#             correct_num = torch.eq(predicts, targets).sum()\n",
    "#             correct_sum += correct_num\n",
    "\n",
    "#             train_progress.update(len(imgs))  # Update progress by batch size\n",
    "#         train_progress.close()\n",
    "\n",
    "#         acc = correct_sum.float() / float(train_dataset.__len__())\n",
    "#         running_loss = running_loss/iter_cnt\n",
    "#         # tqdm.write('[Epoch %d] Training accuracy: %.4f. Loss: %.3f. LR %.6f' % (epoch, acc, running_loss,optimizer.param_groups[0]['lr']))\n",
    "        \n",
    "#         with torch.no_grad():\n",
    "#             running_loss = 0.0\n",
    "#             iter_cnt = 0\n",
    "#             bingo_cnt = 0\n",
    "#             sample_cnt = 0\n",
    "            \n",
    "#             ## for calculating balanced accuracy\n",
    "#             y_true = []\n",
    "#             y_pred = []\n",
    " \n",
    "#             model.eval()\n",
    "#             # for (imgs, targets) in val_loader:\n",
    "#             for imgs, targets in tqdm(val_loader, desc=f\"Epoch {epoch} Validation\", leave=False):\n",
    "#                 imgs = imgs.to(device)\n",
    "#                 targets = targets.to(device)\n",
    "                \n",
    "#                 out,feat,heads = model(imgs)\n",
    "#                 loss = criterion_cls(out,targets)+ 0.1*criterion_at(heads) \n",
    "\n",
    "#                 running_loss += loss\n",
    "\n",
    "#                 _, predicts = torch.max(out, 1)\n",
    "#                 correct_num  = torch.eq(predicts,targets)\n",
    "#                 bingo_cnt += correct_num.sum().cpu()\n",
    "#                 sample_cnt += imgs.size(0)\n",
    "                \n",
    "#                 y_true.append(targets.cpu().numpy())\n",
    "#                 y_pred.append(predicts.cpu().numpy())\n",
    "\n",
    "#                 if iter_cnt == 0:\n",
    "#                     all_predicted = predicts\n",
    "#                     all_targets = targets\n",
    "#                 else:\n",
    "#                     all_predicted = torch.cat((all_predicted, predicts),0)\n",
    "#                     all_targets = torch.cat((all_targets, targets),0)                  \n",
    "#                 iter_cnt+=1        \n",
    "#             running_loss = running_loss/iter_cnt   \n",
    "#             scheduler.step()\n",
    "\n",
    "#             acc = bingo_cnt.float()/float(sample_cnt)\n",
    "#             acc = np.around(acc.numpy(),4)\n",
    "#             best_acc = max(acc,best_acc)\n",
    "\n",
    "#             y_true = np.concatenate(y_true)\n",
    "#             y_pred = np.concatenate(y_pred)\n",
    "#             balanced_acc = np.around(balanced_accuracy_score(y_true, y_pred),4)\n",
    "\n",
    "#             # tqdm.write(\"[Epoch %d] Validation accuracy:%.4f. bacc:%.4f. Loss:%.3f\" % (epoch, acc, balanced_acc, running_loss))\n",
    "#             # tqdm.write(\"best_acc:\" + str(best_acc))\n",
    "\n",
    "#             # if acc > 0.91 and acc == best_acc:\n",
    "#             if acc == best_acc:\n",
    "#                 torch.save({'iter': epoch,\n",
    "#                             'model_state_dict': model.state_dict(),\n",
    "#                              'optimizer_state_dict': optimizer.state_dict(),},\n",
    "#                             os.path.join('TrainedModels', \"rafdb_epoch\"+str(epoch)+\"_acc\"+str(acc)+\"_bacc\"+str(balanced_acc)+\".pth\"))\n",
    "#                 tqdm.write('Model saved.')\n",
    "                \n",
    "#                 # Compute confusion matrix\n",
    "#                 matrix = confusion_matrix(all_targets.data.cpu().numpy(), all_predicted.cpu().numpy())\n",
    "#                 np.set_printoptions(precision=2)\n",
    "#                 plt.figure(figsize=(10, 8))\n",
    "#                 # Plot normalized confusion matrix\n",
    "#                 # plot_confusion_matrix(matrix, classes=class_names, normalize=True, title= 'RAF-DB Confusion Matrix (acc: %0.2f%%)' %(acc*100))\n",
    "                 \n",
    "#                 plt.savefig(os.path.join('TrainedModels', \"rafdb_epoch\"+str(epoch)+\"_acc\"+str(acc)+\"_bacc\"+str(balanced_acc)+\".png\"))\n",
    "#                 plt.close()"
   ]
  },
  {
   "cell_type": "code",
   "execution_count": 5,
   "metadata": {},
   "outputs": [],
   "source": [
    "import os\n",
    "import sys\n",
    "from tqdm import tqdm\n",
    "import argparse\n",
    "import numpy as np\n",
    "\n",
    "import torch\n",
    "import torch.nn as nn\n",
    "import torch.utils.data as data\n",
    "from torchvision import transforms, datasets\n",
    "\n",
    "from sklearn.metrics import balanced_accuracy_score\n",
    "import matplotlib.pyplot as plt\n",
    "import itertools\n",
    "import torch.nn.functional as F\n",
    "\n",
    "from sklearn.metrics import confusion_matrix\n",
    "from sklearn.utils.class_weight import compute_class_weight\n",
    "eps = sys.float_info.epsilon\n",
    "\n",
    "class AttentionLoss(nn.Module):\n",
    "    def __init__(self, ):\n",
    "        super(AttentionLoss, self).__init__()\n",
    "    \n",
    "    def forward(self, x):\n",
    "        num_head = len(x)\n",
    "        loss = 0\n",
    "        cnt = 0\n",
    "        if num_head > 1:\n",
    "            for i in range(num_head-1):\n",
    "                for j in range(i+1, num_head):\n",
    "                    mse = F.mse_loss(x[i], x[j])\n",
    "                    cnt = cnt+1\n",
    "                    loss = loss+mse\n",
    "            loss = cnt/(loss + eps)\n",
    "        else:\n",
    "            loss = 0\n",
    "        return loss     \n",
    " \n",
    "# class_names = ['Angry', 'Disgust', 'Fear', 'Happy', 'Sad', 'Surprise', 'Neutral'] #FER\n",
    "# class_names = ['Angry', 'Disgust', 'Fear', 'Happy', 'Sad', 'Surprise', 'Neutral', 'Contempt'] #AffectNEt\n",
    "\n",
    "\n",
    "# (data_directory, dataset_name, device, lr, batch_size, momentum, weight_decay, patience, num_epochs)\n",
    "# def TrainDDAMFN_PP(data_directory, device,   class_count=7, num_head=2, raf_path='./data/fer_112_112_v2.0/rafdb/', batch_size=128, lr=5e-4, workers=16, epochs=60):\n",
    "def TrainDDAMFN_PP(data_directory, dataset_name, device, lr=5e-4, batch_size=128, patience=15, num_epochs=60, num_head=2, workers=16):\n",
    "\n",
    "    if torch.cuda.is_available():\n",
    "        torch.backends.cudnn.benchmark = True\n",
    "        torch.backends.cudnn.deterministic = True\n",
    "        torch.backends.cudnn.enabled = True\n",
    "\n",
    "    data_transforms = transforms.Compose([\n",
    "        transforms.Resize((112, 112)),\n",
    "        transforms.RandomHorizontalFlip(),\n",
    "        transforms.RandomApply([\n",
    "                transforms.RandomRotation(5),\n",
    "                transforms.RandomCrop(112, padding=8)\n",
    "            ], p=0.5),\n",
    "        transforms.ToTensor(),\n",
    "        transforms.Normalize(mean=[0.485, 0.456, 0.406],\n",
    "                                 std=[0.229, 0.224, 0.225]),\n",
    "        transforms.RandomErasing(scale=(0.02,0.25)),\n",
    "        ])   \n",
    "\n",
    "    train_dataset = datasets.ImageFolder(f'{data_directory}/train', transform = data_transforms)   \n",
    "\n",
    "    train_loader = torch.utils.data.DataLoader(train_dataset,\n",
    "                                            batch_size = batch_size,\n",
    "                                            num_workers = workers,\n",
    "                                            shuffle = True,  \n",
    "                                            pin_memory = True,\n",
    "                                            drop_last=True)\n",
    "    \n",
    "    print('Whole train set size:', train_dataset.__len__())\n",
    "\n",
    "    data_transforms_val = transforms.Compose([\n",
    "        transforms.Resize((112, 112)),\n",
    "        transforms.ToTensor(),\n",
    "        transforms.Normalize(mean=[0.485, 0.456, 0.406],\n",
    "                                 std=[0.229, 0.224, 0.225])])   \n",
    "  \n",
    "    val_dataset = datasets.ImageFolder(f'{data_directory}/validation', transform = data_transforms_val)        \n",
    "    \n",
    "    val_loader = torch.utils.data.DataLoader(val_dataset,\n",
    "                                            batch_size = batch_size,\n",
    "                                            num_workers = workers,\n",
    "                                            shuffle = False,  \n",
    "                                            pin_memory = True,\n",
    "                                            drop_last=True)\n",
    "    \n",
    "    print('Validation set size:', val_dataset.__len__())\n",
    "\n",
    "    num_classes = len(train_dataset.classes)\n",
    "    print(f\"Number of classes: {num_classes}\")\n",
    "\n",
    "    # model = DDAMNet(num_class=class_count,num_head=args.num_head)\n",
    "    model = DDAMNet(num_class=num_classes, num_head=num_head)\n",
    "    model.to(device)\n",
    "\n",
    "\n",
    "    # criterion_cls = torch.nn.CrossEntropyLoss()\n",
    "    # criterion_at = AttentionLoss()\n",
    "\n",
    "    #-----------------------------------------------\n",
    "    # Calculate class weights for the training dataset (balanced weights) - Modification\n",
    "    labels = np.array(train_dataset.targets)\n",
    "    classes = np.unique(labels)\n",
    "    class_weights_np = compute_class_weight(class_weight='balanced', classes=classes, y=labels)\n",
    "    class_weights = torch.tensor(class_weights_np, dtype=torch.float).to(device)\n",
    "\n",
    "    print(\"Class weights: \", class_weights)\n",
    "\n",
    "    criterion_cls = torch.nn.CrossEntropyLoss(weight=class_weights)\n",
    "\n",
    "    criterion_at = AttentionLoss()\n",
    "    #-----------------------------------------------\n",
    "\n",
    "    # params = list(model.parameters()) \n",
    "    optimizer = SAM(model.parameters(), torch.optim.Adam, lr=lr, rho=0.05, adaptive=False)\n",
    "\n",
    "    scheduler = torch.optim.lr_scheduler.ExponentialLR(optimizer, gamma=0.9)\n",
    "\n",
    "    patience_counter = 0\n",
    "    best_val_acc = 0\n",
    "\n",
    "    for epoch in range(1, num_epochs + 1):\n",
    "        running_loss = 0.0\n",
    "        correct_sum = 0\n",
    "        iter_cnt = 0\n",
    "        model.train()\n",
    "\n",
    "        # Initialize progress bar once at start of epoch\n",
    "        train_progress = tqdm(total=len(train_dataset), \n",
    "                            desc=f\"Epoch {epoch}/{num_epochs} Training\", \n",
    "                            unit='img', \n",
    "                            leave=True,\n",
    "                            postfix={'loss': '?', 'acc': '?'})  # Initial placeholder\n",
    "\n",
    "        for imgs, targets in train_loader:\n",
    "            optimizer.zero_grad()\n",
    "\n",
    "            imgs = imgs.to(device)\n",
    "            targets = targets.to(device)\n",
    "            \n",
    "            out,feat,heads = model(imgs)\n",
    "            loss = criterion_cls(out,targets) + 0.1*criterion_at(heads)  \n",
    "\n",
    "            loss.backward()\n",
    "            optimizer.first_step(zero_grad=True)\n",
    "            \n",
    "            imgs = imgs.to(device)\n",
    "            targets = targets.to(device)\n",
    "            \n",
    "            out,feat,heads = model(imgs)\n",
    "            loss = criterion_cls(out,targets) + 0.1*criterion_at(heads) \n",
    "            # optimizer.zero_grad() #Remove?\n",
    "            loss.backward()\n",
    "            optimizer.second_step(zero_grad=True)            \n",
    "                                    \n",
    "            running_loss += loss\n",
    "            _, predicts = torch.max(out, 1)\n",
    "            correct_num = torch.eq(predicts, targets).sum()\n",
    "            correct_sum += correct_num\n",
    "            iter_cnt += 1\n",
    "        \n",
    "            # Update progress bar\n",
    "            train_progress.update(len(imgs))\n",
    "            train_progress.set_postfix({\n",
    "                'loss': f\"{running_loss/iter_cnt:.3f}\",\n",
    "                'acc': f\"{correct_sum/(train_progress.n)*100:.1f}%\",\n",
    "                'lr': f\"{optimizer.param_groups[0]['lr']:.1e}\"\n",
    "            }, refresh=False)\n",
    "\n",
    "        train_progress.close()\n",
    "\n",
    "        acc = correct_sum.float() / float(train_dataset.__len__())\n",
    "        running_loss = running_loss/iter_cnt\n",
    "        tqdm.write('[Epoch %d] Training accuracy: %.4f. Loss: %.3f. LR %.6f' % (epoch, acc, running_loss,optimizer.param_groups[0]['lr']))\n",
    "        \n",
    "        # scheduler.step() #----\n",
    "\n",
    "        with torch.no_grad():\n",
    "            running_loss = 0.0\n",
    "            iter_cnt = 0\n",
    "            bingo_cnt = 0\n",
    "            sample_cnt = 0\n",
    "            \n",
    "            # for calculating balanced accuracy\n",
    "            y_true = []\n",
    "            y_pred = []\n",
    " \n",
    "            model.eval()\n",
    "\n",
    "            # Initialize validation progress bar\n",
    "            val_progress = tqdm(total=len(val_dataset), \n",
    "                       desc=f\"Epoch {epoch} Validation\",\n",
    "                       unit='img',\n",
    "                       leave=False,\n",
    "                       postfix={'val_loss': '?', 'val_acc': '?'})\n",
    "    \n",
    "            for (imgs, targets) in val_loader:\n",
    "                imgs = imgs.to(device)\n",
    "                targets = targets.to(device)\n",
    "                \n",
    "                out,feat,heads = model(imgs)\n",
    "                loss = criterion_cls(out,targets)+ 0.1*criterion_at(heads) \n",
    "                loss_item = loss.item() #---\n",
    "\n",
    "                running_loss += loss\n",
    "                _, predicts = torch.max(out, 1)\n",
    "\n",
    "                correct_num  = torch.eq(predicts,targets)\n",
    "                current_batch_size = imgs.size(0) #--\n",
    "                \n",
    "                bingo_cnt += correct_num.sum().cpu()\n",
    "                sample_cnt += imgs.size(0)\n",
    "                \n",
    "                y_true.append(targets.cpu().numpy())\n",
    "                y_pred.append(predicts.cpu().numpy())\n",
    "\n",
    "                # Update progress bar\n",
    "                val_progress.update(current_batch_size)\n",
    "                val_progress.set_postfix({\n",
    "                    'val_loss': f\"{running_loss/(iter_cnt+1):.3f}\",\n",
    "                    'val_acc': f\"{(bingo_cnt/sample_cnt)*100:.1f}%\"\n",
    "                }, refresh=False)\n",
    "\n",
    "                if iter_cnt == 0:\n",
    "                    all_predicted = predicts\n",
    "                    all_targets = targets\n",
    "                else:\n",
    "                    all_predicted = torch.cat((all_predicted, predicts),0)\n",
    "                    all_targets = torch.cat((all_targets, targets),0)                  \n",
    "                iter_cnt+=1\n",
    "\n",
    "            val_progress.close()  \n",
    "            running_loss = running_loss/iter_cnt   \n",
    "            scheduler.step()\n",
    "\n",
    "            acc = bingo_cnt.float()/float(sample_cnt)\n",
    "            acc = np.around(acc.numpy(),4)\n",
    "\n",
    "            y_true = np.concatenate(y_true)\n",
    "            y_pred = np.concatenate(y_pred)\n",
    "            balanced_acc = np.around(balanced_accuracy_score(y_true, y_pred),4)\n",
    "\n",
    "            tqdm.write(\"[Epoch %d] Validation accuracy:%.4f. bacc:%.4f. Loss:%.3f\" % (epoch, acc, balanced_acc, running_loss))\n",
    "\n",
    "\n",
    "            if acc > best_val_acc:\n",
    "                best_val_acc = acc\n",
    "                patience_counter = 0\n",
    "                os.makedirs(\"Models\", exist_ok=True)\n",
    "                torch.save({'iter': epoch,\n",
    "                            'model_state_dict': model.state_dict(),\n",
    "                            'optimizer_state_dict': optimizer.state_dict(),\n",
    "                            'workers': workers,\n",
    "                            'num_head': num_head,},\n",
    "                            os.path.join('Models', f\"DDAMFNPP_{dataset_name}_best_model_LR_{lr}_BS_{batch_size}_P_{patience}_E_{num_epochs}_H_{num_head}_W_{workers}.pth\"))\n",
    "                tqdm.write('Model saved.')\n",
    "            else:    \n",
    "                patience_counter += 1\n",
    "                print(f\"No improvement in validation accuracy for {patience_counter} epochs.\")\n",
    "\n",
    "            if patience_counter > patience:\n",
    "                print(\"Stopping early due to lack of improvement in validation accuracy.\")\n",
    "                break\n",
    "\n",
    "    tqdm.write(\"best_acc:\" + str(best_val_acc))"
   ]
  },
  {
   "cell_type": "code",
   "execution_count": null,
   "metadata": {},
   "outputs": [
    {
     "name": "stdout",
     "output_type": "stream",
     "text": [
      "Using cuda device\n",
      "Whole train set size: 28709\n",
      "Validation set size: 3589\n",
      "Number of classes: 7\n",
      "Class weights:  tensor([1.0266, 9.4066, 1.0010, 0.5684, 0.8491, 1.2934, 0.8260],\n",
      "       device='cuda:0')\n"
     ]
    },
    {
     "name": "stderr",
     "output_type": "stream",
     "text": [
      "Epoch 1/300 Training: 100%|█████████▉| 28704/28709 [08:58<00:00, 53.33img/s, loss=2.307, acc=38.0%, lr=1.0e-03] \n"
     ]
    },
    {
     "name": "stdout",
     "output_type": "stream",
     "text": [
      "[Epoch 1] Training accuracy: 0.3800. Loss: 2.307. LR 0.001000\n"
     ]
    },
    {
     "name": "stderr",
     "output_type": "stream",
     "text": [
      "c:\\MastersRepos\\Deep-Learning-For-Computer-Vision\\Models\\DDAMFN++\\.venv\\lib\\site-packages\\torch\\optim\\lr_scheduler.py:182: UserWarning: Detected call of `lr_scheduler.step()` before `optimizer.step()`. In PyTorch 1.1.0 and later, you should call them in the opposite order: `optimizer.step()` before `lr_scheduler.step()`.  Failure to do this will result in PyTorch skipping the first value of the learning rate schedule. See more details at https://pytorch.org/docs/stable/optim.html#how-to-adjust-learning-rate\n",
      "  warnings.warn(\n"
     ]
    },
    {
     "name": "stdout",
     "output_type": "stream",
     "text": [
      "[Epoch 1] Validation accuracy:0.3940. bacc:0.3612. Loss:1.977\n",
      "Model saved.\n"
     ]
    },
    {
     "name": "stderr",
     "output_type": "stream",
     "text": [
      "Epoch 2/300 Training: 100%|█████████▉| 28704/28709 [08:33<00:00, 55.89img/s, loss=1.657, acc=45.6%, lr=9.0e-04]\n"
     ]
    },
    {
     "name": "stdout",
     "output_type": "stream",
     "text": [
      "[Epoch 2] Training accuracy: 0.4562. Loss: 1.657. LR 0.000900\n"
     ]
    },
    {
     "name": "stderr",
     "output_type": "stream",
     "text": [
      "                                                                                                        \r"
     ]
    },
    {
     "name": "stdout",
     "output_type": "stream",
     "text": [
      "[Epoch 2] Validation accuracy:0.4693. bacc:0.4991. Loss:1.517\n",
      "Model saved.\n"
     ]
    },
    {
     "name": "stderr",
     "output_type": "stream",
     "text": [
      "Epoch 3/300 Training: 100%|█████████▉| 28704/28709 [08:24<00:00, 56.85img/s, loss=1.449, acc=51.2%, lr=8.1e-04]\n"
     ]
    },
    {
     "name": "stdout",
     "output_type": "stream",
     "text": [
      "[Epoch 3] Training accuracy: 0.5123. Loss: 1.449. LR 0.000810\n"
     ]
    },
    {
     "name": "stderr",
     "output_type": "stream",
     "text": [
      "                                                                                                        \r"
     ]
    },
    {
     "name": "stdout",
     "output_type": "stream",
     "text": [
      "[Epoch 3] Validation accuracy:0.5884. bacc:0.5702. Loss:1.198\n",
      "Model saved.\n"
     ]
    },
    {
     "name": "stderr",
     "output_type": "stream",
     "text": [
      "Epoch 4/300 Training: 100%|█████████▉| 28704/28709 [08:31<00:00, 56.11img/s, loss=1.371, acc=54.3%, lr=7.3e-04]\n"
     ]
    },
    {
     "name": "stdout",
     "output_type": "stream",
     "text": [
      "[Epoch 4] Training accuracy: 0.5424. Loss: 1.371. LR 0.000729\n"
     ]
    },
    {
     "name": "stderr",
     "output_type": "stream",
     "text": [
      "                                                                                                        \r"
     ]
    },
    {
     "name": "stdout",
     "output_type": "stream",
     "text": [
      "[Epoch 4] Validation accuracy:0.5904. bacc:0.6024. Loss:1.209\n",
      "Model saved.\n"
     ]
    },
    {
     "name": "stderr",
     "output_type": "stream",
     "text": [
      "Epoch 5/300 Training: 100%|█████████▉| 28704/28709 [08:19<00:00, 57.46img/s, loss=1.299, acc=56.3%, lr=6.6e-04]\n"
     ]
    },
    {
     "name": "stdout",
     "output_type": "stream",
     "text": [
      "[Epoch 5] Training accuracy: 0.5627. Loss: 1.299. LR 0.000656\n"
     ]
    },
    {
     "name": "stderr",
     "output_type": "stream",
     "text": [
      "                                                                                                        \r"
     ]
    },
    {
     "name": "stdout",
     "output_type": "stream",
     "text": [
      "[Epoch 5] Validation accuracy:0.6097. bacc:0.6021. Loss:1.140\n",
      "Model saved.\n"
     ]
    },
    {
     "name": "stderr",
     "output_type": "stream",
     "text": [
      "Epoch 6/300 Training: 100%|█████████▉| 28704/28709 [08:30<00:00, 56.25img/s, loss=1.244, acc=58.1%, lr=5.9e-04]\n"
     ]
    },
    {
     "name": "stdout",
     "output_type": "stream",
     "text": [
      "[Epoch 6] Training accuracy: 0.5812. Loss: 1.244. LR 0.000590\n"
     ]
    },
    {
     "name": "stderr",
     "output_type": "stream",
     "text": [
      "                                                                                                        \r"
     ]
    },
    {
     "name": "stdout",
     "output_type": "stream",
     "text": [
      "[Epoch 6] Validation accuracy:0.6256. bacc:0.6260. Loss:1.111\n",
      "Model saved.\n"
     ]
    },
    {
     "name": "stderr",
     "output_type": "stream",
     "text": [
      "Epoch 7/300 Training: 100%|█████████▉| 28704/28709 [08:29<00:00, 56.38img/s, loss=1.194, acc=59.8%, lr=5.3e-04]\n"
     ]
    },
    {
     "name": "stdout",
     "output_type": "stream",
     "text": [
      "[Epoch 7] Training accuracy: 0.5977. Loss: 1.194. LR 0.000531\n"
     ]
    },
    {
     "name": "stderr",
     "output_type": "stream",
     "text": [
      "                                                                                                        \r"
     ]
    },
    {
     "name": "stdout",
     "output_type": "stream",
     "text": [
      "[Epoch 7] Validation accuracy:0.6339. bacc:0.6339. Loss:1.088\n",
      "Model saved.\n"
     ]
    },
    {
     "name": "stderr",
     "output_type": "stream",
     "text": [
      "Epoch 8/300 Training: 100%|█████████▉| 28704/28709 [08:25<00:00, 56.83img/s, loss=1.140, acc=61.6%, lr=4.8e-04]\n"
     ]
    },
    {
     "name": "stdout",
     "output_type": "stream",
     "text": [
      "[Epoch 8] Training accuracy: 0.6158. Loss: 1.140. LR 0.000478\n"
     ]
    },
    {
     "name": "stderr",
     "output_type": "stream",
     "text": [
      "                                                                                                        \r"
     ]
    },
    {
     "name": "stdout",
     "output_type": "stream",
     "text": [
      "[Epoch 8] Validation accuracy:0.6498. bacc:0.6529. Loss:1.053\n",
      "Model saved.\n"
     ]
    },
    {
     "name": "stderr",
     "output_type": "stream",
     "text": [
      "Epoch 9/300 Training: 100%|█████████▉| 28704/28709 [08:30<00:00, 56.26img/s, loss=1.094, acc=62.7%, lr=4.3e-04]\n"
     ]
    },
    {
     "name": "stdout",
     "output_type": "stream",
     "text": [
      "[Epoch 9] Training accuracy: 0.6269. Loss: 1.094. LR 0.000430\n"
     ]
    },
    {
     "name": "stderr",
     "output_type": "stream",
     "text": [
      "                                                                                                        \r"
     ]
    },
    {
     "name": "stdout",
     "output_type": "stream",
     "text": [
      "[Epoch 9] Validation accuracy:0.6507. bacc:0.6529. Loss:1.061\n",
      "Model saved.\n"
     ]
    },
    {
     "name": "stderr",
     "output_type": "stream",
     "text": [
      "Epoch 10/300 Training: 100%|█████████▉| 28704/28709 [08:27<00:00, 56.53img/s, loss=1.058, acc=64.3%, lr=3.9e-04]\n"
     ]
    },
    {
     "name": "stdout",
     "output_type": "stream",
     "text": [
      "[Epoch 10] Training accuracy: 0.6428. Loss: 1.058. LR 0.000387\n"
     ]
    },
    {
     "name": "stderr",
     "output_type": "stream",
     "text": [
      "                                                                                                         \r"
     ]
    },
    {
     "name": "stdout",
     "output_type": "stream",
     "text": [
      "[Epoch 10] Validation accuracy:0.6535. bacc:0.6516. Loss:1.030\n",
      "Model saved.\n"
     ]
    },
    {
     "name": "stderr",
     "output_type": "stream",
     "text": [
      "Epoch 11/300 Training: 100%|█████████▉| 28704/28709 [08:28<00:00, 56.43img/s, loss=1.013, acc=65.8%, lr=3.5e-04]\n"
     ]
    },
    {
     "name": "stdout",
     "output_type": "stream",
     "text": [
      "[Epoch 11] Training accuracy: 0.6578. Loss: 1.013. LR 0.000349\n"
     ]
    },
    {
     "name": "stderr",
     "output_type": "stream",
     "text": [
      "                                                                                                         \r"
     ]
    },
    {
     "name": "stdout",
     "output_type": "stream",
     "text": [
      "[Epoch 11] Validation accuracy:0.6713. bacc:0.6683. Loss:0.997\n",
      "Model saved.\n"
     ]
    },
    {
     "name": "stderr",
     "output_type": "stream",
     "text": [
      "Epoch 12/300 Training: 100%|█████████▉| 28704/28709 [08:29<00:00, 56.33img/s, loss=0.987, acc=66.8%, lr=3.1e-04]\n"
     ]
    },
    {
     "name": "stdout",
     "output_type": "stream",
     "text": [
      "[Epoch 12] Training accuracy: 0.6683. Loss: 0.987. LR 0.000314\n"
     ]
    },
    {
     "name": "stderr",
     "output_type": "stream",
     "text": [
      "                                                                                                         \r"
     ]
    },
    {
     "name": "stdout",
     "output_type": "stream",
     "text": [
      "[Epoch 12] Validation accuracy:0.6652. bacc:0.6676. Loss:1.017\n",
      "No improvement in validation accuracy for 1 epochs.\n"
     ]
    },
    {
     "name": "stderr",
     "output_type": "stream",
     "text": [
      "Epoch 13/300 Training: 100%|█████████▉| 28704/28709 [08:19<00:00, 57.42img/s, loss=0.943, acc=67.8%, lr=2.8e-04]\n"
     ]
    },
    {
     "name": "stdout",
     "output_type": "stream",
     "text": [
      "[Epoch 13] Training accuracy: 0.6779. Loss: 0.943. LR 0.000282\n"
     ]
    },
    {
     "name": "stderr",
     "output_type": "stream",
     "text": [
      "                                                                                                         \r"
     ]
    },
    {
     "name": "stdout",
     "output_type": "stream",
     "text": [
      "[Epoch 13] Validation accuracy:0.6744. bacc:0.6753. Loss:0.984\n",
      "Model saved.\n"
     ]
    },
    {
     "name": "stderr",
     "output_type": "stream",
     "text": [
      "Epoch 14/300 Training: 100%|█████████▉| 28704/28709 [08:33<00:00, 55.90img/s, loss=0.922, acc=69.0%, lr=2.5e-04]\n"
     ]
    },
    {
     "name": "stdout",
     "output_type": "stream",
     "text": [
      "[Epoch 14] Training accuracy: 0.6896. Loss: 0.922. LR 0.000254\n"
     ]
    },
    {
     "name": "stderr",
     "output_type": "stream",
     "text": [
      "                                                                                                         \r"
     ]
    },
    {
     "name": "stdout",
     "output_type": "stream",
     "text": [
      "[Epoch 14] Validation accuracy:0.6822. bacc:0.6804. Loss:0.979\n",
      "Model saved.\n"
     ]
    },
    {
     "name": "stderr",
     "output_type": "stream",
     "text": [
      "Epoch 15/300 Training: 100%|█████████▉| 28704/28709 [08:30<00:00, 56.26img/s, loss=0.891, acc=70.3%, lr=2.3e-04]\n"
     ]
    },
    {
     "name": "stdout",
     "output_type": "stream",
     "text": [
      "[Epoch 15] Training accuracy: 0.7024. Loss: 0.891. LR 0.000229\n"
     ]
    },
    {
     "name": "stderr",
     "output_type": "stream",
     "text": [
      "                                                                                                         \r"
     ]
    },
    {
     "name": "stdout",
     "output_type": "stream",
     "text": [
      "[Epoch 15] Validation accuracy:0.6780. bacc:0.6789. Loss:0.987\n",
      "No improvement in validation accuracy for 1 epochs.\n"
     ]
    },
    {
     "name": "stderr",
     "output_type": "stream",
     "text": [
      "Epoch 16/300 Training: 100%|█████████▉| 28704/28709 [08:30<00:00, 56.27img/s, loss=0.858, acc=71.3%, lr=2.1e-04]\n"
     ]
    },
    {
     "name": "stdout",
     "output_type": "stream",
     "text": [
      "[Epoch 16] Training accuracy: 0.7134. Loss: 0.858. LR 0.000206\n"
     ]
    },
    {
     "name": "stderr",
     "output_type": "stream",
     "text": [
      "                                                                                                         \r"
     ]
    },
    {
     "name": "stdout",
     "output_type": "stream",
     "text": [
      "[Epoch 16] Validation accuracy:0.6847. bacc:0.6801. Loss:0.969\n",
      "Model saved.\n"
     ]
    },
    {
     "name": "stderr",
     "output_type": "stream",
     "text": [
      "Epoch 17/300 Training: 100%|█████████▉| 28704/28709 [08:29<00:00, 56.32img/s, loss=0.833, acc=72.2%, lr=1.9e-04]\n"
     ]
    },
    {
     "name": "stdout",
     "output_type": "stream",
     "text": [
      "[Epoch 17] Training accuracy: 0.7214. Loss: 0.833. LR 0.000185\n"
     ]
    },
    {
     "name": "stderr",
     "output_type": "stream",
     "text": [
      "                                                                                                         \r"
     ]
    },
    {
     "name": "stdout",
     "output_type": "stream",
     "text": [
      "[Epoch 17] Validation accuracy:0.6836. bacc:0.6734. Loss:0.974\n",
      "No improvement in validation accuracy for 1 epochs.\n"
     ]
    },
    {
     "name": "stderr",
     "output_type": "stream",
     "text": [
      "Epoch 18/300 Training: 100%|█████████▉| 28704/28709 [08:30<00:00, 56.18img/s, loss=0.805, acc=73.3%, lr=1.7e-04]\n"
     ]
    },
    {
     "name": "stdout",
     "output_type": "stream",
     "text": [
      "[Epoch 18] Training accuracy: 0.7330. Loss: 0.805. LR 0.000167\n"
     ]
    },
    {
     "name": "stderr",
     "output_type": "stream",
     "text": [
      "                                                                                                         \r"
     ]
    },
    {
     "name": "stdout",
     "output_type": "stream",
     "text": [
      "[Epoch 18] Validation accuracy:0.6892. bacc:0.6842. Loss:0.970\n",
      "Model saved.\n"
     ]
    },
    {
     "name": "stderr",
     "output_type": "stream",
     "text": [
      "Epoch 19/300 Training: 100%|█████████▉| 28704/28709 [08:28<00:00, 56.41img/s, loss=0.785, acc=74.1%, lr=1.5e-04]\n"
     ]
    },
    {
     "name": "stdout",
     "output_type": "stream",
     "text": [
      "[Epoch 19] Training accuracy: 0.7405. Loss: 0.785. LR 0.000150\n"
     ]
    },
    {
     "name": "stderr",
     "output_type": "stream",
     "text": [
      "                                                                                                         \r"
     ]
    },
    {
     "name": "stdout",
     "output_type": "stream",
     "text": [
      "[Epoch 19] Validation accuracy:0.6906. bacc:0.6906. Loss:0.980\n",
      "Model saved.\n"
     ]
    },
    {
     "name": "stderr",
     "output_type": "stream",
     "text": [
      "Epoch 20/300 Training: 100%|█████████▉| 28704/28709 [08:30<00:00, 56.25img/s, loss=0.755, acc=75.3%, lr=1.4e-04]\n"
     ]
    },
    {
     "name": "stdout",
     "output_type": "stream",
     "text": [
      "[Epoch 20] Training accuracy: 0.7527. Loss: 0.755. LR 0.000135\n"
     ]
    },
    {
     "name": "stderr",
     "output_type": "stream",
     "text": [
      "                                                                                                         \r"
     ]
    },
    {
     "name": "stdout",
     "output_type": "stream",
     "text": [
      "[Epoch 20] Validation accuracy:0.6886. bacc:0.6827. Loss:0.994\n",
      "No improvement in validation accuracy for 1 epochs.\n"
     ]
    },
    {
     "name": "stderr",
     "output_type": "stream",
     "text": [
      "Epoch 21/300 Training: 100%|█████████▉| 28704/28709 [08:29<00:00, 56.32img/s, loss=0.740, acc=75.9%, lr=1.2e-04]\n"
     ]
    },
    {
     "name": "stdout",
     "output_type": "stream",
     "text": [
      "[Epoch 21] Training accuracy: 0.7593. Loss: 0.740. LR 0.000122\n"
     ]
    },
    {
     "name": "stderr",
     "output_type": "stream",
     "text": [
      "                                                                                                         \r"
     ]
    },
    {
     "name": "stdout",
     "output_type": "stream",
     "text": [
      "[Epoch 21] Validation accuracy:0.6911. bacc:0.6836. Loss:0.996\n",
      "Model saved.\n"
     ]
    },
    {
     "name": "stderr",
     "output_type": "stream",
     "text": [
      "Epoch 22/300 Training: 100%|█████████▉| 28704/28709 [08:30<00:00, 56.25img/s, loss=0.718, acc=76.7%, lr=1.1e-04]\n"
     ]
    },
    {
     "name": "stdout",
     "output_type": "stream",
     "text": [
      "[Epoch 22] Training accuracy: 0.7668. Loss: 0.718. LR 0.000109\n"
     ]
    },
    {
     "name": "stderr",
     "output_type": "stream",
     "text": [
      "                                                                                                         \r"
     ]
    },
    {
     "name": "stdout",
     "output_type": "stream",
     "text": [
      "[Epoch 22] Validation accuracy:0.6945. bacc:0.6858. Loss:0.975\n",
      "Model saved.\n"
     ]
    },
    {
     "name": "stderr",
     "output_type": "stream",
     "text": [
      "Epoch 23/300 Training: 100%|█████████▉| 28704/28709 [08:29<00:00, 56.38img/s, loss=0.702, acc=77.5%, lr=9.8e-05]\n"
     ]
    },
    {
     "name": "stdout",
     "output_type": "stream",
     "text": [
      "[Epoch 23] Training accuracy: 0.7747. Loss: 0.702. LR 0.000098\n"
     ]
    },
    {
     "name": "stderr",
     "output_type": "stream",
     "text": [
      "                                                                                                         \r"
     ]
    },
    {
     "name": "stdout",
     "output_type": "stream",
     "text": [
      "[Epoch 23] Validation accuracy:0.6970. bacc:0.6866. Loss:0.998\n",
      "Model saved.\n"
     ]
    },
    {
     "name": "stderr",
     "output_type": "stream",
     "text": [
      "Epoch 24/300 Training: 100%|█████████▉| 28704/28709 [08:30<00:00, 56.26img/s, loss=0.679, acc=78.2%, lr=8.9e-05]\n"
     ]
    },
    {
     "name": "stdout",
     "output_type": "stream",
     "text": [
      "[Epoch 24] Training accuracy: 0.7814. Loss: 0.679. LR 0.000089\n"
     ]
    },
    {
     "name": "stderr",
     "output_type": "stream",
     "text": [
      "                                                                                                         \r"
     ]
    },
    {
     "name": "stdout",
     "output_type": "stream",
     "text": [
      "[Epoch 24] Validation accuracy:0.6995. bacc:0.6868. Loss:0.999\n",
      "Model saved.\n"
     ]
    },
    {
     "name": "stderr",
     "output_type": "stream",
     "text": [
      "Epoch 25/300 Training: 100%|█████████▉| 28704/28709 [08:30<00:00, 56.23img/s, loss=0.670, acc=78.5%, lr=8.0e-05]\n"
     ]
    },
    {
     "name": "stdout",
     "output_type": "stream",
     "text": [
      "[Epoch 25] Training accuracy: 0.7851. Loss: 0.670. LR 0.000080\n"
     ]
    },
    {
     "name": "stderr",
     "output_type": "stream",
     "text": [
      "                                                                                                         \r"
     ]
    },
    {
     "name": "stdout",
     "output_type": "stream",
     "text": [
      "[Epoch 25] Validation accuracy:0.6987. bacc:0.6867. Loss:1.010\n",
      "No improvement in validation accuracy for 1 epochs.\n"
     ]
    },
    {
     "name": "stderr",
     "output_type": "stream",
     "text": [
      "Epoch 26/300 Training: 100%|█████████▉| 28704/28709 [08:30<00:00, 56.25img/s, loss=0.651, acc=79.4%, lr=7.2e-05]\n"
     ]
    },
    {
     "name": "stdout",
     "output_type": "stream",
     "text": [
      "[Epoch 26] Training accuracy: 0.7939. Loss: 0.651. LR 0.000072\n"
     ]
    },
    {
     "name": "stderr",
     "output_type": "stream",
     "text": [
      "                                                                                                         \r"
     ]
    },
    {
     "name": "stdout",
     "output_type": "stream",
     "text": [
      "[Epoch 26] Validation accuracy:0.6995. bacc:0.6876. Loss:0.998\n",
      "No improvement in validation accuracy for 2 epochs.\n"
     ]
    },
    {
     "name": "stderr",
     "output_type": "stream",
     "text": [
      "Epoch 27/300 Training: 100%|█████████▉| 28704/28709 [08:31<00:00, 56.17img/s, loss=0.637, acc=79.7%, lr=6.5e-05]\n"
     ]
    },
    {
     "name": "stdout",
     "output_type": "stream",
     "text": [
      "[Epoch 27] Training accuracy: 0.7973. Loss: 0.637. LR 0.000065\n"
     ]
    },
    {
     "name": "stderr",
     "output_type": "stream",
     "text": [
      "                                                                                                         \r"
     ]
    },
    {
     "name": "stdout",
     "output_type": "stream",
     "text": [
      "[Epoch 27] Validation accuracy:0.6975. bacc:0.6825. Loss:1.032\n",
      "No improvement in validation accuracy for 3 epochs.\n"
     ]
    },
    {
     "name": "stderr",
     "output_type": "stream",
     "text": [
      "Epoch 28/300 Training: 100%|█████████▉| 28704/28709 [08:30<00:00, 56.23img/s, loss=0.627, acc=80.5%, lr=5.8e-05]\n"
     ]
    },
    {
     "name": "stdout",
     "output_type": "stream",
     "text": [
      "[Epoch 28] Training accuracy: 0.8050. Loss: 0.627. LR 0.000058\n"
     ]
    },
    {
     "name": "stderr",
     "output_type": "stream",
     "text": [
      "                                                                                                         \r"
     ]
    },
    {
     "name": "stdout",
     "output_type": "stream",
     "text": [
      "[Epoch 28] Validation accuracy:0.7065. bacc:0.6927. Loss:1.020\n",
      "Model saved.\n"
     ]
    },
    {
     "name": "stderr",
     "output_type": "stream",
     "text": [
      "Epoch 29/300 Training: 100%|█████████▉| 28704/28709 [08:30<00:00, 56.25img/s, loss=0.617, acc=80.7%, lr=5.2e-05]\n"
     ]
    },
    {
     "name": "stdout",
     "output_type": "stream",
     "text": [
      "[Epoch 29] Training accuracy: 0.8073. Loss: 0.617. LR 0.000052\n"
     ]
    },
    {
     "name": "stderr",
     "output_type": "stream",
     "text": [
      "                                                                                                         \r"
     ]
    },
    {
     "name": "stdout",
     "output_type": "stream",
     "text": [
      "[Epoch 29] Validation accuracy:0.7012. bacc:0.6893. Loss:1.016\n",
      "No improvement in validation accuracy for 1 epochs.\n"
     ]
    },
    {
     "name": "stderr",
     "output_type": "stream",
     "text": [
      "Epoch 30/300 Training: 100%|█████████▉| 28704/28709 [08:30<00:00, 56.26img/s, loss=0.609, acc=81.0%, lr=4.7e-05]\n"
     ]
    },
    {
     "name": "stdout",
     "output_type": "stream",
     "text": [
      "[Epoch 30] Training accuracy: 0.8097. Loss: 0.609. LR 0.000047\n"
     ]
    },
    {
     "name": "stderr",
     "output_type": "stream",
     "text": [
      "                                                                                                         \r"
     ]
    },
    {
     "name": "stdout",
     "output_type": "stream",
     "text": [
      "[Epoch 30] Validation accuracy:0.6981. bacc:0.6885. Loss:1.010\n",
      "No improvement in validation accuracy for 2 epochs.\n"
     ]
    },
    {
     "name": "stderr",
     "output_type": "stream",
     "text": [
      "Epoch 31/300 Training: 100%|█████████▉| 28704/28709 [08:29<00:00, 56.34img/s, loss=0.598, acc=81.5%, lr=4.2e-05]\n"
     ]
    },
    {
     "name": "stdout",
     "output_type": "stream",
     "text": [
      "[Epoch 31] Training accuracy: 0.8145. Loss: 0.598. LR 0.000042\n"
     ]
    },
    {
     "name": "stderr",
     "output_type": "stream",
     "text": [
      "                                                                                                         \r"
     ]
    },
    {
     "name": "stdout",
     "output_type": "stream",
     "text": [
      "[Epoch 31] Validation accuracy:0.7059. bacc:0.6938. Loss:1.028\n",
      "No improvement in validation accuracy for 3 epochs.\n"
     ]
    },
    {
     "name": "stderr",
     "output_type": "stream",
     "text": [
      "Epoch 32/300 Training: 100%|█████████▉| 28704/28709 [08:31<00:00, 56.10img/s, loss=0.593, acc=81.8%, lr=3.8e-05]\n"
     ]
    },
    {
     "name": "stdout",
     "output_type": "stream",
     "text": [
      "[Epoch 32] Training accuracy: 0.8182. Loss: 0.593. LR 0.000038\n"
     ]
    },
    {
     "name": "stderr",
     "output_type": "stream",
     "text": [
      "                                                                                                         \r"
     ]
    },
    {
     "name": "stdout",
     "output_type": "stream",
     "text": [
      "[Epoch 32] Validation accuracy:0.7023. bacc:0.6892. Loss:1.031\n",
      "No improvement in validation accuracy for 4 epochs.\n"
     ]
    },
    {
     "name": "stderr",
     "output_type": "stream",
     "text": [
      "Epoch 33/300 Training: 100%|█████████▉| 28704/28709 [08:29<00:00, 56.36img/s, loss=0.588, acc=81.8%, lr=3.4e-05]\n"
     ]
    },
    {
     "name": "stdout",
     "output_type": "stream",
     "text": [
      "[Epoch 33] Training accuracy: 0.8179. Loss: 0.588. LR 0.000034\n"
     ]
    },
    {
     "name": "stderr",
     "output_type": "stream",
     "text": [
      "                                                                                                         \r"
     ]
    },
    {
     "name": "stdout",
     "output_type": "stream",
     "text": [
      "[Epoch 33] Validation accuracy:0.7073. bacc:0.6970. Loss:1.030\n",
      "Model saved.\n"
     ]
    },
    {
     "name": "stderr",
     "output_type": "stream",
     "text": [
      "Epoch 34/300 Training: 100%|█████████▉| 28704/28709 [08:32<00:00, 56.05img/s, loss=0.575, acc=82.3%, lr=3.1e-05]\n"
     ]
    },
    {
     "name": "stdout",
     "output_type": "stream",
     "text": [
      "[Epoch 34] Training accuracy: 0.8225. Loss: 0.575. LR 0.000031\n"
     ]
    },
    {
     "name": "stderr",
     "output_type": "stream",
     "text": [
      "                                                                                                         \r"
     ]
    },
    {
     "name": "stdout",
     "output_type": "stream",
     "text": [
      "[Epoch 34] Validation accuracy:0.7028. bacc:0.6906. Loss:1.046\n",
      "No improvement in validation accuracy for 1 epochs.\n"
     ]
    },
    {
     "name": "stderr",
     "output_type": "stream",
     "text": [
      "Epoch 35/300 Training: 100%|█████████▉| 28704/28709 [08:30<00:00, 56.25img/s, loss=0.567, acc=82.5%, lr=2.8e-05]\n"
     ]
    },
    {
     "name": "stdout",
     "output_type": "stream",
     "text": [
      "[Epoch 35] Training accuracy: 0.8249. Loss: 0.567. LR 0.000028\n"
     ]
    },
    {
     "name": "stderr",
     "output_type": "stream",
     "text": [
      "                                                                                                         \r"
     ]
    },
    {
     "name": "stdout",
     "output_type": "stream",
     "text": [
      "[Epoch 35] Validation accuracy:0.7031. bacc:0.6909. Loss:1.059\n",
      "No improvement in validation accuracy for 2 epochs.\n"
     ]
    },
    {
     "name": "stderr",
     "output_type": "stream",
     "text": [
      "Epoch 36/300 Training: 100%|█████████▉| 28704/28709 [08:30<00:00, 56.20img/s, loss=0.567, acc=82.8%, lr=2.5e-05]\n"
     ]
    },
    {
     "name": "stdout",
     "output_type": "stream",
     "text": [
      "[Epoch 36] Training accuracy: 0.8275. Loss: 0.567. LR 0.000025\n"
     ]
    },
    {
     "name": "stderr",
     "output_type": "stream",
     "text": [
      "                                                                                                         \r"
     ]
    },
    {
     "name": "stdout",
     "output_type": "stream",
     "text": [
      "[Epoch 36] Validation accuracy:0.7048. bacc:0.6924. Loss:1.060\n",
      "No improvement in validation accuracy for 3 epochs.\n"
     ]
    },
    {
     "name": "stderr",
     "output_type": "stream",
     "text": [
      "Epoch 37/300 Training: 100%|█████████▉| 28704/28709 [08:31<00:00, 56.15img/s, loss=0.561, acc=83.0%, lr=2.3e-05]\n"
     ]
    },
    {
     "name": "stdout",
     "output_type": "stream",
     "text": [
      "[Epoch 37] Training accuracy: 0.8296. Loss: 0.561. LR 0.000023\n"
     ]
    },
    {
     "name": "stderr",
     "output_type": "stream",
     "text": [
      "                                                                                                         \r"
     ]
    },
    {
     "name": "stdout",
     "output_type": "stream",
     "text": [
      "[Epoch 37] Validation accuracy:0.7056. bacc:0.6942. Loss:1.063\n",
      "No improvement in validation accuracy for 4 epochs.\n"
     ]
    },
    {
     "name": "stderr",
     "output_type": "stream",
     "text": [
      "Epoch 38/300 Training: 100%|█████████▉| 28704/28709 [08:28<00:00, 56.42img/s, loss=0.556, acc=83.1%, lr=2.0e-05]\n"
     ]
    },
    {
     "name": "stdout",
     "output_type": "stream",
     "text": [
      "[Epoch 38] Training accuracy: 0.8308. Loss: 0.556. LR 0.000020\n"
     ]
    },
    {
     "name": "stderr",
     "output_type": "stream",
     "text": [
      "                                                                                                         \r"
     ]
    },
    {
     "name": "stdout",
     "output_type": "stream",
     "text": [
      "[Epoch 38] Validation accuracy:0.7040. bacc:0.6910. Loss:1.071\n",
      "No improvement in validation accuracy for 5 epochs.\n"
     ]
    },
    {
     "name": "stderr",
     "output_type": "stream",
     "text": [
      "Epoch 39/300 Training: 100%|█████████▉| 28704/28709 [08:32<00:00, 56.05img/s, loss=0.553, acc=83.1%, lr=1.8e-05]\n"
     ]
    },
    {
     "name": "stdout",
     "output_type": "stream",
     "text": [
      "[Epoch 39] Training accuracy: 0.8306. Loss: 0.553. LR 0.000018\n"
     ]
    },
    {
     "name": "stderr",
     "output_type": "stream",
     "text": [
      "                                                                                                         \r"
     ]
    },
    {
     "name": "stdout",
     "output_type": "stream",
     "text": [
      "[Epoch 39] Validation accuracy:0.7006. bacc:0.6893. Loss:1.074\n",
      "No improvement in validation accuracy for 6 epochs.\n"
     ]
    },
    {
     "name": "stderr",
     "output_type": "stream",
     "text": [
      "Epoch 40/300 Training: 100%|█████████▉| 28704/28709 [08:30<00:00, 56.25img/s, loss=0.550, acc=83.3%, lr=1.6e-05]\n"
     ]
    },
    {
     "name": "stdout",
     "output_type": "stream",
     "text": [
      "[Epoch 40] Training accuracy: 0.8329. Loss: 0.550. LR 0.000016\n"
     ]
    },
    {
     "name": "stderr",
     "output_type": "stream",
     "text": [
      "                                                                                                         \r"
     ]
    },
    {
     "name": "stdout",
     "output_type": "stream",
     "text": [
      "[Epoch 40] Validation accuracy:0.7056. bacc:0.6917. Loss:1.070\n",
      "No improvement in validation accuracy for 7 epochs.\n"
     ]
    },
    {
     "name": "stderr",
     "output_type": "stream",
     "text": [
      "Epoch 41/300 Training: 100%|█████████▉| 28704/28709 [08:31<00:00, 56.15img/s, loss=0.544, acc=83.4%, lr=1.5e-05]\n"
     ]
    },
    {
     "name": "stdout",
     "output_type": "stream",
     "text": [
      "[Epoch 41] Training accuracy: 0.8343. Loss: 0.544. LR 0.000015\n"
     ]
    },
    {
     "name": "stderr",
     "output_type": "stream",
     "text": [
      "                                                                                                         \r"
     ]
    },
    {
     "name": "stdout",
     "output_type": "stream",
     "text": [
      "[Epoch 41] Validation accuracy:0.7068. bacc:0.6926. Loss:1.076\n",
      "No improvement in validation accuracy for 8 epochs.\n"
     ]
    },
    {
     "name": "stderr",
     "output_type": "stream",
     "text": [
      "Epoch 42/300 Training: 100%|█████████▉| 28704/28709 [08:30<00:00, 56.20img/s, loss=0.540, acc=83.8%, lr=1.3e-05]\n"
     ]
    },
    {
     "name": "stdout",
     "output_type": "stream",
     "text": [
      "[Epoch 42] Training accuracy: 0.8378. Loss: 0.540. LR 0.000013\n"
     ]
    },
    {
     "name": "stderr",
     "output_type": "stream",
     "text": [
      "                                                                                                         \r"
     ]
    },
    {
     "name": "stdout",
     "output_type": "stream",
     "text": [
      "[Epoch 42] Validation accuracy:0.7045. bacc:0.6901. Loss:1.061\n",
      "No improvement in validation accuracy for 9 epochs.\n"
     ]
    },
    {
     "name": "stderr",
     "output_type": "stream",
     "text": [
      "Epoch 43/300 Training: 100%|█████████▉| 28704/28709 [08:31<00:00, 56.11img/s, loss=0.545, acc=83.6%, lr=1.2e-05]\n"
     ]
    },
    {
     "name": "stdout",
     "output_type": "stream",
     "text": [
      "[Epoch 43] Training accuracy: 0.8358. Loss: 0.545. LR 0.000012\n"
     ]
    },
    {
     "name": "stderr",
     "output_type": "stream",
     "text": [
      "                                                                                                         \r"
     ]
    },
    {
     "name": "stdout",
     "output_type": "stream",
     "text": [
      "[Epoch 43] Validation accuracy:0.7054. bacc:0.6915. Loss:1.066\n",
      "No improvement in validation accuracy for 10 epochs.\n"
     ]
    },
    {
     "name": "stderr",
     "output_type": "stream",
     "text": [
      "Epoch 44/300 Training: 100%|█████████▉| 28704/28709 [08:31<00:00, 56.12img/s, loss=0.542, acc=83.8%, lr=1.1e-05]\n"
     ]
    },
    {
     "name": "stdout",
     "output_type": "stream",
     "text": [
      "[Epoch 44] Training accuracy: 0.8380. Loss: 0.542. LR 0.000011\n"
     ]
    },
    {
     "name": "stderr",
     "output_type": "stream",
     "text": [
      "                                                                                                         \r"
     ]
    },
    {
     "name": "stdout",
     "output_type": "stream",
     "text": [
      "[Epoch 44] Validation accuracy:0.7045. bacc:0.6929. Loss:1.062\n",
      "No improvement in validation accuracy for 11 epochs.\n"
     ]
    },
    {
     "name": "stderr",
     "output_type": "stream",
     "text": [
      "Epoch 45/300 Training: 100%|█████████▉| 28704/28709 [08:32<00:00, 56.02img/s, loss=0.535, acc=83.8%, lr=9.7e-06]\n"
     ]
    },
    {
     "name": "stdout",
     "output_type": "stream",
     "text": [
      "[Epoch 45] Training accuracy: 0.8374. Loss: 0.535. LR 0.000010\n"
     ]
    },
    {
     "name": "stderr",
     "output_type": "stream",
     "text": [
      "                                                                                                         \r"
     ]
    },
    {
     "name": "stdout",
     "output_type": "stream",
     "text": [
      "[Epoch 45] Validation accuracy:0.7031. bacc:0.6924. Loss:1.088\n",
      "No improvement in validation accuracy for 12 epochs.\n"
     ]
    },
    {
     "name": "stderr",
     "output_type": "stream",
     "text": [
      "Epoch 46/300 Training: 100%|█████████▉| 28704/28709 [08:32<00:00, 56.04img/s, loss=0.539, acc=83.7%, lr=8.7e-06]\n"
     ]
    },
    {
     "name": "stdout",
     "output_type": "stream",
     "text": [
      "[Epoch 46] Training accuracy: 0.8371. Loss: 0.539. LR 0.000009\n"
     ]
    },
    {
     "name": "stderr",
     "output_type": "stream",
     "text": [
      "                                                                                                         \r"
     ]
    },
    {
     "name": "stdout",
     "output_type": "stream",
     "text": [
      "[Epoch 46] Validation accuracy:0.7093. bacc:0.6948. Loss:1.079\n",
      "Model saved.\n"
     ]
    },
    {
     "name": "stderr",
     "output_type": "stream",
     "text": [
      "Epoch 47/300 Training: 100%|█████████▉| 28704/28709 [08:30<00:00, 56.20img/s, loss=0.536, acc=84.2%, lr=7.9e-06]\n"
     ]
    },
    {
     "name": "stdout",
     "output_type": "stream",
     "text": [
      "[Epoch 47] Training accuracy: 0.8414. Loss: 0.536. LR 0.000008\n"
     ]
    },
    {
     "name": "stderr",
     "output_type": "stream",
     "text": [
      "                                                                                                         \r"
     ]
    },
    {
     "name": "stdout",
     "output_type": "stream",
     "text": [
      "[Epoch 47] Validation accuracy:0.7051. bacc:0.6909. Loss:1.062\n",
      "No improvement in validation accuracy for 1 epochs.\n"
     ]
    },
    {
     "name": "stderr",
     "output_type": "stream",
     "text": [
      "Epoch 48/300 Training: 100%|█████████▉| 28704/28709 [08:30<00:00, 56.25img/s, loss=0.531, acc=84.0%, lr=7.1e-06]\n"
     ]
    },
    {
     "name": "stdout",
     "output_type": "stream",
     "text": [
      "[Epoch 48] Training accuracy: 0.8401. Loss: 0.531. LR 0.000007\n"
     ]
    },
    {
     "name": "stderr",
     "output_type": "stream",
     "text": [
      "                                                                                                         \r"
     ]
    },
    {
     "name": "stdout",
     "output_type": "stream",
     "text": [
      "[Epoch 48] Validation accuracy:0.7020. bacc:0.6909. Loss:1.079\n",
      "No improvement in validation accuracy for 2 epochs.\n"
     ]
    },
    {
     "name": "stderr",
     "output_type": "stream",
     "text": [
      "Epoch 49/300 Training: 100%|█████████▉| 28704/28709 [08:30<00:00, 56.27img/s, loss=0.536, acc=84.1%, lr=6.4e-06]\n"
     ]
    },
    {
     "name": "stdout",
     "output_type": "stream",
     "text": [
      "[Epoch 49] Training accuracy: 0.8411. Loss: 0.536. LR 0.000006\n"
     ]
    },
    {
     "name": "stderr",
     "output_type": "stream",
     "text": [
      "                                                                                                         \r"
     ]
    },
    {
     "name": "stdout",
     "output_type": "stream",
     "text": [
      "[Epoch 49] Validation accuracy:0.7045. bacc:0.6921. Loss:1.068\n",
      "No improvement in validation accuracy for 3 epochs.\n"
     ]
    },
    {
     "name": "stderr",
     "output_type": "stream",
     "text": [
      "Epoch 50/300 Training: 100%|█████████▉| 28704/28709 [08:32<00:00, 56.02img/s, loss=0.525, acc=84.2%, lr=5.7e-06]\n"
     ]
    },
    {
     "name": "stdout",
     "output_type": "stream",
     "text": [
      "[Epoch 50] Training accuracy: 0.8420. Loss: 0.525. LR 0.000006\n"
     ]
    },
    {
     "name": "stderr",
     "output_type": "stream",
     "text": [
      "                                                                                                         \r"
     ]
    },
    {
     "name": "stdout",
     "output_type": "stream",
     "text": [
      "[Epoch 50] Validation accuracy:0.7073. bacc:0.6932. Loss:1.064\n",
      "No improvement in validation accuracy for 4 epochs.\n"
     ]
    },
    {
     "name": "stderr",
     "output_type": "stream",
     "text": [
      "Epoch 51/300 Training: 100%|█████████▉| 28704/28709 [08:30<00:00, 56.21img/s, loss=0.527, acc=84.2%, lr=5.2e-06]\n"
     ]
    },
    {
     "name": "stdout",
     "output_type": "stream",
     "text": [
      "[Epoch 51] Training accuracy: 0.8419. Loss: 0.527. LR 0.000005\n"
     ]
    },
    {
     "name": "stderr",
     "output_type": "stream",
     "text": [
      "                                                                                                         \r"
     ]
    },
    {
     "name": "stdout",
     "output_type": "stream",
     "text": [
      "[Epoch 51] Validation accuracy:0.7068. bacc:0.6939. Loss:1.103\n",
      "No improvement in validation accuracy for 5 epochs.\n"
     ]
    },
    {
     "name": "stderr",
     "output_type": "stream",
     "text": [
      "Epoch 52/300 Training: 100%|█████████▉| 28704/28709 [08:30<00:00, 56.20img/s, loss=0.521, acc=84.5%, lr=4.6e-06]\n"
     ]
    },
    {
     "name": "stdout",
     "output_type": "stream",
     "text": [
      "[Epoch 52] Training accuracy: 0.8450. Loss: 0.521. LR 0.000005\n"
     ]
    },
    {
     "name": "stderr",
     "output_type": "stream",
     "text": [
      "                                                                                                         \r"
     ]
    },
    {
     "name": "stdout",
     "output_type": "stream",
     "text": [
      "[Epoch 52] Validation accuracy:0.7095. bacc:0.6938. Loss:1.062\n",
      "Model saved.\n"
     ]
    },
    {
     "name": "stderr",
     "output_type": "stream",
     "text": [
      "Epoch 53/300 Training: 100%|█████████▉| 28704/28709 [08:32<00:00, 56.02img/s, loss=0.523, acc=84.3%, lr=4.2e-06]\n"
     ]
    },
    {
     "name": "stdout",
     "output_type": "stream",
     "text": [
      "[Epoch 53] Training accuracy: 0.8433. Loss: 0.523. LR 0.000004\n"
     ]
    },
    {
     "name": "stderr",
     "output_type": "stream",
     "text": [
      "                                                                                                         \r"
     ]
    },
    {
     "name": "stdout",
     "output_type": "stream",
     "text": [
      "[Epoch 53] Validation accuracy:0.7087. bacc:0.6943. Loss:1.076\n",
      "No improvement in validation accuracy for 1 epochs.\n"
     ]
    },
    {
     "name": "stderr",
     "output_type": "stream",
     "text": [
      "Epoch 54/300 Training: 100%|█████████▉| 28704/28709 [08:29<00:00, 56.29img/s, loss=0.521, acc=84.6%, lr=3.8e-06]\n"
     ]
    },
    {
     "name": "stdout",
     "output_type": "stream",
     "text": [
      "[Epoch 54] Training accuracy: 0.8454. Loss: 0.521. LR 0.000004\n"
     ]
    },
    {
     "name": "stderr",
     "output_type": "stream",
     "text": [
      "                                                                                                         \r"
     ]
    },
    {
     "name": "stdout",
     "output_type": "stream",
     "text": [
      "[Epoch 54] Validation accuracy:0.7068. bacc:0.6939. Loss:1.087\n",
      "No improvement in validation accuracy for 2 epochs.\n"
     ]
    },
    {
     "name": "stderr",
     "output_type": "stream",
     "text": [
      "Epoch 55/300 Training: 100%|█████████▉| 28704/28709 [08:30<00:00, 56.23img/s, loss=0.524, acc=84.0%, lr=3.4e-06]\n"
     ]
    },
    {
     "name": "stdout",
     "output_type": "stream",
     "text": [
      "[Epoch 55] Training accuracy: 0.8402. Loss: 0.524. LR 0.000003\n"
     ]
    },
    {
     "name": "stderr",
     "output_type": "stream",
     "text": [
      "                                                                                                         \r"
     ]
    },
    {
     "name": "stdout",
     "output_type": "stream",
     "text": [
      "[Epoch 55] Validation accuracy:0.7015. bacc:0.6907. Loss:1.082\n",
      "No improvement in validation accuracy for 3 epochs.\n"
     ]
    },
    {
     "name": "stderr",
     "output_type": "stream",
     "text": [
      "Epoch 56/300 Training: 100%|█████████▉| 28704/28709 [08:31<00:00, 56.13img/s, loss=0.526, acc=84.4%, lr=3.0e-06]\n"
     ]
    },
    {
     "name": "stdout",
     "output_type": "stream",
     "text": [
      "[Epoch 56] Training accuracy: 0.8437. Loss: 0.526. LR 0.000003\n"
     ]
    },
    {
     "name": "stderr",
     "output_type": "stream",
     "text": [
      "                                                                                                         \r"
     ]
    },
    {
     "name": "stdout",
     "output_type": "stream",
     "text": [
      "[Epoch 56] Validation accuracy:0.7048. bacc:0.6925. Loss:1.095\n",
      "No improvement in validation accuracy for 4 epochs.\n"
     ]
    },
    {
     "name": "stderr",
     "output_type": "stream",
     "text": [
      "Epoch 57/300 Training: 100%|█████████▉| 28704/28709 [08:32<00:00, 56.06img/s, loss=0.522, acc=84.5%, lr=2.7e-06]\n"
     ]
    },
    {
     "name": "stdout",
     "output_type": "stream",
     "text": [
      "[Epoch 57] Training accuracy: 0.8448. Loss: 0.522. LR 0.000003\n"
     ]
    },
    {
     "name": "stderr",
     "output_type": "stream",
     "text": [
      "                                                                                                         \r"
     ]
    },
    {
     "name": "stdout",
     "output_type": "stream",
     "text": [
      "[Epoch 57] Validation accuracy:0.7034. bacc:0.6919. Loss:1.092\n",
      "No improvement in validation accuracy for 5 epochs.\n"
     ]
    },
    {
     "name": "stderr",
     "output_type": "stream",
     "text": [
      "Epoch 58/300 Training: 100%|█████████▉| 28704/28709 [08:30<00:00, 56.21img/s, loss=0.520, acc=84.1%, lr=2.5e-06]\n"
     ]
    },
    {
     "name": "stdout",
     "output_type": "stream",
     "text": [
      "[Epoch 58] Training accuracy: 0.8409. Loss: 0.520. LR 0.000002\n"
     ]
    },
    {
     "name": "stderr",
     "output_type": "stream",
     "text": [
      "                                                                                                         \r"
     ]
    },
    {
     "name": "stdout",
     "output_type": "stream",
     "text": [
      "[Epoch 58] Validation accuracy:0.7023. bacc:0.6902. Loss:1.076\n",
      "No improvement in validation accuracy for 6 epochs.\n"
     ]
    },
    {
     "name": "stderr",
     "output_type": "stream",
     "text": [
      "Epoch 59/300 Training: 100%|█████████▉| 28704/28709 [08:28<00:00, 56.40img/s, loss=0.521, acc=84.5%, lr=2.2e-06]\n"
     ]
    },
    {
     "name": "stdout",
     "output_type": "stream",
     "text": [
      "[Epoch 59] Training accuracy: 0.8446. Loss: 0.521. LR 0.000002\n"
     ]
    },
    {
     "name": "stderr",
     "output_type": "stream",
     "text": [
      "                                                                                                         \r"
     ]
    },
    {
     "name": "stdout",
     "output_type": "stream",
     "text": [
      "[Epoch 59] Validation accuracy:0.7054. bacc:0.6926. Loss:1.079\n",
      "No improvement in validation accuracy for 7 epochs.\n"
     ]
    },
    {
     "name": "stderr",
     "output_type": "stream",
     "text": [
      "Epoch 60/300 Training: 100%|█████████▉| 28704/28709 [08:31<00:00, 56.11img/s, loss=0.522, acc=84.3%, lr=2.0e-06]\n"
     ]
    },
    {
     "name": "stdout",
     "output_type": "stream",
     "text": [
      "[Epoch 60] Training accuracy: 0.8433. Loss: 0.522. LR 0.000002\n"
     ]
    },
    {
     "name": "stderr",
     "output_type": "stream",
     "text": [
      "                                                                                                         \r"
     ]
    },
    {
     "name": "stdout",
     "output_type": "stream",
     "text": [
      "[Epoch 60] Validation accuracy:0.7026. bacc:0.6902. Loss:1.078\n",
      "No improvement in validation accuracy for 8 epochs.\n"
     ]
    },
    {
     "name": "stderr",
     "output_type": "stream",
     "text": [
      "Epoch 61/300 Training: 100%|█████████▉| 28704/28709 [08:30<00:00, 56.23img/s, loss=0.523, acc=84.3%, lr=1.8e-06]\n"
     ]
    },
    {
     "name": "stdout",
     "output_type": "stream",
     "text": [
      "[Epoch 61] Training accuracy: 0.8431. Loss: 0.523. LR 0.000002\n"
     ]
    },
    {
     "name": "stderr",
     "output_type": "stream",
     "text": [
      "                                                                                                         \r"
     ]
    },
    {
     "name": "stdout",
     "output_type": "stream",
     "text": [
      "[Epoch 61] Validation accuracy:0.7076. bacc:0.6939. Loss:1.070\n",
      "No improvement in validation accuracy for 9 epochs.\n"
     ]
    },
    {
     "name": "stderr",
     "output_type": "stream",
     "text": [
      "Epoch 62/300 Training: 100%|█████████▉| 28704/28709 [08:38<00:00, 55.35img/s, loss=0.524, acc=84.3%, lr=1.6e-06]\n"
     ]
    },
    {
     "name": "stdout",
     "output_type": "stream",
     "text": [
      "[Epoch 62] Training accuracy: 0.8424. Loss: 0.524. LR 0.000002\n"
     ]
    },
    {
     "name": "stderr",
     "output_type": "stream",
     "text": [
      "                                                                                                         \r"
     ]
    },
    {
     "name": "stdout",
     "output_type": "stream",
     "text": [
      "[Epoch 62] Validation accuracy:0.7042. bacc:0.6912. Loss:1.084\n",
      "No improvement in validation accuracy for 10 epochs.\n"
     ]
    },
    {
     "name": "stderr",
     "output_type": "stream",
     "text": [
      "Epoch 63/300 Training: 100%|█████████▉| 28704/28709 [08:49<00:00, 54.25img/s, loss=0.520, acc=84.6%, lr=1.5e-06]\n"
     ]
    },
    {
     "name": "stdout",
     "output_type": "stream",
     "text": [
      "[Epoch 63] Training accuracy: 0.8457. Loss: 0.520. LR 0.000001\n"
     ]
    },
    {
     "name": "stderr",
     "output_type": "stream",
     "text": [
      "                                                                                                         \r"
     ]
    },
    {
     "name": "stdout",
     "output_type": "stream",
     "text": [
      "[Epoch 63] Validation accuracy:0.7065. bacc:0.6925. Loss:1.087\n",
      "No improvement in validation accuracy for 11 epochs.\n"
     ]
    },
    {
     "name": "stderr",
     "output_type": "stream",
     "text": [
      "Epoch 64/300 Training: 100%|█████████▉| 28704/28709 [07:34<00:00, 63.18img/s, loss=0.521, acc=84.4%, lr=1.3e-06]\n"
     ]
    },
    {
     "name": "stdout",
     "output_type": "stream",
     "text": [
      "[Epoch 64] Training accuracy: 0.8440. Loss: 0.521. LR 0.000001\n"
     ]
    },
    {
     "name": "stderr",
     "output_type": "stream",
     "text": [
      "                                                                                                         \r"
     ]
    },
    {
     "name": "stdout",
     "output_type": "stream",
     "text": [
      "[Epoch 64] Validation accuracy:0.7028. bacc:0.6895. Loss:1.096\n",
      "No improvement in validation accuracy for 12 epochs.\n"
     ]
    },
    {
     "name": "stderr",
     "output_type": "stream",
     "text": [
      "Epoch 65/300 Training: 100%|█████████▉| 28704/28709 [07:31<00:00, 63.54img/s, loss=0.524, acc=84.5%, lr=1.2e-06]\n"
     ]
    },
    {
     "name": "stdout",
     "output_type": "stream",
     "text": [
      "[Epoch 65] Training accuracy: 0.8452. Loss: 0.524. LR 0.000001\n"
     ]
    },
    {
     "name": "stderr",
     "output_type": "stream",
     "text": [
      "                                                                                                         \r"
     ]
    },
    {
     "name": "stdout",
     "output_type": "stream",
     "text": [
      "[Epoch 65] Validation accuracy:0.7079. bacc:0.6936. Loss:1.095\n",
      "No improvement in validation accuracy for 13 epochs.\n"
     ]
    },
    {
     "name": "stderr",
     "output_type": "stream",
     "text": [
      "Epoch 66/300 Training: 100%|█████████▉| 28704/28709 [07:34<00:00, 63.18img/s, loss=0.520, acc=84.4%, lr=1.1e-06]\n"
     ]
    },
    {
     "name": "stdout",
     "output_type": "stream",
     "text": [
      "[Epoch 66] Training accuracy: 0.8437. Loss: 0.520. LR 0.000001\n"
     ]
    },
    {
     "name": "stderr",
     "output_type": "stream",
     "text": [
      "                                                                                                         \r"
     ]
    },
    {
     "name": "stdout",
     "output_type": "stream",
     "text": [
      "[Epoch 66] Validation accuracy:0.7084. bacc:0.6938. Loss:1.087\n",
      "No improvement in validation accuracy for 14 epochs.\n"
     ]
    },
    {
     "name": "stderr",
     "output_type": "stream",
     "text": [
      "Epoch 67/300 Training: 100%|█████████▉| 28704/28709 [07:38<00:00, 62.61img/s, loss=0.521, acc=84.4%, lr=9.6e-07]\n"
     ]
    },
    {
     "name": "stdout",
     "output_type": "stream",
     "text": [
      "[Epoch 67] Training accuracy: 0.8441. Loss: 0.521. LR 0.000001\n"
     ]
    },
    {
     "name": "stderr",
     "output_type": "stream",
     "text": [
      "                                                                                                         \r"
     ]
    },
    {
     "name": "stdout",
     "output_type": "stream",
     "text": [
      "[Epoch 67] Validation accuracy:0.7037. bacc:0.6908. Loss:1.099\n",
      "No improvement in validation accuracy for 15 epochs.\n"
     ]
    },
    {
     "name": "stderr",
     "output_type": "stream",
     "text": [
      "Epoch 68/300 Training: 100%|█████████▉| 28704/28709 [07:30<00:00, 63.71img/s, loss=0.521, acc=84.4%, lr=8.6e-07]\n"
     ]
    },
    {
     "name": "stdout",
     "output_type": "stream",
     "text": [
      "[Epoch 68] Training accuracy: 0.8443. Loss: 0.521. LR 0.000001\n"
     ]
    },
    {
     "name": "stderr",
     "output_type": "stream",
     "text": [
      "                                                                                                         "
     ]
    },
    {
     "name": "stdout",
     "output_type": "stream",
     "text": [
      "[Epoch 68] Validation accuracy:0.7068. bacc:0.6943. Loss:1.100\n",
      "No improvement in validation accuracy for 16 epochs.\n",
      "Stopping early due to lack of improvement in validation accuracy.\n",
      "best_acc:0.7095\n"
     ]
    },
    {
     "name": "stderr",
     "output_type": "stream",
     "text": [
      "\r"
     ]
    }
   ],
   "source": [
    "# Device configuration\n",
    "device = torch.device(\"cuda\" if torch.cuda.is_available() else \"cpu\")\n",
    "print(f\"Using {device} device\")\n",
    "\n",
    "# dataset_name, data_directory = 'AffectNet', '../../Datasets/AffectNet_Structured'\n",
    "# dataset_name, data_directory = 'CK+', '../../Datasets/CK+_Structured'\n",
    "# dataset_name, data_directory = 'FER', '../../Datasets/FER_Structured'\n",
    "# dataset_name, data_directory = 'JAFFE', '../../Datasets/JAFFE_Structured'\n",
    "# dataset_name, data_directory = 'RAF-DB', '../../Datasets/RAF-DB_Structured'\n",
    "dataset_name, data_directory = 'FER_Aligned', '../../Datasets/FER_Structured_Aligned' # 11hr | 71% Acc on Test Set\n",
    "\n",
    "lr = 0.001\n",
    "batch_size = 16\n",
    "patience = 15\n",
    "num_epochs = 300\n",
    "num_head = 2 #best value according to paper    \n",
    "workers = 16 #arbitrary value, shouldnt affect results\n",
    "\n",
    "TrainDDAMFN_PP(data_directory, dataset_name, device, lr, batch_size, patience, num_epochs, num_head, workers)"
   ]
  },
  {
   "cell_type": "markdown",
   "metadata": {},
   "source": [
    "# Deriving Metrics on Testing Set"
   ]
  },
  {
   "cell_type": "code",
   "execution_count": null,
   "metadata": {},
   "outputs": [],
   "source": [
    "import torch\n",
    "import numpy as np\n",
    "from sklearn.metrics import (accuracy_score, precision_score, recall_score, f1_score, classification_report, confusion_matrix)\n",
    "import seaborn as sns\n",
    "import matplotlib.pyplot as plt\n",
    "from torch.utils.data import DataLoader\n",
    "from torchvision import transforms, datasets\n",
    "\n",
    "# def TestDDAMFN(data_directory, model_path, num_head=2, batch_size=15):\n",
    "def TestDDAMFN(data_directory, model_path, batch_size=15):\n",
    "    device = torch.device('cuda' if torch.cuda.is_available() else 'cpu')\n",
    "    print(f\"Using {device} device\")\n",
    "\n",
    "    # Transform the dataset\n",
    "    transform = transforms.Compose([\n",
    "    transforms.Resize((112, 112)),\n",
    "    transforms.ToTensor(),\n",
    "    transforms.Normalize(mean=[0.485, 0.456, 0.406],\n",
    "                                std=[0.229, 0.224, 0.225]),\n",
    "    ])   \n",
    "\n",
    "    state_dict = torch.load(model_path, weights_only=True)\n",
    "\n",
    "    final_fc_layer = [k for k in state_dict['model_state_dict'].keys() if 'fc' in k and 'weight' in k][-1]\n",
    "    num_classes = state_dict['model_state_dict'][final_fc_layer].shape[0]\n",
    "    print(f\"Number of classes: {num_classes}\")\n",
    "\n",
    "    num_head = state_dict['num_head']\n",
    "    print(f\"Number of attention heads: {num_head}\")\n",
    "\n",
    "    # Load your best model (update the filename based on your saved best model)\n",
    "    model = DDAMNet(num_class=num_classes, num_head=num_head).to(device)\n",
    "    model.load_state_dict(state_dict['model_state_dict'])\n",
    "    model.eval()\n",
    "\n",
    "    all_preds = []\n",
    "    all_labels = []\n",
    "\n",
    "    workers = state_dict['workers']\n",
    "\n",
    "    test_dataset = datasets.ImageFolder(f'{data_directory}/test', transform = transform)   \n",
    "    test_loader = torch.utils.data.DataLoader(test_dataset, batch_size = batch_size, num_workers = workers, shuffle = False, pin_memory = True)\n",
    "\n",
    "    # Iterate through test_loader to collect predictions and ground truth labels\n",
    "    with torch.no_grad():\n",
    "        for data in test_loader:\n",
    "            inputs, labels = data[0].to(device), data[1].to(device)\n",
    "            outputs, feat, heads = model(inputs)\n",
    "\n",
    "            # Get the predicted class (assumes outputs are logits)\n",
    "            _, predicted = torch.max(outputs, 1)\n",
    "            all_preds.append(predicted.cpu().numpy())\n",
    "            all_labels.append(labels.cpu().numpy())\n",
    "\n",
    "    # Concatenate lists to form single arrays\n",
    "    all_preds = np.concatenate(all_preds)\n",
    "    all_labels = np.concatenate(all_labels)\n",
    "\n",
    "    # Calculate metrics\n",
    "    accuracy = accuracy_score(all_labels, all_preds)\n",
    "    precision_weighted = precision_score(all_labels, all_preds, average='weighted', zero_division=0)\n",
    "    precision_macro = precision_score(all_labels, all_preds, average='macro', zero_division=0)\n",
    "    precision_micro = precision_score(all_labels, all_preds, average='micro', zero_division=0)\n",
    "\n",
    "    recall_weighted = recall_score(all_labels, all_preds, average='weighted', zero_division=0)\n",
    "    recall_macro = recall_score(all_labels, all_preds, average='macro', zero_division=0)\n",
    "    recall_micro = recall_score(all_labels, all_preds, average='micro', zero_division=0)\n",
    "\n",
    "    f1_weighted = f1_score(all_labels, all_preds, average='weighted', zero_division=0)\n",
    "    f1_macro = f1_score(all_labels, all_preds, average='macro', zero_division=0)\n",
    "    f1_micro = f1_score(all_labels, all_preds, average='micro', zero_division=0)\n",
    "\n",
    "    report = classification_report(all_labels, all_preds, zero_division=0)\n",
    "    cm = confusion_matrix(all_labels, all_preds)\n",
    "\n",
    "    # Print the metrics\n",
    "    print(\"Test Accuracy:\", accuracy)\n",
    "    print(\"Precision (Weighted):\", precision_weighted)\n",
    "    print(\"Precision (Macro):\", precision_macro)\n",
    "    print(\"Precision (Micro):\", precision_micro)\n",
    "    print(\"Recall (Weighted):\", recall_weighted)\n",
    "    print(\"Recall (Macro):\", recall_macro)\n",
    "    print(\"Recall (Micro):\", recall_micro)\n",
    "    print(\"F1 Score (Weighted):\", f1_weighted)\n",
    "    print(\"F1 Score (Macro):\", f1_macro)\n",
    "    print(\"F1 Score (Micro):\", f1_micro)\n",
    "    print(\"\\nClassification Report:\\n\", report)\n",
    "    print(\"\\nConfusion Matrix:\\n\", cm)\n",
    "\n",
    "    # (Optional) Visualize the confusion matrix using seaborn heatmap\n",
    "    plt.figure(figsize=(8, 6))\n",
    "    sns.heatmap(cm, annot=True, fmt='d', cmap='Blues')\n",
    "    plt.title(\"Confusion Matrix\")\n",
    "    plt.xlabel(\"Predicted Label\")\n",
    "    plt.ylabel(\"True Label\")\n",
    "    plt.show()"
   ]
  },
  {
   "cell_type": "code",
   "execution_count": 25,
   "metadata": {},
   "outputs": [
    {
     "name": "stdout",
     "output_type": "stream",
     "text": [
      "Using cuda device\n",
      "Number of classes: 6\n",
      "Number of attention heads: 2\n",
      "Test Accuracy: 0.1951219512195122\n",
      "Precision (Weighted): 0.07560975609756097\n",
      "Precision (Macro): 0.061111111111111116\n",
      "Precision (Micro): 0.1951219512195122\n",
      "Recall (Weighted): 0.1951219512195122\n",
      "Recall (Macro): 0.16435185185185186\n",
      "Recall (Micro): 0.1951219512195122\n",
      "F1 Score (Weighted): 0.09279636982416337\n",
      "F1 Score (Macro): 0.0764857881136951\n",
      "F1 Score (Micro): 0.1951219512195122\n",
      "\n",
      "Classification Report:\n",
      "               precision    recall  f1-score   support\n",
      "\n",
      "           0       0.00      0.00      0.00         6\n",
      "           1       0.00      0.00      0.00         8\n",
      "           2       0.00      0.00      0.00         2\n",
      "           3       0.00      0.00      0.00         8\n",
      "           4       0.20      0.88      0.33         8\n",
      "           5       0.17      0.11      0.13         9\n",
      "\n",
      "    accuracy                           0.20        41\n",
      "   macro avg       0.06      0.16      0.08        41\n",
      "weighted avg       0.08      0.20      0.09        41\n",
      "\n",
      "\n",
      "Confusion Matrix:\n",
      " [[0 0 0 0 5 1]\n",
      " [0 0 0 0 6 2]\n",
      " [0 0 0 0 2 0]\n",
      " [0 0 0 0 7 1]\n",
      " [0 0 0 0 7 1]\n",
      " [0 0 0 0 8 1]]\n"
     ]
    },
    {
     "data": {
      "image/png": "[encoded data removed]",
      "text/plain": [
       "<Figure size 800x600 with 2 Axes>"
      ]
     },
     "metadata": {},
     "output_type": "display_data"
    }
   ],
   "source": [
    "# dataset_name, data_directory = 'AffectNet', '../../Datasets/AffectNet_Structured'\n",
    "# dataset_name, data_directory = 'CK+', '../../Datasets/CK+_Structured'\n",
    "# dataset_name, data_directory = 'FER', '../../Datasets/FER_Structured'\n",
    "dataset_name, data_directory = 'JAFFE', '../../Datasets/JAFFE_Structured'\n",
    "# dataset_name, data_directory = 'RAF-DB', '../../Datasets/RAF-DB_Structured'\n",
    "\n",
    "lr = 0.001\n",
    "batch_size = 16\n",
    "patience = 15\n",
    "num_epochs = 1 #80\n",
    "num_head = 2\n",
    "workers = 16\n",
    "\n",
    "model_path = f\"Models/DDAMFNPP_{dataset_name}_best_model_LR_{lr}_BS_{batch_size}_P_{patience}_E_{num_epochs}_H_{num_head}_W_{workers}.pth\"\n",
    "\n",
    "# TestDDAMFN(data_directory, model_path, num_head, batch_size)\n",
    "TestDDAMFN(data_directory, model_path, batch_size)"
   ]
  },
  {
   "cell_type": "markdown",
   "metadata": {},
   "source": [
    "### Testing on image"
   ]
  },
  {
   "cell_type": "code",
   "execution_count": null,
   "metadata": {},
   "outputs": [
    {
     "name": "stdout",
     "output_type": "stream",
     "text": [
      "Predicted class: Happy\n",
      "Class probabilities:\n",
      "Angry: 0.0000\n",
      "Disgust: 0.0000\n",
      "Fear: 0.0000\n",
      "Happy: 1.0000\n",
      "Sad: 0.0000\n",
      "Surprise: 0.0000\n",
      "Neutral: 0.0000\n"
     ]
    }
   ],
   "source": [
    "# import torch\n",
    "# from torchvision import transforms\n",
    "# from PIL import Image\n",
    "# import os\n",
    "\n",
    "# def load_model(checkpoint_path, num_class=7, num_head=2, device='cuda:0'):\n",
    "#     # Initialize model\n",
    "#     model = DDAMNet(num_class=num_class, num_head=num_head)\n",
    "#     model = model.to(device)\n",
    "    \n",
    "#     # Load checkpoint\n",
    "#     if not os.path.exists(checkpoint_path):\n",
    "#         raise FileNotFoundError(f\"Checkpoint file {checkpoint_path} not found\")\n",
    "        \n",
    "#     checkpoint = torch.load(checkpoint_path, map_location=device)\n",
    "#     model.load_state_dict(checkpoint['model_state_dict'])\n",
    "#     model.eval()\n",
    "    \n",
    "#     return model\n",
    "\n",
    "# def process_image(image_path, model, device='cuda:0'):\n",
    "#     # Define transformations (match validation transforms)\n",
    "#     transform = transforms.Compose([\n",
    "#         transforms.Resize((112, 112)),\n",
    "#         transforms.Grayscale(num_output_channels=3),\n",
    "#         transforms.ToTensor(),\n",
    "#         transforms.Normalize(mean=[0.485, 0.456, 0.406],\n",
    "#                              std=[0.229, 0.224, 0.225])\n",
    "#     ])\n",
    "    \n",
    "#     # Load and preprocess image\n",
    "#     img = Image.open(image_path).convert('RGB')\n",
    "#     input_tensor = transform(img).unsqueeze(0).to(device)  # Add batch dimension\n",
    "    \n",
    "#     # Make prediction\n",
    "#     with torch.no_grad():\n",
    "#         outputs, _, _ = model(input_tensor)\n",
    "#         probabilities = torch.nn.functional.softmax(outputs[0], dim=0)\n",
    "#         _, predicted_idx = torch.max(outputs, 1)\n",
    "    \n",
    "#     return {\n",
    "#         'class_index': predicted_idx.item(),\n",
    "#         'class_label': class_names[predicted_idx.item()],\n",
    "#         'probabilities': probabilities.cpu().numpy()\n",
    "#     }\n",
    "\n",
    "\n",
    "# # Configuration (modify as needed)\n",
    "# checkpoint_path = \"TrainedModels/DDAMFN_DatasetFER_ResEmoteNet_Batch32_LR0.0005_Epochs10.pth\"\n",
    "# image_path = \"C:\\MastersRepos\\Deep-Learning-For-Computer-Vision\\Models\\DDAMFN++\\Datasets\\FER_ResEmoteNet\\\\test\\\\test_28713_happy.jpg\"\n",
    "# # class_names = ['Happy', 'Surprised', 'Sad', 'Angry', 'Disgusted', 'Fear'] #JAFFE\n",
    "# class_names = ['Angry', 'Disgust', 'Fear', 'Happy', 'Sad', 'Surprise', 'Neutral'] #FER\n",
    "\n",
    "# # Load model\n",
    "# device = torch.device(\"cuda:0\" if torch.cuda.is_available() else \"cpu\")\n",
    "# model = load_model(checkpoint_path, num_class=7, device=device)\n",
    "\n",
    "# # Process image\n",
    "# result = process_image(image_path, model, device)\n",
    "\n",
    "# print(f\"Predicted class: {result['class_label']}\")\n",
    "# print(\"Class probabilities:\")\n",
    "# for cls, prob in zip(class_names, result['probabilities']):\n",
    "#     print(f\"{cls}: {prob:.4f}\")"
   ]
  }
 ],
 "metadata": {
  "kernelspec": {
   "display_name": ".venv",
   "language": "python",
   "name": "python3"
  },
  "language_info": {
   "codemirror_mode": {
    "name": "ipython",
    "version": 3
   },
   "file_extension": ".py",
   "mimetype": "text/x-python",
   "name": "python",
   "nbconvert_exporter": "python",
   "pygments_lexer": "ipython3",
   "version": "3.10.8"
  }
 },
 "nbformat": 4,
 "nbformat_minor": 2
}
