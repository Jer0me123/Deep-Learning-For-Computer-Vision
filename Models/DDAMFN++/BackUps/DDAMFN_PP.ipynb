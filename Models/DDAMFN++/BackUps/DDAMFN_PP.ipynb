{
 "cells": [
  {
   "cell_type": "code",
   "execution_count": 1,
   "metadata": {},
   "outputs": [],
   "source": [
    "# !pip3 install --pre torch torchvision torchaudio --index-url https://download.pytorch.org/whl/nightly/cu128\n",
    "# !pip install tqdm\n",
    "# !pip install scikit-learn\n",
    "# !pip install matplotlib"
   ]
  },
  {
   "cell_type": "markdown",
   "metadata": {},
   "source": [
    "### LINK: https://github.com/SainingZhang/DDAMFN"
   ]
  },
  {
   "cell_type": "markdown",
   "metadata": {},
   "source": [
    "### Mixed Feature Network"
   ]
  },
  {
   "cell_type": "code",
   "execution_count": 2,
   "metadata": {},
   "outputs": [],
   "source": [
    "from torch.nn import Linear, Conv2d, BatchNorm1d, BatchNorm2d, PReLU, Sequential, Module\n",
    "import torch\n",
    "import torch.nn as nn\n",
    "class Flatten(Module):\n",
    "    def forward(self, input):\n",
    "        return input.view(input.size(0), -1)\n",
    "\n",
    "def l2_norm(input,axis=1):\n",
    "    norm = torch.norm(input,2,axis,True)\n",
    "    output = torch.div(input, norm)\n",
    "    return output\n",
    "\n",
    "class Conv_block(Module):\n",
    "    def __init__(self, in_c, out_c, kernel=(1, 1), stride=(1, 1), padding=(0, 0), groups=1):\n",
    "        super(Conv_block, self).__init__()\n",
    "        self.conv = Conv2d(in_c, out_channels=out_c, kernel_size=kernel, groups=groups, stride=stride, padding=padding, bias=False)\n",
    "        self.bn = BatchNorm2d(out_c)\n",
    "        self.prelu = PReLU(out_c)\n",
    "    def forward(self, x):\n",
    "        x = self.conv(x)\n",
    "        x = self.bn(x)\n",
    "        x = self.prelu(x)\n",
    "        return x\n",
    "\n",
    "class Linear_block(Module):\n",
    "    def __init__(self, in_c, out_c, kernel=(1, 1), stride=(1, 1), padding=(0, 0), groups=1):\n",
    "        super(Linear_block, self).__init__()\n",
    "        self.conv = Conv2d(in_c, out_channels=out_c, kernel_size=kernel, groups=groups, stride=stride, padding=padding, bias=False)\n",
    "        self.bn = BatchNorm2d(out_c)\n",
    "    def forward(self, x):\n",
    "        x = self.conv(x)\n",
    "        x = self.bn(x)\n",
    "        return x\n",
    "\n",
    "class Depth_Wise(Module):\n",
    "     def __init__(self, in_c, out_c, residual = False, kernel=(3, 3), stride=(2, 2), padding=(1, 1), groups=1):\n",
    "        super(Depth_Wise, self).__init__()\n",
    "        self.conv = Conv_block(in_c, out_c=groups, kernel=(1, 1), padding=(0, 0), stride=(1, 1))\n",
    "        self.conv_dw = Conv_block(groups, groups, groups=groups, kernel=kernel, padding=padding, stride=stride)\n",
    "        self.project = Linear_block(groups, out_c, kernel=(1, 1), padding=(0, 0), stride=(1, 1))\n",
    "        self.residual = residual\n",
    "     def forward(self, x):\n",
    "        if self.residual:\n",
    "            short_cut = x\n",
    "        x = self.conv(x)\n",
    "        x = self.conv_dw(x)\n",
    "        x = self.project(x)\n",
    "        if self.residual:\n",
    "            output = short_cut + x\n",
    "        else:\n",
    "            output = x\n",
    "        return output\n",
    "  \n",
    "\n",
    "class Swish(nn.Module):\n",
    "    def __init__(self):\n",
    "        super(Swish, self).__init__()\n",
    "\n",
    "        self.sigmoid = nn.Sigmoid()\n",
    "\n",
    "    def forward(self, x):\n",
    "        return x * self.sigmoid(x)\n",
    "\n",
    "NON_LINEARITY = {\n",
    "    'ReLU': nn.ReLU(inplace=True),\n",
    "    'Swish': Swish(),\n",
    "}        \n",
    "\n",
    "\n",
    "class h_sigmoid(nn.Module):\n",
    "    def __init__(self, inplace=True):\n",
    "        super(h_sigmoid, self).__init__()\n",
    "        self.relu = nn.ReLU6(inplace=inplace)\n",
    "\n",
    "    def forward(self, x):\n",
    "        return self.relu(x + 3) / 6\n",
    "\n",
    "class h_swish(nn.Module):\n",
    "    def __init__(self, inplace=True):\n",
    "        super(h_swish, self).__init__()\n",
    "        self.sigmoid = h_sigmoid(inplace=inplace)\n",
    "\n",
    "    def forward(self, x):\n",
    "        return x * self.sigmoid(x)\n",
    "\n",
    "class swish(nn.Module):\n",
    "    def forward(self, x):\n",
    "        return x * torch.sigmoid(x)\n",
    "    \n",
    "class CoordAtt(nn.Module):\n",
    "    def __init__(self, inp, oup, groups=32):\n",
    "        super(CoordAtt, self).__init__()\n",
    "        self.pool_h = nn.AdaptiveAvgPool2d((None, 1))\n",
    "        self.pool_w = nn.AdaptiveAvgPool2d((1, None))\n",
    "\n",
    "        mip = max(8, inp // groups)\n",
    "\n",
    "        self.conv1 = nn.Conv2d(inp, mip, kernel_size=1, stride=1, padding=0)\n",
    "        self.bn1 = nn.BatchNorm2d(mip)\n",
    "        self.conv2 = nn.Conv2d(mip, oup, kernel_size=1, stride=1, padding=0)\n",
    "        self.conv3 = nn.Conv2d(mip, oup, kernel_size=1, stride=1, padding=0)\n",
    "        self.relu = h_swish()\n",
    "\n",
    "    def forward(self, x):\n",
    "        identity = x\n",
    "        n,c,h,w = x.size()\n",
    "        x_h = self.pool_h(x)\n",
    "        x_w = self.pool_w(x).permute(0, 1, 3, 2)\n",
    "\n",
    "        y = torch.cat([x_h, x_w], dim=2)\n",
    "        y = self.conv1(y)\n",
    "        y = self.bn1(y)\n",
    "        y = self.relu(y) \n",
    "        x_h, x_w = torch.split(y, [h, w], dim=2)\n",
    "        x_w = x_w.permute(0, 1, 3, 2)\n",
    "\n",
    "        x_h = self.conv2(x_h).sigmoid()\n",
    "        x_w = self.conv3(x_w).sigmoid()\n",
    "        x_h = x_h.expand(-1, -1, h, w)\n",
    "        x_w = x_w.expand(-1, -1, h, w)\n",
    "\n",
    "        y = identity * x_w * x_h\n",
    "\n",
    "        return y\n",
    "\n",
    "        \n",
    "class MDConv(Module):\n",
    "    def __init__(self, channels, kernel_size, split_out_channels, stride):\n",
    "        super(MDConv, self).__init__()\n",
    "        self.num_groups = len(kernel_size)\n",
    "        self.split_channels = split_out_channels\n",
    "        self.mixed_depthwise_conv = nn.ModuleList()\n",
    "        for i in range(self.num_groups):\n",
    "            self.mixed_depthwise_conv.append(Conv2d(\n",
    "                self.split_channels[i],\n",
    "                self.split_channels[i],\n",
    "                kernel_size[i],\n",
    "                stride=stride,\n",
    "                padding=kernel_size[i]//2,\n",
    "                groups=self.split_channels[i],\n",
    "                bias=False\n",
    "            ))\n",
    "        self.bn = BatchNorm2d(channels)\n",
    "        self.prelu = PReLU(channels)            \n",
    "       \n",
    "    def forward(self, x):\n",
    "        if self.num_groups == 1:\n",
    "            return self.mixed_depthwise_conv[0](x)\n",
    "\n",
    "        x_split = torch.split(x, self.split_channels, dim=1)\n",
    "        x = [conv(t) for conv, t in zip(self.mixed_depthwise_conv, x_split)]\n",
    "        x = torch.cat(x, dim=1)\n",
    "\n",
    "        return x        \n",
    "      \n",
    "        \n",
    "class Mix_Depth_Wise(Module):\n",
    "     def __init__(self, in_c, out_c, residual = False, kernel=(3, 3), stride=(2, 2), padding=(1, 1), groups=1, kernel_size=[3,5,7], split_out_channels=[64,32,32]):\n",
    "        super(Mix_Depth_Wise, self).__init__()\n",
    "        self.conv = Conv_block(in_c, out_c=groups, kernel=(1, 1), padding=(0, 0), stride=(1, 1))\n",
    "        self.conv_dw = MDConv(channels=groups, kernel_size=kernel_size, split_out_channels=split_out_channels, stride=stride)\n",
    "        self.CA = CoordAtt(groups, groups)\n",
    "        self.project = Linear_block(groups, out_c, kernel=(1, 1), padding=(0, 0), stride=(1, 1))\n",
    "        self.residual = residual\n",
    "     def forward(self, x):\n",
    "        if self.residual:\n",
    "            short_cut = x\n",
    "        x = self.conv(x)\n",
    "        x = self.conv_dw(x)\n",
    "        x = self.CA(x)\n",
    "        x = self.project(x)\n",
    "        if self.residual:\n",
    "            output = short_cut + x\n",
    "        else:\n",
    "            output = x\n",
    "        return output\n",
    "          \n",
    "class Residual(Module):\n",
    "    def __init__(self, c, num_block, groups, kernel=(3, 3), stride=(1, 1), padding=(1, 1)):\n",
    "        super(Residual, self).__init__()\n",
    "        modules = []\n",
    "        for _ in range(num_block):\n",
    "            modules.append(Depth_Wise(c, c, residual=True, kernel=kernel, padding=padding, stride=stride, groups=groups))\n",
    "        self.model = Sequential(*modules)\n",
    "    def forward(self, x):\n",
    "        return self.model(x)\n",
    "        \n",
    "class Mix_Residual(Module):\n",
    "    def __init__(self, c, num_block, groups, kernel=(3, 3), stride=(1, 1), padding=(1, 1), kernel_size=[3,5], split_out_channels=[64,64]):\n",
    "        super(Mix_Residual, self).__init__()\n",
    "        modules = []\n",
    "        for _ in range(num_block):\n",
    "            modules.append(Mix_Depth_Wise(c, c, residual=True, kernel=kernel, padding=padding, stride=stride, groups=groups, kernel_size=kernel_size, split_out_channels=split_out_channels ))\n",
    "        self.model = Sequential(*modules)\n",
    "    def forward(self, x):\n",
    "        return self.model(x)\n",
    "        \n",
    "\n",
    "class MixedFeatureNet(Module):\n",
    "    def __init__(self, embedding_size=256, out_h=7, out_w=7):\n",
    "        super(MixedFeatureNet, self).__init__()\n",
    "        #112x112\n",
    "        self.conv1 = Conv_block(3, 64, kernel=(3, 3), stride=(2, 2), padding=(1, 1))\n",
    "        #56x56\n",
    "        self.conv2_dw = Conv_block(64, 64, kernel=(3, 3), stride=(1, 1), padding=(1, 1), groups=64)\n",
    "        self.conv_23 = Mix_Depth_Wise(64, 64, kernel=(3, 3), stride=(2, 2), padding=(1, 1), groups=128, kernel_size=[3,5,7], split_out_channels=[64,32,32] )\n",
    "        \n",
    "        #28x28\n",
    "        self.conv_3 = Mix_Residual(64, num_block=9, groups=128, kernel=(3, 3), stride=(1, 1), padding=(1, 1), kernel_size=[3,5], split_out_channels=[96,32])\n",
    "        self.conv_34 = Mix_Depth_Wise(64, 128, kernel=(3, 3), stride=(2, 2), padding=(1, 1), groups=256, kernel_size=[3,5,7],split_out_channels=[128,64,64] )\n",
    "        \n",
    "        #14x14\n",
    "        self.conv_4 = Mix_Residual(128, num_block=16, groups=256, kernel=(3, 3), stride=(1, 1), padding=(1, 1), kernel_size=[3,5], split_out_channels=[192,64])\n",
    "        self.conv_45 = Mix_Depth_Wise(128, 256, kernel=(3, 3), stride=(2, 2), padding=(1, 1), groups=512*2, kernel_size=[3,5,7,9],split_out_channels=[128*2,128*2,128*2,128*2] )\n",
    "        #7x7\n",
    "        self.conv_5 = Mix_Residual(256, num_block=6, groups=512, kernel=(3, 3), stride=(1, 1), padding=(1, 1), kernel_size=[3,5,7], split_out_channels=[86*2,85*2,85*2])                \n",
    "        self.conv_6_sep = Conv_block(256, 512, kernel=(1, 1), stride=(1, 1), padding=(0, 0))\n",
    "        self.conv_6_dw = Linear_block(512, 512, groups=512, kernel=(out_h, out_w), stride=(1, 1), padding=(0, 0))\n",
    "        self.conv_6_flatten = Flatten()\n",
    "        self.linear = Linear(512, embedding_size, bias=False)\n",
    "        self.bn = BatchNorm1d(embedding_size)\n",
    "    \n",
    "    def forward(self, x):\n",
    "        out = self.conv1(x)\n",
    "        out = self.conv2_dw(out)\n",
    "        out = self.conv_23(out)\n",
    "        out = self.conv_3(out)\n",
    "        out = self.conv_34(out)\n",
    "        out = self.conv_4(out)\n",
    "        out = self.conv_45(out)\n",
    "        out = self.conv_5(out)\n",
    "        out = self.conv_6_sep(out)\n",
    "        out = self.conv_6_dw(out)\n",
    "        out = self.conv_6_flatten(out)\n",
    "        out = self.linear(out)\n",
    "        out = self.bn(out)\n",
    "\n",
    "        return l2_norm(out)"
   ]
  },
  {
   "cell_type": "markdown",
   "metadata": {},
   "source": [
    "### DDAMFN++ Network"
   ]
  },
  {
   "cell_type": "code",
   "execution_count": 3,
   "metadata": {},
   "outputs": [],
   "source": [
    "from torch import nn\n",
    "import torch\n",
    "# from networks import MixedFeatureNet\n",
    "from torch.nn import Module\n",
    "import os\n",
    "class Linear_block(Module):\n",
    "    def __init__(self, in_c, out_c, kernel=(1, 1), stride=(1, 1), padding=(0, 0), groups=1):\n",
    "        super(Linear_block, self).__init__()\n",
    "        self.conv = nn.Conv2d(in_c, out_channels=out_c, kernel_size=kernel, groups=groups, stride=stride, padding=padding, bias=False)\n",
    "        self.bn = nn.BatchNorm2d(out_c)\n",
    "    def forward(self, x):\n",
    "        x = self.conv(x)\n",
    "        x = self.bn(x)\n",
    "        return x\n",
    "\n",
    "class Flatten(Module):\n",
    "    def forward(self, input):\n",
    "        return input.view(input.size(0), -1)\n",
    "        \n",
    "class DDAMNet(nn.Module):\n",
    "    def __init__(self, num_class=7,num_head=2, pretrained=True):\n",
    "        super(DDAMNet, self).__init__()\n",
    "\n",
    "        # net = MixedFeatureNet.MixedFeatureNet()\n",
    "        net = MixedFeatureNet()\n",
    "                \n",
    "        if pretrained:\n",
    "            net = torch.load(os.path.join('./pretrained/', \"MFN_msceleb.pth\"), weights_only=False)       \n",
    "      \n",
    "        self.features = nn.Sequential(*list(net.children())[:-4])\n",
    "        self.num_head = num_head\n",
    "        for i in range(int(num_head)):\n",
    "            setattr(self,\"cat_head%d\" %(i), CoordAttHead())                  \n",
    "      \n",
    "        self.Linear = Linear_block(512, 512, groups=512, kernel=(7, 7), stride=(1, 1), padding=(0, 0))\n",
    "        self.flatten = Flatten()      \n",
    "        self.fc = nn.Linear(512, num_class)\n",
    "        self.bn = nn.BatchNorm1d(num_class)\n",
    "        \n",
    "    def forward(self, x):\n",
    "        x = self.features(x)\n",
    "        heads = []\n",
    "       \n",
    "        for i in range(self.num_head):\n",
    "            heads.append(getattr(self,\"cat_head%d\" %i)(x))\n",
    "        head_out =heads\n",
    "        \n",
    "        y = heads[0]\n",
    "        \n",
    "        for i in range(1,self.num_head):\n",
    "            y = torch.max(y,heads[i])                     \n",
    "        \n",
    "        y = x*y\n",
    "        y = self.Linear(y)\n",
    "        y = self.flatten(y) \n",
    "        out = self.fc(y)        \n",
    "        return out, x, head_out\n",
    "        \n",
    "class h_sigmoid(nn.Module):\n",
    "    def __init__(self, inplace=True):\n",
    "        super(h_sigmoid, self).__init__()\n",
    "        self.relu = nn.ReLU6(inplace=inplace)\n",
    "    def forward(self, x):\n",
    "        return self.relu(x + 3) / 6\n",
    "                      \n",
    "class h_swish(nn.Module):\n",
    "    def __init__(self, inplace=True):\n",
    "        super(h_swish, self).__init__()\n",
    "        self.sigmoid = h_sigmoid(inplace=inplace)\n",
    "    def forward(self, x):\n",
    "        return x * self.sigmoid(x)\n",
    "\n",
    "class CoordAttHead(nn.Module):\n",
    "    def __init__(self):\n",
    "        super().__init__()\n",
    "        self.CoordAtt = CoordAtt(512,512)\n",
    "    def forward(self, x):\n",
    "        ca = self.CoordAtt(x)\n",
    "        return ca  \n",
    "        \n",
    "class CoordAtt(nn.Module):\n",
    "    def __init__(self, inp, oup, groups=32):\n",
    "        super(CoordAtt, self).__init__()\n",
    "      \n",
    "        self.Linear_h = Linear_block(inp, inp, groups=inp, kernel=(1, 7), stride=(1, 1), padding=(0, 0))        \n",
    "        self.Linear_w = Linear_block(inp, inp, groups=inp, kernel=(7, 1), stride=(1, 1), padding=(0, 0))\n",
    "        \n",
    "        mip = max(8, inp // groups)\n",
    "\n",
    "        self.conv1 = nn.Conv2d(inp, mip, kernel_size=1, stride=1, padding=0)\n",
    "        self.bn1 = nn.BatchNorm2d(mip)\n",
    "        self.conv2 = nn.Conv2d(mip, oup, kernel_size=1, stride=1, padding=0)\n",
    "        self.conv3 = nn.Conv2d(mip, oup, kernel_size=1, stride=1, padding=0)\n",
    "        self.relu = h_swish()\n",
    "        self.Linear = Linear_block(oup, oup, groups=oup, kernel=(7, 7), stride=(1, 1), padding=(0, 0))\n",
    "        self.flatten = Flatten() \n",
    "\n",
    "    def forward(self, x):\n",
    "        identity = x\n",
    "        n,c,h,w = x.size()\n",
    "        x_h = self.Linear_h(x)\n",
    "        x_w = self.Linear_w(x)\n",
    "        x_w = x_w.permute(0, 1, 3, 2)\n",
    "\n",
    "        y = torch.cat([x_h, x_w], dim=2)\n",
    "        y = self.conv1(y)\n",
    "        y = self.bn1(y)\n",
    "        y = self.relu(y) \n",
    "        x_h, x_w = torch.split(y, [h, w], dim=2)\n",
    "        x_w = x_w.permute(0, 1, 3, 2)\n",
    "\n",
    "        x_h = self.conv2(x_h).sigmoid()\n",
    "        x_w = self.conv3(x_w).sigmoid()\n",
    "        x_h = x_h.expand(-1, -1, h, w)\n",
    "        x_w = x_w.expand(-1, -1, h, w)\n",
    "        \n",
    "        y = x_w * x_h\n",
    " \n",
    "        return y"
   ]
  },
  {
   "cell_type": "markdown",
   "metadata": {},
   "source": [
    "### SAM Class"
   ]
  },
  {
   "cell_type": "code",
   "execution_count": 4,
   "metadata": {},
   "outputs": [],
   "source": [
    "import torch\n",
    "\n",
    "\n",
    "class SAM(torch.optim.Optimizer):\n",
    "    def __init__(self, params, base_optimizer, rho=0.05, adaptive=False, **kwargs):\n",
    "        assert rho >= 0.0, f\"Invalid rho, should be non-negative: {rho}\"\n",
    "\n",
    "        defaults = dict(rho=rho, adaptive=adaptive, **kwargs)\n",
    "        super(SAM, self).__init__(params, defaults)\n",
    "\n",
    "        self.base_optimizer = base_optimizer(self.param_groups, **kwargs)\n",
    "        self.param_groups = self.base_optimizer.param_groups\n",
    "\n",
    "    @torch.no_grad()\n",
    "    def first_step(self, zero_grad=False):\n",
    "        grad_norm = self._grad_norm()\n",
    "        for group in self.param_groups:\n",
    "            scale = group[\"rho\"] / (grad_norm + 1e-12)\n",
    "\n",
    "            for p in group[\"params\"]:\n",
    "                if p.grad is None: continue\n",
    "                self.state[p][\"old_p\"] = p.data.clone()\n",
    "                e_w = (torch.pow(p, 2) if group[\"adaptive\"] else 1.0) * p.grad * scale.to(p)\n",
    "                p.add_(e_w)  # climb to the local maximum \"w + e(w)\"\n",
    "\n",
    "        if zero_grad: self.zero_grad()\n",
    "\n",
    "    @torch.no_grad()\n",
    "    def second_step(self, zero_grad=False):\n",
    "        for group in self.param_groups:\n",
    "            for p in group[\"params\"]:\n",
    "                if p.grad is None: continue\n",
    "                p.data = self.state[p][\"old_p\"]  # get back to \"w\" from \"w + e(w)\"\n",
    "\n",
    "        self.base_optimizer.step()  # do the actual \"sharpness-aware\" update\n",
    "\n",
    "        if zero_grad: self.zero_grad()\n",
    "\n",
    "    @torch.no_grad()\n",
    "    def step(self, closure=None):\n",
    "        assert closure is not None, \"Sharpness Aware Minimization requires closure, but it was not provided\"\n",
    "        closure = torch.enable_grad()(closure)  # the closure should do a full forward-backward pass\n",
    "\n",
    "        self.first_step(zero_grad=True)\n",
    "        closure()\n",
    "        self.second_step()\n",
    "\n",
    "    def _grad_norm(self):\n",
    "        shared_device = self.param_groups[0][\"params\"][0].device  # put everything on the same device, in case of model parallelism\n",
    "        norm = torch.norm(\n",
    "                    torch.stack([\n",
    "                        ((torch.abs(p) if group[\"adaptive\"] else 1.0) * p.grad).norm(p=2).to(shared_device)\n",
    "                        for group in self.param_groups for p in group[\"params\"]\n",
    "                        if p.grad is not None\n",
    "                    ]),\n",
    "                    p=2\n",
    "               )\n",
    "        return norm\n",
    "\n",
    "    def load_state_dict(self, state_dict):\n",
    "        super().load_state_dict(state_dict)\n",
    "        self.base_optimizer.param_groups = self.param_groups"
   ]
  },
  {
   "cell_type": "markdown",
   "metadata": {},
   "source": [
    "### DDAMFN++ Training"
   ]
  },
  {
   "cell_type": "code",
   "execution_count": 8,
   "metadata": {},
   "outputs": [],
   "source": [
    "# import os\n",
    "# import sys\n",
    "# from tqdm import tqdm\n",
    "# import argparse\n",
    "# import numpy as np\n",
    "\n",
    "# import torch\n",
    "# import torch.nn as nn\n",
    "# import torch.utils.data as data\n",
    "# from torchvision import transforms, datasets\n",
    "\n",
    "# from sklearn.metrics import balanced_accuracy_score\n",
    "# import matplotlib.pyplot as plt\n",
    "# import itertools\n",
    "# import torch.nn.functional as F\n",
    "# # from networks.DDAM import DDAMNet\n",
    "\n",
    "# from sklearn.metrics import confusion_matrix\n",
    "# # from sam import SAM\n",
    "# eps = sys.float_info.epsilon\n",
    "\n",
    "# # def parse_args():\n",
    "# #     parser = argparse.ArgumentParser()\n",
    "# #     parser.add_argument('--raf_path', type=str, default='./data/fer_112_112_v2.0/rafdb/', help='Raf-DB dataset path.')\n",
    "# #     parser.add_argument('--batch_size', type=int, default=128, help='Batch size.')\n",
    "# #     parser.add_argument('--lr', type=float, default=5e-4, help='Initial learning rate for sgd.')\n",
    "# #     parser.add_argument('--workers', default=16, type=int, help='Number of data loading workers.')\n",
    "# #     parser.add_argument('--epochs', type=int, default=60, help='Total training epochs.')\n",
    "# #     parser.add_argument('--num_head', type=int, default=2, help='Number of attention head.')\n",
    "# #     return parser.parse_args()\n",
    "\n",
    "# class AttentionLoss(nn.Module):\n",
    "#     def __init__(self, ):\n",
    "#         super(AttentionLoss, self).__init__()\n",
    "    \n",
    "#     def forward(self, x):\n",
    "#         num_head = len(x)\n",
    "#         loss = 0\n",
    "#         cnt = 0\n",
    "#         if num_head > 1:\n",
    "#             for i in range(num_head-1):\n",
    "#                 for j in range(i+1, num_head):\n",
    "#                     mse = F.mse_loss(x[i], x[j])\n",
    "#                     cnt = cnt+1\n",
    "#                     loss = loss+mse\n",
    "#             loss = cnt/(loss + eps)\n",
    "#         else:\n",
    "#             loss = 0\n",
    "#         return loss     \n",
    "                \n",
    "# # def plot_confusion_matrix(cm, classes,\n",
    "# #                           normalize=False,\n",
    "# #                           title='Confusion matrix',\n",
    "# #                           cmap=plt.cm.Blues):\n",
    "# #     \"\"\"\n",
    "# #     This function prints and plots the confusion matrix.\n",
    "# #     Normalization can be applied by setting `normalize=True`.\n",
    "# #     \"\"\"\n",
    "# #     if normalize:\n",
    "# #         cm = cm.astype('float') / cm.sum(axis=1)[:, np.newaxis]\n",
    "# #         print(\"Normalized confusion matrix\")\n",
    "# #     else:\n",
    "# #         print('Confusion matrix, without normalization')\n",
    "\n",
    "# #     print(cm)\n",
    "\n",
    "# #     plt.imshow(cm, interpolation='nearest', cmap=cmap)\n",
    "# #     plt.title(title, fontsize=16)\n",
    "# #     plt.colorbar()\n",
    "# #     tick_marks = np.arange(len(classes))\n",
    "# #     plt.xticks(tick_marks, classes, rotation=45)\n",
    "# #     plt.yticks(tick_marks, classes)\n",
    "\n",
    "# #     fmt = '.2f' if normalize else 'd'\n",
    "    \n",
    "# #     thresh = cm.max() / 2.\n",
    "# #     for i, j in itertools.product(range(cm.shape[0]), range(cm.shape[1])):\n",
    "# #         plt.text(j, i, format(cm[i, j]*100, fmt)+'%',\n",
    "# #                  horizontalalignment=\"center\",\n",
    "# #                  color=\"white\" if cm[i, j] > thresh else \"black\")\n",
    "\n",
    "# #     plt.ylabel('Actual', fontsize=18)\n",
    "# #     plt.xlabel('Predicted', fontsize=18)\n",
    "# #     plt.tight_layout()\n",
    "\n",
    "# # class_names = ['Neutral', 'Happy', 'Sad', 'Surprise', 'Fear', 'Disgust', 'Angry']  \n",
    "# class_names = ['Angry', 'Disgust', 'Fear', 'Happy', 'Sad', 'Surprise', 'Neutral'] #FER\n",
    "\n",
    "# def run_training(class_count=7, num_head=2, raf_path='./data/fer_112_112_v2.0/rafdb/', batch_size=128, lr=5e-4, workers=16, epochs=60):\n",
    "#     # args = parse_args()\n",
    "#     device = torch.device(\"cuda:0\" if torch.cuda.is_available() else \"cpu\")\n",
    "#     print(device)\n",
    "\n",
    "#     if torch.cuda.is_available():\n",
    "#         torch.backends.cudnn.benchmark = True\n",
    "#         torch.backends.cudnn.deterministic = True\n",
    "#         torch.backends.cudnn.enabled = True\n",
    "\n",
    "#     # model = DDAMNet(num_class=class_count,num_head=args.num_head)\n",
    "#     model = DDAMNet(num_class=class_count,num_head=num_head)\n",
    "#     model.to(device)\n",
    "\n",
    "#     data_transforms = transforms.Compose([\n",
    "#         transforms.Resize((112, 112)),\n",
    "#         transforms.RandomHorizontalFlip(),\n",
    "#         transforms.RandomApply([\n",
    "#                 transforms.RandomRotation(5),\n",
    "#                 transforms.RandomCrop(112, padding=8)\n",
    "#   #          ], p=0.2),\n",
    "#             ], p=0.5),\n",
    "#         transforms.ToTensor(),\n",
    "#         transforms.Normalize(mean=[0.485, 0.456, 0.406],\n",
    "#                                  std=[0.229, 0.224, 0.225]),\n",
    "#         transforms.RandomErasing(scale=(0.02,0.25)),\n",
    "#         ])   \n",
    "\n",
    "#     # train_dataset = datasets.ImageFolder(f'{args.raf_path}/train', transform = data_transforms)   \n",
    "#     train_dataset = datasets.ImageFolder(f'{raf_path}/train', transform = data_transforms)   \n",
    "    \n",
    "#     print('Whole train set size:', train_dataset.__len__())\n",
    "\n",
    "#     # train_loader = torch.utils.data.DataLoader(train_dataset,\n",
    "#     #                                            batch_size = args.batch_size,\n",
    "#     #                                            num_workers = args.workers,\n",
    "#     #                                            shuffle = True,  \n",
    "#     #                                            pin_memory = True)\n",
    "\n",
    "#     train_loader = torch.utils.data.DataLoader(train_dataset,\n",
    "#                                             batch_size = batch_size,\n",
    "#                                             num_workers = workers,\n",
    "#                                             shuffle = True,  \n",
    "#                                             pin_memory = True)\n",
    "\n",
    "#     data_transforms_val = transforms.Compose([\n",
    "#         transforms.Resize((112, 112)),\n",
    "#         transforms.ToTensor(),\n",
    "#         transforms.Normalize(mean=[0.485, 0.456, 0.406],\n",
    "#                                  std=[0.229, 0.224, 0.225])])   \n",
    "  \n",
    "#     # val_dataset = datasets.ImageFolder(f'{args.raf_path}/val', transform = data_transforms_val)\n",
    "#     val_dataset = datasets.ImageFolder(f'{raf_path}/validation', transform = data_transforms_val)        \n",
    "\n",
    "#     print('Validation set size:', val_dataset.__len__())\n",
    "    \n",
    "#     # val_loader = torch.utils.data.DataLoader(val_dataset,\n",
    "#     #                                            batch_size = args.batch_size,\n",
    "#     #                                            num_workers = args.workers,\n",
    "#     #                                            shuffle = False,  \n",
    "#     #                                            pin_memory = True)\n",
    "\n",
    "#     val_loader = torch.utils.data.DataLoader(val_dataset,\n",
    "#                                             batch_size = batch_size,\n",
    "#                                             num_workers = workers,\n",
    "#                                             shuffle = False,  \n",
    "#                                             pin_memory = True)\n",
    "\n",
    "#     criterion_cls = torch.nn.CrossEntropyLoss()\n",
    "\n",
    "#     criterion_at = AttentionLoss()\n",
    "\n",
    "#     params = list(model.parameters()) \n",
    "#     # #optimizer = torch.optim.SGD(params,lr=args.lr, weight_decay = 1e-4, momentum=0.9)\n",
    "#     # # scheduler = torch.optim.lr_scheduler.StepLR(optimizer, step_size=10, gamma=0.1)\n",
    "#     # optimizer = SAM(model.parameters(), torch.optim.Adam, lr=args.lr, rho=0.05, adaptive=False, )\n",
    "#     optimizer = SAM(model.parameters(), torch.optim.Adam, lr=lr, rho=0.05, adaptive=False)\n",
    "\n",
    "#     scheduler = torch.optim.lr_scheduler.ExponentialLR(optimizer, gamma=0.9)\n",
    "\n",
    "#     best_acc = 0\n",
    "#     # for epoch in tqdm(range(1, args.epochs + 1)):\n",
    "#     # for epoch in tqdm(range(1, epochs + 1)):\n",
    "#     for epoch in range(1, epochs + 1):\n",
    "#         running_loss = 0.0\n",
    "#         correct_sum = 0\n",
    "#         iter_cnt = 0\n",
    "#         model.train()\n",
    "\n",
    "#         train_progress = tqdm(total=len(train_dataset), desc=f\"Epoch {epoch} Training\", unit='img', leave=True) #---\n",
    "#         # for (imgs, targets) in train_loader:\n",
    "\n",
    "#         for imgs, targets in tqdm(train_loader, desc=f\"Epoch {epoch} Training\", leave=True):\n",
    "#             if iter_cnt % 100 == 0:\n",
    "#                 print(iter_cnt)\n",
    "#             iter_cnt += 1\n",
    "#             optimizer.zero_grad()\n",
    "\n",
    "#             imgs = imgs.to(device)\n",
    "#             targets = targets.to(device)\n",
    "            \n",
    "#             out,feat,heads = model(imgs)\n",
    "            \n",
    "#             loss = criterion_cls(out,targets) + 0.1*criterion_at(heads)  \n",
    "\n",
    "#             loss.backward()\n",
    "#             optimizer.first_step(zero_grad=True)\n",
    "            \n",
    "#             imgs = imgs.to(device)\n",
    "#             targets = targets.to(device)\n",
    "            \n",
    "#             out,feat,heads = model(imgs)\n",
    "            \n",
    "#             loss = criterion_cls(out,targets) + 0.1*criterion_at(heads) \n",
    "            \n",
    "#             optimizer.zero_grad()\n",
    "#             loss.backward()\n",
    "#             optimizer.second_step(zero_grad=True)            \n",
    "                                    \n",
    "     \n",
    "            \n",
    "#             running_loss += loss\n",
    "#             _, predicts = torch.max(out, 1)\n",
    "#             correct_num = torch.eq(predicts, targets).sum()\n",
    "#             correct_sum += correct_num\n",
    "\n",
    "#             train_progress.update(len(imgs))  # Update progress by batch size\n",
    "#         train_progress.close()\n",
    "\n",
    "#         acc = correct_sum.float() / float(train_dataset.__len__())\n",
    "#         running_loss = running_loss/iter_cnt\n",
    "#         # tqdm.write('[Epoch %d] Training accuracy: %.4f. Loss: %.3f. LR %.6f' % (epoch, acc, running_loss,optimizer.param_groups[0]['lr']))\n",
    "        \n",
    "#         with torch.no_grad():\n",
    "#             running_loss = 0.0\n",
    "#             iter_cnt = 0\n",
    "#             bingo_cnt = 0\n",
    "#             sample_cnt = 0\n",
    "            \n",
    "#             ## for calculating balanced accuracy\n",
    "#             y_true = []\n",
    "#             y_pred = []\n",
    " \n",
    "#             model.eval()\n",
    "#             # for (imgs, targets) in val_loader:\n",
    "#             for imgs, targets in tqdm(val_loader, desc=f\"Epoch {epoch} Validation\", leave=False):\n",
    "#                 imgs = imgs.to(device)\n",
    "#                 targets = targets.to(device)\n",
    "                \n",
    "#                 out,feat,heads = model(imgs)\n",
    "#                 loss = criterion_cls(out,targets)+ 0.1*criterion_at(heads) \n",
    "\n",
    "#                 running_loss += loss\n",
    "\n",
    "#                 _, predicts = torch.max(out, 1)\n",
    "#                 correct_num  = torch.eq(predicts,targets)\n",
    "#                 bingo_cnt += correct_num.sum().cpu()\n",
    "#                 sample_cnt += imgs.size(0)\n",
    "                \n",
    "#                 y_true.append(targets.cpu().numpy())\n",
    "#                 y_pred.append(predicts.cpu().numpy())\n",
    "\n",
    "#                 if iter_cnt == 0:\n",
    "#                     all_predicted = predicts\n",
    "#                     all_targets = targets\n",
    "#                 else:\n",
    "#                     all_predicted = torch.cat((all_predicted, predicts),0)\n",
    "#                     all_targets = torch.cat((all_targets, targets),0)                  \n",
    "#                 iter_cnt+=1        \n",
    "#             running_loss = running_loss/iter_cnt   \n",
    "#             scheduler.step()\n",
    "\n",
    "#             acc = bingo_cnt.float()/float(sample_cnt)\n",
    "#             acc = np.around(acc.numpy(),4)\n",
    "#             best_acc = max(acc,best_acc)\n",
    "\n",
    "#             y_true = np.concatenate(y_true)\n",
    "#             y_pred = np.concatenate(y_pred)\n",
    "#             balanced_acc = np.around(balanced_accuracy_score(y_true, y_pred),4)\n",
    "\n",
    "#             # tqdm.write(\"[Epoch %d] Validation accuracy:%.4f. bacc:%.4f. Loss:%.3f\" % (epoch, acc, balanced_acc, running_loss))\n",
    "#             # tqdm.write(\"best_acc:\" + str(best_acc))\n",
    "\n",
    "#             # if acc > 0.91 and acc == best_acc:\n",
    "#             if acc == best_acc:\n",
    "#                 torch.save({'iter': epoch,\n",
    "#                             'model_state_dict': model.state_dict(),\n",
    "#                              'optimizer_state_dict': optimizer.state_dict(),},\n",
    "#                             os.path.join('TrainedModels', \"rafdb_epoch\"+str(epoch)+\"_acc\"+str(acc)+\"_bacc\"+str(balanced_acc)+\".pth\"))\n",
    "#                 tqdm.write('Model saved.')\n",
    "                \n",
    "#                 # Compute confusion matrix\n",
    "#                 matrix = confusion_matrix(all_targets.data.cpu().numpy(), all_predicted.cpu().numpy())\n",
    "#                 np.set_printoptions(precision=2)\n",
    "#                 plt.figure(figsize=(10, 8))\n",
    "#                 # Plot normalized confusion matrix\n",
    "#                 # plot_confusion_matrix(matrix, classes=class_names, normalize=True, title= 'RAF-DB Confusion Matrix (acc: %0.2f%%)' %(acc*100))\n",
    "                 \n",
    "#                 plt.savefig(os.path.join('TrainedModels', \"rafdb_epoch\"+str(epoch)+\"_acc\"+str(acc)+\"_bacc\"+str(balanced_acc)+\".png\"))\n",
    "#                 plt.close()"
   ]
  },
  {
   "cell_type": "code",
   "execution_count": 9,
   "metadata": {},
   "outputs": [],
   "source": [
    "import os\n",
    "import sys\n",
    "from tqdm import tqdm\n",
    "import argparse\n",
    "import numpy as np\n",
    "\n",
    "import torch\n",
    "import torch.nn as nn\n",
    "import torch.utils.data as data\n",
    "from torchvision import transforms, datasets\n",
    "\n",
    "from sklearn.metrics import balanced_accuracy_score\n",
    "import matplotlib.pyplot as plt\n",
    "import itertools\n",
    "import torch.nn.functional as F\n",
    "\n",
    "from sklearn.metrics import confusion_matrix\n",
    "from sklearn.utils.class_weight import compute_class_weight\n",
    "eps = sys.float_info.epsilon\n",
    "\n",
    "class AttentionLoss(nn.Module):\n",
    "    def __init__(self, ):\n",
    "        super(AttentionLoss, self).__init__()\n",
    "    \n",
    "    def forward(self, x):\n",
    "        num_head = len(x)\n",
    "        loss = 0\n",
    "        cnt = 0\n",
    "        if num_head > 1:\n",
    "            for i in range(num_head-1):\n",
    "                for j in range(i+1, num_head):\n",
    "                    mse = F.mse_loss(x[i], x[j])\n",
    "                    cnt = cnt+1\n",
    "                    loss = loss+mse\n",
    "            loss = cnt/(loss + eps)\n",
    "        else:\n",
    "            loss = 0\n",
    "        return loss     \n",
    " \n",
    "# class_names = ['Angry', 'Disgust', 'Fear', 'Happy', 'Sad', 'Surprise', 'Neutral'] #FER\n",
    "# class_names = ['Angry', 'Disgust', 'Fear', 'Happy', 'Sad', 'Surprise', 'Neutral', 'Contempt'] #AffectNEt\n",
    "\n",
    "\n",
    "# (data_directory, dataset_name, device, lr, batch_size, momentum, weight_decay, patience, num_epochs)\n",
    "# def TrainDDAMFN_PP(data_directory, device,   class_count=7, num_head=2, raf_path='./data/fer_112_112_v2.0/rafdb/', batch_size=128, lr=5e-4, workers=16, epochs=60):\n",
    "def TrainDDAMFN_PP(data_directory, dataset_name, device, lr=5e-4, batch_size=128, patience=15, num_epochs=60, num_head=2, workers=16):\n",
    "\n",
    "    if torch.cuda.is_available():\n",
    "        torch.backends.cudnn.benchmark = True\n",
    "        torch.backends.cudnn.deterministic = True\n",
    "        torch.backends.cudnn.enabled = True\n",
    "\n",
    "    data_transforms = transforms.Compose([\n",
    "        transforms.Resize((112, 112)),\n",
    "        transforms.RandomHorizontalFlip(),\n",
    "        transforms.RandomApply([\n",
    "                transforms.RandomRotation(5),\n",
    "                transforms.RandomCrop(112, padding=8)\n",
    "            ], p=0.5),\n",
    "        transforms.ToTensor(),\n",
    "        transforms.Normalize(mean=[0.485, 0.456, 0.406],\n",
    "                                 std=[0.229, 0.224, 0.225]),\n",
    "        transforms.RandomErasing(scale=(0.02,0.25)),\n",
    "        ])   \n",
    "\n",
    "    train_dataset = datasets.ImageFolder(f'{data_directory}/train', transform = data_transforms)   \n",
    "\n",
    "    train_loader = torch.utils.data.DataLoader(train_dataset,\n",
    "                                            batch_size = batch_size,\n",
    "                                            num_workers = workers,\n",
    "                                            shuffle = True,  \n",
    "                                            pin_memory = True,\n",
    "                                            drop_last=True)\n",
    "    \n",
    "    print('Whole train set size:', train_dataset.__len__())\n",
    "\n",
    "    data_transforms_val = transforms.Compose([\n",
    "        transforms.Resize((112, 112)),\n",
    "        transforms.ToTensor(),\n",
    "        transforms.Normalize(mean=[0.485, 0.456, 0.406],\n",
    "                                 std=[0.229, 0.224, 0.225])])   \n",
    "  \n",
    "    val_dataset = datasets.ImageFolder(f'{data_directory}/validation', transform = data_transforms_val)        \n",
    "    \n",
    "    val_loader = torch.utils.data.DataLoader(val_dataset,\n",
    "                                            batch_size = batch_size,\n",
    "                                            num_workers = workers,\n",
    "                                            shuffle = False,  \n",
    "                                            pin_memory = True,\n",
    "                                            drop_last=True)\n",
    "    \n",
    "    print('Validation set size:', val_dataset.__len__())\n",
    "\n",
    "    num_classes = len(train_dataset.classes)\n",
    "    print(f\"Number of classes: {num_classes}\")\n",
    "\n",
    "    # model = DDAMNet(num_class=class_count,num_head=args.num_head)\n",
    "    model = DDAMNet(num_class=num_classes, num_head=num_head)\n",
    "    model.to(device)\n",
    "\n",
    "\n",
    "    # criterion_cls = torch.nn.CrossEntropyLoss()\n",
    "    # criterion_at = AttentionLoss()\n",
    "\n",
    "    #-----------------------------------------------\n",
    "    # Calculate class weights for the training dataset (balanced weights) - Modification\n",
    "    labels = np.array(train_dataset.targets)\n",
    "    classes = np.unique(labels)\n",
    "    class_weights_np = compute_class_weight(class_weight='balanced', classes=classes, y=labels)\n",
    "    class_weights = torch.tensor(class_weights_np, dtype=torch.float).to(device)\n",
    "\n",
    "    print(\"Class weights: \", class_weights)\n",
    "\n",
    "    criterion_cls = torch.nn.CrossEntropyLoss(weight=class_weights)\n",
    "\n",
    "    criterion_at = AttentionLoss()\n",
    "    #-----------------------------------------------\n",
    "\n",
    "    # params = list(model.parameters()) \n",
    "    optimizer = SAM(model.parameters(), torch.optim.Adam, lr=lr, rho=0.05, adaptive=False)\n",
    "\n",
    "    scheduler = torch.optim.lr_scheduler.ExponentialLR(optimizer, gamma=0.9)\n",
    "\n",
    "    patience_counter = 0\n",
    "    best_val_acc = 0\n",
    "\n",
    "    for epoch in range(1, num_epochs + 1):\n",
    "        running_loss = 0.0\n",
    "        correct_sum = 0\n",
    "        iter_cnt = 0\n",
    "        model.train()\n",
    "\n",
    "        # Initialize progress bar once at start of epoch\n",
    "        train_progress = tqdm(total=len(train_dataset), \n",
    "                            desc=f\"Epoch {epoch}/{num_epochs} Training\", \n",
    "                            unit='img', \n",
    "                            leave=True,\n",
    "                            postfix={'loss': '?', 'acc': '?'})  # Initial placeholder\n",
    "\n",
    "        for imgs, targets in train_loader:\n",
    "            optimizer.zero_grad()\n",
    "\n",
    "            imgs = imgs.to(device)\n",
    "            targets = targets.to(device)\n",
    "            \n",
    "            out,feat,heads = model(imgs)\n",
    "            loss = criterion_cls(out,targets) + 0.1*criterion_at(heads)  \n",
    "\n",
    "            loss.backward()\n",
    "            optimizer.first_step(zero_grad=True)\n",
    "            \n",
    "            imgs = imgs.to(device)\n",
    "            targets = targets.to(device)\n",
    "            \n",
    "            out,feat,heads = model(imgs)\n",
    "            loss = criterion_cls(out,targets) + 0.1*criterion_at(heads) \n",
    "            # optimizer.zero_grad() #Remove?\n",
    "            loss.backward()\n",
    "            optimizer.second_step(zero_grad=True)            \n",
    "                                    \n",
    "            running_loss += loss\n",
    "            _, predicts = torch.max(out, 1)\n",
    "            correct_num = torch.eq(predicts, targets).sum()\n",
    "            correct_sum += correct_num\n",
    "            iter_cnt += 1\n",
    "        \n",
    "            # Update progress bar\n",
    "            train_progress.update(len(imgs))\n",
    "            train_progress.set_postfix({\n",
    "                'loss': f\"{running_loss/iter_cnt:.3f}\",\n",
    "                'acc': f\"{correct_sum/(train_progress.n)*100:.1f}%\",\n",
    "                'lr': f\"{optimizer.param_groups[0]['lr']:.1e}\"\n",
    "            }, refresh=False)\n",
    "\n",
    "        train_progress.close()\n",
    "\n",
    "        acc = correct_sum.float() / float(train_dataset.__len__())\n",
    "        running_loss = running_loss/iter_cnt\n",
    "        tqdm.write('[Epoch %d] Training accuracy: %.4f. Loss: %.3f. LR %.6f' % (epoch, acc, running_loss,optimizer.param_groups[0]['lr']))\n",
    "        \n",
    "        # scheduler.step() #----\n",
    "\n",
    "        with torch.no_grad():\n",
    "            running_loss = 0.0\n",
    "            iter_cnt = 0\n",
    "            bingo_cnt = 0\n",
    "            sample_cnt = 0\n",
    "            \n",
    "            # for calculating balanced accuracy\n",
    "            y_true = []\n",
    "            y_pred = []\n",
    " \n",
    "            model.eval()\n",
    "\n",
    "            # Initialize validation progress bar\n",
    "            val_progress = tqdm(total=len(val_dataset), \n",
    "                       desc=f\"Epoch {epoch} Validation\",\n",
    "                       unit='img',\n",
    "                       leave=False,\n",
    "                       postfix={'val_loss': '?', 'val_acc': '?'})\n",
    "    \n",
    "            for (imgs, targets) in val_loader:\n",
    "                imgs = imgs.to(device)\n",
    "                targets = targets.to(device)\n",
    "                \n",
    "                out,feat,heads = model(imgs)\n",
    "                loss = criterion_cls(out,targets)+ 0.1*criterion_at(heads) \n",
    "                loss_item = loss.item() #---\n",
    "\n",
    "                running_loss += loss\n",
    "                _, predicts = torch.max(out, 1)\n",
    "\n",
    "                correct_num  = torch.eq(predicts,targets)\n",
    "                current_batch_size = imgs.size(0) #--\n",
    "                \n",
    "                bingo_cnt += correct_num.sum().cpu()\n",
    "                sample_cnt += imgs.size(0)\n",
    "                \n",
    "                y_true.append(targets.cpu().numpy())\n",
    "                y_pred.append(predicts.cpu().numpy())\n",
    "\n",
    "                # Update progress bar\n",
    "                val_progress.update(current_batch_size)\n",
    "                val_progress.set_postfix({\n",
    "                    'val_loss': f\"{running_loss/(iter_cnt+1):.3f}\",\n",
    "                    'val_acc': f\"{(bingo_cnt/sample_cnt)*100:.1f}%\"\n",
    "                }, refresh=False)\n",
    "\n",
    "                if iter_cnt == 0:\n",
    "                    all_predicted = predicts\n",
    "                    all_targets = targets\n",
    "                else:\n",
    "                    all_predicted = torch.cat((all_predicted, predicts),0)\n",
    "                    all_targets = torch.cat((all_targets, targets),0)                  \n",
    "                iter_cnt+=1\n",
    "\n",
    "            val_progress.close()  \n",
    "            running_loss = running_loss/iter_cnt   \n",
    "            scheduler.step()\n",
    "\n",
    "            acc = bingo_cnt.float()/float(sample_cnt)\n",
    "            acc = np.around(acc.numpy(),4)\n",
    "\n",
    "            y_true = np.concatenate(y_true)\n",
    "            y_pred = np.concatenate(y_pred)\n",
    "            balanced_acc = np.around(balanced_accuracy_score(y_true, y_pred),4)\n",
    "\n",
    "            tqdm.write(\"[Epoch %d] Validation accuracy:%.4f. bacc:%.4f. Loss:%.3f\" % (epoch, acc, balanced_acc, running_loss))\n",
    "\n",
    "\n",
    "            if acc > best_val_acc:\n",
    "                best_val_acc = acc\n",
    "                patience_counter = 0\n",
    "                os.makedirs(\"Models\", exist_ok=True)\n",
    "                torch.save({'iter': epoch,\n",
    "                            'model_state_dict': model.state_dict(),\n",
    "                            'optimizer_state_dict': optimizer.state_dict(),\n",
    "                            'workers': workers,\n",
    "                            'num_head': num_head,},\n",
    "                            os.path.join('Models', f\"DDAMFNPP_{dataset_name}_best_model_LR_{lr}_BS_{batch_size}_P_{patience}_E_{num_epochs}_H_{num_head}_W_{workers}.pth\"))\n",
    "                tqdm.write('Model saved.')\n",
    "            else:    \n",
    "                patience_counter += 1\n",
    "                print(f\"No improvement in validation accuracy for {patience_counter} epochs.\")\n",
    "\n",
    "            if patience_counter > patience:\n",
    "                print(\"Stopping early due to lack of improvement in validation accuracy.\")\n",
    "                break\n",
    "\n",
    "    tqdm.write(\"best_acc:\" + str(best_val_acc))"
   ]
  },
  {
   "cell_type": "code",
   "execution_count": null,
   "metadata": {},
   "outputs": [
    {
     "name": "stdout",
     "output_type": "stream",
     "text": [
      "Using cuda device\n",
      "Whole train set size: 37553\n",
      "Validation set size: 800\n",
      "Number of classes: 8\n",
      "Class weights:  tensor([0.9388, 1.2343, 0.9388, 0.9388, 0.9388, 0.9388, 0.9388, 1.2518],\n",
      "       device='cuda:0')\n"
     ]
    },
    {
     "name": "stderr",
     "output_type": "stream",
     "text": [
      "Epoch 1/300 Training: 100%|█████████▉| 37552/37553 [11:00<00:00, 56.82img/s, loss=2.077, acc=38.9%, lr=1.0e-03]\n"
     ]
    },
    {
     "name": "stdout",
     "output_type": "stream",
     "text": [
      "[Epoch 1] Training accuracy: 0.3894. Loss: 2.077. LR 0.001000\n"
     ]
    },
    {
     "name": "stderr",
     "output_type": "stream",
     "text": [
      "c:\\MastersRepos\\Deep-Learning-For-Computer-Vision\\Models\\DDAMFN++\\.venv\\lib\\site-packages\\torch\\optim\\lr_scheduler.py:182: UserWarning: Detected call of `lr_scheduler.step()` before `optimizer.step()`. In PyTorch 1.1.0 and later, you should call them in the opposite order: `optimizer.step()` before `lr_scheduler.step()`.  Failure to do this will result in PyTorch skipping the first value of the learning rate schedule. See more details at https://pytorch.org/docs/stable/optim.html#how-to-adjust-learning-rate\n",
      "  warnings.warn(\n"
     ]
    },
    {
     "name": "stdout",
     "output_type": "stream",
     "text": [
      "[Epoch 1] Validation accuracy:0.5100. bacc:0.5100. Loss:1.461\n",
      "Model saved.\n"
     ]
    },
    {
     "name": "stderr",
     "output_type": "stream",
     "text": [
      "Epoch 2/300 Training: 100%|█████████▉| 37552/37553 [10:31<00:00, 59.49img/s, loss=1.535, acc=46.9%, lr=9.0e-04]\n"
     ]
    },
    {
     "name": "stdout",
     "output_type": "stream",
     "text": [
      "[Epoch 2] Training accuracy: 0.4688. Loss: 1.535. LR 0.000900\n"
     ]
    },
    {
     "name": "stderr",
     "output_type": "stream",
     "text": [
      "                                                                                                      \r"
     ]
    },
    {
     "name": "stdout",
     "output_type": "stream",
     "text": [
      "[Epoch 2] Validation accuracy:0.5550. bacc:0.5550. Loss:1.310\n",
      "Model saved.\n"
     ]
    },
    {
     "name": "stderr",
     "output_type": "stream",
     "text": [
      "Epoch 3/300 Training: 100%|█████████▉| 37552/37553 [10:52<00:00, 57.58img/s, loss=1.457, acc=49.3%, lr=8.1e-04]\n"
     ]
    },
    {
     "name": "stdout",
     "output_type": "stream",
     "text": [
      "[Epoch 3] Training accuracy: 0.4930. Loss: 1.457. LR 0.000810\n"
     ]
    },
    {
     "name": "stderr",
     "output_type": "stream",
     "text": [
      "                                                                                                      \r"
     ]
    },
    {
     "name": "stdout",
     "output_type": "stream",
     "text": [
      "[Epoch 3] Validation accuracy:0.5388. bacc:0.5388. Loss:1.313\n",
      "No improvement in validation accuracy for 1 epochs.\n"
     ]
    },
    {
     "name": "stderr",
     "output_type": "stream",
     "text": [
      "Epoch 4/300 Training: 100%|█████████▉| 37552/37553 [10:33<00:00, 59.25img/s, loss=1.402, acc=51.4%, lr=7.3e-04]\n"
     ]
    },
    {
     "name": "stdout",
     "output_type": "stream",
     "text": [
      "[Epoch 4] Training accuracy: 0.5136. Loss: 1.402. LR 0.000729\n"
     ]
    },
    {
     "name": "stderr",
     "output_type": "stream",
     "text": [
      "                                                                                                      \r"
     ]
    },
    {
     "name": "stdout",
     "output_type": "stream",
     "text": [
      "[Epoch 4] Validation accuracy:0.5612. bacc:0.5612. Loss:1.267\n",
      "Model saved.\n"
     ]
    },
    {
     "name": "stderr",
     "output_type": "stream",
     "text": [
      "Epoch 5/300 Training: 100%|█████████▉| 37552/37553 [10:34<00:00, 59.14img/s, loss=1.360, acc=52.9%, lr=6.6e-04]\n"
     ]
    },
    {
     "name": "stdout",
     "output_type": "stream",
     "text": [
      "[Epoch 5] Training accuracy: 0.5286. Loss: 1.360. LR 0.000656\n"
     ]
    },
    {
     "name": "stderr",
     "output_type": "stream",
     "text": [
      "                                                                                                      \r"
     ]
    },
    {
     "name": "stdout",
     "output_type": "stream",
     "text": [
      "[Epoch 5] Validation accuracy:0.5875. bacc:0.5875. Loss:1.240\n",
      "Model saved.\n"
     ]
    },
    {
     "name": "stderr",
     "output_type": "stream",
     "text": [
      "Epoch 6/300 Training: 100%|█████████▉| 37552/37553 [10:34<00:00, 59.20img/s, loss=1.321, acc=54.8%, lr=5.9e-04]\n"
     ]
    },
    {
     "name": "stdout",
     "output_type": "stream",
     "text": [
      "[Epoch 6] Training accuracy: 0.5485. Loss: 1.321. LR 0.000590\n"
     ]
    },
    {
     "name": "stderr",
     "output_type": "stream",
     "text": [
      "                                                                                                      \r"
     ]
    },
    {
     "name": "stdout",
     "output_type": "stream",
     "text": [
      "[Epoch 6] Validation accuracy:0.5738. bacc:0.5738. Loss:1.223\n",
      "No improvement in validation accuracy for 1 epochs.\n"
     ]
    },
    {
     "name": "stderr",
     "output_type": "stream",
     "text": [
      "Epoch 7/300 Training: 100%|█████████▉| 37552/37553 [10:34<00:00, 59.23img/s, loss=1.285, acc=56.0%, lr=5.3e-04]\n"
     ]
    },
    {
     "name": "stdout",
     "output_type": "stream",
     "text": [
      "[Epoch 7] Training accuracy: 0.5601. Loss: 1.285. LR 0.000531\n"
     ]
    },
    {
     "name": "stderr",
     "output_type": "stream",
     "text": [
      "                                                                                                      \r"
     ]
    },
    {
     "name": "stdout",
     "output_type": "stream",
     "text": [
      "[Epoch 7] Validation accuracy:0.5925. bacc:0.5925. Loss:1.215\n",
      "Model saved.\n"
     ]
    },
    {
     "name": "stderr",
     "output_type": "stream",
     "text": [
      "Epoch 8/300 Training: 100%|█████████▉| 37552/37553 [10:34<00:00, 59.15img/s, loss=1.259, acc=57.0%, lr=4.8e-04]\n"
     ]
    },
    {
     "name": "stdout",
     "output_type": "stream",
     "text": [
      "[Epoch 8] Training accuracy: 0.5705. Loss: 1.259. LR 0.000478\n"
     ]
    },
    {
     "name": "stderr",
     "output_type": "stream",
     "text": [
      "                                                                                                      \r"
     ]
    },
    {
     "name": "stdout",
     "output_type": "stream",
     "text": [
      "[Epoch 8] Validation accuracy:0.6000. bacc:0.6000. Loss:1.189\n",
      "Model saved.\n"
     ]
    },
    {
     "name": "stderr",
     "output_type": "stream",
     "text": [
      "Epoch 9/300 Training: 100%|█████████▉| 37552/37553 [10:36<00:00, 59.01img/s, loss=1.223, acc=58.0%, lr=4.3e-04]\n"
     ]
    },
    {
     "name": "stdout",
     "output_type": "stream",
     "text": [
      "[Epoch 9] Training accuracy: 0.5795. Loss: 1.223. LR 0.000430\n"
     ]
    },
    {
     "name": "stderr",
     "output_type": "stream",
     "text": [
      "                                                                                                      \r"
     ]
    },
    {
     "name": "stdout",
     "output_type": "stream",
     "text": [
      "[Epoch 9] Validation accuracy:0.5900. bacc:0.5900. Loss:1.230\n",
      "No improvement in validation accuracy for 1 epochs.\n"
     ]
    },
    {
     "name": "stderr",
     "output_type": "stream",
     "text": [
      "Epoch 10/300 Training: 100%|█████████▉| 37552/37553 [10:36<00:00, 58.98img/s, loss=1.203, acc=59.5%, lr=3.9e-04]\n"
     ]
    },
    {
     "name": "stdout",
     "output_type": "stream",
     "text": [
      "[Epoch 10] Training accuracy: 0.5950. Loss: 1.203. LR 0.000387\n"
     ]
    },
    {
     "name": "stderr",
     "output_type": "stream",
     "text": [
      "                                                                                                       \r"
     ]
    },
    {
     "name": "stdout",
     "output_type": "stream",
     "text": [
      "[Epoch 10] Validation accuracy:0.5850. bacc:0.5850. Loss:1.196\n",
      "No improvement in validation accuracy for 2 epochs.\n"
     ]
    },
    {
     "name": "stderr",
     "output_type": "stream",
     "text": [
      "Epoch 11/300 Training: 100%|█████████▉| 37552/37553 [10:36<00:00, 58.98img/s, loss=1.177, acc=60.4%, lr=3.5e-04]\n"
     ]
    },
    {
     "name": "stdout",
     "output_type": "stream",
     "text": [
      "[Epoch 11] Training accuracy: 0.6045. Loss: 1.177. LR 0.000349\n"
     ]
    },
    {
     "name": "stderr",
     "output_type": "stream",
     "text": [
      "                                                                                                       \r"
     ]
    },
    {
     "name": "stdout",
     "output_type": "stream",
     "text": [
      "[Epoch 11] Validation accuracy:0.6012. bacc:0.6012. Loss:1.194\n",
      "Model saved.\n"
     ]
    },
    {
     "name": "stderr",
     "output_type": "stream",
     "text": [
      "Epoch 12/300 Training: 100%|█████████▉| 37552/37553 [10:34<00:00, 59.17img/s, loss=1.152, acc=61.0%, lr=3.1e-04]\n"
     ]
    },
    {
     "name": "stdout",
     "output_type": "stream",
     "text": [
      "[Epoch 12] Training accuracy: 0.6102. Loss: 1.152. LR 0.000314\n"
     ]
    },
    {
     "name": "stderr",
     "output_type": "stream",
     "text": [
      "                                                                                                       \r"
     ]
    },
    {
     "name": "stdout",
     "output_type": "stream",
     "text": [
      "[Epoch 12] Validation accuracy:0.6038. bacc:0.6038. Loss:1.193\n",
      "Model saved.\n"
     ]
    },
    {
     "name": "stderr",
     "output_type": "stream",
     "text": [
      "Epoch 13/300 Training: 100%|█████████▉| 37552/37553 [10:36<00:00, 59.01img/s, loss=1.124, acc=62.2%, lr=2.8e-04]\n"
     ]
    },
    {
     "name": "stdout",
     "output_type": "stream",
     "text": [
      "[Epoch 13] Training accuracy: 0.6218. Loss: 1.124. LR 0.000282\n"
     ]
    },
    {
     "name": "stderr",
     "output_type": "stream",
     "text": [
      "                                                                                                       \r"
     ]
    },
    {
     "name": "stdout",
     "output_type": "stream",
     "text": [
      "[Epoch 13] Validation accuracy:0.6050. bacc:0.6050. Loss:1.212\n",
      "Model saved.\n"
     ]
    },
    {
     "name": "stderr",
     "output_type": "stream",
     "text": [
      "Epoch 14/300 Training: 100%|█████████▉| 37552/37553 [10:39<00:00, 58.76img/s, loss=1.092, acc=63.3%, lr=2.5e-04]\n"
     ]
    },
    {
     "name": "stdout",
     "output_type": "stream",
     "text": [
      "[Epoch 14] Training accuracy: 0.6327. Loss: 1.092. LR 0.000254\n"
     ]
    },
    {
     "name": "stderr",
     "output_type": "stream",
     "text": [
      "                                                                                                       \r"
     ]
    },
    {
     "name": "stdout",
     "output_type": "stream",
     "text": [
      "[Epoch 14] Validation accuracy:0.5938. bacc:0.5938. Loss:1.220\n",
      "No improvement in validation accuracy for 1 epochs.\n"
     ]
    },
    {
     "name": "stderr",
     "output_type": "stream",
     "text": [
      "Epoch 15/300 Training: 100%|█████████▉| 37552/37553 [10:40<00:00, 58.66img/s, loss=1.071, acc=64.2%, lr=2.3e-04]\n"
     ]
    },
    {
     "name": "stdout",
     "output_type": "stream",
     "text": [
      "[Epoch 15] Training accuracy: 0.6423. Loss: 1.071. LR 0.000229\n"
     ]
    },
    {
     "name": "stderr",
     "output_type": "stream",
     "text": [
      "                                                                                                       \r"
     ]
    },
    {
     "name": "stdout",
     "output_type": "stream",
     "text": [
      "[Epoch 15] Validation accuracy:0.6075. bacc:0.6075. Loss:1.228\n",
      "Model saved.\n"
     ]
    },
    {
     "name": "stderr",
     "output_type": "stream",
     "text": [
      "Epoch 16/300 Training: 100%|█████████▉| 37552/37553 [10:38<00:00, 58.85img/s, loss=1.046, acc=65.0%, lr=2.1e-04]\n"
     ]
    },
    {
     "name": "stdout",
     "output_type": "stream",
     "text": [
      "[Epoch 16] Training accuracy: 0.6505. Loss: 1.046. LR 0.000206\n"
     ]
    },
    {
     "name": "stderr",
     "output_type": "stream",
     "text": [
      "                                                                                                       \r"
     ]
    },
    {
     "name": "stdout",
     "output_type": "stream",
     "text": [
      "[Epoch 16] Validation accuracy:0.6038. bacc:0.6038. Loss:1.276\n",
      "No improvement in validation accuracy for 1 epochs.\n"
     ]
    },
    {
     "name": "stderr",
     "output_type": "stream",
     "text": [
      "Epoch 17/300 Training: 100%|█████████▉| 37552/37553 [10:36<00:00, 58.99img/s, loss=1.019, acc=66.2%, lr=1.9e-04]\n"
     ]
    },
    {
     "name": "stdout",
     "output_type": "stream",
     "text": [
      "[Epoch 17] Training accuracy: 0.6625. Loss: 1.019. LR 0.000185\n"
     ]
    },
    {
     "name": "stderr",
     "output_type": "stream",
     "text": [
      "                                                                                                       \r"
     ]
    },
    {
     "name": "stdout",
     "output_type": "stream",
     "text": [
      "[Epoch 17] Validation accuracy:0.5975. bacc:0.5975. Loss:1.238\n",
      "No improvement in validation accuracy for 2 epochs.\n"
     ]
    },
    {
     "name": "stderr",
     "output_type": "stream",
     "text": [
      "Epoch 18/300 Training: 100%|█████████▉| 37552/37553 [10:37<00:00, 58.89img/s, loss=0.997, acc=67.1%, lr=1.7e-04]\n"
     ]
    },
    {
     "name": "stdout",
     "output_type": "stream",
     "text": [
      "[Epoch 18] Training accuracy: 0.6710. Loss: 0.997. LR 0.000167\n"
     ]
    },
    {
     "name": "stderr",
     "output_type": "stream",
     "text": [
      "                                                                                                       \r"
     ]
    },
    {
     "name": "stdout",
     "output_type": "stream",
     "text": [
      "[Epoch 18] Validation accuracy:0.6100. bacc:0.6100. Loss:1.272\n",
      "Model saved.\n"
     ]
    },
    {
     "name": "stderr",
     "output_type": "stream",
     "text": [
      "Epoch 19/300 Training: 100%|█████████▉| 37552/37553 [10:39<00:00, 58.70img/s, loss=0.974, acc=68.0%, lr=1.5e-04]\n"
     ]
    },
    {
     "name": "stdout",
     "output_type": "stream",
     "text": [
      "[Epoch 19] Training accuracy: 0.6798. Loss: 0.974. LR 0.000150\n"
     ]
    },
    {
     "name": "stderr",
     "output_type": "stream",
     "text": [
      "                                                                                                       \r"
     ]
    },
    {
     "name": "stdout",
     "output_type": "stream",
     "text": [
      "[Epoch 19] Validation accuracy:0.6025. bacc:0.6025. Loss:1.284\n",
      "No improvement in validation accuracy for 1 epochs.\n"
     ]
    },
    {
     "name": "stderr",
     "output_type": "stream",
     "text": [
      "Epoch 20/300 Training: 100%|█████████▉| 37552/37553 [10:39<00:00, 58.75img/s, loss=0.952, acc=68.8%, lr=1.4e-04]\n"
     ]
    },
    {
     "name": "stdout",
     "output_type": "stream",
     "text": [
      "[Epoch 20] Training accuracy: 0.6883. Loss: 0.952. LR 0.000135\n"
     ]
    },
    {
     "name": "stderr",
     "output_type": "stream",
     "text": [
      "                                                                                                       \r"
     ]
    },
    {
     "name": "stdout",
     "output_type": "stream",
     "text": [
      "[Epoch 20] Validation accuracy:0.6025. bacc:0.6025. Loss:1.321\n",
      "No improvement in validation accuracy for 2 epochs.\n"
     ]
    },
    {
     "name": "stderr",
     "output_type": "stream",
     "text": [
      "Epoch 21/300 Training: 100%|█████████▉| 37552/37553 [10:37<00:00, 58.94img/s, loss=0.931, acc=70.0%, lr=1.2e-04]\n"
     ]
    },
    {
     "name": "stdout",
     "output_type": "stream",
     "text": [
      "[Epoch 21] Training accuracy: 0.6998. Loss: 0.931. LR 0.000122\n"
     ]
    },
    {
     "name": "stderr",
     "output_type": "stream",
     "text": [
      "                                                                                                       \r"
     ]
    },
    {
     "name": "stdout",
     "output_type": "stream",
     "text": [
      "[Epoch 21] Validation accuracy:0.6050. bacc:0.6050. Loss:1.309\n",
      "No improvement in validation accuracy for 3 epochs.\n"
     ]
    },
    {
     "name": "stderr",
     "output_type": "stream",
     "text": [
      "Epoch 22/300 Training: 100%|█████████▉| 37552/37553 [10:39<00:00, 58.71img/s, loss=0.912, acc=70.1%, lr=1.1e-04]\n"
     ]
    },
    {
     "name": "stdout",
     "output_type": "stream",
     "text": [
      "[Epoch 22] Training accuracy: 0.7013. Loss: 0.912. LR 0.000109\n"
     ]
    },
    {
     "name": "stderr",
     "output_type": "stream",
     "text": [
      "                                                                                                       \r"
     ]
    },
    {
     "name": "stdout",
     "output_type": "stream",
     "text": [
      "[Epoch 22] Validation accuracy:0.6038. bacc:0.6038. Loss:1.305\n",
      "No improvement in validation accuracy for 4 epochs.\n"
     ]
    },
    {
     "name": "stderr",
     "output_type": "stream",
     "text": [
      "Epoch 23/300 Training: 100%|█████████▉| 37552/37553 [10:38<00:00, 58.77img/s, loss=0.895, acc=71.0%, lr=9.8e-05]\n"
     ]
    },
    {
     "name": "stdout",
     "output_type": "stream",
     "text": [
      "[Epoch 23] Training accuracy: 0.7104. Loss: 0.895. LR 0.000098\n"
     ]
    },
    {
     "name": "stderr",
     "output_type": "stream",
     "text": [
      "                                                                                                       \r"
     ]
    },
    {
     "name": "stdout",
     "output_type": "stream",
     "text": [
      "[Epoch 23] Validation accuracy:0.5950. bacc:0.5950. Loss:1.339\n",
      "No improvement in validation accuracy for 5 epochs.\n"
     ]
    },
    {
     "name": "stderr",
     "output_type": "stream",
     "text": [
      "Epoch 24/300 Training: 100%|█████████▉| 37552/37553 [10:42<00:00, 58.43img/s, loss=0.883, acc=71.7%, lr=8.9e-05]\n"
     ]
    },
    {
     "name": "stdout",
     "output_type": "stream",
     "text": [
      "[Epoch 24] Training accuracy: 0.7166. Loss: 0.883. LR 0.000089\n"
     ]
    },
    {
     "name": "stderr",
     "output_type": "stream",
     "text": [
      "                                                                                                       \r"
     ]
    },
    {
     "name": "stdout",
     "output_type": "stream",
     "text": [
      "[Epoch 24] Validation accuracy:0.5938. bacc:0.5938. Loss:1.355\n",
      "No improvement in validation accuracy for 6 epochs.\n"
     ]
    },
    {
     "name": "stderr",
     "output_type": "stream",
     "text": [
      "Epoch 25/300 Training: 100%|█████████▉| 37552/37553 [10:43<00:00, 58.38img/s, loss=0.862, acc=72.4%, lr=8.0e-05]\n"
     ]
    },
    {
     "name": "stdout",
     "output_type": "stream",
     "text": [
      "[Epoch 25] Training accuracy: 0.7239. Loss: 0.862. LR 0.000080\n"
     ]
    },
    {
     "name": "stderr",
     "output_type": "stream",
     "text": [
      "                                                                                                       \r"
     ]
    },
    {
     "name": "stdout",
     "output_type": "stream",
     "text": [
      "[Epoch 25] Validation accuracy:0.5875. bacc:0.5875. Loss:1.404\n",
      "No improvement in validation accuracy for 7 epochs.\n"
     ]
    },
    {
     "name": "stderr",
     "output_type": "stream",
     "text": [
      "Epoch 26/300 Training: 100%|█████████▉| 37552/37553 [10:42<00:00, 58.41img/s, loss=0.847, acc=73.3%, lr=7.2e-05]\n"
     ]
    },
    {
     "name": "stdout",
     "output_type": "stream",
     "text": [
      "[Epoch 26] Training accuracy: 0.7326. Loss: 0.847. LR 0.000072\n"
     ]
    },
    {
     "name": "stderr",
     "output_type": "stream",
     "text": [
      "                                                                                                       \r"
     ]
    },
    {
     "name": "stdout",
     "output_type": "stream",
     "text": [
      "[Epoch 26] Validation accuracy:0.6050. bacc:0.6050. Loss:1.371\n",
      "No improvement in validation accuracy for 8 epochs.\n"
     ]
    },
    {
     "name": "stderr",
     "output_type": "stream",
     "text": [
      "Epoch 27/300 Training: 100%|█████████▉| 37552/37553 [10:42<00:00, 58.40img/s, loss=0.841, acc=73.3%, lr=6.5e-05]\n"
     ]
    },
    {
     "name": "stdout",
     "output_type": "stream",
     "text": [
      "[Epoch 27] Training accuracy: 0.7325. Loss: 0.841. LR 0.000065\n"
     ]
    },
    {
     "name": "stderr",
     "output_type": "stream",
     "text": [
      "                                                                                                       \r"
     ]
    },
    {
     "name": "stdout",
     "output_type": "stream",
     "text": [
      "[Epoch 27] Validation accuracy:0.5925. bacc:0.5925. Loss:1.407\n",
      "No improvement in validation accuracy for 9 epochs.\n"
     ]
    },
    {
     "name": "stderr",
     "output_type": "stream",
     "text": [
      "Epoch 28/300 Training: 100%|█████████▉| 37552/37553 [10:45<00:00, 58.17img/s, loss=0.824, acc=73.6%, lr=5.8e-05]\n"
     ]
    },
    {
     "name": "stdout",
     "output_type": "stream",
     "text": [
      "[Epoch 28] Training accuracy: 0.7362. Loss: 0.824. LR 0.000058\n"
     ]
    },
    {
     "name": "stderr",
     "output_type": "stream",
     "text": [
      "                                                                                                       \r"
     ]
    },
    {
     "name": "stdout",
     "output_type": "stream",
     "text": [
      "[Epoch 28] Validation accuracy:0.6000. bacc:0.6000. Loss:1.427\n",
      "No improvement in validation accuracy for 10 epochs.\n"
     ]
    },
    {
     "name": "stderr",
     "output_type": "stream",
     "text": [
      "Epoch 29/300 Training: 100%|█████████▉| 37552/37553 [10:44<00:00, 58.29img/s, loss=0.814, acc=74.0%, lr=5.2e-05]\n"
     ]
    },
    {
     "name": "stdout",
     "output_type": "stream",
     "text": [
      "[Epoch 29] Training accuracy: 0.7396. Loss: 0.814. LR 0.000052\n"
     ]
    },
    {
     "name": "stderr",
     "output_type": "stream",
     "text": [
      "                                                                                                       \r"
     ]
    },
    {
     "name": "stdout",
     "output_type": "stream",
     "text": [
      "[Epoch 29] Validation accuracy:0.5938. bacc:0.5938. Loss:1.431\n",
      "No improvement in validation accuracy for 11 epochs.\n"
     ]
    },
    {
     "name": "stderr",
     "output_type": "stream",
     "text": [
      "Epoch 30/300 Training: 100%|█████████▉| 37552/37553 [10:49<00:00, 57.83img/s, loss=0.801, acc=74.9%, lr=4.7e-05]\n"
     ]
    },
    {
     "name": "stdout",
     "output_type": "stream",
     "text": [
      "[Epoch 30] Training accuracy: 0.7486. Loss: 0.801. LR 0.000047\n"
     ]
    },
    {
     "name": "stderr",
     "output_type": "stream",
     "text": [
      "                                                                                                       \r"
     ]
    },
    {
     "name": "stdout",
     "output_type": "stream",
     "text": [
      "[Epoch 30] Validation accuracy:0.6000. bacc:0.6000. Loss:1.422\n",
      "No improvement in validation accuracy for 12 epochs.\n"
     ]
    },
    {
     "name": "stderr",
     "output_type": "stream",
     "text": [
      "Epoch 31/300 Training: 100%|█████████▉| 37552/37553 [10:45<00:00, 58.18img/s, loss=0.792, acc=75.1%, lr=4.2e-05]\n"
     ]
    },
    {
     "name": "stdout",
     "output_type": "stream",
     "text": [
      "[Epoch 31] Training accuracy: 0.7512. Loss: 0.792. LR 0.000042\n"
     ]
    },
    {
     "name": "stderr",
     "output_type": "stream",
     "text": [
      "                                                                                                       \r"
     ]
    },
    {
     "name": "stdout",
     "output_type": "stream",
     "text": [
      "[Epoch 31] Validation accuracy:0.5912. bacc:0.5913. Loss:1.443\n",
      "No improvement in validation accuracy for 13 epochs.\n"
     ]
    },
    {
     "name": "stderr",
     "output_type": "stream",
     "text": [
      "Epoch 32/300 Training: 100%|█████████▉| 37552/37553 [10:43<00:00, 58.37img/s, loss=0.787, acc=75.1%, lr=3.8e-05]\n"
     ]
    },
    {
     "name": "stdout",
     "output_type": "stream",
     "text": [
      "[Epoch 32] Training accuracy: 0.7510. Loss: 0.787. LR 0.000038\n"
     ]
    },
    {
     "name": "stderr",
     "output_type": "stream",
     "text": [
      "                                                                                                       \r"
     ]
    },
    {
     "name": "stdout",
     "output_type": "stream",
     "text": [
      "[Epoch 32] Validation accuracy:0.5988. bacc:0.5988. Loss:1.427\n",
      "No improvement in validation accuracy for 14 epochs.\n"
     ]
    },
    {
     "name": "stderr",
     "output_type": "stream",
     "text": [
      "Epoch 33/300 Training: 100%|█████████▉| 37552/37553 [10:45<00:00, 58.15img/s, loss=0.780, acc=75.7%, lr=3.4e-05]\n"
     ]
    },
    {
     "name": "stdout",
     "output_type": "stream",
     "text": [
      "[Epoch 33] Training accuracy: 0.7569. Loss: 0.780. LR 0.000034\n"
     ]
    },
    {
     "name": "stderr",
     "output_type": "stream",
     "text": [
      "                                                                                                       \r"
     ]
    },
    {
     "name": "stdout",
     "output_type": "stream",
     "text": [
      "[Epoch 33] Validation accuracy:0.5988. bacc:0.5988. Loss:1.439\n",
      "No improvement in validation accuracy for 15 epochs.\n"
     ]
    },
    {
     "name": "stderr",
     "output_type": "stream",
     "text": [
      "Epoch 34/300 Training: 100%|█████████▉| 37552/37553 [10:46<00:00, 58.06img/s, loss=0.771, acc=75.8%, lr=3.1e-05]\n"
     ]
    },
    {
     "name": "stdout",
     "output_type": "stream",
     "text": [
      "[Epoch 34] Training accuracy: 0.7577. Loss: 0.771. LR 0.000031\n"
     ]
    },
    {
     "name": "stderr",
     "output_type": "stream",
     "text": [
      "                                                                                                       "
     ]
    },
    {
     "name": "stdout",
     "output_type": "stream",
     "text": [
      "[Epoch 34] Validation accuracy:0.5962. bacc:0.5963. Loss:1.450\n",
      "No improvement in validation accuracy for 16 epochs.\n",
      "Stopping early due to lack of improvement in validation accuracy.\n",
      "best_acc:0.61\n"
     ]
    },
    {
     "name": "stderr",
     "output_type": "stream",
     "text": [
      "\r"
     ]
    }
   ],
   "source": [
    "# Device configuration\n",
    "device = torch.device(\"cuda\" if torch.cuda.is_available() else \"cpu\")\n",
    "print(f\"Using {device} device\")\n",
    "\n",
    "# dataset_name, data_directory = 'AffectNet', '../../Datasets/AffectNet_Structured'\n",
    "# dataset_name, data_directory = 'CK+', '../../Datasets/CK+_Structured'\n",
    "# dataset_name, data_directory = 'FER', '../../Datasets/FER_Structured'\n",
    "# dataset_name, data_directory = 'JAFFE', '../../Datasets/JAFFE_Structured'\n",
    "# dataset_name, data_directory = 'RAF-DB', '../../Datasets/RAF-DB_Structured'\n",
    "dataset_name, data_directory = 'FER_Aligned', '../../Datasets/FER_Structured_Aligned' # 11hr | 71% Acc on Test Set | Epoch 68\n",
    "dataset_name, data_directory = 'RAF-DB_Aligned', '../../Datasets/RAF-DB_Structured_Aligned' # 4hr 10mINS | 89% Acc On Test Set | Epoch 50\n",
    "dataset_name, data_directory = 'AffectNet_Aligned', '../../Datasets/AffectNet_Structured_Aligned' # 6hr 35m | 61% Acc On Test Set | Epoch 34\n",
    "\n",
    "lr = 0.001\n",
    "batch_size = 16\n",
    "patience = 15\n",
    "num_epochs = 300\n",
    "num_head = 2 #best value according to paper    \n",
    "workers = 16 #arbitrary value, shouldnt affect results\n",
    "\n",
    "TrainDDAMFN_PP(data_directory, dataset_name, device, lr, batch_size, patience, num_epochs, num_head, workers)"
   ]
  },
  {
   "cell_type": "markdown",
   "metadata": {},
   "source": [
    "# Deriving Metrics on Testing Set"
   ]
  },
  {
   "cell_type": "code",
   "execution_count": null,
   "metadata": {},
   "outputs": [],
   "source": [
    "# import torch\n",
    "# import numpy as np\n",
    "# from sklearn.metrics import (accuracy_score, precision_score, recall_score, f1_score, classification_report, confusion_matrix)\n",
    "# import seaborn as sns\n",
    "# import matplotlib.pyplot as plt\n",
    "# from torch.utils.data import DataLoader\n",
    "# from torchvision import transforms, datasets\n",
    "\n",
    "# # def TestDDAMFN(data_directory, model_path, num_head=2, batch_size=15):\n",
    "# def TestDDAMFN(data_directory, model_path, batch_size=15):\n",
    "#     device = torch.device('cuda' if torch.cuda.is_available() else 'cpu')\n",
    "#     print(f\"Using {device} device\")\n",
    "\n",
    "#     # Transform the dataset\n",
    "#     transform = transforms.Compose([\n",
    "#     transforms.Resize((112, 112)),\n",
    "#     transforms.ToTensor(),\n",
    "#     transforms.Normalize(mean=[0.485, 0.456, 0.406],\n",
    "#                                 std=[0.229, 0.224, 0.225]),\n",
    "#     ])   \n",
    "\n",
    "#     state_dict = torch.load(model_path, weights_only=True)\n",
    "\n",
    "#     final_fc_layer = [k for k in state_dict['model_state_dict'].keys() if 'fc' in k and 'weight' in k][-1]\n",
    "#     num_classes = state_dict['model_state_dict'][final_fc_layer].shape[0]\n",
    "#     print(f\"Number of classes: {num_classes}\")\n",
    "\n",
    "#     num_head = state_dict['num_head']\n",
    "#     print(f\"Number of attention heads: {num_head}\")\n",
    "\n",
    "#     # Load your best model (update the filename based on your saved best model)\n",
    "#     model = DDAMNet(num_class=num_classes, num_head=num_head).to(device)\n",
    "#     model.load_state_dict(state_dict['model_state_dict'])\n",
    "#     model.eval()\n",
    "\n",
    "#     all_preds = []\n",
    "#     all_labels = []\n",
    "\n",
    "#     workers = state_dict['workers']\n",
    "\n",
    "#     test_dataset = datasets.ImageFolder(f'{data_directory}/test', transform = transform)   \n",
    "#     test_loader = torch.utils.data.DataLoader(test_dataset, batch_size = batch_size, num_workers = workers, shuffle = False, pin_memory = True)\n",
    "\n",
    "#     # Iterate through test_loader to collect predictions and ground truth labels\n",
    "#     with torch.no_grad():\n",
    "#         for data in test_loader:\n",
    "#             inputs, labels = data[0].to(device), data[1].to(device)\n",
    "#             outputs, feat, heads = model(inputs)\n",
    "\n",
    "#             # Get the predicted class (assumes outputs are logits)\n",
    "#             _, predicted = torch.max(outputs, 1)\n",
    "#             all_preds.append(predicted.cpu().numpy())\n",
    "#             all_labels.append(labels.cpu().numpy())\n",
    "\n",
    "#     # Concatenate lists to form single arrays\n",
    "#     all_preds = np.concatenate(all_preds)\n",
    "#     all_labels = np.concatenate(all_labels)\n",
    "\n",
    "#     # Calculate metrics\n",
    "#     accuracy = accuracy_score(all_labels, all_preds)\n",
    "#     precision_weighted = precision_score(all_labels, all_preds, average='weighted', zero_division=0)\n",
    "#     precision_macro = precision_score(all_labels, all_preds, average='macro', zero_division=0)\n",
    "#     precision_micro = precision_score(all_labels, all_preds, average='micro', zero_division=0)\n",
    "\n",
    "#     recall_weighted = recall_score(all_labels, all_preds, average='weighted', zero_division=0)\n",
    "#     recall_macro = recall_score(all_labels, all_preds, average='macro', zero_division=0)\n",
    "#     recall_micro = recall_score(all_labels, all_preds, average='micro', zero_division=0)\n",
    "\n",
    "#     f1_weighted = f1_score(all_labels, all_preds, average='weighted', zero_division=0)\n",
    "#     f1_macro = f1_score(all_labels, all_preds, average='macro', zero_division=0)\n",
    "#     f1_micro = f1_score(all_labels, all_preds, average='micro', zero_division=0)\n",
    "\n",
    "#     report = classification_report(all_labels, all_preds, zero_division=0)\n",
    "#     cm = confusion_matrix(all_labels, all_preds)\n",
    "\n",
    "#     # Print the metrics\n",
    "#     print(\"Test Accuracy:\", accuracy)\n",
    "#     print(\"Precision (Weighted):\", precision_weighted)\n",
    "#     print(\"Precision (Macro):\", precision_macro)\n",
    "#     print(\"Precision (Micro):\", precision_micro)\n",
    "#     print(\"Recall (Weighted):\", recall_weighted)\n",
    "#     print(\"Recall (Macro):\", recall_macro)\n",
    "#     print(\"Recall (Micro):\", recall_micro)\n",
    "#     print(\"F1 Score (Weighted):\", f1_weighted)\n",
    "#     print(\"F1 Score (Macro):\", f1_macro)\n",
    "#     print(\"F1 Score (Micro):\", f1_micro)\n",
    "#     print(\"\\nClassification Report:\\n\", report)\n",
    "#     print(\"\\nConfusion Matrix:\\n\", cm)\n",
    "\n",
    "#     # (Optional) Visualize the confusion matrix using seaborn heatmap\n",
    "#     plt.figure(figsize=(8, 6))\n",
    "#     sns.heatmap(cm, annot=True, fmt='d', cmap='Blues')\n",
    "#     plt.title(\"Confusion Matrix\")\n",
    "#     plt.xlabel(\"Predicted Label\")\n",
    "#     plt.ylabel(\"True Label\")\n",
    "#     plt.show()"
   ]
  },
  {
   "cell_type": "code",
   "execution_count": null,
   "metadata": {},
   "outputs": [],
   "source": [
    "import torch\n",
    "import numpy as np\n",
    "from sklearn.metrics import (accuracy_score, precision_score, recall_score, f1_score, classification_report, confusion_matrix)\n",
    "import seaborn as sns\n",
    "import matplotlib.pyplot as plt\n",
    "from torch.utils.data import DataLoader\n",
    "from torchvision import transforms, datasets\n",
    "\n",
    "def TestDDAMFN(data_directory, model_path, batch_size=15, ignored_labels=[]):\n",
    "    device = torch.device('cuda' if torch.cuda.is_available() else 'cpu')\n",
    "    print(f\"Using {device} device\")\n",
    "\n",
    "    transform = transforms.Compose([\n",
    "        transforms.Resize((112, 112)),\n",
    "        transforms.ToTensor(),\n",
    "        transforms.Normalize(mean=[0.485, 0.456, 0.406],\n",
    "                             std=[0.229, 0.224, 0.225]),\n",
    "    ])   \n",
    "\n",
    "    state_dict = torch.load(model_path, weights_only=True)\n",
    "    final_fc_layer = [k for k in state_dict['model_state_dict'].keys() if 'fc' in k and 'weight' in k][-1]\n",
    "    num_classes = state_dict['model_state_dict'][final_fc_layer].shape[0]\n",
    "    print(f\"Number of classes: {num_classes}\")\n",
    "\n",
    "    num_head = state_dict['num_head']\n",
    "    print(f\"Number of attention heads: {num_head}\")\n",
    "\n",
    "    model = DDAMNet(num_class=num_classes, num_head=num_head).to(device)\n",
    "    model.load_state_dict(state_dict['model_state_dict'])\n",
    "    model.eval()\n",
    "\n",
    "    workers = state_dict['workers']\n",
    "\n",
    "    test_dataset = datasets.ImageFolder(f'{data_directory}/test', transform=transform)\n",
    "    test_loader = DataLoader(test_dataset, batch_size=batch_size, num_workers=workers,\n",
    "                             shuffle=False, pin_memory=True)\n",
    "\n",
    "    all_preds = []\n",
    "    all_labels = []\n",
    "    all_probs = []\n",
    "\n",
    "    # Get a mapping from dataset class index to label\n",
    "    label_map = test_dataset.class_to_idx\n",
    "    idx_to_class = {v: k for k, v in label_map.items()}\n",
    "\n",
    "    with torch.no_grad():\n",
    "        for inputs, labels in test_loader:\n",
    "            # Filter ignored labels\n",
    "            mask = ~np.isin(labels.numpy(), ignored_labels)\n",
    "            if mask.sum() == 0:\n",
    "                continue\n",
    "\n",
    "            inputs = inputs[mask].to(device)\n",
    "            labels = labels[mask].to(device)\n",
    "\n",
    "            outputs, feat, heads = model(inputs)\n",
    "            probs = torch.softmax(outputs, dim=1)\n",
    "\n",
    "            all_probs.append(probs.cpu().numpy())\n",
    "            all_labels.append(labels.cpu().numpy())\n",
    "\n",
    "    all_probs = np.concatenate(all_probs)\n",
    "    all_labels = np.concatenate(all_labels)\n",
    "\n",
    "    # Replace invalid predictions\n",
    "    test_labels_set = set(np.unique(all_labels))\n",
    "    fixed_preds = []\n",
    "    for i in range(len(all_probs)):\n",
    "        sorted_indices = np.argsort(all_probs[i])[::-1]\n",
    "        for pred in sorted_indices:\n",
    "            if pred in test_labels_set:\n",
    "                fixed_preds.append(pred)\n",
    "                break\n",
    "\n",
    "    fixed_preds = np.array(fixed_preds)\n",
    "\n",
    "    # Metrics\n",
    "    accuracy = accuracy_score(all_labels, fixed_preds)\n",
    "    precision_weighted = precision_score(all_labels, fixed_preds, average='weighted', zero_division=0)\n",
    "    precision_macro = precision_score(all_labels, fixed_preds, average='macro', zero_division=0)\n",
    "    precision_micro = precision_score(all_labels, fixed_preds, average='micro', zero_division=0)\n",
    "\n",
    "    recall_weighted = recall_score(all_labels, fixed_preds, average='weighted', zero_division=0)\n",
    "    recall_macro = recall_score(all_labels, fixed_preds, average='macro', zero_division=0)\n",
    "    recall_micro = recall_score(all_labels, fixed_preds, average='micro', zero_division=0)\n",
    "\n",
    "    f1_weighted = f1_score(all_labels, fixed_preds, average='weighted', zero_division=0)\n",
    "    f1_macro = f1_score(all_labels, fixed_preds, average='macro', zero_division=0)\n",
    "    f1_micro = f1_score(all_labels, fixed_preds, average='micro', zero_division=0)\n",
    "\n",
    "    report = classification_report(all_labels, fixed_preds, zero_division=0)\n",
    "    labels_for_cm = sorted(test_labels_set)\n",
    "    cm = confusion_matrix(all_labels, fixed_preds, labels=labels_for_cm)\n",
    "\n",
    "    # Output\n",
    "    print(\"Test Accuracy:\", accuracy)\n",
    "    print(\"Precision (Weighted):\", precision_weighted)\n",
    "    print(\"Precision (Macro):\", precision_macro)\n",
    "    print(\"Precision (Micro):\", precision_micro)\n",
    "    print(\"Recall (Weighted):\", recall_weighted)\n",
    "    print(\"Recall (Macro):\", recall_macro)\n",
    "    print(\"Recall (Micro):\", recall_micro)\n",
    "    print(\"F1 Score (Weighted):\", f1_weighted)\n",
    "    print(\"F1 Score (Macro):\", f1_macro)\n",
    "    print(\"F1 Score (Micro):\", f1_micro)\n",
    "    print(\"\\nClassification Report:\\n\", report)\n",
    "\n",
    "    plt.figure(figsize=(8, 6))\n",
    "    sns.heatmap(cm, annot=True, fmt='d', cmap='Blues')\n",
    "    plt.title(\"Confusion Matrix\")\n",
    "    plt.xlabel(\"Predicted Label\")\n",
    "    plt.ylabel(\"True Label\")\n",
    "    plt.show()\n"
   ]
  },
  {
   "cell_type": "code",
   "execution_count": null,
   "metadata": {},
   "outputs": [
    {
     "name": "stdout",
     "output_type": "stream",
     "text": [
      "Using cuda device\n",
      "Number of classes: 7\n",
      "Number of attention heads: 2\n",
      "Test Accuracy: 0.36363636363636365\n",
      "Precision (Weighted): 0.4025974025974026\n",
      "Precision (Macro): 0.3134920634920635\n",
      "Precision (Micro): 0.36363636363636365\n",
      "Recall (Weighted): 0.36363636363636365\n",
      "Recall (Macro): 0.2916666666666667\n",
      "Recall (Micro): 0.36363636363636365\n",
      "F1 Score (Weighted): 0.33766233766233766\n",
      "F1 Score (Macro): 0.26190476190476186\n",
      "F1 Score (Micro): 0.36363636363636365\n",
      "\n",
      "Classification Report:\n",
      "               precision    recall  f1-score   support\n",
      "\n",
      "           0       0.00      0.00      0.00         6\n",
      "           1       0.00      0.00      0.00         9\n",
      "           2       0.00      0.00      0.00         1\n",
      "           3       0.67      0.50      0.57        12\n",
      "           4       0.21      0.75      0.33         8\n",
      "           5       1.00      0.50      0.67         8\n",
      "\n",
      "    accuracy                           0.36        44\n",
      "   macro avg       0.31      0.29      0.26        44\n",
      "weighted avg       0.40      0.36      0.34        44\n",
      "\n"
     ]
    },
    {
     "data": {
      "image/png": "[encoded data removed]",
      "text/plain": [
       "<Figure size 800x600 with 2 Axes>"
      ]
     },
     "metadata": {},
     "output_type": "display_data"
    }
   ],
   "source": [
    "# dataset_name, data_directory = 'FER_Aligned', '../../Datasets/FER_Structured_Aligned'\n",
    "# dataset_name, data_directory = 'FER_Aligned', '../../Datasets/AffectNet_Structured_Aligned'\n",
    "# dataset_name, data_directory = 'FER_Aligned', '../../Datasets/CK+_Structured_Aligned'\n",
    "# dataset_name, data_directory = 'FER_Aligned', '../../Datasets/JAFFE_Structured_Aligned'\n",
    "dataset_name, data_directory = 'FER_Aligned', '../../Datasets/RAF-DB_Structured_Aligned'\n",
    "\n",
    "lr = 0.001\n",
    "batch_size = 16\n",
    "patience = 15\n",
    "num_epochs = 300\n",
    "num_head = 2\n",
    "workers = 16\n",
    "\n",
    "model_path = f\"ModelsReadyForComparison/DDAMFNPP_{dataset_name}_best_model_LR_{lr}_BS_{batch_size}_P_{patience}_E_{num_epochs}_H_{num_head}_W_{workers}.pth\"\n",
    "\n",
    "TestDDAMFN(data_directory, model_path, batch_size, ignored_labels = [7])"
   ]
  },
  {
   "cell_type": "code",
   "execution_count": 25,
   "metadata": {},
   "outputs": [
    {
     "name": "stdout",
     "output_type": "stream",
     "text": [
      "Using cuda device\n",
      "Number of classes: 8\n",
      "Number of attention heads: 2\n",
      "Test Accuracy: 0.6851368970013038\n",
      "Precision (Weighted): 0.7707624465361355\n",
      "Precision (Macro): 0.5695970762154747\n",
      "Precision (Micro): 0.6851368970013038\n",
      "Recall (Weighted): 0.6851368970013038\n",
      "Recall (Macro): 0.6480440694004154\n",
      "Recall (Micro): 0.6851368970013038\n",
      "F1 Score (Weighted): 0.7137421659336395\n",
      "F1 Score (Macro): 0.5738761624438614\n",
      "F1 Score (Micro): 0.6851368970013038\n",
      "\n",
      "Classification Report:\n",
      "               precision    recall  f1-score   support\n",
      "\n",
      "           0       0.35      0.73      0.47        81\n",
      "           1       0.36      0.51      0.42        80\n",
      "           2       0.18      0.68      0.29        37\n",
      "           3       0.98      0.77      0.86       592\n",
      "           4       0.74      0.69      0.71       239\n",
      "           5       0.60      0.51      0.55       165\n",
      "           6       0.77      0.65      0.71       340\n",
      "\n",
      "    accuracy                           0.69      1534\n",
      "   macro avg       0.57      0.65      0.57      1534\n",
      "weighted avg       0.77      0.69      0.71      1534\n",
      "\n"
     ]
    },
    {
     "data": {
      "image/png": "[encoded data removed]",
      "text/plain": [
       "<Figure size 800x600 with 2 Axes>"
      ]
     },
     "metadata": {},
     "output_type": "display_data"
    }
   ],
   "source": [
    "# dataset_name, data_directory = 'AffectNet_Aligned', '../../Datasets/AffectNet_Structured_Aligned'\n",
    "# dataset_name, data_directory = 'AffectNet_Aligned', '../../Datasets/FER_Structured_Aligned'\n",
    "# dataset_name, data_directory = 'AffectNet_Aligned', '../../Datasets/CK+_Structured_Aligned'\n",
    "# dataset_name, data_directory = 'AffectNet_Aligned', '../../Datasets/JAFFE_Structured_Aligned'\n",
    "dataset_name, data_directory = 'AffectNet_Aligned', '../../Datasets/RAF-DB_Structured_Aligned'\n",
    "\n",
    "lr = 0.001\n",
    "batch_size = 16\n",
    "patience = 15\n",
    "num_epochs = 300\n",
    "num_head = 2\n",
    "workers = 16\n",
    "\n",
    "model_path = f\"ModelsReadyForComparison/DDAMFNPP_{dataset_name}_best_model_LR_{lr}_BS_{batch_size}_P_{patience}_E_{num_epochs}_H_{num_head}_W_{workers}.pth\"\n",
    "\n",
    "TestDDAMFN(data_directory, model_path, batch_size)"
   ]
  },
  {
   "cell_type": "code",
   "execution_count": 29,
   "metadata": {},
   "outputs": [
    {
     "name": "stdout",
     "output_type": "stream",
     "text": [
      "Using cuda device\n",
      "Number of classes: 7\n",
      "Number of attention heads: 2\n",
      "Test Accuracy: 0.36363636363636365\n",
      "Precision (Weighted): 0.424931129476584\n",
      "Precision (Macro): 0.32702020202020204\n",
      "Precision (Micro): 0.36363636363636365\n",
      "Recall (Weighted): 0.36363636363636365\n",
      "Recall (Macro): 0.3125\n",
      "Recall (Micro): 0.36363636363636365\n",
      "F1 Score (Weighted): 0.32020114032309155\n",
      "F1 Score (Macro): 0.2622677119628339\n",
      "F1 Score (Micro): 0.36363636363636365\n",
      "\n",
      "Classification Report:\n",
      "               precision    recall  f1-score   support\n",
      "\n",
      "           0       0.00      0.00      0.00         6\n",
      "           1       0.00      0.00      0.00         9\n",
      "           2       0.00      0.00      0.00         1\n",
      "           3       0.75      0.25      0.38        12\n",
      "           4       0.21      0.88      0.34         8\n",
      "           5       1.00      0.75      0.86         8\n",
      "\n",
      "    accuracy                           0.36        44\n",
      "   macro avg       0.33      0.31      0.26        44\n",
      "weighted avg       0.42      0.36      0.32        44\n",
      "\n"
     ]
    },
    {
     "data": {
      "image/png": "[encoded data removed]",
      "text/plain": [
       "<Figure size 800x600 with 2 Axes>"
      ]
     },
     "metadata": {},
     "output_type": "display_data"
    }
   ],
   "source": [
    "# dataset_name, data_directory = 'RAF-DB_Aligned', '../../Datasets/RAF-DB_Structured_Aligned'\n",
    "# dataset_name, data_directory = 'RAF-DB_Aligned', '../../Datasets/FER_Structured_Aligned'\n",
    "# dataset_name, data_directory = 'RAF-DB_Aligned', '../../Datasets/AffectNet_Structured_Aligned'\n",
    "# dataset_name, data_directory = 'RAF-DB_Aligned', '../../Datasets/CK+_Structured_Aligned'\n",
    "dataset_name, data_directory = 'RAF-DB_Aligned', '../../Datasets/JAFFE_Structured_Aligned'\n",
    "\n",
    "lr = 0.001\n",
    "batch_size = 16\n",
    "patience = 15\n",
    "num_epochs = 300\n",
    "num_head = 2\n",
    "workers = 16\n",
    "\n",
    "model_path = f\"ModelsReadyForComparison/DDAMFNPP_{dataset_name}_best_model_LR_{lr}_BS_{batch_size}_P_{patience}_E_{num_epochs}_H_{num_head}_W_{workers}.pth\"\n",
    "\n",
    "TestDDAMFN(data_directory, model_path, batch_size, ignored_labels = [7])"
   ]
  },
  {
   "cell_type": "markdown",
   "metadata": {},
   "source": [
    "### Testing on image"
   ]
  },
  {
   "cell_type": "code",
   "execution_count": null,
   "metadata": {},
   "outputs": [
    {
     "name": "stdout",
     "output_type": "stream",
     "text": [
      "Predicted class: Happy\n",
      "Class probabilities:\n",
      "Angry: 0.0000\n",
      "Disgust: 0.0000\n",
      "Fear: 0.0000\n",
      "Happy: 1.0000\n",
      "Sad: 0.0000\n",
      "Surprise: 0.0000\n",
      "Neutral: 0.0000\n"
     ]
    }
   ],
   "source": [
    "# import torch\n",
    "# from torchvision import transforms\n",
    "# from PIL import Image\n",
    "# import os\n",
    "\n",
    "# def load_model(checkpoint_path, num_class=7, num_head=2, device='cuda:0'):\n",
    "#     # Initialize model\n",
    "#     model = DDAMNet(num_class=num_class, num_head=num_head)\n",
    "#     model = model.to(device)\n",
    "    \n",
    "#     # Load checkpoint\n",
    "#     if not os.path.exists(checkpoint_path):\n",
    "#         raise FileNotFoundError(f\"Checkpoint file {checkpoint_path} not found\")\n",
    "        \n",
    "#     checkpoint = torch.load(checkpoint_path, map_location=device)\n",
    "#     model.load_state_dict(checkpoint['model_state_dict'])\n",
    "#     model.eval()\n",
    "    \n",
    "#     return model\n",
    "\n",
    "# def process_image(image_path, model, device='cuda:0'):\n",
    "#     # Define transformations (match validation transforms)\n",
    "#     transform = transforms.Compose([\n",
    "#         transforms.Resize((112, 112)),\n",
    "#         transforms.Grayscale(num_output_channels=3),\n",
    "#         transforms.ToTensor(),\n",
    "#         transforms.Normalize(mean=[0.485, 0.456, 0.406],\n",
    "#                              std=[0.229, 0.224, 0.225])\n",
    "#     ])\n",
    "    \n",
    "#     # Load and preprocess image\n",
    "#     img = Image.open(image_path).convert('RGB')\n",
    "#     input_tensor = transform(img).unsqueeze(0).to(device)  # Add batch dimension\n",
    "    \n",
    "#     # Make prediction\n",
    "#     with torch.no_grad():\n",
    "#         outputs, _, _ = model(input_tensor)\n",
    "#         probabilities = torch.nn.functional.softmax(outputs[0], dim=0)\n",
    "#         _, predicted_idx = torch.max(outputs, 1)\n",
    "    \n",
    "#     return {\n",
    "#         'class_index': predicted_idx.item(),\n",
    "#         'class_label': class_names[predicted_idx.item()],\n",
    "#         'probabilities': probabilities.cpu().numpy()\n",
    "#     }\n",
    "\n",
    "\n",
    "# # Configuration (modify as needed)\n",
    "# checkpoint_path = \"TrainedModels/DDAMFN_DatasetFER_ResEmoteNet_Batch32_LR0.0005_Epochs10.pth\"\n",
    "# image_path = \"C:\\MastersRepos\\Deep-Learning-For-Computer-Vision\\Models\\DDAMFN++\\Datasets\\FER_ResEmoteNet\\\\test\\\\test_28713_happy.jpg\"\n",
    "# # class_names = ['Happy', 'Surprised', 'Sad', 'Angry', 'Disgusted', 'Fear'] #JAFFE\n",
    "# class_names = ['Angry', 'Disgust', 'Fear', 'Happy', 'Sad', 'Surprise', 'Neutral'] #FER\n",
    "\n",
    "# # Load model\n",
    "# device = torch.device(\"cuda:0\" if torch.cuda.is_available() else \"cpu\")\n",
    "# model = load_model(checkpoint_path, num_class=7, device=device)\n",
    "\n",
    "# # Process image\n",
    "# result = process_image(image_path, model, device)\n",
    "\n",
    "# print(f\"Predicted class: {result['class_label']}\")\n",
    "# print(\"Class probabilities:\")\n",
    "# for cls, prob in zip(class_names, result['probabilities']):\n",
    "#     print(f\"{cls}: {prob:.4f}\")"
   ]
  }
 ],
 "metadata": {
  "kernelspec": {
   "display_name": ".venv",
   "language": "python",
   "name": "python3"
  },
  "language_info": {
   "codemirror_mode": {
    "name": "ipython",
    "version": 3
   },
   "file_extension": ".py",
   "mimetype": "text/x-python",
   "name": "python",
   "nbconvert_exporter": "python",
   "pygments_lexer": "ipython3",
   "version": "3.10.8"
  }
 },
 "nbformat": 4,
 "nbformat_minor": 2
}
