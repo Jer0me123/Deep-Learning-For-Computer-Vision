{
 "cells": [
  {
   "cell_type": "markdown",
   "metadata": {},
   "source": [
    "# Training EmoNeXt"
   ]
  },
  {
   "cell_type": "code",
   "execution_count": null,
   "metadata": {},
   "outputs": [
    {
     "name": "stdout",
     "output_type": "stream",
     "text": [
      "EmoNeXt-master/train.py --dataset-name=AffectNet_Aligned --dataset-path=../../Datasets/AffectNet_Structured_Aligned --batch-size=32 --patience=15 --lr=1e-05 --epochs=300 --num-workers=0 --model-size=small --output-dir=ModelsReadyForComparison --amp --in_22k --checkpoint ModelsReadyForComparison/EmoNeXt_AffectNet_Aligned_best_model_LR_1e-05_BS_32_P_15_E_300_MS_small_AMP_True_22K_True_old.pt\n",
      "Using 37553 images for training.\n",
      "Using 800 images for evaluation.\n",
      "Using 3200 images for testing.\n",
      "Class to index mapping: {'0': 0, '1': 1, '2': 2, '3': 3, '4': 4, '5': 5, '6': 6, '7': 7}\n",
      "Device used: cuda\n"
     ]
    },
    {
     "name": "stderr",
     "output_type": "stream",
     "text": [
      "C:\\MastersRepos\\Deep-Learning-For-Computer-Vision\\Models\\EmoNeXt\\EmoNeXt-master\\train.py:69: FutureWarning: `torch.cuda.amp.GradScaler(args...)` is deprecated. Please use `torch.amp.GradScaler('cuda', args...)` instead.\n",
      "  self.scaler = torch.cuda.amp.GradScaler(enabled=self.amp)\n"
     ]
    },
    {
     "name": "stdout",
     "output_type": "stream",
     "text": [
      "[Epoch: 1/300]\n",
      "100%|██████████| 1174/1174 [08:55<00:00,  2.19batch/s, loss=1.54, acc=55.6]\n",
      "100%|██████████| 800/800 [00:23<00:00, 34.29batch/s]"
     ]
    },
    {
     "name": "stderr",
     "output_type": "stream",
     "text": [
      "\u001b[34m\u001b[1mwandb\u001b[0m: \u001b[33mWARNING\u001b[0m Artifacts logged anonymously cannot be claimed and expire after 7 days.\n"
     ]
    },
    {
     "name": "stdout",
     "output_type": "stream",
     "text": [
      "\n",
      "Eval loss: 1.5650, Eval Accuracy: 55.2500009537 %\n",
      "[Epoch: 2/300]\n",
      "100%|██████████| 1174/1174 [08:48<00:00,  2.22batch/s, loss=1.54, acc=55.4]\n",
      "100%|██████████| 800/800 [00:22<00:00, 35.20batch/s]"
     ]
    },
    {
     "name": "stderr",
     "output_type": "stream",
     "text": [
      "\u001b[34m\u001b[1mwandb\u001b[0m: \u001b[33mWARNING\u001b[0m Artifacts logged anonymously cannot be claimed and expire after 7 days.\n"
     ]
    },
    {
     "name": "stdout",
     "output_type": "stream",
     "text": [
      "\n",
      "Eval loss: 1.5653, Eval Accuracy: 55.3749978542 %\n",
      "[Epoch: 3/300]\n",
      "100%|██████████| 1174/1174 [08:31<00:00,  2.29batch/s, loss=1.53, acc=56]  \n",
      "100%|██████████| 800/800 [00:22<00:00, 34.92batch/s]"
     ]
    },
    {
     "name": "stderr",
     "output_type": "stream",
     "text": [
      "\u001b[34m\u001b[1mwandb\u001b[0m: \u001b[33mWARNING\u001b[0m Artifacts logged anonymously cannot be claimed and expire after 7 days.\n"
     ]
    },
    {
     "name": "stdout",
     "output_type": "stream",
     "text": [
      "\n",
      "Eval loss: 1.5652, Eval Accuracy: 55.3749978542 %\n",
      "[Epoch: 4/300]\n",
      "100%|██████████| 1174/1174 [08:32<00:00,  2.29batch/s, loss=1.53, acc=56.1]\n",
      "100%|██████████| 800/800 [00:22<00:00, 34.98batch/s]"
     ]
    },
    {
     "name": "stderr",
     "output_type": "stream",
     "text": [
      "\u001b[34m\u001b[1mwandb\u001b[0m: \u001b[33mWARNING\u001b[0m Artifacts logged anonymously cannot be claimed and expire after 7 days.\n"
     ]
    },
    {
     "name": "stdout",
     "output_type": "stream",
     "text": [
      "\n",
      "Eval loss: 1.5652, Eval Accuracy: 55.8749973774 %\n",
      "[Epoch: 5/300]\n",
      "100%|██████████| 1174/1174 [08:30<00:00,  2.30batch/s, loss=1.52, acc=56.6]\n",
      "100%|██████████| 800/800 [00:22<00:00, 35.32batch/s]\n"
     ]
    },
    {
     "name": "stderr",
     "output_type": "stream",
     "text": [
      "\u001b[34m\u001b[1mwandb\u001b[0m: \u001b[33mWARNING\u001b[0m Artifacts logged anonymously cannot be claimed and expire after 7 days.\n"
     ]
    },
    {
     "name": "stdout",
     "output_type": "stream",
     "text": [
      "Eval loss: 1.5705, Eval Accuracy: 55.0000011921 %\n",
      "[Epoch: 6/300]\n",
      "100%|██████████| 1174/1174 [08:35<00:00,  2.28batch/s, loss=1.52, acc=56.5]\n",
      "100%|██████████| 800/800 [00:23<00:00, 34.47batch/s]"
     ]
    },
    {
     "name": "stderr",
     "output_type": "stream",
     "text": [
      "\u001b[34m\u001b[1mwandb\u001b[0m: \u001b[33mWARNING\u001b[0m Artifacts logged anonymously cannot be claimed and expire after 7 days.\n"
     ]
    },
    {
     "name": "stdout",
     "output_type": "stream",
     "text": [
      "\n",
      "Eval loss: 1.5582, Eval Accuracy: 55.3749978542 %\n",
      "[Epoch: 7/300]\n",
      "100%|██████████| 1174/1174 [08:34<00:00,  2.28batch/s, loss=1.52, acc=56.7]\n",
      "100%|██████████| 800/800 [00:22<00:00, 35.14batch/s]"
     ]
    },
    {
     "name": "stderr",
     "output_type": "stream",
     "text": [
      "\u001b[34m\u001b[1mwandb\u001b[0m: \u001b[33mWARNING\u001b[0m Artifacts logged anonymously cannot be claimed and expire after 7 days.\n"
     ]
    },
    {
     "name": "stdout",
     "output_type": "stream",
     "text": [
      "\n",
      "Eval loss: 1.5527, Eval Accuracy: 56.1249971390 %\n",
      "[Epoch: 8/300]\n",
      "100%|██████████| 1174/1174 [08:37<00:00,  2.27batch/s, loss=1.51, acc=57.3]\n",
      "100%|██████████| 800/800 [00:22<00:00, 35.09batch/s]"
     ]
    },
    {
     "name": "stderr",
     "output_type": "stream",
     "text": [
      "\u001b[34m\u001b[1mwandb\u001b[0m: \u001b[33mWARNING\u001b[0m Artifacts logged anonymously cannot be claimed and expire after 7 days.\n"
     ]
    },
    {
     "name": "stdout",
     "output_type": "stream",
     "text": [
      "\n",
      "Eval loss: 1.5539, Eval Accuracy: 56.4999997616 %\n",
      "[Epoch: 9/300]\n",
      "100%|██████████| 1174/1174 [08:31<00:00,  2.30batch/s, loss=1.5, acc=57.7] \n",
      "100%|██████████| 800/800 [00:22<00:00, 34.80batch/s]"
     ]
    },
    {
     "name": "stderr",
     "output_type": "stream",
     "text": [
      "\u001b[34m\u001b[1mwandb\u001b[0m: \u001b[33mWARNING\u001b[0m Artifacts logged anonymously cannot be claimed and expire after 7 days.\n"
     ]
    },
    {
     "name": "stdout",
     "output_type": "stream",
     "text": [
      "\n",
      "Eval loss: 1.5472, Eval Accuracy: 56.1249971390 %\n",
      "[Epoch: 10/300]\n",
      "100%|██████████| 1174/1174 [08:28<00:00,  2.31batch/s, loss=1.5, acc=57.9]\n",
      "100%|██████████| 800/800 [00:23<00:00, 34.50batch/s]"
     ]
    },
    {
     "name": "stderr",
     "output_type": "stream",
     "text": [
      "\u001b[34m\u001b[1mwandb\u001b[0m: \u001b[33mWARNING\u001b[0m Artifacts logged anonymously cannot be claimed and expire after 7 days.\n"
     ]
    },
    {
     "name": "stdout",
     "output_type": "stream",
     "text": [
      "\n",
      "Eval loss: 1.5502, Eval Accuracy: 56.9999992847 %\n",
      "[Epoch: 11/300]\n",
      "100%|██████████| 1174/1174 [08:32<00:00,  2.29batch/s, loss=1.51, acc=57.7]\n",
      "100%|██████████| 800/800 [00:23<00:00, 34.27batch/s]"
     ]
    },
    {
     "name": "stderr",
     "output_type": "stream",
     "text": [
      "\u001b[34m\u001b[1mwandb\u001b[0m: \u001b[33mWARNING\u001b[0m Artifacts logged anonymously cannot be claimed and expire after 7 days.\n"
     ]
    },
    {
     "name": "stdout",
     "output_type": "stream",
     "text": [
      "\n",
      "Eval loss: 1.5482, Eval Accuracy: 55.5000007153 %\n",
      "[Epoch: 12/300]\n",
      "100%|██████████| 1174/1174 [08:30<00:00,  2.30batch/s, loss=1.5, acc=58.1]\n",
      "100%|██████████| 800/800 [00:23<00:00, 34.45batch/s]\n"
     ]
    },
    {
     "name": "stderr",
     "output_type": "stream",
     "text": [
      "\u001b[34m\u001b[1mwandb\u001b[0m: \u001b[33mWARNING\u001b[0m Artifacts logged anonymously cannot be claimed and expire after 7 days.\n"
     ]
    },
    {
     "name": "stdout",
     "output_type": "stream",
     "text": [
      "Eval loss: 1.5560, Eval Accuracy: 57.2499990463 %\n",
      "[Epoch: 13/300]\n",
      "100%|██████████| 1174/1174 [08:31<00:00,  2.30batch/s, loss=1.5, acc=58.2] \n",
      "100%|██████████| 800/800 [00:23<00:00, 34.31batch/s]"
     ]
    },
    {
     "name": "stderr",
     "output_type": "stream",
     "text": [
      "\u001b[34m\u001b[1mwandb\u001b[0m: \u001b[33mWARNING\u001b[0m Artifacts logged anonymously cannot be claimed and expire after 7 days.\n"
     ]
    },
    {
     "name": "stdout",
     "output_type": "stream",
     "text": [
      "\n",
      "Eval loss: 1.5633, Eval Accuracy: 56.0000002384 %\n",
      "[Epoch: 14/300]\n",
      "100%|██████████| 1174/1174 [08:50<00:00,  2.21batch/s, loss=1.49, acc=58.4]\n",
      "100%|██████████| 800/800 [00:24<00:00, 33.26batch/s]"
     ]
    },
    {
     "name": "stderr",
     "output_type": "stream",
     "text": [
      "\u001b[34m\u001b[1mwandb\u001b[0m: \u001b[33mWARNING\u001b[0m Artifacts logged anonymously cannot be claimed and expire after 7 days.\n"
     ]
    },
    {
     "name": "stdout",
     "output_type": "stream",
     "text": [
      "\n",
      "Eval loss: 1.5302, Eval Accuracy: 57.8750014305 %\n",
      "[Epoch: 15/300]\n",
      "100%|██████████| 1174/1174 [08:57<00:00,  2.18batch/s, loss=1.49, acc=58.6]\n",
      "100%|██████████| 800/800 [00:23<00:00, 33.83batch/s]\n"
     ]
    },
    {
     "name": "stderr",
     "output_type": "stream",
     "text": [
      "\u001b[34m\u001b[1mwandb\u001b[0m: \u001b[33mWARNING\u001b[0m Artifacts logged anonymously cannot be claimed and expire after 7 days.\n"
     ]
    },
    {
     "name": "stdout",
     "output_type": "stream",
     "text": [
      "Eval loss: 1.5441, Eval Accuracy: 57.2499990463 %\n",
      "[Epoch: 16/300]\n",
      "100%|██████████| 1174/1174 [08:25<00:00,  2.32batch/s, loss=1.49, acc=58.9]\n",
      "100%|██████████| 800/800 [00:23<00:00, 34.66batch/s]\n"
     ]
    },
    {
     "name": "stderr",
     "output_type": "stream",
     "text": [
      "\u001b[34m\u001b[1mwandb\u001b[0m: \u001b[33mWARNING\u001b[0m Artifacts logged anonymously cannot be claimed and expire after 7 days.\n"
     ]
    },
    {
     "name": "stdout",
     "output_type": "stream",
     "text": [
      "Eval loss: 1.5375, Eval Accuracy: 56.4999997616 %\n",
      "[Epoch: 17/300]\n",
      "100%|██████████| 1174/1174 [08:22<00:00,  2.34batch/s, loss=1.48, acc=59.4]\n",
      "100%|██████████| 800/800 [00:23<00:00, 34.63batch/s]"
     ]
    },
    {
     "name": "stderr",
     "output_type": "stream",
     "text": [
      "\u001b[34m\u001b[1mwandb\u001b[0m: \u001b[33mWARNING\u001b[0m Artifacts logged anonymously cannot be claimed and expire after 7 days.\n"
     ]
    },
    {
     "name": "stdout",
     "output_type": "stream",
     "text": [
      "\n",
      "Eval loss: 1.5410, Eval Accuracy: 57.1250021458 %\n",
      "[Epoch: 18/300]\n",
      "100%|██████████| 1174/1174 [08:25<00:00,  2.32batch/s, loss=1.48, acc=59.6]\n",
      "100%|██████████| 800/800 [00:23<00:00, 34.22batch/s]\n"
     ]
    },
    {
     "name": "stderr",
     "output_type": "stream",
     "text": [
      "\u001b[34m\u001b[1mwandb\u001b[0m: \u001b[33mWARNING\u001b[0m Artifacts logged anonymously cannot be claimed and expire after 7 days.\n"
     ]
    },
    {
     "name": "stdout",
     "output_type": "stream",
     "text": [
      "Eval loss: 1.5558, Eval Accuracy: 55.6249976158 %\n",
      "[Epoch: 19/300]\n",
      "100%|██████████| 1174/1174 [08:27<00:00,  2.31batch/s, loss=1.48, acc=59.3]\n",
      "100%|██████████| 800/800 [00:23<00:00, 34.39batch/s]"
     ]
    },
    {
     "name": "stderr",
     "output_type": "stream",
     "text": [
      "\u001b[34m\u001b[1mwandb\u001b[0m: \u001b[33mWARNING\u001b[0m Artifacts logged anonymously cannot be claimed and expire after 7 days.\n"
     ]
    },
    {
     "name": "stdout",
     "output_type": "stream",
     "text": [
      "\n",
      "Eval loss: 1.5271, Eval Accuracy: 56.1249971390 %\n",
      "[Epoch: 20/300]\n",
      "100%|██████████| 1174/1174 [08:28<00:00,  2.31batch/s, loss=1.47, acc=59.7]\n",
      "100%|██████████| 800/800 [00:23<00:00, 34.30batch/s]"
     ]
    },
    {
     "name": "stderr",
     "output_type": "stream",
     "text": [
      "\u001b[34m\u001b[1mwandb\u001b[0m: \u001b[33mWARNING\u001b[0m Artifacts logged anonymously cannot be claimed and expire after 7 days.\n"
     ]
    },
    {
     "name": "stdout",
     "output_type": "stream",
     "text": [
      "\n",
      "Eval loss: 1.5392, Eval Accuracy: 56.3750028610 %\n",
      "[Epoch: 21/300]\n",
      "100%|██████████| 1174/1174 [08:36<00:00,  2.27batch/s, loss=1.47, acc=59.8]\n",
      "100%|██████████| 800/800 [00:22<00:00, 35.08batch/s]"
     ]
    },
    {
     "name": "stderr",
     "output_type": "stream",
     "text": [
      "\u001b[34m\u001b[1mwandb\u001b[0m: \u001b[33mWARNING\u001b[0m Artifacts logged anonymously cannot be claimed and expire after 7 days.\n"
     ]
    },
    {
     "name": "stdout",
     "output_type": "stream",
     "text": [
      "\n",
      "Eval loss: 1.5356, Eval Accuracy: 58.4999978542 %\n",
      "[Epoch: 22/300]\n",
      "100%|██████████| 1174/1174 [08:31<00:00,  2.29batch/s, loss=1.47, acc=60.3]\n",
      "100%|██████████| 800/800 [00:23<00:00, 34.41batch/s]\n"
     ]
    },
    {
     "name": "stderr",
     "output_type": "stream",
     "text": [
      "\u001b[34m\u001b[1mwandb\u001b[0m: \u001b[33mWARNING\u001b[0m Artifacts logged anonymously cannot be claimed and expire after 7 days.\n"
     ]
    },
    {
     "name": "stdout",
     "output_type": "stream",
     "text": [
      "Eval loss: 1.5267, Eval Accuracy: 57.4999988079 %\n",
      "[Epoch: 23/300]\n",
      "100%|██████████| 1174/1174 [08:31<00:00,  2.29batch/s, loss=1.46, acc=60.5]\n",
      "100%|██████████| 800/800 [00:23<00:00, 34.23batch/s]"
     ]
    },
    {
     "name": "stderr",
     "output_type": "stream",
     "text": [
      "\u001b[34m\u001b[1mwandb\u001b[0m: \u001b[33mWARNING\u001b[0m Artifacts logged anonymously cannot be claimed and expire after 7 days.\n"
     ]
    },
    {
     "name": "stdout",
     "output_type": "stream",
     "text": [
      "\n",
      "Eval loss: 1.5332, Eval Accuracy: 58.4999978542 %\n",
      "[Epoch: 24/300]\n",
      "100%|██████████| 1174/1174 [08:31<00:00,  2.30batch/s, loss=1.46, acc=60.6]\n",
      "100%|██████████| 800/800 [00:23<00:00, 34.57batch/s]"
     ]
    },
    {
     "name": "stderr",
     "output_type": "stream",
     "text": [
      "\u001b[34m\u001b[1mwandb\u001b[0m: \u001b[33mWARNING\u001b[0m Artifacts logged anonymously cannot be claimed and expire after 7 days.\n"
     ]
    },
    {
     "name": "stdout",
     "output_type": "stream",
     "text": [
      "\n",
      "Eval loss: 1.5204, Eval Accuracy: 59.1250002384 %\n",
      "[Epoch: 25/300]\n",
      "100%|██████████| 1174/1174 [08:32<00:00,  2.29batch/s, loss=1.46, acc=60.3]\n",
      "100%|██████████| 800/800 [00:23<00:00, 34.15batch/s]"
     ]
    },
    {
     "name": "stderr",
     "output_type": "stream",
     "text": [
      "\u001b[34m\u001b[1mwandb\u001b[0m: \u001b[33mWARNING\u001b[0m Artifacts logged anonymously cannot be claimed and expire after 7 days.\n"
     ]
    },
    {
     "name": "stdout",
     "output_type": "stream",
     "text": [
      "\n",
      "Eval loss: 1.5277, Eval Accuracy: 57.6250016689 %\n",
      "[Epoch: 26/300]\n",
      "100%|██████████| 1174/1174 [08:30<00:00,  2.30batch/s, loss=1.47, acc=59.8]\n",
      "100%|██████████| 800/800 [00:23<00:00, 34.22batch/s]"
     ]
    },
    {
     "name": "stderr",
     "output_type": "stream",
     "text": [
      "\u001b[34m\u001b[1mwandb\u001b[0m: \u001b[33mWARNING\u001b[0m Artifacts logged anonymously cannot be claimed and expire after 7 days.\n"
     ]
    },
    {
     "name": "stdout",
     "output_type": "stream",
     "text": [
      "\n",
      "Eval loss: 1.5313, Eval Accuracy: 56.9999992847 %\n",
      "[Epoch: 27/300]\n",
      "100%|██████████| 1174/1174 [08:31<00:00,  2.30batch/s, loss=1.46, acc=60.6]\n",
      "100%|██████████| 800/800 [00:23<00:00, 34.06batch/s]"
     ]
    },
    {
     "name": "stderr",
     "output_type": "stream",
     "text": [
      "\u001b[34m\u001b[1mwandb\u001b[0m: \u001b[33mWARNING\u001b[0m Artifacts logged anonymously cannot be claimed and expire after 7 days.\n"
     ]
    },
    {
     "name": "stdout",
     "output_type": "stream",
     "text": [
      "\n",
      "Eval loss: 1.5290, Eval Accuracy: 58.1250011921 %\n",
      "[Epoch: 28/300]\n",
      "100%|██████████| 1174/1174 [08:30<00:00,  2.30batch/s, loss=1.46, acc=60.8]\n",
      "100%|██████████| 800/800 [00:23<00:00, 34.17batch/s]"
     ]
    },
    {
     "name": "stderr",
     "output_type": "stream",
     "text": [
      "\u001b[34m\u001b[1mwandb\u001b[0m: \u001b[33mWARNING\u001b[0m Artifacts logged anonymously cannot be claimed and expire after 7 days.\n"
     ]
    },
    {
     "name": "stdout",
     "output_type": "stream",
     "text": [
      "\n",
      "Eval loss: 1.5247, Eval Accuracy: 58.8750004768 %\n",
      "[Epoch: 29/300]\n",
      "100%|██████████| 1174/1174 [08:31<00:00,  2.30batch/s, loss=1.46, acc=60.3]\n",
      "100%|██████████| 800/800 [00:23<00:00, 34.47batch/s]"
     ]
    },
    {
     "name": "stderr",
     "output_type": "stream",
     "text": [
      "\u001b[34m\u001b[1mwandb\u001b[0m: \u001b[33mWARNING\u001b[0m Artifacts logged anonymously cannot be claimed and expire after 7 days.\n"
     ]
    },
    {
     "name": "stdout",
     "output_type": "stream",
     "text": [
      "\n",
      "Eval loss: 1.5215, Eval Accuracy: 57.9999983311 %\n",
      "[Epoch: 30/300]\n",
      "100%|██████████| 1174/1174 [08:32<00:00,  2.29batch/s, loss=1.46, acc=60.6]\n",
      "100%|██████████| 800/800 [00:23<00:00, 34.52batch/s]"
     ]
    },
    {
     "name": "stderr",
     "output_type": "stream",
     "text": [
      "\u001b[34m\u001b[1mwandb\u001b[0m: \u001b[33mWARNING\u001b[0m Artifacts logged anonymously cannot be claimed and expire after 7 days.\n"
     ]
    },
    {
     "name": "stdout",
     "output_type": "stream",
     "text": [
      "\n",
      "Eval loss: 1.5294, Eval Accuracy: 57.9999983311 %\n",
      "[Epoch: 31/300]\n",
      "100%|██████████| 1174/1174 [08:31<00:00,  2.29batch/s, loss=1.45, acc=61.3]\n",
      "100%|██████████| 800/800 [00:23<00:00, 34.35batch/s]"
     ]
    },
    {
     "name": "stderr",
     "output_type": "stream",
     "text": [
      "\u001b[34m\u001b[1mwandb\u001b[0m: \u001b[33mWARNING\u001b[0m Artifacts logged anonymously cannot be claimed and expire after 7 days.\n"
     ]
    },
    {
     "name": "stdout",
     "output_type": "stream",
     "text": [
      "\n",
      "Eval loss: 1.5558, Eval Accuracy: 58.1250011921 %\n",
      "[Epoch: 32/300]\n",
      "100%|██████████| 1174/1174 [08:32<00:00,  2.29batch/s, loss=1.45, acc=61.3]\n",
      "100%|██████████| 800/800 [00:23<00:00, 34.28batch/s]"
     ]
    },
    {
     "name": "stderr",
     "output_type": "stream",
     "text": [
      "\u001b[34m\u001b[1mwandb\u001b[0m: \u001b[33mWARNING\u001b[0m Artifacts logged anonymously cannot be claimed and expire after 7 days.\n"
     ]
    },
    {
     "name": "stdout",
     "output_type": "stream",
     "text": [
      "\n",
      "Eval loss: 1.5259, Eval Accuracy: 57.8750014305 %\n",
      "[Epoch: 33/300]\n",
      "100%|██████████| 1174/1174 [08:30<00:00,  2.30batch/s, loss=1.45, acc=61.3]\n",
      "100%|██████████| 800/800 [00:23<00:00, 34.68batch/s]"
     ]
    },
    {
     "name": "stderr",
     "output_type": "stream",
     "text": [
      "\u001b[34m\u001b[1mwandb\u001b[0m: \u001b[33mWARNING\u001b[0m Artifacts logged anonymously cannot be claimed and expire after 7 days.\n"
     ]
    },
    {
     "name": "stdout",
     "output_type": "stream",
     "text": [
      "\n",
      "Eval loss: 1.5219, Eval Accuracy: 56.1249971390 %\n",
      "[Epoch: 34/300]\n",
      "100%|██████████| 1174/1174 [08:27<00:00,  2.31batch/s, loss=1.45, acc=61.4]\n",
      "100%|██████████| 800/800 [00:23<00:00, 34.34batch/s]"
     ]
    },
    {
     "name": "stderr",
     "output_type": "stream",
     "text": [
      "\u001b[34m\u001b[1mwandb\u001b[0m: \u001b[33mWARNING\u001b[0m Artifacts logged anonymously cannot be claimed and expire after 7 days.\n"
     ]
    },
    {
     "name": "stdout",
     "output_type": "stream",
     "text": [
      "\n",
      "Eval loss: 1.5248, Eval Accuracy: 57.4999988079 %\n",
      "[Epoch: 35/300]\n",
      "100%|██████████| 1174/1174 [08:32<00:00,  2.29batch/s, loss=1.44, acc=61.7]\n",
      "100%|██████████| 800/800 [00:23<00:00, 34.11batch/s]"
     ]
    },
    {
     "name": "stderr",
     "output_type": "stream",
     "text": [
      "\u001b[34m\u001b[1mwandb\u001b[0m: \u001b[33mWARNING\u001b[0m Artifacts logged anonymously cannot be claimed and expire after 7 days.\n"
     ]
    },
    {
     "name": "stdout",
     "output_type": "stream",
     "text": [
      "\n",
      "Eval loss: 1.5223, Eval Accuracy: 59.8749995232 %\n",
      "[Epoch: 36/300]\n",
      "100%|██████████| 1174/1174 [08:28<00:00,  2.31batch/s, loss=1.44, acc=62.1]\n",
      "100%|██████████| 800/800 [00:23<00:00, 34.43batch/s]"
     ]
    },
    {
     "name": "stderr",
     "output_type": "stream",
     "text": [
      "\u001b[34m\u001b[1mwandb\u001b[0m: \u001b[33mWARNING\u001b[0m Artifacts logged anonymously cannot be claimed and expire after 7 days.\n"
     ]
    },
    {
     "name": "stdout",
     "output_type": "stream",
     "text": [
      "\n",
      "Eval loss: 1.5170, Eval Accuracy: 58.7499976158 %\n",
      "[Epoch: 37/300]\n",
      "100%|██████████| 1174/1174 [08:27<00:00,  2.31batch/s, loss=1.44, acc=61.8]\n",
      "100%|██████████| 800/800 [00:23<00:00, 34.08batch/s]"
     ]
    },
    {
     "name": "stderr",
     "output_type": "stream",
     "text": [
      "\u001b[34m\u001b[1mwandb\u001b[0m: \u001b[33mWARNING\u001b[0m Artifacts logged anonymously cannot be claimed and expire after 7 days.\n"
     ]
    },
    {
     "name": "stdout",
     "output_type": "stream",
     "text": [
      "\n",
      "Eval loss: 1.5221, Eval Accuracy: 59.1250002384 %\n",
      "[Epoch: 38/300]\n",
      "100%|██████████| 1174/1174 [08:28<00:00,  2.31batch/s, loss=1.44, acc=61.6]\n",
      "100%|██████████| 800/800 [00:23<00:00, 34.27batch/s]"
     ]
    },
    {
     "name": "stderr",
     "output_type": "stream",
     "text": [
      "\u001b[34m\u001b[1mwandb\u001b[0m: \u001b[33mWARNING\u001b[0m Artifacts logged anonymously cannot be claimed and expire after 7 days.\n"
     ]
    },
    {
     "name": "stdout",
     "output_type": "stream",
     "text": [
      "\n",
      "Eval loss: 1.5239, Eval Accuracy: 57.6250016689 %\n",
      "[Epoch: 39/300]\n",
      "100%|██████████| 1174/1174 [08:28<00:00,  2.31batch/s, loss=1.44, acc=61.9]\n",
      "100%|██████████| 800/800 [00:22<00:00, 35.09batch/s]"
     ]
    },
    {
     "name": "stderr",
     "output_type": "stream",
     "text": [
      "\u001b[34m\u001b[1mwandb\u001b[0m: \u001b[33mWARNING\u001b[0m Artifacts logged anonymously cannot be claimed and expire after 7 days.\n"
     ]
    },
    {
     "name": "stdout",
     "output_type": "stream",
     "text": [
      "\n",
      "Eval loss: 1.5249, Eval Accuracy: 58.6250007153 %\n",
      "[Epoch: 40/300]\n",
      "100%|██████████| 1174/1174 [08:29<00:00,  2.30batch/s, loss=1.43, acc=62.7]\n",
      "100%|██████████| 800/800 [00:22<00:00, 35.14batch/s]"
     ]
    },
    {
     "name": "stderr",
     "output_type": "stream",
     "text": [
      "\u001b[34m\u001b[1mwandb\u001b[0m: \u001b[33mWARNING\u001b[0m Artifacts logged anonymously cannot be claimed and expire after 7 days.\n"
     ]
    },
    {
     "name": "stdout",
     "output_type": "stream",
     "text": [
      "\n",
      "Eval loss: 1.5177, Eval Accuracy: 58.6250007153 %\n",
      "[Epoch: 41/300]\n",
      "100%|██████████| 1174/1174 [08:28<00:00,  2.31batch/s, loss=1.43, acc=62.5]\n",
      "100%|██████████| 800/800 [00:22<00:00, 34.95batch/s]"
     ]
    },
    {
     "name": "stderr",
     "output_type": "stream",
     "text": [
      "\u001b[34m\u001b[1mwandb\u001b[0m: \u001b[33mWARNING\u001b[0m Artifacts logged anonymously cannot be claimed and expire after 7 days.\n"
     ]
    },
    {
     "name": "stdout",
     "output_type": "stream",
     "text": [
      "\n",
      "Eval loss: 1.5255, Eval Accuracy: 60.0000023842 %\n",
      "[Epoch: 42/300]\n",
      "100%|██████████| 1174/1174 [08:30<00:00,  2.30batch/s, loss=1.43, acc=62.6]\n",
      "100%|██████████| 800/800 [00:23<00:00, 34.67batch/s]"
     ]
    },
    {
     "name": "stderr",
     "output_type": "stream",
     "text": [
      "\u001b[34m\u001b[1mwandb\u001b[0m: \u001b[33mWARNING\u001b[0m Artifacts logged anonymously cannot be claimed and expire after 7 days.\n"
     ]
    },
    {
     "name": "stdout",
     "output_type": "stream",
     "text": [
      "\n",
      "Eval loss: 1.5304, Eval Accuracy: 59.5000028610 %\n",
      "[Epoch: 43/300]\n",
      "100%|██████████| 1174/1174 [08:31<00:00,  2.30batch/s, loss=1.43, acc=62.8]\n",
      "100%|██████████| 800/800 [00:23<00:00, 34.68batch/s]"
     ]
    },
    {
     "name": "stderr",
     "output_type": "stream",
     "text": [
      "\u001b[34m\u001b[1mwandb\u001b[0m: \u001b[33mWARNING\u001b[0m Artifacts logged anonymously cannot be claimed and expire after 7 days.\n"
     ]
    },
    {
     "name": "stdout",
     "output_type": "stream",
     "text": [
      "\n",
      "Eval loss: 1.5140, Eval Accuracy: 58.8750004768 %\n",
      "[Epoch: 44/300]\n",
      "100%|██████████| 1174/1174 [08:31<00:00,  2.29batch/s, loss=1.43, acc=62.7]\n",
      "100%|██████████| 800/800 [00:24<00:00, 32.98batch/s]\n"
     ]
    },
    {
     "name": "stderr",
     "output_type": "stream",
     "text": [
      "\u001b[34m\u001b[1mwandb\u001b[0m: \u001b[33mWARNING\u001b[0m Artifacts logged anonymously cannot be claimed and expire after 7 days.\n"
     ]
    },
    {
     "name": "stdout",
     "output_type": "stream",
     "text": [
      "Eval loss: 1.5219, Eval Accuracy: 60.0000023842 %\n",
      "[Epoch: 45/300]\n",
      "100%|██████████| 1174/1174 [08:25<00:00,  2.32batch/s, loss=1.43, acc=63]  \n",
      "100%|██████████| 800/800 [00:22<00:00, 35.30batch/s]"
     ]
    },
    {
     "name": "stderr",
     "output_type": "stream",
     "text": [
      "\u001b[34m\u001b[1mwandb\u001b[0m: \u001b[33mWARNING\u001b[0m Artifacts logged anonymously cannot be claimed and expire after 7 days.\n"
     ]
    },
    {
     "name": "stdout",
     "output_type": "stream",
     "text": [
      "\n",
      "Eval loss: 1.5316, Eval Accuracy: 59.3750000000 %\n",
      "[Epoch: 46/300]\n",
      "100%|██████████| 1174/1174 [08:23<00:00,  2.33batch/s, loss=1.42, acc=63.5]\n",
      "100%|██████████| 800/800 [00:22<00:00, 34.97batch/s]"
     ]
    },
    {
     "name": "stderr",
     "output_type": "stream",
     "text": [
      "\u001b[34m\u001b[1mwandb\u001b[0m: \u001b[33mWARNING\u001b[0m Artifacts logged anonymously cannot be claimed and expire after 7 days.\n"
     ]
    },
    {
     "name": "stdout",
     "output_type": "stream",
     "text": [
      "\n",
      "Eval loss: 1.5249, Eval Accuracy: 59.5000028610 %\n",
      "[Epoch: 47/300]\n",
      "100%|██████████| 1174/1174 [08:19<00:00,  2.35batch/s, loss=1.42, acc=63.8]\n",
      "100%|██████████| 800/800 [00:23<00:00, 34.70batch/s]"
     ]
    },
    {
     "name": "stderr",
     "output_type": "stream",
     "text": [
      "\u001b[34m\u001b[1mwandb\u001b[0m: \u001b[33mWARNING\u001b[0m Artifacts logged anonymously cannot be claimed and expire after 7 days.\n"
     ]
    },
    {
     "name": "stdout",
     "output_type": "stream",
     "text": [
      "\n",
      "Eval loss: 1.5191, Eval Accuracy: 58.8750004768 %\n",
      "[Epoch: 48/300]\n",
      "100%|██████████| 1174/1174 [08:24<00:00,  2.33batch/s, loss=1.41, acc=63.8]\n",
      "100%|██████████| 800/800 [00:23<00:00, 34.03batch/s]"
     ]
    },
    {
     "name": "stderr",
     "output_type": "stream",
     "text": [
      "\u001b[34m\u001b[1mwandb\u001b[0m: \u001b[33mWARNING\u001b[0m Artifacts logged anonymously cannot be claimed and expire after 7 days.\n"
     ]
    },
    {
     "name": "stdout",
     "output_type": "stream",
     "text": [
      "\n",
      "Eval loss: 1.5167, Eval Accuracy: 60.1249992847 %\n",
      "[Epoch: 49/300]\n",
      "100%|██████████| 1174/1174 [08:23<00:00,  2.33batch/s, loss=1.41, acc=63.7]\n",
      "100%|██████████| 800/800 [00:23<00:00, 34.45batch/s]"
     ]
    },
    {
     "name": "stderr",
     "output_type": "stream",
     "text": [
      "\u001b[34m\u001b[1mwandb\u001b[0m: \u001b[33mWARNING\u001b[0m Artifacts logged anonymously cannot be claimed and expire after 7 days.\n"
     ]
    },
    {
     "name": "stdout",
     "output_type": "stream",
     "text": [
      "\n",
      "Eval loss: 1.5176, Eval Accuracy: 59.5000028610 %\n",
      "[Epoch: 50/300]\n",
      "100%|██████████| 1174/1174 [08:20<00:00,  2.35batch/s, loss=1.41, acc=63.9]\n",
      "100%|██████████| 800/800 [00:23<00:00, 34.35batch/s]"
     ]
    },
    {
     "name": "stderr",
     "output_type": "stream",
     "text": [
      "\u001b[34m\u001b[1mwandb\u001b[0m: \u001b[33mWARNING\u001b[0m Artifacts logged anonymously cannot be claimed and expire after 7 days.\n"
     ]
    },
    {
     "name": "stdout",
     "output_type": "stream",
     "text": [
      "\n",
      "Eval loss: 1.5124, Eval Accuracy: 60.5000019073 %\n",
      "[Epoch: 51/300]\n",
      "100%|██████████| 1174/1174 [08:21<00:00,  2.34batch/s, loss=1.41, acc=64]  \n",
      "100%|██████████| 800/800 [00:23<00:00, 34.59batch/s]"
     ]
    },
    {
     "name": "stderr",
     "output_type": "stream",
     "text": [
      "\u001b[34m\u001b[1mwandb\u001b[0m: \u001b[33mWARNING\u001b[0m Artifacts logged anonymously cannot be claimed and expire after 7 days.\n"
     ]
    },
    {
     "name": "stdout",
     "output_type": "stream",
     "text": [
      "\n",
      "Eval loss: 1.5357, Eval Accuracy: 58.4999978542 %\n",
      "[Epoch: 52/300]\n",
      "100%|██████████| 1174/1174 [08:24<00:00,  2.33batch/s, loss=1.41, acc=64]  \n",
      "100%|██████████| 800/800 [00:23<00:00, 34.44batch/s]"
     ]
    },
    {
     "name": "stderr",
     "output_type": "stream",
     "text": [
      "\u001b[34m\u001b[1mwandb\u001b[0m: \u001b[33mWARNING\u001b[0m Artifacts logged anonymously cannot be claimed and expire after 7 days.\n"
     ]
    },
    {
     "name": "stdout",
     "output_type": "stream",
     "text": [
      "\n",
      "Eval loss: 1.5338, Eval Accuracy: 58.8750004768 %\n",
      "[Epoch: 53/300]\n",
      "100%|██████████| 1174/1174 [08:23<00:00,  2.33batch/s, loss=1.4, acc=63.9]\n",
      "100%|██████████| 800/800 [00:23<00:00, 34.67batch/s]"
     ]
    },
    {
     "name": "stderr",
     "output_type": "stream",
     "text": [
      "\u001b[34m\u001b[1mwandb\u001b[0m: \u001b[33mWARNING\u001b[0m Artifacts logged anonymously cannot be claimed and expire after 7 days.\n"
     ]
    },
    {
     "name": "stdout",
     "output_type": "stream",
     "text": [
      "\n",
      "Eval loss: 1.5173, Eval Accuracy: 59.7500026226 %\n",
      "[Epoch: 54/300]\n",
      "100%|██████████| 1174/1174 [08:22<00:00,  2.34batch/s, loss=1.4, acc=64.2]\n",
      "100%|██████████| 800/800 [00:22<00:00, 34.78batch/s]"
     ]
    },
    {
     "name": "stderr",
     "output_type": "stream",
     "text": [
      "\u001b[34m\u001b[1mwandb\u001b[0m: \u001b[33mWARNING\u001b[0m Artifacts logged anonymously cannot be claimed and expire after 7 days.\n"
     ]
    },
    {
     "name": "stdout",
     "output_type": "stream",
     "text": [
      "\n",
      "Eval loss: 1.5327, Eval Accuracy: 59.3750000000 %\n",
      "[Epoch: 55/300]\n",
      "100%|██████████| 1174/1174 [08:24<00:00,  2.33batch/s, loss=1.4, acc=64.6]\n",
      "100%|██████████| 800/800 [00:23<00:00, 34.19batch/s]\n"
     ]
    },
    {
     "name": "stderr",
     "output_type": "stream",
     "text": [
      "\u001b[34m\u001b[1mwandb\u001b[0m: \u001b[33mWARNING\u001b[0m Artifacts logged anonymously cannot be claimed and expire after 7 days.\n"
     ]
    },
    {
     "name": "stdout",
     "output_type": "stream",
     "text": [
      "Eval loss: 1.5253, Eval Accuracy: 59.1250002384 %\n",
      "[Epoch: 56/300]\n",
      "100%|██████████| 1174/1174 [08:23<00:00,  2.33batch/s, loss=1.4, acc=64.5]\n",
      "100%|██████████| 800/800 [00:23<00:00, 34.33batch/s]"
     ]
    },
    {
     "name": "stderr",
     "output_type": "stream",
     "text": [
      "\u001b[34m\u001b[1mwandb\u001b[0m: \u001b[33mWARNING\u001b[0m Artifacts logged anonymously cannot be claimed and expire after 7 days.\n"
     ]
    },
    {
     "name": "stdout",
     "output_type": "stream",
     "text": [
      "\n",
      "Eval loss: 1.5118, Eval Accuracy: 58.7499976158 %\n",
      "[Epoch: 57/300]\n",
      "100%|██████████| 1174/1174 [08:21<00:00,  2.34batch/s, loss=1.4, acc=64.6]\n",
      "100%|██████████| 800/800 [00:23<00:00, 34.69batch/s]\n"
     ]
    },
    {
     "name": "stderr",
     "output_type": "stream",
     "text": [
      "\u001b[34m\u001b[1mwandb\u001b[0m: \u001b[33mWARNING\u001b[0m Artifacts logged anonymously cannot be claimed and expire after 7 days.\n"
     ]
    },
    {
     "name": "stdout",
     "output_type": "stream",
     "text": [
      "Eval loss: 1.5097, Eval Accuracy: 60.5000019073 %\n",
      "[Epoch: 58/300]\n",
      "100%|██████████| 1174/1174 [08:18<00:00,  2.35batch/s, loss=1.4, acc=64.6]\n",
      "100%|██████████| 800/800 [00:22<00:00, 35.28batch/s]"
     ]
    },
    {
     "name": "stderr",
     "output_type": "stream",
     "text": [
      "\u001b[34m\u001b[1mwandb\u001b[0m: \u001b[33mWARNING\u001b[0m Artifacts logged anonymously cannot be claimed and expire after 7 days.\n"
     ]
    },
    {
     "name": "stdout",
     "output_type": "stream",
     "text": [
      "\n",
      "Eval loss: 1.5380, Eval Accuracy: 58.7499976158 %\n",
      "[Epoch: 59/300]\n",
      "100%|██████████| 1174/1174 [08:22<00:00,  2.33batch/s, loss=1.39, acc=65]  \n",
      "100%|██████████| 800/800 [00:23<00:00, 34.63batch/s]"
     ]
    },
    {
     "name": "stderr",
     "output_type": "stream",
     "text": [
      "\u001b[34m\u001b[1mwandb\u001b[0m: \u001b[33mWARNING\u001b[0m Artifacts logged anonymously cannot be claimed and expire after 7 days.\n"
     ]
    },
    {
     "name": "stdout",
     "output_type": "stream",
     "text": [
      "\n",
      "Eval loss: 1.5295, Eval Accuracy: 58.6250007153 %\n",
      "[Epoch: 60/300]\n",
      "100%|██████████| 1174/1174 [08:24<00:00,  2.33batch/s, loss=1.38, acc=65.6]\n",
      "100%|██████████| 800/800 [00:23<00:00, 34.74batch/s]"
     ]
    },
    {
     "name": "stderr",
     "output_type": "stream",
     "text": [
      "\u001b[34m\u001b[1mwandb\u001b[0m: \u001b[33mWARNING\u001b[0m Artifacts logged anonymously cannot be claimed and expire after 7 days.\n"
     ]
    },
    {
     "name": "stdout",
     "output_type": "stream",
     "text": [
      "\n",
      "Eval loss: 1.5031, Eval Accuracy: 58.7499976158 %\n",
      "[Epoch: 61/300]\n",
      "100%|██████████| 1174/1174 [08:20<00:00,  2.35batch/s, loss=1.38, acc=65.4]\n",
      "100%|██████████| 800/800 [00:23<00:00, 34.60batch/s]"
     ]
    },
    {
     "name": "stderr",
     "output_type": "stream",
     "text": [
      "\u001b[34m\u001b[1mwandb\u001b[0m: \u001b[33mWARNING\u001b[0m Artifacts logged anonymously cannot be claimed and expire after 7 days.\n"
     ]
    },
    {
     "name": "stdout",
     "output_type": "stream",
     "text": [
      "\n",
      "Eval loss: 1.5130, Eval Accuracy: 59.2499971390 %\n",
      "[Epoch: 62/300]\n",
      "100%|██████████| 1174/1174 [08:21<00:00,  2.34batch/s, loss=1.38, acc=65.6]\n",
      "100%|██████████| 800/800 [00:23<00:00, 34.75batch/s]\n"
     ]
    },
    {
     "name": "stderr",
     "output_type": "stream",
     "text": [
      "\u001b[34m\u001b[1mwandb\u001b[0m: \u001b[33mWARNING\u001b[0m Artifacts logged anonymously cannot be claimed and expire after 7 days.\n"
     ]
    },
    {
     "name": "stdout",
     "output_type": "stream",
     "text": [
      "Eval loss: 1.5258, Eval Accuracy: 60.0000023842 %\n",
      "[Epoch: 63/300]\n",
      "100%|██████████| 1174/1174 [08:20<00:00,  2.34batch/s, loss=1.38, acc=65.8]\n",
      "100%|██████████| 800/800 [00:23<00:00, 34.72batch/s]"
     ]
    },
    {
     "name": "stderr",
     "output_type": "stream",
     "text": [
      "\u001b[34m\u001b[1mwandb\u001b[0m: \u001b[33mWARNING\u001b[0m Artifacts logged anonymously cannot be claimed and expire after 7 days.\n"
     ]
    },
    {
     "name": "stdout",
     "output_type": "stream",
     "text": [
      "\n",
      "Eval loss: 1.5234, Eval Accuracy: 58.4999978542 %\n",
      "[Epoch: 64/300]\n",
      "100%|██████████| 1174/1174 [08:23<00:00,  2.33batch/s, loss=1.38, acc=65.8]\n",
      "100%|██████████| 800/800 [00:23<00:00, 34.38batch/s]"
     ]
    },
    {
     "name": "stderr",
     "output_type": "stream",
     "text": [
      "\u001b[34m\u001b[1mwandb\u001b[0m: \u001b[33mWARNING\u001b[0m Artifacts logged anonymously cannot be claimed and expire after 7 days.\n"
     ]
    },
    {
     "name": "stdout",
     "output_type": "stream",
     "text": [
      "\n",
      "Eval loss: 1.5296, Eval Accuracy: 58.9999973774 %\n",
      "[Epoch: 65/300]\n",
      "100%|██████████| 1174/1174 [08:20<00:00,  2.35batch/s, loss=1.38, acc=66]  \n",
      "100%|██████████| 800/800 [00:23<00:00, 34.67batch/s]"
     ]
    },
    {
     "name": "stderr",
     "output_type": "stream",
     "text": [
      "\u001b[34m\u001b[1mwandb\u001b[0m: \u001b[33mWARNING\u001b[0m Artifacts logged anonymously cannot be claimed and expire after 7 days.\n"
     ]
    },
    {
     "name": "stdout",
     "output_type": "stream",
     "text": [
      "\n",
      "Eval loss: 1.5255, Eval Accuracy: 58.9999973774 %\n",
      "Validation loss did not improve for 15 epochs. Stopping training.\n",
      "100%|██████████| 100/100 [03:16<00:00,  1.96s/batch]"
     ]
    },
    {
     "name": "stderr",
     "output_type": "stream",
     "text": [
      "\u001b[34m\u001b[1mwandb\u001b[0m: \u001b[33mWARNING\u001b[0m Artifacts logged anonymously cannot be claimed and expire after 7 days.\n"
     ]
    },
    {
     "name": "stdout",
     "output_type": "stream",
     "text": [
      "\n",
      "Test Accuracy: 59.0937 %\n"
     ]
    },
    {
     "data": {
      "text/html": [],
      "text/plain": [
       "<IPython.core.display.HTML object>"
      ]
     },
     "metadata": {},
     "output_type": "display_data"
    },
    {
     "data": {
      "text/html": [
       "<br>    <style><br>        .wandb-row {<br>            display: flex;<br>            flex-direction: row;<br>            flex-wrap: wrap;<br>            justify-content: flex-start;<br>            width: 100%;<br>        }<br>        .wandb-col {<br>            display: flex;<br>            flex-direction: column;<br>            flex-basis: 100%;<br>            flex: 1;<br>            padding: 10px;<br>        }<br>    </style><br><div class=\"wandb-row\"><div class=\"wandb-col\"><h3>Run history:</h3><br/><table class=\"wandb\"><tr><td>Epoch</td><td>▁▁▁▁▂▂▂▂▃▃▃▃▃▄▄▄▄▄▄▅▅▅▅▅▅▆▆▆▆▆▆▆▆▇▇▇████</td></tr><tr><td>Train Accuracy</td><td>▁▁▁▁▂▂▃▃▂▃▃▃▃▄▄▄▄▄▄▄▅▅▅▅▅▆▆▆▆▇▆▇▇▇▇█████</td></tr><tr><td>Train Loss</td><td>████▇▇▇▆▆▆▅▅▅▅▅▅▄▄▄▄▄▄▄▄▃▃▃▃▃▂▂▂▂▂▂▂▂▁▁▁</td></tr><tr><td>Val Accuracy</td><td>▁▁▁▂▁▂▂▄▂▅▂▂▃▅▄▆▄▅▆▅▂▇▆▆▆▆▇▇▇▆█▅▇▇▆▆▆▆▆▆</td></tr><tr><td>Val Loss</td><td>▇▇▇█▆▆▆▄▅▅▆▃▃▄▃▄▄▆▃▃▃▃▂▃▄▃▂▃▂▄▂▄▃▂▂▄▁▃▃▃</td></tr></table><br/></div><div class=\"wandb-col\"><h3>Run summary:</h3><br/><table class=\"wandb\"><tr><td>Epoch</td><td>65</td></tr><tr><td>Train Accuracy</td><td>65.99092</td></tr><tr><td>Train Loss</td><td>1.37864</td></tr><tr><td>Val Accuracy</td><td>59.0</td></tr><tr><td>Val Loss</td><td>1.52545</td></tr></table><br/></div></div>"
      ],
      "text/plain": [
       "<IPython.core.display.HTML object>"
      ]
     },
     "metadata": {},
     "output_type": "display_data"
    },
    {
     "data": {
      "text/html": [
       " View run <strong style=\"color:#cdcd00\">EmoNeXt_AffectNet_Aligned_best_model_LR_1e-05_BS_32_P_15_E_300_MS_small_AMP_True_22K_True</strong> at: <a href='https://wandb.ai/jeromeagius0-university-of-malta/EmoNeXt/runs/jjk9wikb?apiKey=01ba9157610df786dc07ecba121471aed0f3f202' target=\"_blank\">https://wandb.ai/jeromeagius0-university-of-malta/EmoNeXt/runs/jjk9wikb?apiKey=01ba9157610df786dc07ecba121471aed0f3f202</a><br> View project at: <a href='https://wandb.ai/jeromeagius0-university-of-malta/EmoNeXt?apiKey=01ba9157610df786dc07ecba121471aed0f3f202' target=\"_blank\">https://wandb.ai/jeromeagius0-university-of-malta/EmoNeXt?apiKey=01ba9157610df786dc07ecba121471aed0f3f202</a><br>Synced 5 W&B file(s), 228 media file(s), 132 artifact file(s) and 0 other file(s)"
      ],
      "text/plain": [
       "<IPython.core.display.HTML object>"
      ]
     },
     "metadata": {},
     "output_type": "display_data"
    },
    {
     "data": {
      "text/html": [
       "Find logs at: <code>.\\wandb\\run-20250413_213742-jjk9wikb\\logs</code>"
      ],
      "text/plain": [
       "<IPython.core.display.HTML object>"
      ]
     },
     "metadata": {},
     "output_type": "display_data"
    }
   ],
   "source": [
    "# Define your variables\n",
    "# dataset_name, data_directory = 'AffectNet', '../../Datasets/AffectNet_Structured' #97 epochs = 59% Test Accuracy | 10+ hrs Training\n",
    "# dataset_name, data_directory = 'CK+', '../../Datasets/CK+_Structured'\n",
    "# dataset_name, data_directory = 'FER', '../../Datasets/FER_Structured' #172epochs = 70% Test Accuracy | 10+ hrs Training\n",
    "# dataset_name, data_directory = 'JAFFE', '../../Datasets/JAFFE_Structured'\n",
    "# dataset_name, data_directory = 'RAF-DB', '../../Datasets/RAF-DB_Structured' #131epochs = 83.38% Test Accuracy | 6 hrs Training\n",
    "\n",
    "dataset_name, data_directory = 'AffectNet_Aligned', '../../Datasets/AffectNet_Structured_Aligned' #  #34epochs = 56% Test Accuracy | 5hrs hrs Training (old)\n",
    "#99epochs = 59% Test Accuracy | 15hrs hrs Training \n",
    "\n",
    "# dataset_name, data_directory = 'FER_Aligned', '../../Datasets/FER_Structured_Aligned' # 145epochs = 69.04 % Test Accuracy | 15 hrs Training\n",
    "# dataset_name, data_directory = 'RAF-DB_Aligned', '../../Datasets/RAF-DB_Structured_Aligned' # 81epochs = 78.55 % Test Accuracy | 3.6 hrs Training\n",
    "\n",
    "batch_size = 32\n",
    "learning_rate = 0.00001\n",
    "epochs = 300\n",
    "patience = 15\n",
    "num_workers = 0 # Larger  than 0 will cause an error\n",
    "model_size = [\"tiny\", \"small\", \"base\", \"large\", \"xlarge\"][1]\n",
    "output_dir = \"ModelsReadyForComparison\"\n",
    "use_amp = True # Use Mixed Precision\n",
    "use_22k = True # Use 22k model (larger model)\n",
    "checkpoint = \"ModelsReadyForComparison/EmoNeXt_AffectNet_Aligned_best_model_LR_1e-05_BS_32_P_15_E_300_MS_small_AMP_True_22K_True_old.pt\" # Path to the checkpoint file\n",
    "\n",
    "# Construct the %run command\n",
    "run_command = f\"EmoNeXt-master/train.py --dataset-name={dataset_name} --dataset-path={data_directory} --batch-size={batch_size} --patience={patience} --lr={learning_rate} --epochs={epochs} --num-workers={num_workers} --model-size={model_size} --output-dir={output_dir}\"\n",
    "\n",
    "# Add the --amp flag if use_amp is True\n",
    "run_command += \" --amp\" if use_22k else \"\"\n",
    "\n",
    "# Add the --in_22k flag if use_22k is True\n",
    "run_command += \" --in_22k\" if use_22k else \"\"\n",
    "\n",
    "run_command += f\" --checkpoint {checkpoint}\" if checkpoint != \"\" else \"\"\n",
    "\n",
    "print(run_command)\n",
    "# Execute the command\n",
    "%run {run_command}"
   ]
  },
  {
   "cell_type": "markdown",
   "metadata": {},
   "source": [
    "# Deriving Metrics on Testing Set"
   ]
  },
  {
   "cell_type": "code",
   "execution_count": 1,
   "metadata": {},
   "outputs": [],
   "source": [
    "import torch\n",
    "import numpy as np\n",
    "from sklearn.metrics import (accuracy_score, precision_score, recall_score, f1_score, classification_report, confusion_matrix)\n",
    "import seaborn as sns\n",
    "import matplotlib.pyplot as plt\n",
    "from torch.utils.data import DataLoader\n",
    "from torchvision import transforms, datasets\n",
    "import torch.nn.functional as F\n",
    "\n",
    "from ema_pytorch import EMA\n",
    "import importlib  \n",
    "models = importlib.import_module(\"EmoNeXt-master.models\")\n",
    "\n",
    "from torch.utils.data import ConcatDataset\n",
    "\n",
    "def TestEmoNeXt(data_directory, model_path, base_model_size='small', base_model_in_22k=False, batch_size=15, dataset=['test']):\n",
    "\n",
    "    # # Define the mapping for the aligned labels\n",
    "    # # -ve keys are for the labels that are not present in the dataset\n",
    "    # # New Mapping - 0: Angry, 1: Disgust, 2: Fear, 3: Happy, 4: Sad, 5: Surprise, 6: Neutral, 7: Contempt\n",
    "    # if 'FER' in model_path.upper():\n",
    "    #     print(\"FER Model\")\n",
    "    #     # Original Mapping: 0: Angry, 1: Disgust, 2: Fear, 3: Happy, 4: Neutral, 5: Sad, 6: Surprise\n",
    "    #     aligned_mapping = {0:0, 1:1, 2:2, 3:3, 4:6, 5:4, 6:5, -1:7}\n",
    "    # elif 'RAF' in model_path.upper():\n",
    "    #     print(\"RAF Model\")\n",
    "    #     # Original Mapping: 0: Angry, 1: Disgust, 2: Fear, 3: Happy, 4: Neutral, 5: Sad, 6: Surprise\n",
    "    #     aligned_mapping = {0:0, 1:1, 2:2, 3:3, 4:6, 5:4, 6:5, -1:7}\n",
    "    # elif 'AFFECTNET' in model_path.upper():\n",
    "    #     print(\"AffectNet Model\")\n",
    "    #     # Original Mapping: 0: Angry, 1: Contempt, 2: Disgust, 3: Fear, 4: Happy, 5: Neutral, 6: Sad, 7: Surprise\n",
    "    #     aligned_mapping = {0:0, 1:7, 2:1, 3:2, 4:3, 5:6, 6:4, 7:5}\n",
    "    # elif 'JAFFE' in model_path.upper():\n",
    "    #     print(\"JAFFE Model\")\n",
    "    #     # Original Mapping: 0: Angry, 1: Disgust, 2: Fear, 3: Happy, 4: Sad, 5: Surprise\n",
    "    #     aligned_mapping = {0:0, 1:1, 2:2, 3:3, 4:4, 5:5, -1:6, -2:7}\n",
    "    # elif 'CK+' in model_path.upper():\n",
    "    #     print(\"CK+ Model\")\n",
    "    #     # Original Mapping: 0: Angry, 1: Contempt, 2: Disgust, 3: Fear, 4: Happy, 5: Neutral, 6: Sad, 7: Surprise\n",
    "    #     aligned_mapping = {0:0, 1:7, 2:1, 3:2, 4:3, 5:6, 6:4, 7:5}\n",
    "\n",
    "    # # Update the label mapping for the dataset\n",
    "    # label_mapping = {'Angry': 0, 'Disgust': 1, 'Fear': 2, 'Happy': 3, 'Sad': 4, 'Surprise': 5, 'Neutral': 6, 'Contempt': 7}\n",
    "\n",
    "    ema_decay = 0.99 # Default unchnaged values\n",
    "    ema_update_every = 16 # Default unchnaged values\n",
    "\n",
    "    device = torch.device('cuda' if torch.cuda.is_available() else 'cpu')\n",
    "    print(f\"Using {device} device\")\n",
    "\n",
    "    # Transform the dataset\n",
    "    transform = transforms.Compose(\n",
    "        [\n",
    "            transforms.Grayscale(),  # Convert image to grayscale if needed\n",
    "            transforms.Resize(236),  # Resize the image\n",
    "            transforms.TenCrop(224),  # Apply ten-cropping (10 different crops)\n",
    "            transforms.Lambda(\n",
    "                lambda crops: torch.stack(\n",
    "                    [transforms.ToTensor()(crop) for crop in crops]\n",
    "                )\n",
    "            ),  # Convert each crop to tensor\n",
    "            transforms.Lambda(\n",
    "                lambda crops: torch.stack([crop.repeat(3, 1, 1) for crop in crops])\n",
    "            ),\n",
    "        ]\n",
    "    )\n",
    "    \n",
    "    state_dict = torch.load(model_path, weights_only=True)\n",
    "\n",
    "    final_fc_layer = [k for k in state_dict['model'].keys() if 'head' in k and 'weight' in k][-1]\n",
    "    num_classes = state_dict['model'][final_fc_layer].shape[0]\n",
    "    print(f\"Number of classes: {num_classes}\")\n",
    "\n",
    "    # Load the model architecture\n",
    "    model = models.get_model(num_classes, base_model_size, base_model_in_22k) \n",
    "\n",
    "    model.load_state_dict(state_dict['model'], strict=False) \n",
    "    model.eval()\n",
    "\n",
    "    ema_model = EMA(model, beta=ema_decay, update_every=ema_update_every).to(device)\n",
    "\n",
    "    ema_model.load_state_dict(state_dict[\"ema\"], strict=False)\n",
    "    ema_model.eval()\n",
    "\n",
    "    all_preds = []\n",
    "    all_labels = []\n",
    "\n",
    "    # Load the test dataset and aligning the labels\n",
    "    # test_dataset = datasets.ImageFolder(f'{data_directory}/test', transform=transform, target_transform=lambda x: label_mapping[test_dataset.classes[x].capitalize()])  \n",
    "\n",
    "    # test_dataset = []\n",
    "    # for ds in dataset:\n",
    "    #     dataset_part = datasets.ImageFolder(f'{data_directory}/{ds}', transform=transform, target_transform=lambda x: label_mapping[dataset_part.classes[x].capitalize()])  \n",
    "    #     test_dataset.append(dataset_part)\n",
    "    # test_dataset = ConcatDataset(test_dataset)\n",
    "\n",
    "    test_dataset = []\n",
    "    for ds in dataset:\n",
    "        dataset_part = datasets.ImageFolder(f'{data_directory}/{ds}', transform=transform)  \n",
    "        test_dataset.append(dataset_part)\n",
    "    test_dataset = ConcatDataset(test_dataset)\n",
    "\n",
    "    test_loader = torch.utils.data.DataLoader(test_dataset, batch_size, shuffle = False, pin_memory = True)\n",
    "    # test_dataset.class_to_idx = label_mapping\n",
    "    # print(test_dataset.class_to_idx)\n",
    "\n",
    "    cnt = 0\n",
    "    # Iterate through test_loader to collect predictions and ground truth labels\n",
    "    with torch.no_grad():\n",
    "        for data in test_loader:\n",
    "            print(cnt,'/',len(test_loader))\n",
    "            cnt += 1\n",
    "            inputs, labels = data[0].to(device), data[1].to(device)\n",
    "            bs, ncrops, c, h, w = inputs.shape\n",
    "            inputs = inputs.view(-1, c, h, w)   \n",
    "            \n",
    "            # Forward pass through the ema_model;\n",
    "            _, logits = ema_model(inputs)\n",
    "            \n",
    "            # Reshape logits back to (batch_size, ncrops, num_classes) and average over crops\n",
    "            outputs_avg = logits.view(bs, ncrops, -1).mean(1)\n",
    "            predictions = torch.argmax(outputs_avg, dim=1)\n",
    "\n",
    "            all_preds.append(predictions.cpu().numpy())\n",
    "            all_labels.append(labels.cpu().numpy())\n",
    "\n",
    "    # Concatenate lists to form single arrays\n",
    "    all_preds = np.concatenate(all_preds)\n",
    "    all_labels = np.concatenate(all_labels)\n",
    "    \n",
    "    print(\"All Labels: \", all_labels)\n",
    "    print(\"(B4 Mapping) All Predictions: \",all_preds)\n",
    "    # all_preds = [aligned_mapping[v] for v in all_preds]\n",
    "    print(\"(After Mapping) All Predictions: \",all_preds)\n",
    "\n",
    "    # Calculate metrics\n",
    "    accuracy = accuracy_score(all_labels, all_preds)\n",
    "    precision_weighted = precision_score(all_labels, all_preds, average='weighted', zero_division=0)\n",
    "    precision_macro = precision_score(all_labels, all_preds, average='macro', zero_division=0)\n",
    "    precision_micro = precision_score(all_labels, all_preds, average='micro', zero_division=0)\n",
    "\n",
    "    recall_weighted = recall_score(all_labels, all_preds, average='weighted', zero_division=0)\n",
    "    recall_macro = recall_score(all_labels, all_preds, average='macro', zero_division=0)\n",
    "    recall_micro = recall_score(all_labels, all_preds, average='micro', zero_division=0)\n",
    "\n",
    "    f1_weighted = f1_score(all_labels, all_preds, average='weighted', zero_division=0)\n",
    "    f1_macro = f1_score(all_labels, all_preds, average='macro', zero_division=0)\n",
    "    f1_micro = f1_score(all_labels, all_preds, average='micro', zero_division=0)\n",
    "\n",
    "    report = classification_report(all_labels, all_preds, zero_division=0)\n",
    "    cm = confusion_matrix(all_labels, all_preds, labels=[0, 1, 2, 3, 4, 5, 6, 7])\n",
    "\n",
    "    # Print the metrics\n",
    "    print(\"Test Accuracy:\", accuracy)\n",
    "    print(\"Precision (Weighted):\", precision_weighted)\n",
    "    print(\"Precision (Macro):\", precision_macro)\n",
    "    print(\"Precision (Micro):\", precision_micro)\n",
    "    print(\"Recall (Weighted):\", recall_weighted)\n",
    "    print(\"Recall (Macro):\", recall_macro)\n",
    "    print(\"Recall (Micro):\", recall_micro)\n",
    "    print(\"F1 Score (Weighted):\", f1_weighted)\n",
    "    print(\"F1 Score (Macro):\", f1_macro)\n",
    "    print(\"F1 Score (Micro):\", f1_micro)\n",
    "    print(\"\\nClassification Report:\\n\", report)\n",
    "    # print(\"\\nConfusion Matrix:\\n\", cm)\n",
    "\n",
    "    # (Optional) Visualize the confusion matrix using seaborn heatmap\n",
    "    plt.figure(figsize=(8, 6))\n",
    "    sns.heatmap(cm, annot=True, fmt='d', cmap='Blues')\n",
    "    plt.title(\"Confusion Matrix\")\n",
    "    plt.xlabel(\"Predicted Label\")\n",
    "    plt.ylabel(\"True Label\")\n",
    "    plt.show()"
   ]
  },
  {
   "cell_type": "code",
   "execution_count": 2,
   "metadata": {},
   "outputs": [
    {
     "name": "stdout",
     "output_type": "stream",
     "text": [
      "Using cuda device\n",
      "Number of classes: 7\n",
      "0 / 48\n",
      "1 / 48\n",
      "2 / 48\n",
      "3 / 48\n",
      "4 / 48\n",
      "5 / 48\n",
      "6 / 48\n",
      "7 / 48\n",
      "8 / 48\n",
      "9 / 48\n",
      "10 / 48\n",
      "11 / 48\n",
      "12 / 48\n",
      "13 / 48\n",
      "14 / 48\n",
      "15 / 48\n",
      "16 / 48\n",
      "17 / 48\n",
      "18 / 48\n",
      "19 / 48\n",
      "20 / 48\n",
      "21 / 48\n",
      "22 / 48\n",
      "23 / 48\n",
      "24 / 48\n",
      "25 / 48\n",
      "26 / 48\n",
      "27 / 48\n",
      "28 / 48\n",
      "29 / 48\n",
      "30 / 48\n",
      "31 / 48\n",
      "32 / 48\n",
      "33 / 48\n",
      "34 / 48\n",
      "35 / 48\n",
      "36 / 48\n",
      "37 / 48\n",
      "38 / 48\n",
      "39 / 48\n",
      "40 / 48\n",
      "41 / 48\n",
      "42 / 48\n",
      "43 / 48\n",
      "44 / 48\n",
      "45 / 48\n",
      "46 / 48\n",
      "47 / 48\n",
      "All Labels:  [0 0 0 ... 6 6 6]\n",
      "(B4 Mapping) All Predictions:  [0 0 1 ... 6 6 1]\n",
      "(After Mapping) All Predictions:  [0 0 1 ... 6 6 1]\n",
      "Test Accuracy: 0.7803129074315515\n",
      "Precision (Weighted): 0.8366959156755905\n",
      "Precision (Macro): 0.6808094582511315\n",
      "Precision (Micro): 0.7803129074315515\n",
      "Recall (Weighted): 0.7803129074315515\n",
      "Recall (Macro): 0.7500047028925526\n",
      "Recall (Micro): 0.7803129074315515\n",
      "F1 Score (Weighted): 0.8003763553271748\n",
      "F1 Score (Macro): 0.6904405641865099\n",
      "F1 Score (Micro): 0.7803129074315515\n",
      "\n",
      "Classification Report:\n",
      "               precision    recall  f1-score   support\n",
      "\n",
      "           0       0.75      0.73      0.74        81\n",
      "           1       0.39      0.69      0.50        80\n",
      "           2       0.22      0.70      0.34        37\n",
      "           3       0.98      0.84      0.90       592\n",
      "           4       0.80      0.75      0.78       239\n",
      "           5       0.79      0.82      0.81       165\n",
      "           6       0.83      0.72      0.77       340\n",
      "\n",
      "    accuracy                           0.78      1534\n",
      "   macro avg       0.68      0.75      0.69      1534\n",
      "weighted avg       0.84      0.78      0.80      1534\n",
      "\n"
     ]
    },
    {
     "data": {
      "image/png": "[encoded data removed]",
      "text/plain": [
       "<Figure size 800x600 with 2 Axes>"
      ]
     },
     "metadata": {},
     "output_type": "display_data"
    }
   ],
   "source": [
    "# data_directory = '../../Datasets/JAFFE_Structured'\n",
    "# data_directory = '../../Datasets/FER_Structured'\n",
    "data_directory = '../../Datasets/RAF-DB_Structured_Aligned'\n",
    "# data_directory = '../../Datasets/CK+_Structured'\n",
    "# data_directory = '../../Datasets/AffectNet_Structured'\n",
    "\n",
    "# data_directory = '../../Datasets/FER_Structured_Aligned'\n",
    "\n",
    "# model_path = 'ModelsReadyForComparison/EmoNeXt_RAF-DB_best_model_LR_1e-05_BS_32_P_15_E_300_MS_small_AMP_True_22K_True.pt'\n",
    "# model_path = 'ModelsReadyForComparison/EmoNeXt_FER_best_model_LR_1e-05_BS_32_P_15_E_300_MS_small_AMP_True_22K_True.pt'\n",
    "# model_path = 'ModelsReadyForComparison/EmoNeXt_AffectNet_best_model_LR_1e-05_BS_32_P_15_E_300_MS_small_AMP_True_22K_True.pt'\n",
    "# model_path = 'Models/EmoNeXt_FER_Aligned_best_model_LR_1e-05_BS_32_P_15_E_300_MS_small_AMP_True_22K_True.pt'\n",
    "model_path = 'ModelsReadyForComparison/EmoNeXt_RAF-DB_Aligned_best_model_LR_1e-05_BS_32_P_15_E_300_MS_small_AMP_True_22K_True.pt'\n",
    "\n",
    "base_model_size = 'small'\n",
    "base_model_in_22k = True\n",
    "\n",
    "TestEmoNeXt(data_directory, model_path, base_model_size, base_model_in_22k, batch_size=32)"
   ]
  }
 ],
 "metadata": {
  "kernelspec": {
   "display_name": ".venv",
   "language": "python",
   "name": "python3"
  },
  "language_info": {
   "codemirror_mode": {
    "name": "ipython",
    "version": 3
   },
   "file_extension": ".py",
   "mimetype": "text/x-python",
   "name": "python",
   "nbconvert_exporter": "python",
   "pygments_lexer": "ipython3",
   "version": "3.10.8"
  }
 },
 "nbformat": 4,
 "nbformat_minor": 2
}
