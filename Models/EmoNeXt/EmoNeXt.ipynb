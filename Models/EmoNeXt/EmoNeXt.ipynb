{
 "cells": [
  {
   "cell_type": "markdown",
   "metadata": {},
   "source": [
    "# Training EmoNeXt"
   ]
  },
  {
   "cell_type": "code",
   "execution_count": null,
   "metadata": {},
   "outputs": [
    {
     "name": "stdout",
     "output_type": "stream",
     "text": [
      "EmoNeXt-master/train.py --dataset-name=FER_Aligned --dataset-path=../../Datasets/FER_Structured_Aligned --batch-size=32 --patience=15 --lr=1e-05 --epochs=300 --num-workers=0 --model-size=small --output-dir=Models --amp --in_22k --checkpoint ModelsReadyForComparison/EmoNeXt_FER_Aligned_best_model_LR_1e-05_BS_32_P_15_E_300_MS_small_AMP_True_22K_True.pt\n",
      "Using 28709 images for training.\n",
      "Using 3589 images for evaluation.\n",
      "Using 3589 images for testing.\n",
      "Class to index mapping: {'0': 0, '1': 1, '2': 2, '3': 3, '4': 4, '5': 5, '6': 6}\n",
      "Device used: cuda\n"
     ]
    },
    {
     "name": "stderr",
     "output_type": "stream",
     "text": [
      "C:\\MastersRepos\\Deep-Learning-For-Computer-Vision\\Models\\EmoNeXt\\EmoNeXt-master\\train.py:69: FutureWarning: `torch.cuda.amp.GradScaler(args...)` is deprecated. Please use `torch.amp.GradScaler('cuda', args...)` instead.\n",
      "  self.scaler = torch.cuda.amp.GradScaler(enabled=self.amp)\n"
     ]
    },
    {
     "name": "stdout",
     "output_type": "stream",
     "text": [
      "[Epoch: 1/300]\n",
      "100%|██████████| 898/898 [05:19<00:00,  2.81batch/s, loss=1.6, acc=72.5] \n",
      "100%|██████████| 3589/3589 [01:35<00:00, 37.43batch/s]\n"
     ]
    },
    {
     "name": "stderr",
     "output_type": "stream",
     "text": [
      "\u001b[34m\u001b[1mwandb\u001b[0m: \u001b[33mWARNING\u001b[0m Artifacts logged anonymously cannot be claimed and expire after 7 days.\n"
     ]
    },
    {
     "name": "stdout",
     "output_type": "stream",
     "text": [
      "Eval loss: 1.9793, Eval Accuracy: 66.7874038219 %\n",
      "[Epoch: 2/300]\n",
      "100%|██████████| 898/898 [05:26<00:00,  2.75batch/s, loss=1.6, acc=72.8] \n",
      "100%|██████████| 3589/3589 [01:35<00:00, 37.71batch/s]"
     ]
    },
    {
     "name": "stderr",
     "output_type": "stream",
     "text": [
      "\u001b[34m\u001b[1mwandb\u001b[0m: \u001b[33mWARNING\u001b[0m Artifacts logged anonymously cannot be claimed and expire after 7 days.\n"
     ]
    },
    {
     "name": "stdout",
     "output_type": "stream",
     "text": [
      "\n",
      "Eval loss: 1.9795, Eval Accuracy: 66.0072445869 %\n",
      "[Epoch: 3/300]\n",
      "100%|██████████| 898/898 [05:06<00:00,  2.93batch/s, loss=1.6, acc=73.2] \n",
      "100%|██████████| 3589/3589 [01:33<00:00, 38.47batch/s]\n"
     ]
    },
    {
     "name": "stderr",
     "output_type": "stream",
     "text": [
      "\u001b[34m\u001b[1mwandb\u001b[0m: \u001b[33mWARNING\u001b[0m Artifacts logged anonymously cannot be claimed and expire after 7 days.\n"
     ]
    },
    {
     "name": "stdout",
     "output_type": "stream",
     "text": [
      "Eval loss: 1.9866, Eval Accuracy: 66.1744236946 %\n",
      "[Epoch: 4/300]\n",
      "100%|██████████| 898/898 [05:04<00:00,  2.95batch/s, loss=1.6, acc=72.7] \n",
      "100%|██████████| 3589/3589 [01:34<00:00, 38.07batch/s]\n"
     ]
    },
    {
     "name": "stderr",
     "output_type": "stream",
     "text": [
      "\u001b[34m\u001b[1mwandb\u001b[0m: \u001b[33mWARNING\u001b[0m Artifacts logged anonymously cannot be claimed and expire after 7 days.\n"
     ]
    },
    {
     "name": "stdout",
     "output_type": "stream",
     "text": [
      "Eval loss: 1.9725, Eval Accuracy: 66.6759550571 %\n",
      "[Epoch: 5/300]\n",
      "100%|██████████| 898/898 [04:56<00:00,  3.03batch/s, loss=1.58, acc=74]  \n",
      "100%|██████████| 3589/3589 [01:31<00:00, 39.11batch/s]"
     ]
    },
    {
     "name": "stderr",
     "output_type": "stream",
     "text": [
      "\u001b[34m\u001b[1mwandb\u001b[0m: \u001b[33mWARNING\u001b[0m Artifacts logged anonymously cannot be claimed and expire after 7 days.\n"
     ]
    },
    {
     "name": "stdout",
     "output_type": "stream",
     "text": [
      "\n",
      "Eval loss: 1.9710, Eval Accuracy: 66.7874038219 %\n",
      "[Epoch: 6/300]\n",
      "100%|██████████| 898/898 [04:50<00:00,  3.09batch/s, loss=1.59, acc=74]  \n",
      "100%|██████████| 3589/3589 [01:32<00:00, 38.96batch/s]"
     ]
    },
    {
     "name": "stderr",
     "output_type": "stream",
     "text": [
      "\u001b[34m\u001b[1mwandb\u001b[0m: \u001b[33mWARNING\u001b[0m Artifacts logged anonymously cannot be claimed and expire after 7 days.\n"
     ]
    },
    {
     "name": "stdout",
     "output_type": "stream",
     "text": [
      "\n",
      "Eval loss: 1.9772, Eval Accuracy: 66.8431341648 %\n",
      "[Epoch: 7/300]\n",
      "100%|██████████| 898/898 [04:48<00:00,  3.11batch/s, loss=1.59, acc=74.1]\n",
      "100%|██████████| 3589/3589 [01:31<00:00, 39.09batch/s]"
     ]
    },
    {
     "name": "stderr",
     "output_type": "stream",
     "text": [
      "\u001b[34m\u001b[1mwandb\u001b[0m: \u001b[33mWARNING\u001b[0m Artifacts logged anonymously cannot be claimed and expire after 7 days.\n"
     ]
    },
    {
     "name": "stdout",
     "output_type": "stream",
     "text": [
      "\n",
      "Eval loss: 1.9862, Eval Accuracy: 66.3137376308 %\n",
      "[Epoch: 8/300]\n",
      "100%|██████████| 898/898 [04:47<00:00,  3.13batch/s, loss=1.58, acc=74.6]\n",
      "100%|██████████| 3589/3589 [01:31<00:00, 39.36batch/s]"
     ]
    },
    {
     "name": "stderr",
     "output_type": "stream",
     "text": [
      "\u001b[34m\u001b[1mwandb\u001b[0m: \u001b[33mWARNING\u001b[0m Artifacts logged anonymously cannot be claimed and expire after 7 days.\n"
     ]
    },
    {
     "name": "stdout",
     "output_type": "stream",
     "text": [
      "\n",
      "Eval loss: 1.9880, Eval Accuracy: 66.0629689693 %\n",
      "[Epoch: 9/300]\n",
      "100%|██████████| 898/898 [04:47<00:00,  3.12batch/s, loss=1.57, acc=74.7]\n",
      "100%|██████████| 3589/3589 [01:31<00:00, 39.29batch/s]"
     ]
    },
    {
     "name": "stderr",
     "output_type": "stream",
     "text": [
      "\u001b[34m\u001b[1mwandb\u001b[0m: \u001b[33mWARNING\u001b[0m Artifacts logged anonymously cannot be claimed and expire after 7 days.\n"
     ]
    },
    {
     "name": "stdout",
     "output_type": "stream",
     "text": [
      "\n",
      "Eval loss: 1.9867, Eval Accuracy: 66.5923655033 %\n",
      "[Epoch: 10/300]\n",
      "100%|██████████| 898/898 [04:50<00:00,  3.09batch/s, loss=1.58, acc=74.4]\n",
      "100%|██████████| 3589/3589 [01:30<00:00, 39.48batch/s]"
     ]
    },
    {
     "name": "stderr",
     "output_type": "stream",
     "text": [
      "\u001b[34m\u001b[1mwandb\u001b[0m: \u001b[33mWARNING\u001b[0m Artifacts logged anonymously cannot be claimed and expire after 7 days.\n"
     ]
    },
    {
     "name": "stdout",
     "output_type": "stream",
     "text": [
      "\n",
      "Eval loss: 1.9940, Eval Accuracy: 66.0629689693 %\n",
      "[Epoch: 11/300]\n",
      "100%|██████████| 898/898 [04:50<00:00,  3.09batch/s, loss=1.58, acc=74.5]\n",
      "100%|██████████| 3589/3589 [01:32<00:00, 38.88batch/s]"
     ]
    },
    {
     "name": "stderr",
     "output_type": "stream",
     "text": [
      "\u001b[34m\u001b[1mwandb\u001b[0m: \u001b[33mWARNING\u001b[0m Artifacts logged anonymously cannot be claimed and expire after 7 days.\n"
     ]
    },
    {
     "name": "stdout",
     "output_type": "stream",
     "text": [
      "\n",
      "Eval loss: 1.9766, Eval Accuracy: 66.7595446110 %\n",
      "[Epoch: 12/300]\n",
      "100%|██████████| 898/898 [04:49<00:00,  3.10batch/s, loss=1.57, acc=75.2]\n",
      "100%|██████████| 3589/3589 [01:32<00:00, 38.98batch/s]"
     ]
    },
    {
     "name": "stderr",
     "output_type": "stream",
     "text": [
      "\u001b[34m\u001b[1mwandb\u001b[0m: \u001b[33mWARNING\u001b[0m Artifacts logged anonymously cannot be claimed and expire after 7 days.\n"
     ]
    },
    {
     "name": "stdout",
     "output_type": "stream",
     "text": [
      "\n",
      "Eval loss: 1.9806, Eval Accuracy: 66.5087759495 %\n",
      "[Epoch: 13/300]\n",
      "100%|██████████| 898/898 [04:47<00:00,  3.13batch/s, loss=1.56, acc=75.5]\n",
      "100%|██████████| 3589/3589 [01:32<00:00, 38.84batch/s]"
     ]
    },
    {
     "name": "stderr",
     "output_type": "stream",
     "text": [
      "\u001b[34m\u001b[1mwandb\u001b[0m: \u001b[33mWARNING\u001b[0m Artifacts logged anonymously cannot be claimed and expire after 7 days.\n"
     ]
    },
    {
     "name": "stdout",
     "output_type": "stream",
     "text": [
      "\n",
      "Eval loss: 1.9781, Eval Accuracy: 66.8709933758 %\n",
      "[Epoch: 14/300]\n",
      "100%|██████████| 898/898 [04:47<00:00,  3.12batch/s, loss=1.56, acc=75.9]\n",
      "100%|██████████| 3589/3589 [01:32<00:00, 39.00batch/s]"
     ]
    },
    {
     "name": "stderr",
     "output_type": "stream",
     "text": [
      "\u001b[34m\u001b[1mwandb\u001b[0m: \u001b[33mWARNING\u001b[0m Artifacts logged anonymously cannot be claimed and expire after 7 days.\n"
     ]
    },
    {
     "name": "stdout",
     "output_type": "stream",
     "text": [
      "\n",
      "Eval loss: 1.9857, Eval Accuracy: 66.8709933758 %\n",
      "[Epoch: 15/300]\n",
      "100%|██████████| 898/898 [04:49<00:00,  3.10batch/s, loss=1.56, acc=76.1]\n",
      "100%|██████████| 3589/3589 [01:31<00:00, 39.22batch/s]\n"
     ]
    },
    {
     "name": "stderr",
     "output_type": "stream",
     "text": [
      "\u001b[34m\u001b[1mwandb\u001b[0m: \u001b[33mWARNING\u001b[0m Artifacts logged anonymously cannot be claimed and expire after 7 days.\n"
     ]
    },
    {
     "name": "stdout",
     "output_type": "stream",
     "text": [
      "Eval loss: 1.9907, Eval Accuracy: 66.1186933517 %\n",
      "[Epoch: 16/300]\n",
      "100%|██████████| 898/898 [04:48<00:00,  3.11batch/s, loss=1.56, acc=75.9]\n",
      "100%|██████████| 3589/3589 [01:31<00:00, 39.23batch/s]"
     ]
    },
    {
     "name": "stderr",
     "output_type": "stream",
     "text": [
      "\u001b[34m\u001b[1mwandb\u001b[0m: \u001b[33mWARNING\u001b[0m Artifacts logged anonymously cannot be claimed and expire after 7 days.\n"
     ]
    },
    {
     "name": "stdout",
     "output_type": "stream",
     "text": [
      "\n",
      "Eval loss: 1.9822, Eval Accuracy: 66.6759550571 %\n",
      "[Epoch: 17/300]\n",
      "100%|██████████| 898/898 [04:49<00:00,  3.10batch/s, loss=1.56, acc=75.7]\n",
      "100%|██████████| 3589/3589 [01:31<00:00, 39.33batch/s]"
     ]
    },
    {
     "name": "stderr",
     "output_type": "stream",
     "text": [
      "\u001b[34m\u001b[1mwandb\u001b[0m: \u001b[33mWARNING\u001b[0m Artifacts logged anonymously cannot be claimed and expire after 7 days.\n"
     ]
    },
    {
     "name": "stdout",
     "output_type": "stream",
     "text": [
      "\n",
      "Eval loss: 1.9931, Eval Accuracy: 65.8957898617 %\n",
      "[Epoch: 18/300]\n",
      "100%|██████████| 898/898 [04:49<00:00,  3.10batch/s, loss=1.56, acc=76]  \n",
      "100%|██████████| 3589/3589 [01:31<00:00, 39.34batch/s]"
     ]
    },
    {
     "name": "stderr",
     "output_type": "stream",
     "text": [
      "\u001b[34m\u001b[1mwandb\u001b[0m: \u001b[33mWARNING\u001b[0m Artifacts logged anonymously cannot be claimed and expire after 7 days.\n"
     ]
    },
    {
     "name": "stdout",
     "output_type": "stream",
     "text": [
      "\n",
      "Eval loss: 2.0030, Eval Accuracy: 65.4221236706 %\n",
      "[Epoch: 19/300]\n",
      "100%|██████████| 898/898 [04:49<00:00,  3.11batch/s, loss=1.56, acc=76.3]\n",
      "100%|██████████| 3589/3589 [01:33<00:00, 38.47batch/s]"
     ]
    },
    {
     "name": "stderr",
     "output_type": "stream",
     "text": [
      "\u001b[34m\u001b[1mwandb\u001b[0m: \u001b[33mWARNING\u001b[0m Artifacts logged anonymously cannot be claimed and expire after 7 days.\n"
     ]
    },
    {
     "name": "stdout",
     "output_type": "stream",
     "text": [
      "\n",
      "Eval loss: 1.9825, Eval Accuracy: 67.0660376549 %\n",
      "[Epoch: 20/300]\n",
      "100%|██████████| 898/898 [04:47<00:00,  3.13batch/s, loss=1.55, acc=76.5]\n",
      "100%|██████████| 3589/3589 [01:32<00:00, 38.91batch/s]\n"
     ]
    },
    {
     "name": "stderr",
     "output_type": "stream",
     "text": [
      "\u001b[34m\u001b[1mwandb\u001b[0m: \u001b[33mWARNING\u001b[0m Artifacts logged anonymously cannot be claimed and expire after 7 days.\n"
     ]
    },
    {
     "name": "stdout",
     "output_type": "stream",
     "text": [
      "Eval loss: 1.9785, Eval Accuracy: 67.7904725075 %\n",
      "[Epoch: 21/300]\n",
      "100%|██████████| 898/898 [04:47<00:00,  3.12batch/s, loss=1.54, acc=77.5]\n",
      "100%|██████████| 3589/3589 [01:32<00:00, 38.70batch/s]"
     ]
    },
    {
     "name": "stderr",
     "output_type": "stream",
     "text": [
      "\u001b[34m\u001b[1mwandb\u001b[0m: \u001b[33mWARNING\u001b[0m Artifacts logged anonymously cannot be claimed and expire after 7 days.\n"
     ]
    },
    {
     "name": "stdout",
     "output_type": "stream",
     "text": [
      "\n",
      "Eval loss: 1.9847, Eval Accuracy: 67.2332108021 %\n",
      "[Epoch: 22/300]\n",
      "100%|██████████| 898/898 [04:48<00:00,  3.12batch/s, loss=1.54, acc=77.3]\n",
      "100%|██████████| 3589/3589 [01:31<00:00, 39.43batch/s]\n"
     ]
    },
    {
     "name": "stderr",
     "output_type": "stream",
     "text": [
      "\u001b[34m\u001b[1mwandb\u001b[0m: \u001b[33mWARNING\u001b[0m Artifacts logged anonymously cannot be claimed and expire after 7 days.\n"
     ]
    },
    {
     "name": "stdout",
     "output_type": "stream",
     "text": [
      "Eval loss: 1.9871, Eval Accuracy: 66.2858724594 %\n",
      "[Epoch: 23/300]\n",
      "100%|██████████| 898/898 [05:09<00:00,  2.90batch/s, loss=1.54, acc=77.3]\n",
      "100%|██████████| 3589/3589 [01:37<00:00, 36.82batch/s]"
     ]
    },
    {
     "name": "stderr",
     "output_type": "stream",
     "text": [
      "\u001b[34m\u001b[1mwandb\u001b[0m: \u001b[33mWARNING\u001b[0m Artifacts logged anonymously cannot be claimed and expire after 7 days.\n"
     ]
    },
    {
     "name": "stdout",
     "output_type": "stream",
     "text": [
      "\n",
      "Eval loss: 1.9818, Eval Accuracy: 67.6511585712 %\n",
      "[Epoch: 24/300]\n",
      "100%|██████████| 898/898 [04:54<00:00,  3.04batch/s, loss=1.54, acc=77.9]\n",
      "100%|██████████| 3589/3589 [01:31<00:00, 39.34batch/s]"
     ]
    },
    {
     "name": "stderr",
     "output_type": "stream",
     "text": [
      "\u001b[34m\u001b[1mwandb\u001b[0m: \u001b[33mWARNING\u001b[0m Artifacts logged anonymously cannot be claimed and expire after 7 days.\n"
     ]
    },
    {
     "name": "stdout",
     "output_type": "stream",
     "text": [
      "\n",
      "Eval loss: 1.9865, Eval Accuracy: 67.0381724834 %\n",
      "[Epoch: 25/300]\n",
      "100%|██████████| 898/898 [05:06<00:00,  2.93batch/s, loss=1.53, acc=78.4]\n",
      "100%|██████████| 3589/3589 [01:33<00:00, 38.37batch/s]"
     ]
    },
    {
     "name": "stderr",
     "output_type": "stream",
     "text": [
      "\u001b[34m\u001b[1mwandb\u001b[0m: \u001b[33mWARNING\u001b[0m Artifacts logged anonymously cannot be claimed and expire after 7 days.\n"
     ]
    },
    {
     "name": "stdout",
     "output_type": "stream",
     "text": [
      "\n",
      "Eval loss: 1.9890, Eval Accuracy: 67.2332108021 %\n",
      "[Epoch: 26/300]\n",
      "100%|██████████| 898/898 [04:55<00:00,  3.04batch/s, loss=1.53, acc=78.1]\n",
      "100%|██████████| 3589/3589 [01:35<00:00, 37.56batch/s]"
     ]
    },
    {
     "name": "stderr",
     "output_type": "stream",
     "text": [
      "\u001b[34m\u001b[1mwandb\u001b[0m: \u001b[33mWARNING\u001b[0m Artifacts logged anonymously cannot be claimed and expire after 7 days.\n"
     ]
    },
    {
     "name": "stdout",
     "output_type": "stream",
     "text": [
      "\n",
      "Eval loss: 1.9857, Eval Accuracy: 66.9267177582 %\n",
      "[Epoch: 27/300]\n",
      "100%|██████████| 898/898 [04:51<00:00,  3.08batch/s, loss=1.53, acc=78.1]\n",
      "100%|██████████| 3589/3589 [01:39<00:00, 36.17batch/s]"
     ]
    },
    {
     "name": "stderr",
     "output_type": "stream",
     "text": [
      "\u001b[34m\u001b[1mwandb\u001b[0m: \u001b[33mWARNING\u001b[0m Artifacts logged anonymously cannot be claimed and expire after 7 days.\n"
     ]
    },
    {
     "name": "stdout",
     "output_type": "stream",
     "text": [
      "\n",
      "Eval loss: 2.0120, Eval Accuracy: 66.5923655033 %\n",
      "[Epoch: 28/300]\n",
      "100%|██████████| 898/898 [04:56<00:00,  3.03batch/s, loss=1.54, acc=77.4]\n",
      "100%|██████████| 3589/3589 [01:30<00:00, 39.86batch/s]\n"
     ]
    },
    {
     "name": "stderr",
     "output_type": "stream",
     "text": [
      "\u001b[34m\u001b[1mwandb\u001b[0m: \u001b[33mWARNING\u001b[0m Artifacts logged anonymously cannot be claimed and expire after 7 days.\n"
     ]
    },
    {
     "name": "stdout",
     "output_type": "stream",
     "text": [
      "Eval loss: 1.9785, Eval Accuracy: 67.7626073360 %\n",
      "[Epoch: 29/300]\n",
      "100%|██████████| 898/898 [05:31<00:00,  2.71batch/s, loss=1.53, acc=78.2]\n",
      "100%|██████████| 3589/3589 [01:31<00:00, 39.36batch/s]"
     ]
    },
    {
     "name": "stderr",
     "output_type": "stream",
     "text": [
      "\u001b[34m\u001b[1mwandb\u001b[0m: \u001b[33mWARNING\u001b[0m Artifacts logged anonymously cannot be claimed and expire after 7 days.\n"
     ]
    },
    {
     "name": "stdout",
     "output_type": "stream",
     "text": [
      "\n",
      "Eval loss: 1.9841, Eval Accuracy: 67.9576456547 %\n",
      "[Epoch: 30/300]\n",
      "100%|██████████| 898/898 [04:46<00:00,  3.14batch/s, loss=1.52, acc=78.9]\n",
      "100%|██████████| 3589/3589 [01:27<00:00, 40.93batch/s]"
     ]
    },
    {
     "name": "stderr",
     "output_type": "stream",
     "text": [
      "\u001b[34m\u001b[1mwandb\u001b[0m: \u001b[33mWARNING\u001b[0m Artifacts logged anonymously cannot be claimed and expire after 7 days.\n"
     ]
    },
    {
     "name": "stdout",
     "output_type": "stream",
     "text": [
      "\n",
      "Eval loss: 1.9873, Eval Accuracy: 67.6511585712 %\n",
      "[Epoch: 31/300]\n",
      "100%|██████████| 898/898 [04:40<00:00,  3.20batch/s, loss=1.51, acc=79.5]\n",
      "100%|██████████| 3589/3589 [01:28<00:00, 40.73batch/s]\n"
     ]
    },
    {
     "name": "stderr",
     "output_type": "stream",
     "text": [
      "\u001b[34m\u001b[1mwandb\u001b[0m: \u001b[33mWARNING\u001b[0m Artifacts logged anonymously cannot be claimed and expire after 7 days.\n"
     ]
    },
    {
     "name": "stdout",
     "output_type": "stream",
     "text": [
      "Eval loss: 2.0008, Eval Accuracy: 67.3725247383 %\n",
      "[Epoch: 32/300]\n",
      "100%|██████████| 898/898 [04:47<00:00,  3.13batch/s, loss=1.52, acc=79.3]\n",
      "100%|██████████| 3589/3589 [01:29<00:00, 40.30batch/s]\n"
     ]
    },
    {
     "name": "stderr",
     "output_type": "stream",
     "text": [
      "\u001b[34m\u001b[1mwandb\u001b[0m: \u001b[33mWARNING\u001b[0m Artifacts logged anonymously cannot be claimed and expire after 7 days.\n"
     ]
    },
    {
     "name": "stdout",
     "output_type": "stream",
     "text": [
      "Eval loss: 2.0115, Eval Accuracy: 66.6202306747 %\n",
      "[Epoch: 33/300]\n",
      "100%|██████████| 898/898 [05:05<00:00,  2.94batch/s, loss=1.51, acc=79.7]\n",
      "100%|██████████| 3589/3589 [01:36<00:00, 37.19batch/s]"
     ]
    },
    {
     "name": "stderr",
     "output_type": "stream",
     "text": [
      "\u001b[34m\u001b[1mwandb\u001b[0m: \u001b[33mWARNING\u001b[0m Artifacts logged anonymously cannot be claimed and expire after 7 days.\n"
     ]
    },
    {
     "name": "stdout",
     "output_type": "stream",
     "text": [
      "\n",
      "Eval loss: 2.0008, Eval Accuracy: 67.0103073120 %\n",
      "[Epoch: 34/300]\n",
      "100%|██████████| 898/898 [05:30<00:00,  2.72batch/s, loss=1.51, acc=79.9]\n",
      "100%|██████████| 3589/3589 [01:33<00:00, 38.23batch/s]"
     ]
    },
    {
     "name": "stderr",
     "output_type": "stream",
     "text": [
      "\u001b[34m\u001b[1mwandb\u001b[0m: \u001b[33mWARNING\u001b[0m Artifacts logged anonymously cannot be claimed and expire after 7 days.\n"
     ]
    },
    {
     "name": "stdout",
     "output_type": "stream",
     "text": [
      "\n",
      "Eval loss: 1.9992, Eval Accuracy: 66.3694620132 %\n",
      "[Epoch: 35/300]\n",
      "100%|██████████| 898/898 [05:09<00:00,  2.90batch/s, loss=1.51, acc=79.7]\n",
      "100%|██████████| 3589/3589 [01:34<00:00, 37.95batch/s]"
     ]
    },
    {
     "name": "stderr",
     "output_type": "stream",
     "text": [
      "\u001b[34m\u001b[1mwandb\u001b[0m: \u001b[33mWARNING\u001b[0m Artifacts logged anonymously cannot be claimed and expire after 7 days.\n"
     ]
    },
    {
     "name": "stdout",
     "output_type": "stream",
     "text": [
      "\n",
      "Eval loss: 1.9850, Eval Accuracy: 67.4561142921 %\n",
      "[Epoch: 36/300]\n",
      "100%|██████████| 898/898 [05:08<00:00,  2.91batch/s, loss=1.51, acc=79.9]\n",
      "100%|██████████| 3589/3589 [01:34<00:00, 38.02batch/s]\n"
     ]
    },
    {
     "name": "stderr",
     "output_type": "stream",
     "text": [
      "\u001b[34m\u001b[1mwandb\u001b[0m: \u001b[33mWARNING\u001b[0m Artifacts logged anonymously cannot be claimed and expire after 7 days.\n"
     ]
    },
    {
     "name": "stdout",
     "output_type": "stream",
     "text": [
      "Eval loss: 1.9908, Eval Accuracy: 67.3446655273 %\n",
      "[Epoch: 37/300]\n",
      "100%|██████████| 898/898 [05:06<00:00,  2.93batch/s, loss=1.5, acc=80.6] \n",
      "100%|██████████| 3589/3589 [01:34<00:00, 38.05batch/s]"
     ]
    },
    {
     "name": "stderr",
     "output_type": "stream",
     "text": [
      "\u001b[34m\u001b[1mwandb\u001b[0m: \u001b[33mWARNING\u001b[0m Artifacts logged anonymously cannot be claimed and expire after 7 days.\n"
     ]
    },
    {
     "name": "stdout",
     "output_type": "stream",
     "text": [
      "\n",
      "Eval loss: 1.9936, Eval Accuracy: 67.5118446350 %\n",
      "[Epoch: 38/300]\n",
      "100%|██████████| 898/898 [05:09<00:00,  2.91batch/s, loss=1.5, acc=80.6] \n",
      "100%|██████████| 3589/3589 [01:38<00:00, 36.29batch/s]"
     ]
    },
    {
     "name": "stderr",
     "output_type": "stream",
     "text": [
      "\u001b[34m\u001b[1mwandb\u001b[0m: \u001b[33mWARNING\u001b[0m Artifacts logged anonymously cannot be claimed and expire after 7 days.\n"
     ]
    },
    {
     "name": "stdout",
     "output_type": "stream",
     "text": [
      "\n",
      "Eval loss: 2.0003, Eval Accuracy: 67.6232933998 %\n",
      "[Epoch: 39/300]\n",
      "100%|██████████| 898/898 [05:57<00:00,  2.51batch/s, loss=1.5, acc=80.2] \n",
      "100%|██████████| 3589/3589 [01:45<00:00, 34.11batch/s]\n"
     ]
    },
    {
     "name": "stderr",
     "output_type": "stream",
     "text": [
      "\u001b[34m\u001b[1mwandb\u001b[0m: \u001b[33mWARNING\u001b[0m Artifacts logged anonymously cannot be claimed and expire after 7 days.\n"
     ]
    },
    {
     "name": "stdout",
     "output_type": "stream",
     "text": [
      "Eval loss: 1.9974, Eval Accuracy: 67.4561142921 %\n",
      "[Epoch: 40/300]\n",
      "100%|██████████| 898/898 [06:36<00:00,  2.26batch/s, loss=1.5, acc=80.5] \n",
      "100%|██████████| 3589/3589 [01:46<00:00, 33.85batch/s]"
     ]
    },
    {
     "name": "stderr",
     "output_type": "stream",
     "text": [
      "\u001b[34m\u001b[1mwandb\u001b[0m: \u001b[33mWARNING\u001b[0m Artifacts logged anonymously cannot be claimed and expire after 7 days.\n"
     ]
    },
    {
     "name": "stdout",
     "output_type": "stream",
     "text": [
      "\n",
      "Eval loss: 2.0063, Eval Accuracy: 67.2610759735 %\n",
      "[Epoch: 41/300]\n",
      "100%|██████████| 898/898 [06:35<00:00,  2.27batch/s, loss=1.49, acc=81.8]\n",
      "100%|██████████| 3589/3589 [01:45<00:00, 34.07batch/s]"
     ]
    },
    {
     "name": "stderr",
     "output_type": "stream",
     "text": [
      "\u001b[34m\u001b[1mwandb\u001b[0m: \u001b[33mWARNING\u001b[0m Artifacts logged anonymously cannot be claimed and expire after 7 days.\n"
     ]
    },
    {
     "name": "stdout",
     "output_type": "stream",
     "text": [
      "\n",
      "Eval loss: 2.0078, Eval Accuracy: 67.4839794636 %\n",
      "[Epoch: 42/300]\n",
      "100%|██████████| 898/898 [05:31<00:00,  2.71batch/s, loss=1.48, acc=82]  \n",
      "100%|██████████| 3589/3589 [01:36<00:00, 37.11batch/s]"
     ]
    },
    {
     "name": "stderr",
     "output_type": "stream",
     "text": [
      "\u001b[34m\u001b[1mwandb\u001b[0m: \u001b[33mWARNING\u001b[0m Artifacts logged anonymously cannot be claimed and expire after 7 days.\n"
     ]
    },
    {
     "name": "stdout",
     "output_type": "stream",
     "text": [
      "\n",
      "Eval loss: 1.9981, Eval Accuracy: 67.3168003559 %\n",
      "[Epoch: 43/300]\n",
      "100%|██████████| 898/898 [05:01<00:00,  2.98batch/s, loss=1.48, acc=82]  \n",
      "100%|██████████| 3589/3589 [01:33<00:00, 38.38batch/s]"
     ]
    },
    {
     "name": "stderr",
     "output_type": "stream",
     "text": [
      "\u001b[34m\u001b[1mwandb\u001b[0m: \u001b[33mWARNING\u001b[0m Artifacts logged anonymously cannot be claimed and expire after 7 days.\n"
     ]
    },
    {
     "name": "stdout",
     "output_type": "stream",
     "text": [
      "\n",
      "Eval loss: 2.0108, Eval Accuracy: 67.5675690174 %\n",
      "[Epoch: 44/300]\n",
      "100%|██████████| 898/898 [04:55<00:00,  3.04batch/s, loss=1.48, acc=81.9]\n",
      "100%|██████████| 3589/3589 [01:39<00:00, 36.24batch/s]"
     ]
    },
    {
     "name": "stderr",
     "output_type": "stream",
     "text": [
      "\u001b[34m\u001b[1mwandb\u001b[0m: \u001b[33mWARNING\u001b[0m Artifacts logged anonymously cannot be claimed and expire after 7 days.\n"
     ]
    },
    {
     "name": "stdout",
     "output_type": "stream",
     "text": [
      "\n",
      "Eval loss: 2.0078, Eval Accuracy: 67.1496212482 %\n",
      "Validation loss did not improve for 15 epochs. Stopping training.\n",
      "  0%|          | 0/113 [00:00<?, ?batch/s]"
     ]
    }
   ],
   "source": [
    "# Define your variables\n",
    "# dataset_name, data_directory = 'AffectNet', '../../Datasets/AffectNet_Structured' #97 epochs = 59% Test Accuracy | 10+ hrs Training\n",
    "# dataset_name, data_directory = 'CK+', '../../Datasets/CK+_Structured'\n",
    "# dataset_name, data_directory = 'FER', '../../Datasets/FER_Structured' #172epochs = 70% Test Accuracy | 10+ hrs Training\n",
    "# dataset_name, data_directory = 'JAFFE', '../../Datasets/JAFFE_Structured'\n",
    "# dataset_name, data_directory = 'RAF-DB', '../../Datasets/RAF-DB_Structured' #131epochs = 83.38% Test Accuracy | 6 hrs Training\n",
    "\n",
    "# dataset_name, data_directory = 'AffectNet_Aligned', '../../Datasets/AffectNet_Structured_Aligned' \n",
    "dataset_name, data_directory = 'FER_Aligned', '../../Datasets/FER_Structured_Aligned' # 145epochs = 69.04 % Test Accuracy | 15 hrs Training\n",
    "# dataset_name, data_directory = 'RAF-DB_Aligned', '../../Datasets/RAF-DB_Structured_Aligned' \n",
    "\n",
    "batch_size = 32\n",
    "learning_rate = 0.00001\n",
    "epochs = 300\n",
    "patience = 15\n",
    "num_workers = 0 # Larger  than 0 will cause an error\n",
    "model_size = [\"tiny\", \"small\", \"base\", \"large\", \"xlarge\"][1]\n",
    "output_dir = \"Models\"\n",
    "use_amp = True # Use Mixed Precision\n",
    "use_22k = True # Use 22k model (larger model)\n",
    "checkpoint = \"ModelsReadyForComparison/EmoNeXt_FER_Aligned_best_model_LR_1e-05_BS_32_P_15_E_300_MS_small_AMP_True_22K_True.pt\" # Path to the checkpoint file\n",
    "\n",
    "# Construct the %run command\n",
    "run_command = f\"EmoNeXt-master/train.py --dataset-name={dataset_name} --dataset-path={data_directory} --batch-size={batch_size} --patience={patience} --lr={learning_rate} --epochs={epochs} --num-workers={num_workers} --model-size={model_size} --output-dir={output_dir}\"\n",
    "\n",
    "# Add the --amp flag if use_amp is True\n",
    "run_command += \" --amp\" if use_22k else \"\"\n",
    "\n",
    "# Add the --in_22k flag if use_22k is True\n",
    "run_command += \" --in_22k\" if use_22k else \"\"\n",
    "\n",
    "run_command += f\" --checkpoint {checkpoint}\" if checkpoint != \"\" else \"\"\n",
    "\n",
    "print(run_command)\n",
    "# Execute the command\n",
    "%run {run_command}"
   ]
  },
  {
   "cell_type": "markdown",
   "metadata": {},
   "source": [
    "# Deriving Metrics on Testing Set"
   ]
  },
  {
   "cell_type": "code",
   "execution_count": 1,
   "metadata": {},
   "outputs": [],
   "source": [
    "import torch\n",
    "import numpy as np\n",
    "from sklearn.metrics import (accuracy_score, precision_score, recall_score, f1_score, classification_report, confusion_matrix)\n",
    "import seaborn as sns\n",
    "import matplotlib.pyplot as plt\n",
    "from torch.utils.data import DataLoader\n",
    "from torchvision import transforms, datasets\n",
    "import torch.nn.functional as F\n",
    "\n",
    "from ema_pytorch import EMA\n",
    "import importlib  \n",
    "models = importlib.import_module(\"EmoNeXt-master.models\")\n",
    "\n",
    "from torch.utils.data import ConcatDataset\n",
    "\n",
    "def TestEmoNeXt(data_directory, model_path, base_model_size='small', base_model_in_22k=False, batch_size=15, dataset=['test']):\n",
    "\n",
    "    # # Define the mapping for the aligned labels\n",
    "    # # -ve keys are for the labels that are not present in the dataset\n",
    "    # # New Mapping - 0: Angry, 1: Disgust, 2: Fear, 3: Happy, 4: Sad, 5: Surprise, 6: Neutral, 7: Contempt\n",
    "    # if 'FER' in model_path.upper():\n",
    "    #     print(\"FER Model\")\n",
    "    #     # Original Mapping: 0: Angry, 1: Disgust, 2: Fear, 3: Happy, 4: Neutral, 5: Sad, 6: Surprise\n",
    "    #     aligned_mapping = {0:0, 1:1, 2:2, 3:3, 4:6, 5:4, 6:5, -1:7}\n",
    "    # elif 'RAF' in model_path.upper():\n",
    "    #     print(\"RAF Model\")\n",
    "    #     # Original Mapping: 0: Angry, 1: Disgust, 2: Fear, 3: Happy, 4: Neutral, 5: Sad, 6: Surprise\n",
    "    #     aligned_mapping = {0:0, 1:1, 2:2, 3:3, 4:6, 5:4, 6:5, -1:7}\n",
    "    # elif 'AFFECTNET' in model_path.upper():\n",
    "    #     print(\"AffectNet Model\")\n",
    "    #     # Original Mapping: 0: Angry, 1: Contempt, 2: Disgust, 3: Fear, 4: Happy, 5: Neutral, 6: Sad, 7: Surprise\n",
    "    #     aligned_mapping = {0:0, 1:7, 2:1, 3:2, 4:3, 5:6, 6:4, 7:5}\n",
    "    # elif 'JAFFE' in model_path.upper():\n",
    "    #     print(\"JAFFE Model\")\n",
    "    #     # Original Mapping: 0: Angry, 1: Disgust, 2: Fear, 3: Happy, 4: Sad, 5: Surprise\n",
    "    #     aligned_mapping = {0:0, 1:1, 2:2, 3:3, 4:4, 5:5, -1:6, -2:7}\n",
    "    # elif 'CK+' in model_path.upper():\n",
    "    #     print(\"CK+ Model\")\n",
    "    #     # Original Mapping: 0: Angry, 1: Contempt, 2: Disgust, 3: Fear, 4: Happy, 5: Neutral, 6: Sad, 7: Surprise\n",
    "    #     aligned_mapping = {0:0, 1:7, 2:1, 3:2, 4:3, 5:6, 6:4, 7:5}\n",
    "\n",
    "    # # Update the label mapping for the dataset\n",
    "    # label_mapping = {'Angry': 0, 'Disgust': 1, 'Fear': 2, 'Happy': 3, 'Sad': 4, 'Surprise': 5, 'Neutral': 6, 'Contempt': 7}\n",
    "\n",
    "    ema_decay = 0.99 # Default unchnaged values\n",
    "    ema_update_every = 16 # Default unchnaged values\n",
    "\n",
    "    device = torch.device('cuda' if torch.cuda.is_available() else 'cpu')\n",
    "    print(f\"Using {device} device\")\n",
    "\n",
    "    # Transform the dataset\n",
    "    transform = transforms.Compose(\n",
    "        [\n",
    "            transforms.Grayscale(),  # Convert image to grayscale if needed\n",
    "            transforms.Resize(236),  # Resize the image\n",
    "            transforms.TenCrop(224),  # Apply ten-cropping (10 different crops)\n",
    "            transforms.Lambda(\n",
    "                lambda crops: torch.stack(\n",
    "                    [transforms.ToTensor()(crop) for crop in crops]\n",
    "                )\n",
    "            ),  # Convert each crop to tensor\n",
    "            transforms.Lambda(\n",
    "                lambda crops: torch.stack([crop.repeat(3, 1, 1) for crop in crops])\n",
    "            ),\n",
    "        ]\n",
    "    )\n",
    "    \n",
    "    state_dict = torch.load(model_path, weights_only=True)\n",
    "\n",
    "    final_fc_layer = [k for k in state_dict['model'].keys() if 'head' in k and 'weight' in k][-1]\n",
    "    num_classes = state_dict['model'][final_fc_layer].shape[0]\n",
    "    print(f\"Number of classes: {num_classes}\")\n",
    "\n",
    "    # Load the model architecture\n",
    "    model = models.get_model(num_classes, base_model_size, base_model_in_22k) \n",
    "\n",
    "    model.load_state_dict(state_dict['model'], strict=False) \n",
    "    model.eval()\n",
    "\n",
    "    ema_model = EMA(model, beta=ema_decay, update_every=ema_update_every).to(device)\n",
    "\n",
    "    ema_model.load_state_dict(state_dict[\"ema\"], strict=False)\n",
    "    ema_model.eval()\n",
    "\n",
    "    all_preds = []\n",
    "    all_labels = []\n",
    "\n",
    "    # Load the test dataset and aligning the labels\n",
    "    # test_dataset = datasets.ImageFolder(f'{data_directory}/test', transform=transform, target_transform=lambda x: label_mapping[test_dataset.classes[x].capitalize()])  \n",
    "\n",
    "    # test_dataset = []\n",
    "    # for ds in dataset:\n",
    "    #     dataset_part = datasets.ImageFolder(f'{data_directory}/{ds}', transform=transform, target_transform=lambda x: label_mapping[dataset_part.classes[x].capitalize()])  \n",
    "    #     test_dataset.append(dataset_part)\n",
    "    # test_dataset = ConcatDataset(test_dataset)\n",
    "\n",
    "    test_dataset = []\n",
    "    for ds in dataset:\n",
    "        dataset_part = datasets.ImageFolder(f'{data_directory}/{ds}', transform=transform)  \n",
    "        test_dataset.append(dataset_part)\n",
    "    test_dataset = ConcatDataset(test_dataset)\n",
    "\n",
    "    test_loader = torch.utils.data.DataLoader(test_dataset, batch_size, shuffle = False, pin_memory = True)\n",
    "    # test_dataset.class_to_idx = label_mapping\n",
    "    # print(test_dataset.class_to_idx)\n",
    "\n",
    "    cnt = 0\n",
    "    # Iterate through test_loader to collect predictions and ground truth labels\n",
    "    with torch.no_grad():\n",
    "        for data in test_loader:\n",
    "            print(cnt,'/',len(test_loader))\n",
    "            cnt += 1\n",
    "            inputs, labels = data[0].to(device), data[1].to(device)\n",
    "            bs, ncrops, c, h, w = inputs.shape\n",
    "            inputs = inputs.view(-1, c, h, w)   \n",
    "            \n",
    "            # Forward pass through the ema_model;\n",
    "            _, logits = ema_model(inputs)\n",
    "            \n",
    "            # Reshape logits back to (batch_size, ncrops, num_classes) and average over crops\n",
    "            outputs_avg = logits.view(bs, ncrops, -1).mean(1)\n",
    "            predictions = torch.argmax(outputs_avg, dim=1)\n",
    "\n",
    "            all_preds.append(predictions.cpu().numpy())\n",
    "            all_labels.append(labels.cpu().numpy())\n",
    "\n",
    "    # Concatenate lists to form single arrays\n",
    "    all_preds = np.concatenate(all_preds)\n",
    "    all_labels = np.concatenate(all_labels)\n",
    "    \n",
    "    print(\"All Labels: \", all_labels)\n",
    "    print(\"(B4 Mapping) All Predictions: \",all_preds)\n",
    "    # all_preds = [aligned_mapping[v] for v in all_preds]\n",
    "    print(\"(After Mapping) All Predictions: \",all_preds)\n",
    "\n",
    "    # Calculate metrics\n",
    "    accuracy = accuracy_score(all_labels, all_preds)\n",
    "    precision_weighted = precision_score(all_labels, all_preds, average='weighted', zero_division=0)\n",
    "    precision_macro = precision_score(all_labels, all_preds, average='macro', zero_division=0)\n",
    "    precision_micro = precision_score(all_labels, all_preds, average='micro', zero_division=0)\n",
    "\n",
    "    recall_weighted = recall_score(all_labels, all_preds, average='weighted', zero_division=0)\n",
    "    recall_macro = recall_score(all_labels, all_preds, average='macro', zero_division=0)\n",
    "    recall_micro = recall_score(all_labels, all_preds, average='micro', zero_division=0)\n",
    "\n",
    "    f1_weighted = f1_score(all_labels, all_preds, average='weighted', zero_division=0)\n",
    "    f1_macro = f1_score(all_labels, all_preds, average='macro', zero_division=0)\n",
    "    f1_micro = f1_score(all_labels, all_preds, average='micro', zero_division=0)\n",
    "\n",
    "    report = classification_report(all_labels, all_preds, zero_division=0)\n",
    "    cm = confusion_matrix(all_labels, all_preds, labels=[0, 1, 2, 3, 4, 5, 6, 7])\n",
    "\n",
    "    # Print the metrics\n",
    "    print(\"Test Accuracy:\", accuracy)\n",
    "    print(\"Precision (Weighted):\", precision_weighted)\n",
    "    print(\"Precision (Macro):\", precision_macro)\n",
    "    print(\"Precision (Micro):\", precision_micro)\n",
    "    print(\"Recall (Weighted):\", recall_weighted)\n",
    "    print(\"Recall (Macro):\", recall_macro)\n",
    "    print(\"Recall (Micro):\", recall_micro)\n",
    "    print(\"F1 Score (Weighted):\", f1_weighted)\n",
    "    print(\"F1 Score (Macro):\", f1_macro)\n",
    "    print(\"F1 Score (Micro):\", f1_micro)\n",
    "    print(\"\\nClassification Report:\\n\", report)\n",
    "    # print(\"\\nConfusion Matrix:\\n\", cm)\n",
    "\n",
    "    # (Optional) Visualize the confusion matrix using seaborn heatmap\n",
    "    plt.figure(figsize=(8, 6))\n",
    "    sns.heatmap(cm, annot=True, fmt='d', cmap='Blues')\n",
    "    plt.title(\"Confusion Matrix\")\n",
    "    plt.xlabel(\"Predicted Label\")\n",
    "    plt.ylabel(\"True Label\")\n",
    "    plt.show()"
   ]
  },
  {
   "cell_type": "code",
   "execution_count": 2,
   "metadata": {},
   "outputs": [
    {
     "name": "stdout",
     "output_type": "stream",
     "text": [
      "Using cuda device\n",
      "Number of classes: 7\n",
      "0 / 113\n",
      "1 / 113\n",
      "2 / 113\n",
      "3 / 113\n",
      "4 / 113\n",
      "5 / 113\n",
      "6 / 113\n",
      "7 / 113\n",
      "8 / 113\n",
      "9 / 113\n",
      "10 / 113\n",
      "11 / 113\n",
      "12 / 113\n",
      "13 / 113\n",
      "14 / 113\n",
      "15 / 113\n",
      "16 / 113\n",
      "17 / 113\n",
      "18 / 113\n",
      "19 / 113\n",
      "20 / 113\n",
      "21 / 113\n",
      "22 / 113\n",
      "23 / 113\n",
      "24 / 113\n",
      "25 / 113\n",
      "26 / 113\n",
      "27 / 113\n",
      "28 / 113\n",
      "29 / 113\n",
      "30 / 113\n",
      "31 / 113\n",
      "32 / 113\n",
      "33 / 113\n",
      "34 / 113\n",
      "35 / 113\n",
      "36 / 113\n",
      "37 / 113\n",
      "38 / 113\n",
      "39 / 113\n",
      "40 / 113\n",
      "41 / 113\n",
      "42 / 113\n",
      "43 / 113\n",
      "44 / 113\n",
      "45 / 113\n",
      "46 / 113\n",
      "47 / 113\n",
      "48 / 113\n",
      "49 / 113\n",
      "50 / 113\n",
      "51 / 113\n",
      "52 / 113\n",
      "53 / 113\n",
      "54 / 113\n",
      "55 / 113\n",
      "56 / 113\n",
      "57 / 113\n",
      "58 / 113\n",
      "59 / 113\n",
      "60 / 113\n",
      "61 / 113\n",
      "62 / 113\n",
      "63 / 113\n",
      "64 / 113\n",
      "65 / 113\n",
      "66 / 113\n",
      "67 / 113\n",
      "68 / 113\n",
      "69 / 113\n",
      "70 / 113\n",
      "71 / 113\n",
      "72 / 113\n",
      "73 / 113\n",
      "74 / 113\n",
      "75 / 113\n",
      "76 / 113\n",
      "77 / 113\n",
      "78 / 113\n",
      "79 / 113\n",
      "80 / 113\n",
      "81 / 113\n",
      "82 / 113\n",
      "83 / 113\n",
      "84 / 113\n",
      "85 / 113\n",
      "86 / 113\n",
      "87 / 113\n",
      "88 / 113\n",
      "89 / 113\n",
      "90 / 113\n",
      "91 / 113\n",
      "92 / 113\n",
      "93 / 113\n",
      "94 / 113\n",
      "95 / 113\n",
      "96 / 113\n",
      "97 / 113\n",
      "98 / 113\n",
      "99 / 113\n",
      "100 / 113\n",
      "101 / 113\n",
      "102 / 113\n",
      "103 / 113\n",
      "104 / 113\n",
      "105 / 113\n",
      "106 / 113\n",
      "107 / 113\n",
      "108 / 113\n",
      "109 / 113\n",
      "110 / 113\n",
      "111 / 113\n",
      "112 / 113\n",
      "All Labels:  [0 0 0 ... 6 6 6]\n",
      "(B4 Mapping) All Predictions:  [0 2 0 ... 6 6 6]\n",
      "(After Mapping) All Predictions:  [0 2 0 ... 6 6 6]\n",
      "Test Accuracy: 0.6985232655335748\n",
      "Precision (Weighted): 0.7286529309033648\n",
      "Precision (Macro): 0.6437513160571076\n",
      "Precision (Micro): 0.6985232655335748\n",
      "Recall (Weighted): 0.6985232655335748\n",
      "Recall (Macro): 0.7069069021996611\n",
      "Recall (Micro): 0.6985232655335748\n",
      "F1 Score (Weighted): 0.7088981963827266\n",
      "F1 Score (Macro): 0.6430792454736961\n",
      "F1 Score (Micro): 0.6985232655335748\n",
      "\n",
      "Classification Report:\n",
      "               precision    recall  f1-score   support\n",
      "\n",
      "           0       0.67      0.63      0.65       491\n",
      "           1       0.17      0.84      0.29        55\n",
      "           2       0.62      0.54      0.58       528\n",
      "           3       0.92      0.86      0.89       879\n",
      "           4       0.63      0.54      0.58       594\n",
      "           5       0.80      0.84      0.82       416\n",
      "           6       0.70      0.71      0.70       626\n",
      "\n",
      "    accuracy                           0.70      3589\n",
      "   macro avg       0.64      0.71      0.64      3589\n",
      "weighted avg       0.73      0.70      0.71      3589\n",
      "\n"
     ]
    },
    {
     "data": {
      "image/png": "[encoded data removed]",
      "text/plain": [
       "<Figure size 800x600 with 2 Axes>"
      ]
     },
     "metadata": {},
     "output_type": "display_data"
    }
   ],
   "source": [
    "# data_directory = '../../Datasets/JAFFE_Structured'\n",
    "# data_directory = '../../Datasets/FER_Structured'\n",
    "# data_directory = '../../Datasets/RAF-DB_Structured'\n",
    "# data_directory = '../../Datasets/CK+_Structured'\n",
    "# data_directory = '../../Datasets/AffectNet_Structured'\n",
    "\n",
    "data_directory = '../../Datasets/FER_Structured_Aligned'\n",
    "\n",
    "# model_path = 'ModelsReadyForComparison/EmoNeXt_RAF-DB_best_model_LR_1e-05_BS_32_P_15_E_300_MS_small_AMP_True_22K_True.pt'\n",
    "# model_path = 'ModelsReadyForComparison/EmoNeXt_FER_best_model_LR_1e-05_BS_32_P_15_E_300_MS_small_AMP_True_22K_True.pt'\n",
    "# model_path = 'ModelsReadyForComparison/EmoNeXt_AffectNet_best_model_LR_1e-05_BS_32_P_15_E_300_MS_small_AMP_True_22K_True.pt'\n",
    "model_path = 'Models/EmoNeXt_FER_Aligned_best_model_LR_1e-05_BS_32_P_15_E_300_MS_small_AMP_True_22K_True.pt'\n",
    "\n",
    "base_model_size = 'small'\n",
    "base_model_in_22k = True\n",
    "\n",
    "TestEmoNeXt(data_directory, model_path, base_model_size, base_model_in_22k, batch_size=32)"
   ]
  }
 ],
 "metadata": {
  "kernelspec": {
   "display_name": ".venv",
   "language": "python",
   "name": "python3"
  },
  "language_info": {
   "codemirror_mode": {
    "name": "ipython",
    "version": 3
   },
   "file_extension": ".py",
   "mimetype": "text/x-python",
   "name": "python",
   "nbconvert_exporter": "python",
   "pygments_lexer": "ipython3",
   "version": "3.10.8"
  }
 },
 "nbformat": 4,
 "nbformat_minor": 2
}
