{
 "cells": [
  {
   "cell_type": "markdown",
   "metadata": {},
   "source": [
    "# Training EmoNeXt"
   ]
  },
  {
   "cell_type": "code",
   "execution_count": null,
   "metadata": {},
   "outputs": [
    {
     "name": "stdout",
     "output_type": "stream",
     "text": [
      "EmoNeXt-master/train.py --dataset-name=FER --dataset-path=../../Datasets/FER_Structured --batch-size=32 --patience=15 --lr=1e-05 --epochs=159 --num-workers=0 --model-size=small --output-dir=Models --amp --in_22k --checkpoint Models/EmoNeXt_FER_best_model_LR_1e-05_BS_32_P_15_E_300_MS_small_AMP_True_22K_True.pt\n"
     ]
    },
    {
     "name": "stderr",
     "output_type": "stream",
     "text": [
      "\u001b[34m\u001b[1mwandb\u001b[0m: Using wandb-core as the SDK backend.  Please refer to https://wandb.me/wandb-core for more information.\n",
      "\u001b[34m\u001b[1mwandb\u001b[0m: Currently logged in as: \u001b[33mjeromeagius0\u001b[0m (\u001b[33mjeromeagius0-university-of-malta\u001b[0m) to \u001b[32mhttps://api.wandb.ai\u001b[0m. Use \u001b[1m`wandb login --relogin`\u001b[0m to force relogin\n"
     ]
    },
    {
     "data": {
      "text/html": [
       "Tracking run with wandb version 0.19.8"
      ],
      "text/plain": [
       "<IPython.core.display.HTML object>"
      ]
     },
     "metadata": {},
     "output_type": "display_data"
    },
    {
     "data": {
      "text/html": [
       "Run data is saved locally in <code>c:\\MastersRepos\\Deep-Learning-For-Computer-Vision\\Models\\EmoNeXt\\wandb\\run-20250321_185215-ildbq7g1</code>"
      ],
      "text/plain": [
       "<IPython.core.display.HTML object>"
      ]
     },
     "metadata": {},
     "output_type": "display_data"
    },
    {
     "data": {
      "text/html": [
       "Syncing run <strong><a href='https://wandb.ai/jeromeagius0-university-of-malta/EmoNeXt/runs/ildbq7g1?apiKey=01ba9157610df786dc07ecba121471aed0f3f202' target=\"_blank\">EmoNeXt_FER_best_model_LR_1e-05_BS_32_P_15_E_159_MS_small_AMP_True_22K_True</a></strong> to <a href='https://wandb.ai/jeromeagius0-university-of-malta/EmoNeXt?apiKey=01ba9157610df786dc07ecba121471aed0f3f202' target=\"_blank\">Weights & Biases</a> (<a href='https://wandb.me/developer-guide' target=\"_blank\">docs</a>)<br>"
      ],
      "text/plain": [
       "<IPython.core.display.HTML object>"
      ]
     },
     "metadata": {},
     "output_type": "display_data"
    },
    {
     "data": {
      "text/html": [
       " View project at <a href='https://wandb.ai/jeromeagius0-university-of-malta/EmoNeXt?apiKey=01ba9157610df786dc07ecba121471aed0f3f202' target=\"_blank\">https://wandb.ai/jeromeagius0-university-of-malta/EmoNeXt?apiKey=01ba9157610df786dc07ecba121471aed0f3f202</a>"
      ],
      "text/plain": [
       "<IPython.core.display.HTML object>"
      ]
     },
     "metadata": {},
     "output_type": "display_data"
    },
    {
     "data": {
      "text/html": [
       " View run at <a href='https://wandb.ai/jeromeagius0-university-of-malta/EmoNeXt/runs/ildbq7g1?apiKey=01ba9157610df786dc07ecba121471aed0f3f202' target=\"_blank\">https://wandb.ai/jeromeagius0-university-of-malta/EmoNeXt/runs/ildbq7g1?apiKey=01ba9157610df786dc07ecba121471aed0f3f202</a>"
      ],
      "text/plain": [
       "<IPython.core.display.HTML object>"
      ]
     },
     "metadata": {},
     "output_type": "display_data"
    },
    {
     "data": {
      "text/html": [
       "Do NOT share these links with anyone. They can be used to claim your runs."
      ],
      "text/plain": [
       "<IPython.core.display.HTML object>"
      ]
     },
     "metadata": {},
     "output_type": "display_data"
    },
    {
     "name": "stdout",
     "output_type": "stream",
     "text": [
      "Using 28709 images for training.\n",
      "Using 3589 images for evaluation.\n",
      "Using 3589 images for testing.\n",
      "Class to index mapping: {'Angry': 0, 'Disgust': 1, 'Fear': 2, 'Happy': 3, 'Neutral': 4, 'Sad': 5, 'Surprise': 6}\n",
      "Device used: cuda\n"
     ]
    },
    {
     "name": "stderr",
     "output_type": "stream",
     "text": [
      "C:\\MastersRepos\\Deep-Learning-For-Computer-Vision\\Models\\EmoNeXt\\EmoNeXt-master\\train.py:69: FutureWarning: `torch.cuda.amp.GradScaler(args...)` is deprecated. Please use `torch.amp.GradScaler('cuda', args...)` instead.\n",
      "  self.scaler = torch.cuda.amp.GradScaler(enabled=self.amp)\n"
     ]
    },
    {
     "name": "stdout",
     "output_type": "stream",
     "text": [
      "[Epoch: 1/159]\n",
      "100%|██████████| 898/898 [05:10<00:00,  2.90batch/s, loss=1.42, acc=86.8]\n",
      "100%|██████████| 3589/3589 [01:32<00:00, 38.75batch/s]\n"
     ]
    },
    {
     "name": "stderr",
     "output_type": "stream",
     "text": [
      "\u001b[34m\u001b[1mwandb\u001b[0m: \u001b[33mWARNING\u001b[0m Artifacts logged anonymously cannot be claimed and expire after 7 days.\n"
     ]
    },
    {
     "name": "stdout",
     "output_type": "stream",
     "text": [
      "Eval loss: 2.0314, Eval Accuracy: 68.5706317425 %\n",
      "[Epoch: 2/159]\n",
      "100%|██████████| 898/898 [05:10<00:00,  2.89batch/s, loss=1.42, acc=86.8]\n",
      "100%|██████████| 3589/3589 [01:33<00:00, 38.57batch/s]"
     ]
    },
    {
     "name": "stderr",
     "output_type": "stream",
     "text": [
      "\u001b[34m\u001b[1mwandb\u001b[0m: \u001b[33mWARNING\u001b[0m Artifacts logged anonymously cannot be claimed and expire after 7 days.\n"
     ]
    },
    {
     "name": "stdout",
     "output_type": "stream",
     "text": [
      "\n",
      "Eval loss: 2.0360, Eval Accuracy: 68.2362794876 %\n",
      "[Epoch: 3/159]\n",
      "100%|██████████| 898/898 [04:54<00:00,  3.05batch/s, loss=1.42, acc=86.7]\n",
      "100%|██████████| 3589/3589 [01:32<00:00, 38.94batch/s]"
     ]
    },
    {
     "name": "stderr",
     "output_type": "stream",
     "text": [
      "\u001b[34m\u001b[1mwandb\u001b[0m: \u001b[33mWARNING\u001b[0m Artifacts logged anonymously cannot be claimed and expire after 7 days.\n"
     ]
    },
    {
     "name": "stdout",
     "output_type": "stream",
     "text": [
      "\n",
      "Eval loss: 2.0329, Eval Accuracy: 67.8183317184 %\n",
      "[Epoch: 4/159]\n",
      "100%|██████████| 898/898 [04:48<00:00,  3.11batch/s, loss=1.42, acc=86.6]\n",
      "100%|██████████| 3589/3589 [01:35<00:00, 37.71batch/s]\n"
     ]
    },
    {
     "name": "stderr",
     "output_type": "stream",
     "text": [
      "\u001b[34m\u001b[1mwandb\u001b[0m: \u001b[33mWARNING\u001b[0m Artifacts logged anonymously cannot be claimed and expire after 7 days.\n"
     ]
    },
    {
     "name": "stdout",
     "output_type": "stream",
     "text": [
      "Eval loss: 2.0294, Eval Accuracy: 68.7935352325 %\n",
      "[Epoch: 5/159]\n",
      "  3%|▎         | 27/898 [00:09<05:20,  2.72batch/s, loss=1.42, acc=86.8]"
     ]
    }
   ],
   "source": [
    "# Define your variables\n",
    "# dataset_name, data_directory = 'AffectNet', '../../Datasets/AffectNet_Structured'\n",
    "# dataset_name, data_directory = 'CK+', '../../Datasets/CK+_Structured'\n",
    "dataset_name, data_directory = 'FER', '../../Datasets/FER_Structured' #52 + 89\n",
    "# dataset_name, data_directory = 'JAFFE', '../../Datasets/JAFFE_Structured'\n",
    "# dataset_name, data_directory = 'RAF-DB', '../../Datasets/RAF-DB_Structured'\n",
    "\n",
    "batch_size = 32\n",
    "learning_rate = 0.00001\n",
    "epochs = 159 #300\n",
    "patience = 15\n",
    "num_workers = 0 # Larger  than 0 will cause an error\n",
    "model_size = [\"tiny\", \"small\", \"base\", \"large\", \"xlarge\"][1]\n",
    "output_dir = \"Models\"\n",
    "use_amp = True # Use Mixed Precision\n",
    "use_22k = True # Use 22k model (larger model)\n",
    "checkpoint = 'Models/EmoNeXt_FER_best_model_LR_1e-05_BS_32_P_15_E_300_MS_small_AMP_True_22K_True.pt'\n",
    "\n",
    "# Construct the %run command\n",
    "run_command = f\"EmoNeXt-master/train.py --dataset-name={dataset_name} --dataset-path={data_directory} --batch-size={batch_size} --patience={patience} --lr={learning_rate} --epochs={epochs} --num-workers={num_workers} --model-size={model_size} --output-dir={output_dir}\"\n",
    "\n",
    "# Add the --amp flag if use_amp is True\n",
    "run_command += \" --amp\" if use_22k else \"\"\n",
    "\n",
    "# Add the --in_22k flag if use_22k is True\n",
    "run_command += \" --in_22k\" if use_22k else \"\"\n",
    "\n",
    "run_command += f\" --checkpoint {checkpoint}\" if checkpoint != \"\" else \"\"\n",
    "\n",
    "print(run_command)\n",
    "# Execute the command\n",
    "%run {run_command}"
   ]
  },
  {
   "cell_type": "markdown",
   "metadata": {},
   "source": [
    "# Deriving Metrics on Testing Set"
   ]
  },
  {
   "cell_type": "code",
   "execution_count": 2,
   "metadata": {},
   "outputs": [],
   "source": [
    "import torch\n",
    "import numpy as np\n",
    "from sklearn.metrics import (accuracy_score, precision_score, recall_score, f1_score, classification_report, confusion_matrix)\n",
    "import seaborn as sns\n",
    "import matplotlib.pyplot as plt\n",
    "from torch.utils.data import DataLoader\n",
    "from torchvision import transforms, datasets\n",
    "import torch.nn.functional as F\n",
    "\n",
    "from ema_pytorch import EMA\n",
    "import importlib  \n",
    "models = importlib.import_module(\"EmoNeXt-master.models\")\n",
    "\n",
    "def TestEmoNeXt(data_directory, model_path, base_model_size='small', base_model_in_22k=False, batch_size=15):\n",
    "\n",
    "    ema_decay = 0.99 # Default unchnaged values\n",
    "    ema_update_every = 16 # Default unchnaged values\n",
    "\n",
    "    device = torch.device('cuda' if torch.cuda.is_available() else 'cpu')\n",
    "    print(f\"Using {device} device\")\n",
    "\n",
    "    # Transform the dataset\n",
    "    transform = transforms.Compose(\n",
    "        [\n",
    "            transforms.Grayscale(),  # Convert image to grayscale if needed\n",
    "            transforms.Resize(236),  # Resize the image\n",
    "            transforms.TenCrop(224),  # Apply ten-cropping (10 different crops)\n",
    "            transforms.Lambda(\n",
    "                lambda crops: torch.stack(\n",
    "                    [transforms.ToTensor()(crop) for crop in crops]\n",
    "                )\n",
    "            ),  # Convert each crop to tensor\n",
    "            transforms.Lambda(\n",
    "                lambda crops: torch.stack([crop.repeat(3, 1, 1) for crop in crops])\n",
    "            ),\n",
    "        ]\n",
    "    )\n",
    "    \n",
    "    state_dict = torch.load(model_path, weights_only=True)\n",
    "\n",
    "    final_fc_layer = [k for k in state_dict['model'].keys() if 'head' in k and 'weight' in k][-1]\n",
    "    num_classes = state_dict['model'][final_fc_layer].shape[0]\n",
    "    print(f\"Number of classes: {num_classes}\")\n",
    "\n",
    "    # Load the model architecture\n",
    "    model = models.get_model(num_classes, base_model_size, base_model_in_22k) \n",
    "\n",
    "    model.load_state_dict(state_dict['model'], strict=False) \n",
    "    model.eval()\n",
    "\n",
    "    ema_model = EMA(model, beta=ema_decay, update_every=ema_update_every).to(device)\n",
    "\n",
    "    ema_model.load_state_dict(state_dict[\"ema\"], strict=False)\n",
    "    ema_model.eval()\n",
    "\n",
    "    all_preds = []\n",
    "    all_labels = []\n",
    "\n",
    "    test_dataset = datasets.ImageFolder(f'{data_directory}/test', transform = transform)   \n",
    "    test_loader = torch.utils.data.DataLoader(test_dataset, batch_size, shuffle = False, pin_memory = True)\n",
    "\n",
    "    cnt = 0\n",
    "    # Iterate through test_loader to collect predictions and ground truth labels\n",
    "    with torch.no_grad():\n",
    "        for data in test_loader:\n",
    "            print(cnt,'/',len(test_loader))\n",
    "            cnt += 1\n",
    "            inputs, labels = data[0].to(device), data[1].to(device)\n",
    "            bs, ncrops, c, h, w = inputs.shape\n",
    "            inputs = inputs.view(-1, c, h, w)   \n",
    "            \n",
    "            # Forward pass through the ema_model;\n",
    "            _, logits = ema_model(inputs)\n",
    "            \n",
    "            # Reshape logits back to (batch_size, ncrops, num_classes) and average over crops\n",
    "            outputs_avg = logits.view(bs, ncrops, -1).mean(1)\n",
    "            predictions = torch.argmax(outputs_avg, dim=1)\n",
    "\n",
    "            all_preds.append(predictions.cpu().numpy())\n",
    "            all_labels.append(labels.cpu().numpy())\n",
    "\n",
    "    # Concatenate lists to form single arrays\n",
    "    all_preds = np.concatenate(all_preds)\n",
    "    all_labels = np.concatenate(all_labels)\n",
    "    # print(all_preds)\n",
    "    # print(all_labels)\n",
    "\n",
    "    # Calculate metrics\n",
    "    accuracy = accuracy_score(all_labels, all_preds)\n",
    "    precision_weighted = precision_score(all_labels, all_preds, average='weighted', zero_division=0)\n",
    "    precision_macro = precision_score(all_labels, all_preds, average='macro', zero_division=0)\n",
    "    precision_micro = precision_score(all_labels, all_preds, average='micro', zero_division=0)\n",
    "\n",
    "    recall_weighted = recall_score(all_labels, all_preds, average='weighted', zero_division=0)\n",
    "    recall_macro = recall_score(all_labels, all_preds, average='macro', zero_division=0)\n",
    "    recall_micro = recall_score(all_labels, all_preds, average='micro', zero_division=0)\n",
    "\n",
    "    f1_weighted = f1_score(all_labels, all_preds, average='weighted', zero_division=0)\n",
    "    f1_macro = f1_score(all_labels, all_preds, average='macro', zero_division=0)\n",
    "    f1_micro = f1_score(all_labels, all_preds, average='micro', zero_division=0)\n",
    "\n",
    "    report = classification_report(all_labels, all_preds, zero_division=0)\n",
    "    cm = confusion_matrix(all_labels, all_preds)\n",
    "\n",
    "    # Print the metrics\n",
    "    print(\"Test Accuracy:\", accuracy)\n",
    "    print(\"Precision (Weighted):\", precision_weighted)\n",
    "    print(\"Precision (Macro):\", precision_macro)\n",
    "    print(\"Precision (Micro):\", precision_micro)\n",
    "    print(\"Recall (Weighted):\", recall_weighted)\n",
    "    print(\"Recall (Macro):\", recall_macro)\n",
    "    print(\"Recall (Micro):\", recall_micro)\n",
    "    print(\"F1 Score (Weighted):\", f1_weighted)\n",
    "    print(\"F1 Score (Macro):\", f1_macro)\n",
    "    print(\"F1 Score (Micro):\", f1_micro)\n",
    "    print(\"\\nClassification Report:\\n\", report)\n",
    "    print(\"\\nConfusion Matrix:\\n\", cm)\n",
    "\n",
    "    # (Optional) Visualize the confusion matrix using seaborn heatmap\n",
    "    plt.figure(figsize=(8, 6))\n",
    "    sns.heatmap(cm, annot=True, fmt='d', cmap='Blues')\n",
    "    plt.title(\"Confusion Matrix\")\n",
    "    plt.xlabel(\"Predicted Label\")\n",
    "    plt.ylabel(\"True Label\")\n",
    "    plt.show()"
   ]
  },
  {
   "cell_type": "code",
   "execution_count": 3,
   "metadata": {},
   "outputs": [
    {
     "name": "stdout",
     "output_type": "stream",
     "text": [
      "Using cuda device\n",
      "Number of classes: 7\n",
      "0 / 113\n",
      "1 / 113\n",
      "2 / 113\n",
      "3 / 113\n",
      "4 / 113\n",
      "5 / 113\n",
      "6 / 113\n",
      "7 / 113\n",
      "8 / 113\n",
      "9 / 113\n",
      "10 / 113\n",
      "11 / 113\n",
      "12 / 113\n",
      "13 / 113\n",
      "14 / 113\n",
      "15 / 113\n",
      "16 / 113\n",
      "17 / 113\n",
      "18 / 113\n",
      "19 / 113\n",
      "20 / 113\n",
      "21 / 113\n",
      "22 / 113\n",
      "23 / 113\n",
      "24 / 113\n",
      "25 / 113\n",
      "26 / 113\n",
      "27 / 113\n",
      "28 / 113\n",
      "29 / 113\n",
      "30 / 113\n",
      "31 / 113\n",
      "32 / 113\n",
      "33 / 113\n",
      "34 / 113\n",
      "35 / 113\n",
      "36 / 113\n",
      "37 / 113\n",
      "38 / 113\n",
      "39 / 113\n",
      "40 / 113\n",
      "41 / 113\n",
      "42 / 113\n",
      "43 / 113\n",
      "44 / 113\n",
      "45 / 113\n",
      "46 / 113\n",
      "47 / 113\n",
      "48 / 113\n",
      "49 / 113\n",
      "50 / 113\n",
      "51 / 113\n",
      "52 / 113\n",
      "53 / 113\n",
      "54 / 113\n",
      "55 / 113\n",
      "56 / 113\n",
      "57 / 113\n",
      "58 / 113\n",
      "59 / 113\n",
      "60 / 113\n",
      "61 / 113\n",
      "62 / 113\n",
      "63 / 113\n",
      "64 / 113\n",
      "65 / 113\n",
      "66 / 113\n",
      "67 / 113\n",
      "68 / 113\n",
      "69 / 113\n",
      "70 / 113\n",
      "71 / 113\n",
      "72 / 113\n",
      "73 / 113\n",
      "74 / 113\n",
      "75 / 113\n",
      "76 / 113\n",
      "77 / 113\n",
      "78 / 113\n",
      "79 / 113\n",
      "80 / 113\n",
      "81 / 113\n",
      "82 / 113\n",
      "83 / 113\n",
      "84 / 113\n",
      "85 / 113\n",
      "86 / 113\n",
      "87 / 113\n",
      "88 / 113\n",
      "89 / 113\n",
      "90 / 113\n",
      "91 / 113\n",
      "92 / 113\n",
      "93 / 113\n",
      "94 / 113\n",
      "95 / 113\n",
      "96 / 113\n",
      "97 / 113\n",
      "98 / 113\n",
      "99 / 113\n",
      "100 / 113\n",
      "101 / 113\n",
      "102 / 113\n",
      "103 / 113\n",
      "104 / 113\n",
      "105 / 113\n",
      "106 / 113\n",
      "107 / 113\n",
      "108 / 113\n",
      "109 / 113\n",
      "110 / 113\n",
      "111 / 113\n",
      "112 / 113\n",
      "Test Accuracy: 0.6999164112566174\n",
      "Precision (Weighted): 0.7261184423889432\n",
      "Precision (Macro): 0.6459907501081944\n",
      "Precision (Micro): 0.6999164112566174\n",
      "Recall (Weighted): 0.6999164112566174\n",
      "Recall (Macro): 0.7098006845433444\n",
      "Recall (Micro): 0.6999164112566174\n",
      "F1 Score (Weighted): 0.7091930333783781\n",
      "F1 Score (Macro): 0.6478183316138689\n",
      "F1 Score (Micro): 0.6999164112566174\n",
      "\n",
      "Classification Report:\n",
      "               precision    recall  f1-score   support\n",
      "\n",
      "           0       0.68      0.62      0.65       491\n",
      "           1       0.20      0.85      0.32        55\n",
      "           2       0.62      0.56      0.59       528\n",
      "           3       0.92      0.87      0.89       879\n",
      "           4       0.70      0.70      0.70       626\n",
      "           5       0.58      0.54      0.56       594\n",
      "           6       0.83      0.82      0.83       416\n",
      "\n",
      "    accuracy                           0.70      3589\n",
      "   macro avg       0.65      0.71      0.65      3589\n",
      "weighted avg       0.73      0.70      0.71      3589\n",
      "\n",
      "\n",
      "Confusion Matrix:\n",
      " [[306  34  50  10  34  51   6]\n",
      " [  4  47   2   0   1   0   1]\n",
      " [ 46  33 298   5  39  76  31]\n",
      " [ 16  32  10 762  21  16  22]\n",
      " [ 20  34  27  21 438  82   4]\n",
      " [ 51  47  69  16  86 318   7]\n",
      " [  6  13  28  17   3   6 343]]\n"
     ]
    },
    {
     "data": {
      "image/png": "[encoded data removed]",
      "text/plain": [
       "<Figure size 800x600 with 2 Axes>"
      ]
     },
     "metadata": {},
     "output_type": "display_data"
    }
   ],
   "source": [
    "# data_directory = '../../Datasets/JAFFE_Structured'\n",
    "data_directory = '../../Datasets/FER_Structured'\n",
    "# model_path = 'Models/EmoNeXt_JAFFE_best_model_LR_1e-05_BS_32_P_15_E_1_MS_small_AMP_True_22K_True.pt'\n",
    "# model_path = 'Models/EmoNeXt_FER_best_model_LR_1e-05_BS_32_P_15_E_1_MS_small_AMP_True_22K_True.pt'\n",
    "model_path = 'Models/EmoNeXt_FER_best_model_LR_1e-05_BS_32_P_15_E_300_MS_small_AMP_True_22K_True.pt'\n",
    "base_model_size = 'small'\n",
    "base_model_in_22k = True\n",
    "\n",
    "TestEmoNeXt(data_directory, model_path, base_model_size, base_model_in_22k, batch_size=32)"
   ]
  }
 ],
 "metadata": {
  "kernelspec": {
   "display_name": ".venv",
   "language": "python",
   "name": "python3"
  },
  "language_info": {
   "codemirror_mode": {
    "name": "ipython",
    "version": 3
   },
   "file_extension": ".py",
   "mimetype": "text/x-python",
   "name": "python",
   "nbconvert_exporter": "python",
   "pygments_lexer": "ipython3",
   "version": "3.10.8"
  }
 },
 "nbformat": 4,
 "nbformat_minor": 2
}
