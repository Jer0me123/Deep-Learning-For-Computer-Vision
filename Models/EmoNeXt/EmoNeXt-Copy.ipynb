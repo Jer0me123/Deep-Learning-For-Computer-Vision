{
 "cells": [
  {
   "cell_type": "code",
   "execution_count": 49,
   "metadata": {},
   "outputs": [],
   "source": [
    "# !pip3 install --pre torch torchvision torchaudio --index-url https://download.pytorch.org/whl/nightly/cu128\n",
    "# !pip install matplotlib\n",
    "# !pip install ema-pytorch\n",
    "# !pip install tqdm\n",
    "# !pip install wandb\n",
    "# !pip install numpy\n",
    "# !pip install kaggle\n",
    "# !pip install pillow\n",
    "# !pip install pandas\n",
    "# !pip install scikit-learn\n",
    "# !pip install --upgrade ipywidgets"
   ]
  },
  {
   "cell_type": "markdown",
   "metadata": {},
   "source": [
    "### LINK: https://github.com/yelboudouri/EmoNeXt/tree/master"
   ]
  },
  {
   "cell_type": "code",
   "execution_count": 50,
   "metadata": {},
   "outputs": [],
   "source": [
    "import math\n",
    "import torch\n",
    "import torch.nn as nn\n",
    "import torch.nn.functional as F\n",
    "from torch.hub import load_state_dict_from_url\n",
    "from torchvision.models import vgg16_bn, VGG16_BN_Weights\n",
    "from torchvision.ops import StochasticDepth"
   ]
  },
  {
   "cell_type": "code",
   "execution_count": 51,
   "metadata": {},
   "outputs": [
    {
     "name": "stdout",
     "output_type": "stream",
     "text": [
      "Using cuda device\n"
     ]
    }
   ],
   "source": [
    "# Device configuration\n",
    "device = torch.device(\"cuda\" if torch.cuda.is_available() else \"cpu\")\n",
    "print(f\"Using {device} device\")"
   ]
  },
  {
   "cell_type": "markdown",
   "metadata": {},
   "source": [
    "### EmoNeXt Model Defenition"
   ]
  },
  {
   "cell_type": "code",
   "execution_count": 52,
   "metadata": {},
   "outputs": [],
   "source": [
    "model_urls = {\n",
    "    \"convnext_tiny_1k\": \"https://dl.fbaipublicfiles.com/convnext/convnext_tiny_1k_224_ema.pth\",\n",
    "    \"convnext_small_1k\": \"https://dl.fbaipublicfiles.com/convnext/convnext_small_1k_224_ema.pth\",\n",
    "    \"convnext_base_1k\": \"https://dl.fbaipublicfiles.com/convnext/convnext_base_1k_224_ema.pth\",\n",
    "    \"convnext_large_1k\": \"https://dl.fbaipublicfiles.com/convnext/convnext_large_1k_224_ema.pth\",\n",
    "    \"convnext_tiny_22k\": \"https://dl.fbaipublicfiles.com/convnext/convnext_tiny_22k_224.pth\",\n",
    "    \"convnext_small_22k\": \"https://dl.fbaipublicfiles.com/convnext/convnext_small_22k_224.pth\",\n",
    "    \"convnext_base_22k\": \"https://dl.fbaipublicfiles.com/convnext/convnext_base_22k_224.pth\",\n",
    "    \"convnext_large_22k\": \"https://dl.fbaipublicfiles.com/convnext/convnext_large_22k_224.pth\",\n",
    "    \"convnext_xlarge_22k\": \"https://dl.fbaipublicfiles.com/convnext/convnext_xlarge_22k_224.pth\",\n",
    "}\n",
    "\n",
    "\n",
    "class SELayer(nn.Module):\n",
    "    def __init__(self, channel, reduction=16):\n",
    "        super(SELayer, self).__init__()\n",
    "        self.avg_pool = nn.AdaptiveAvgPool2d(1)\n",
    "        self.fc = nn.Sequential(\n",
    "            nn.Linear(channel, channel // reduction, bias=False),\n",
    "            nn.ReLU(inplace=True),\n",
    "            nn.Linear(channel // reduction, channel, bias=False),\n",
    "            nn.Sigmoid(),\n",
    "        )\n",
    "\n",
    "    def forward(self, x):\n",
    "        b, c, _, _ = x.size()\n",
    "        y = self.avg_pool(x).view(b, c)\n",
    "        y = self.fc(y).view(b, c, 1, 1)\n",
    "        return x * y.expand_as(x)\n",
    "\n",
    "\n",
    "class DotProductSelfAttention(nn.Module):\n",
    "    def __init__(self, input_dim):\n",
    "        super(DotProductSelfAttention, self).__init__()\n",
    "        self.input_dim = input_dim\n",
    "        self.norm = nn.LayerNorm(input_dim)\n",
    "        self.query = nn.Linear(input_dim, input_dim)\n",
    "        self.key = nn.Linear(input_dim, input_dim)\n",
    "        self.value = nn.Linear(input_dim, input_dim)\n",
    "\n",
    "    def forward(self, x):\n",
    "        x = self.norm(x)\n",
    "        query = self.query(x)\n",
    "        key = self.key(x)\n",
    "        value = self.value(x)\n",
    "\n",
    "        scale = 1 / math.sqrt(math.sqrt(self.input_dim))\n",
    "        scores = torch.matmul(query, key.transpose(-2, -1)) * scale\n",
    "        attention_weights = torch.softmax(scores, dim=-1)\n",
    "\n",
    "        attended_values = torch.matmul(attention_weights, value)\n",
    "        output = attended_values + x\n",
    "\n",
    "        return output, attention_weights\n",
    "\n",
    "\n",
    "class LayerNorm(nn.Module):\n",
    "    r\"\"\"LayerNorm that supports two data formats: channels_last (default) or channels_first.\n",
    "    The ordering of the dimensions in the inputs. channels_last corresponds to inputs with\n",
    "    shape (batch_size, height, width, channels) while channels_first corresponds to inputs\n",
    "    with shape (batch_size, channels, height, width).\n",
    "    \"\"\"\n",
    "\n",
    "    def __init__(self, normalized_shape, eps=1e-6, data_format=\"channels_last\"):\n",
    "        super().__init__()\n",
    "        self.weight = nn.Parameter(torch.ones(normalized_shape))\n",
    "        self.bias = nn.Parameter(torch.zeros(normalized_shape))\n",
    "        self.eps = eps\n",
    "        self.data_format = data_format\n",
    "        if self.data_format not in [\"channels_last\", \"channels_first\"]:\n",
    "            raise NotImplementedError\n",
    "        self.normalized_shape = (normalized_shape,)\n",
    "\n",
    "    def forward(self, x):\n",
    "        if self.data_format == \"channels_last\":\n",
    "            return F.layer_norm(\n",
    "                x, self.normalized_shape, self.weight, self.bias, self.eps\n",
    "            )\n",
    "        elif self.data_format == \"channels_first\":\n",
    "            u = x.mean(1, keepdim=True)\n",
    "            s = (x - u).pow(2).mean(1, keepdim=True)\n",
    "            x = (x - u) / torch.sqrt(s + self.eps)\n",
    "            x = self.weight[:, None, None] * x + self.bias[:, None, None]\n",
    "            return x\n",
    "\n",
    "\n",
    "class Block(nn.Module):\n",
    "    r\"\"\"ConvNeXt Block. There are two equivalent implementations:\n",
    "    (1) DwConv -> LayerNorm (channels_first) -> 1x1 Conv -> GELU -> 1x1 Conv; all in (N, C, H, W)\n",
    "    (2) DwConv -> Permute to (N, H, W, C); LayerNorm (channels_last) -> Linear -> GELU -> Linear; Permute back\n",
    "    We use (2) as we find it slightly faster in PyTorch\n",
    "\n",
    "    Args:\n",
    "        dim (int): Number of input channels.\n",
    "        drop_path (float): Stochastic depth rate. Default: 0.0\n",
    "        layer_scale_init_value (float): Init value for Layer Scale. Default: 1e-6.\n",
    "    \"\"\"\n",
    "\n",
    "    def __init__(self, dim, drop_path=0.0, layer_scale_init_value=1e-6):\n",
    "        super().__init__()\n",
    "        self.dwconv = nn.Conv2d(\n",
    "            dim, dim, kernel_size=7, padding=3, groups=dim\n",
    "        )  # depthwise conv\n",
    "        self.norm = LayerNorm(dim, eps=1e-6)\n",
    "        self.pwconv1 = nn.Linear(\n",
    "            dim, 4 * dim\n",
    "        )  # pointwise/1x1 convs, implemented with linear layers\n",
    "        self.act = nn.GELU()\n",
    "        self.pwconv2 = nn.Linear(4 * dim, dim)\n",
    "        self.gamma = (\n",
    "            nn.Parameter(layer_scale_init_value * torch.ones((dim)), requires_grad=True)\n",
    "            if layer_scale_init_value > 0\n",
    "            else None\n",
    "        )\n",
    "        self.stochastic_depth = StochasticDepth(drop_path, \"row\")\n",
    "\n",
    "    def forward(self, x):\n",
    "        input = x\n",
    "        x = self.dwconv(x)\n",
    "        x = x.permute(0, 2, 3, 1)  # (N, C, H, W) -> (N, H, W, C)\n",
    "        x = self.norm(x)\n",
    "        x = self.pwconv1(x)\n",
    "        x = self.act(x)\n",
    "        x = self.pwconv2(x)\n",
    "        if self.gamma is not None:\n",
    "            x = self.gamma * x\n",
    "        x = x.permute(0, 3, 1, 2)  # (N, H, W, C) -> (N, C, H, W)\n",
    "\n",
    "        x = input + self.stochastic_depth(x)\n",
    "        return x\n",
    "\n",
    "\n",
    "class EmoNeXt(nn.Module):\n",
    "    def __init__(\n",
    "        self,\n",
    "        in_chans=3,\n",
    "        num_classes=1000,\n",
    "        depths=None,\n",
    "        dims=None,\n",
    "        drop_path_rate=0.0,\n",
    "        layer_scale_init_value=1e-6,\n",
    "    ):\n",
    "        super().__init__()\n",
    "\n",
    "        if dims is None:\n",
    "            dims = [96, 192, 384, 768]\n",
    "        if depths is None:\n",
    "            depths = [3, 3, 9, 3]\n",
    "\n",
    "        # Spatial transformer localization-network\n",
    "        self.localization = nn.Sequential(\n",
    "            nn.Conv2d(3, 8, kernel_size=7),\n",
    "            nn.BatchNorm2d(8),\n",
    "            nn.MaxPool2d(2, stride=2),\n",
    "            nn.ReLU(True),\n",
    "            nn.Conv2d(8, 10, kernel_size=5),\n",
    "            nn.BatchNorm2d(10),\n",
    "            nn.MaxPool2d(2, stride=2),\n",
    "            nn.ReLU(True),\n",
    "        )\n",
    "\n",
    "        # Regressor for the 3 * 2 affine matrix\n",
    "        self.fc_loc = nn.Sequential(\n",
    "            nn.Linear(10 * 52 * 52, 32), nn.ReLU(True), nn.Linear(32, 3 * 2)\n",
    "        )\n",
    "\n",
    "        self.downsample_layers = (\n",
    "            nn.ModuleList()\n",
    "        )  # stem and 3 intermediate downsampling conv layers\n",
    "        stem = nn.Sequential(\n",
    "            nn.Conv2d(in_chans, dims[0], kernel_size=4, stride=4),\n",
    "            LayerNorm(dims[0], eps=1e-6, data_format=\"channels_first\"),\n",
    "        )\n",
    "        self.downsample_layers.append(stem)\n",
    "        for i in range(3):\n",
    "            downsample_layer = nn.Sequential(\n",
    "                LayerNorm(dims[i], eps=1e-6, data_format=\"channels_first\"),\n",
    "                nn.Conv2d(dims[i], dims[i + 1], kernel_size=2, stride=2),\n",
    "                SELayer(dims[i + 1]),\n",
    "            )\n",
    "            self.downsample_layers.append(downsample_layer)\n",
    "\n",
    "        self.stages = (\n",
    "            nn.ModuleList()\n",
    "        )  # 4 feature resolution stages, each consisting of multiple residual blocks\n",
    "        dp_rates = [x.item() for x in torch.linspace(0, drop_path_rate, sum(depths))]\n",
    "        cur = 0\n",
    "        for i in range(4):\n",
    "            stage = nn.Sequential(\n",
    "                *[\n",
    "                    Block(\n",
    "                        dim=dims[i],\n",
    "                        drop_path=dp_rates[cur + j],\n",
    "                        layer_scale_init_value=layer_scale_init_value,\n",
    "                    )\n",
    "                    for j in range(depths[i])\n",
    "                ]\n",
    "            )\n",
    "            self.stages.append(stage)\n",
    "            cur += depths[i]\n",
    "\n",
    "        self.norm = nn.LayerNorm(dims[-1], eps=1e-6)  # final norm layer\n",
    "        self.attention = DotProductSelfAttention(dims[-1])\n",
    "        self.head = nn.Linear(dims[-1], num_classes)\n",
    "\n",
    "        for m in self.modules():\n",
    "            if isinstance(m, (nn.Conv2d, nn.Linear)):\n",
    "                nn.init.trunc_normal_(m.weight, std=0.02)\n",
    "                if m.bias is not None:\n",
    "                    nn.init.zeros_(m.bias)\n",
    "\n",
    "        self.fc_loc[2].weight.data.zero_()\n",
    "        self.fc_loc[2].bias.data.copy_(\n",
    "            torch.tensor([1, 0, 0, 0, 1, 0], dtype=torch.float)\n",
    "        )\n",
    "\n",
    "    def stn(self, x):\n",
    "        xs = self.localization(x)\n",
    "        xs = xs.view(-1, 10 * 52 * 52)\n",
    "        theta = self.fc_loc(xs)\n",
    "        theta = theta.view(-1, 2, 3)\n",
    "\n",
    "        grid = F.affine_grid(theta, x.size(), align_corners=True)\n",
    "        x = F.grid_sample(x, grid, align_corners=True)\n",
    "\n",
    "        return x\n",
    "\n",
    "    def forward_features(self, x):\n",
    "        for i in range(4):\n",
    "            x = self.downsample_layers[i](x)\n",
    "            x = self.stages[i](x)\n",
    "        return self.norm(\n",
    "            x.mean([-2, -1])\n",
    "        )  # global average pooling, (N, C, H, W) -> (N, C)\n",
    "\n",
    "    def forward(self, x, labels=None, class_weights=None):\n",
    "    # def forward(self, x, labels=None):\n",
    "        x = self.stn(x)\n",
    "        x = self.forward_features(x)\n",
    "        _, weights = self.attention(x)\n",
    "        logits = self.head(x)\n",
    "\n",
    "        if labels is not None:\n",
    "            mean_attention_weight = torch.mean(weights)\n",
    "            attention_loss = torch.mean((weights - mean_attention_weight) ** 2)\n",
    "\n",
    "            # loss = F.cross_entropy(logits, labels, label_smoothing=0.2) + attention_loss\n",
    "            loss = F.cross_entropy(logits, labels, weight=class_weights, label_smoothing=0.2) + attention_loss # Using class weights\n",
    "            return torch.argmax(logits, dim=1), logits, loss\n",
    "\n",
    "        return torch.argmax(logits, dim=1), logits\n",
    "\n",
    "\n",
    "def get_model(num_classes, model_size=\"tiny\", in_22k=False):\n",
    "    if model_size == \"tiny\":\n",
    "        depths = [3, 3, 9, 3]\n",
    "        dims = [96, 192, 384, 768]\n",
    "        url = (\n",
    "            model_urls[\"convnext_tiny_22k\"]\n",
    "            if in_22k\n",
    "            else model_urls[\"convnext_tiny_1k\"]\n",
    "        )\n",
    "    elif model_size == \"small\":\n",
    "        depths = [3, 3, 27, 3]\n",
    "        dims = [96, 192, 384, 768]\n",
    "        url = (\n",
    "            model_urls[\"convnext_small_22k\"]\n",
    "            if in_22k\n",
    "            else model_urls[\"convnext_small_1k\"]\n",
    "        )\n",
    "    elif model_size == \"base\":\n",
    "        depths = [3, 3, 27, 3]\n",
    "        dims = [128, 256, 512, 1024]\n",
    "        url = (\n",
    "            model_urls[\"convnext_base_22k\"]\n",
    "            if in_22k\n",
    "            else model_urls[\"convnext_base_1k\"]\n",
    "        )\n",
    "    elif model_size == \"large\":\n",
    "        depths = [3, 3, 27, 3]\n",
    "        dims = [192, 384, 768, 1536]\n",
    "        url = (\n",
    "            model_urls[\"convnext_large_22k\"]\n",
    "            if in_22k\n",
    "            else model_urls[\"convnext_large_1k\"]\n",
    "        )\n",
    "    else:\n",
    "        depths = [3, 3, 27, 3]\n",
    "        dims = [256, 512, 1024, 2048]\n",
    "        url = model_urls[\"convnext_xlarge_22k\"]\n",
    "\n",
    "    default_num_classes = 1000\n",
    "    if in_22k:\n",
    "        default_num_classes = 21841\n",
    "\n",
    "    net = EmoNeXt(\n",
    "        depths=depths, dims=dims, num_classes=default_num_classes, drop_path_rate=0.1\n",
    "    )\n",
    "\n",
    "    state_dict = load_state_dict_from_url(url=url)\n",
    "    net.load_state_dict(state_dict[\"model\"], strict=False)\n",
    "    net.head = nn.Linear(dims[-1], num_classes)\n",
    "\n",
    "    return net"
   ]
  },
  {
   "cell_type": "markdown",
   "metadata": {},
   "source": [
    "### Scheduler"
   ]
  },
  {
   "cell_type": "code",
   "execution_count": 53,
   "metadata": {},
   "outputs": [],
   "source": [
    "import math\n",
    "import torch\n",
    "from torch.optim.lr_scheduler import LRScheduler\n",
    "\n",
    "\n",
    "class CosineAnnealingWithWarmRestartsLR(LRScheduler):\n",
    "    def __init__(\n",
    "        self,\n",
    "        optimizer: torch.optim.Optimizer,\n",
    "        warmup_steps: int = 128,\n",
    "        cycle_steps: int = 512,\n",
    "        min_lr: float = 0.0,\n",
    "        max_lr: float = 1e-3,\n",
    "    ):\n",
    "        self.optimizer = optimizer\n",
    "        self.warmup_steps = warmup_steps\n",
    "        self.cycle_steps = cycle_steps\n",
    "        self.min_lr = min_lr\n",
    "        self.max_lr = max_lr\n",
    "\n",
    "        self.steps_counter = 0\n",
    "\n",
    "        super().__init__(optimizer)\n",
    "\n",
    "    def step(self, epoch=None):\n",
    "        self.steps_counter += 1\n",
    "\n",
    "        current_cycle_steps = self.steps_counter % self.cycle_steps\n",
    "\n",
    "        if current_cycle_steps < self.warmup_steps:\n",
    "            current_lr = (\n",
    "                self.min_lr\n",
    "                + (self.max_lr - self.min_lr) * current_cycle_steps / self.warmup_steps\n",
    "            )\n",
    "        else:\n",
    "            current_lr = (\n",
    "                self.min_lr\n",
    "                + (self.max_lr - self.min_lr)\n",
    "                * (\n",
    "                    1\n",
    "                    + math.cos(\n",
    "                        math.pi\n",
    "                        * (current_cycle_steps - self.warmup_steps)\n",
    "                        / (self.cycle_steps - self.warmup_steps)\n",
    "                    )\n",
    "                )\n",
    "                / 2\n",
    "            )\n",
    "\n",
    "        for param_group in self.optimizer.param_groups:\n",
    "            param_group[\"lr\"] = current_lr"
   ]
  },
  {
   "cell_type": "markdown",
   "metadata": {},
   "source": [
    "### Training Model"
   ]
  },
  {
   "cell_type": "code",
   "execution_count": 66,
   "metadata": {},
   "outputs": [],
   "source": [
    "import argparse\n",
    "import random\n",
    "import sys\n",
    "from datetime import datetime\n",
    "from pathlib import Path\n",
    "import matplotlib.pyplot as plt\n",
    "import numpy as np\n",
    "import torch\n",
    "import torchvision\n",
    "from ema_pytorch import EMA\n",
    "from torch.optim import AdamW\n",
    "from torch.utils.data import DataLoader\n",
    "from torchvision import datasets, transforms\n",
    "from tqdm import tqdm\n",
    "import wandb\n",
    "\n",
    "seed = 2001\n",
    "torch.manual_seed(seed)\n",
    "torch.cuda.manual_seed(seed)\n",
    "random.seed(seed)\n",
    "np.random.seed(seed)\n",
    "torch.backends.cudnn.deterministic = True\n",
    "torch.backends.cudnn.benchmark = False\n",
    "\n",
    "class Trainer:\n",
    "    def __init__(\n",
    "        self,\n",
    "        model,\n",
    "        training_dataloader,\n",
    "        validation_dataloader,\n",
    "        testing_dataloader,\n",
    "        classes,\n",
    "        output_dir,\n",
    "        max_epochs: int = 10000,\n",
    "        early_stopping_patience: int = 12,\n",
    "        execution_name=None,\n",
    "        lr: float = 1e-4,\n",
    "        amp: bool = False,\n",
    "        ema_decay: float = 0.99,\n",
    "        ema_update_every: int = 16,\n",
    "        gradient_accumulation_steps: int = 1,\n",
    "        checkpoint_path: str = None,\n",
    "    ):\n",
    "        self.epochs = max_epochs\n",
    "\n",
    "        self.training_dataloader = training_dataloader\n",
    "        self.validation_dataloader = validation_dataloader\n",
    "        self.testing_dataloader = testing_dataloader\n",
    "\n",
    "        self.classes = classes\n",
    "        self.num_classes = len(classes)\n",
    "\n",
    "        self.device = torch.device(\"cuda\" if torch.cuda.is_available() else \"cpu\")\n",
    "        print(\"Device used: \" + self.device.type)\n",
    "\n",
    "        self.amp = amp\n",
    "        self.gradient_accumulation_steps = gradient_accumulation_steps\n",
    "\n",
    "        self.model = model.to(self.device)\n",
    "\n",
    "        self.optimizer = AdamW(model.parameters(), lr=lr)\n",
    "        self.scaler = torch.amp.GradScaler(self.device, enabled=self.amp) #torch.cuda.amp.GradScaler(enabled=self.amp)\n",
    "        self.scheduler = CosineAnnealingWithWarmRestartsLR(\n",
    "            self.optimizer, warmup_steps=128, cycle_steps=1024\n",
    "        )\n",
    "        self.ema = EMA(model, beta=ema_decay, update_every=ema_update_every).to(\n",
    "            self.device\n",
    "        )\n",
    "\n",
    "        self.early_stopping_patience = early_stopping_patience\n",
    "\n",
    "        self.output_directory = Path(output_dir)\n",
    "        self.output_directory.mkdir(exist_ok=True)\n",
    "\n",
    "        self.best_val_accuracy = 0\n",
    "\n",
    "        self.execution_name = \"model\" if execution_name is None else execution_name\n",
    "\n",
    "        if checkpoint_path:\n",
    "            self.load(checkpoint_path)\n",
    "\n",
    "        # wandb.watch(model, log=\"all\")\n",
    "\n",
    "    def run(self):\n",
    "        counter = 0  # Counter for epochs with no validation loss improvement\n",
    "\n",
    "        images, _ = next(iter(self.training_dataloader))\n",
    "        images = [transforms.ToPILImage()(image) for image in images]\n",
    "        # wandb.log({\"Images\": [wandb.Image(image) for image in images]})\n",
    "\n",
    "        for epoch in range(self.epochs):\n",
    "            print(\"[Epoch: %d/%d]\" % (epoch + 1, self.epochs))\n",
    "\n",
    "            self.visualize_stn()\n",
    "            train_loss, train_accuracy = self.train_epoch()\n",
    "            val_loss, val_accuracy = self.val_epoch()\n",
    "\n",
    "            # wandb.log(\n",
    "            #     {\n",
    "            #         \"Train Loss\": train_loss,\n",
    "            #         \"Val Loss\": val_loss,\n",
    "            #         \"Train Accuracy\": train_accuracy,\n",
    "            #         \"Val Accuracy\": val_accuracy,\n",
    "            #         \"Epoch\": epoch + 1,\n",
    "            #     }\n",
    "            # )\n",
    "\n",
    "            # Early stopping\n",
    "            if val_accuracy > self.best_val_accuracy:\n",
    "                self.save()\n",
    "                counter = 0\n",
    "                self.best_val_accuracy = val_accuracy\n",
    "            else:\n",
    "                counter += 1\n",
    "                if counter >= self.early_stopping_patience:\n",
    "                    print(\n",
    "                        \"Validation loss did not improve for %d epochs. Stopping training.\"\n",
    "                        % self.early_stopping_patience\n",
    "                    )\n",
    "                    break\n",
    "\n",
    "        self.test_model()\n",
    "        # wandb.finish()\n",
    "\n",
    "    def train_epoch(self):\n",
    "        self.model.train()\n",
    "\n",
    "        avg_accuracy = []\n",
    "        avg_loss = []\n",
    "\n",
    "        # pbar = tqdm(unit=\"image\", file=sys.stdout, total=len(self.training_dataloader.dataset))\n",
    "        for batch_idx, data in enumerate(self.training_dataloader):\n",
    "            inputs, labels = data\n",
    "\n",
    "            inputs = inputs.to(self.device)\n",
    "            labels = labels.to(self.device)\n",
    "\n",
    "            with torch.autocast(self.device.type, enabled=self.amp):\n",
    "                # predictions, _, loss = self.model(inputs, labels)\n",
    "                predictions, _, loss = self.model(inputs, labels, class_weights)\n",
    "\n",
    "\n",
    "            self.scaler.scale(loss).backward()\n",
    "            if (batch_idx + 1) % self.gradient_accumulation_steps == 0:\n",
    "                torch.nn.utils.clip_grad_norm_(self.model.parameters(), 1.0)\n",
    "                self.scaler.step(self.optimizer)\n",
    "                self.optimizer.zero_grad(set_to_none=True)\n",
    "                self.scaler.update()\n",
    "                self.ema.update()\n",
    "                self.scheduler.step()\n",
    "\n",
    "            batch_accuracy = (predictions == labels).sum().item() / labels.size(0)\n",
    "\n",
    "            # avg_loss.append(loss.item())\n",
    "            avg_loss.append(loss.detach().cpu().item())\n",
    "            avg_accuracy.append(batch_accuracy)\n",
    "\n",
    "            # Update progress bar\n",
    "            # pbar.set_postfix(\n",
    "            #     {\"loss\": np.mean(avg_loss), \"acc\": np.mean(avg_accuracy) * 100.0}\n",
    "            # )\n",
    "            # Instead of updating the progress bar every batch, update every 10th batch\n",
    "        #     if batch_idx % 10 == 0:\n",
    "        #         pbar.set_postfix({\"loss\": np.mean(avg_loss), \"acc\": np.mean(avg_accuracy) * 100.0})\n",
    "\n",
    "        #     # pbar.update(1)\n",
    "        #     pbar.update(len(inputs))\n",
    "\n",
    "        # pbar.close()\n",
    "\n",
    "        return np.mean(avg_loss), np.mean(avg_accuracy) * 100.0\n",
    "\n",
    "    def val_epoch(self):\n",
    "        self.model.eval()\n",
    "\n",
    "        avg_loss = []\n",
    "        predicted_labels = []\n",
    "        true_labels = []\n",
    "\n",
    "        # pbar = tqdm(\n",
    "        #     unit=\"image\", file=sys.stdout, total=len(self.validation_dataloader)\n",
    "        # )\n",
    "        for batch_idx, (inputs, labels) in enumerate(self.validation_dataloader):\n",
    "            inputs = inputs.to(self.device)\n",
    "            labels = labels.to(self.device)\n",
    "\n",
    "            with torch.autocast(self.device.type, enabled=self.amp):\n",
    "                # predictions, _, loss = self.model(inputs, labels)\n",
    "                predictions, _, loss = self.model(inputs, labels, class_weights)\n",
    "\n",
    "            avg_loss.append(loss.item())\n",
    "            predicted_labels.extend(predictions.tolist())\n",
    "            true_labels.extend(labels.tolist())\n",
    "\n",
    "        #     pbar.update(1)\n",
    "\n",
    "        # pbar.close()\n",
    "\n",
    "        accuracy = (\n",
    "            torch.eq(torch.tensor(predicted_labels), torch.tensor(true_labels))\n",
    "            .float()\n",
    "            .mean()\n",
    "            .item()\n",
    "        )\n",
    "        # wandb.log(\n",
    "        #     {\n",
    "        #         \"confusion_matrix\": wandb.plot.confusion_matrix(\n",
    "        #             probs=None,\n",
    "        #             y_true=true_labels,\n",
    "        #             preds=predicted_labels,\n",
    "        #             class_names=self.classes,\n",
    "        #         )\n",
    "        #     }\n",
    "        # )\n",
    "\n",
    "        print(\n",
    "            \"Eval loss: %.4f, Eval Accuracy: %.4f %%\"\n",
    "            % (np.mean(avg_loss) * 1.0, accuracy * 100.0)\n",
    "        )\n",
    "        return np.mean(avg_loss), accuracy * 100.0\n",
    "\n",
    "    def test_model(self):\n",
    "        self.ema.eval()\n",
    "\n",
    "        predicted_labels = []\n",
    "        true_labels = []\n",
    "\n",
    "        pbar = tqdm(unit=\"batch\", file=sys.stdout, total=len(self.testing_dataloader))\n",
    "        for batch_idx, (inputs, labels) in enumerate(self.testing_dataloader):\n",
    "            bs, ncrops, c, h, w = inputs.shape\n",
    "            inputs = inputs.view(-1, c, h, w)\n",
    "\n",
    "            inputs = inputs.to(self.device)\n",
    "            labels = labels.to(self.device)\n",
    "\n",
    "            with torch.autocast(self.device.type, enabled=self.amp):\n",
    "                _, logits = self.ema(inputs)\n",
    "            outputs_avg = logits.view(bs, ncrops, -1).mean(1)\n",
    "            predictions = torch.argmax(outputs_avg, dim=1)\n",
    "\n",
    "            predicted_labels.extend(predictions.tolist())\n",
    "            true_labels.extend(labels.tolist())\n",
    "\n",
    "            pbar.update(1)\n",
    "\n",
    "        pbar.close()\n",
    "\n",
    "        accuracy = (\n",
    "            torch.eq(torch.tensor(predicted_labels), torch.tensor(true_labels))\n",
    "            .float()\n",
    "            .mean()\n",
    "            .item()\n",
    "        )\n",
    "        print(\"Test Accuracy: %.4f %%\" % (accuracy * 100.0))\n",
    "\n",
    "        # wandb.log(\n",
    "        #     {\n",
    "        #         \"confusion_matrix\": wandb.plot.confusion_matrix(\n",
    "        #             probs=None,\n",
    "        #             y_true=true_labels,\n",
    "        #             preds=predicted_labels,\n",
    "        #             class_names=self.classes,\n",
    "        #         )\n",
    "        #     }\n",
    "        # )\n",
    "\n",
    "    def visualize_stn(self):\n",
    "        self.model.eval()\n",
    "\n",
    "        batch = torch.utils.data.Subset(val_dataset, range(32))\n",
    "\n",
    "        # Access the batch data\n",
    "        batch = torch.stack([batch[i][0] for i in range(len(batch))]).to(self.device)\n",
    "        with torch.autocast(self.device.type, enabled=self.amp):\n",
    "            stn_batch = self.model.stn(batch)\n",
    "\n",
    "        to_pil = transforms.ToPILImage()\n",
    "\n",
    "        grid = to_pil(torchvision.utils.make_grid(batch, nrow=16, padding=4))\n",
    "        stn_batch = to_pil(torchvision.utils.make_grid(stn_batch, nrow=16, padding=4))\n",
    "\n",
    "        # wandb.log({\"batch\": wandb.Image(grid), \"stn\": wandb.Image(stn_batch)})\n",
    "\n",
    "    def save(self):\n",
    "        data = {\n",
    "            \"model\": self.model.state_dict(),\n",
    "            \"opt\": self.optimizer.state_dict(),\n",
    "            \"ema\": self.ema.state_dict(),\n",
    "            \"scaler\": self.scaler.state_dict(),\n",
    "            \"scheduler\": self.scheduler.state_dict(),\n",
    "            \"best_acc\": self.best_val_accuracy,\n",
    "        }\n",
    "\n",
    "        torch.save(data, str(self.output_directory / f\"{self.execution_name}.pt\"))\n",
    "\n",
    "    def load(self, path):\n",
    "        data = torch.load(path, map_location=self.device)\n",
    "\n",
    "        self.model.load_state_dict(data[\"model\"])\n",
    "        self.optimizer.load_state_dict(data[\"opt\"])\n",
    "        self.ema.load_state_dict(data[\"ema\"])\n",
    "        self.scaler.load_state_dict(data[\"scaler\"])\n",
    "        self.scheduler.load_state_dict(data[\"scheduler\"])\n",
    "        self.best_val_accuracy = data[\"best_acc\"]\n",
    "\n",
    "\n",
    "# def plot_images():\n",
    "#     # Create a grid of images for visualization\n",
    "#     num_rows = 4\n",
    "#     num_cols = 8\n",
    "#     fig, axes = plt.subplots(num_rows, num_cols, figsize=(10, 5))\n",
    "\n",
    "#     # Plot the images\n",
    "#     for i in range(num_rows):\n",
    "#         for j in range(num_cols):\n",
    "#             index = i * num_cols + j  # Calculate the corresponding index in the dataset\n",
    "#             image, _ = train_dataset[index]  # Get the image\n",
    "#             axes[i, j].imshow(\n",
    "#                 image.permute(1, 2, 0)\n",
    "#             )  # Convert tensor to PIL image format and plot\n",
    "#             axes[i, j].axis(\"off\")\n",
    "\n",
    "#     plt.tight_layout()\n",
    "#     plt.savefig(\"images.png\")\n",
    "#     plt.show()"
   ]
  },
  {
   "cell_type": "markdown",
   "metadata": {},
   "source": [
    "### Training Model"
   ]
  },
  {
   "cell_type": "code",
   "execution_count": 55,
   "metadata": {},
   "outputs": [],
   "source": [
    "train_transform = transforms.Compose(\n",
    "    [\n",
    "        transforms.RandomHorizontalFlip(),\n",
    "        transforms.RandomVerticalFlip(),\n",
    "        transforms.Grayscale(),\n",
    "        transforms.Resize(236),\n",
    "        transforms.RandomRotation(degrees=20),\n",
    "        transforms.RandomCrop(224),\n",
    "        transforms.ToTensor(),\n",
    "        transforms.Lambda(lambda x: x.repeat(3, 1, 1)),\n",
    "    ]\n",
    ")\n",
    "\n",
    "val_transform = transforms.Compose(\n",
    "    [\n",
    "        transforms.Grayscale(),\n",
    "        transforms.Resize(236),\n",
    "        transforms.RandomCrop(224),\n",
    "        transforms.ToTensor(),\n",
    "        transforms.Lambda(lambda x: x.repeat(3, 1, 1)),\n",
    "    ]\n",
    ")\n",
    "\n",
    "test_transform = transforms.Compose(\n",
    "    [\n",
    "        transforms.Grayscale(),\n",
    "        transforms.Resize(236),\n",
    "        transforms.TenCrop(224),\n",
    "        transforms.Lambda(\n",
    "            lambda crops: torch.stack(\n",
    "                [transforms.ToTensor()(crop) for crop in crops]\n",
    "            )\n",
    "        ),\n",
    "        transforms.Lambda(\n",
    "            lambda crops: torch.stack([crop.repeat(3, 1, 1) for crop in crops])\n",
    "        ),\n",
    "    ]\n",
    ")"
   ]
  },
  {
   "cell_type": "code",
   "execution_count": null,
   "metadata": {},
   "outputs": [
    {
     "name": "stdout",
     "output_type": "stream",
     "text": [
      "Using 28709 images for training.\n",
      "Using 3589 images for validation.\n",
      "Using 3589 images for testing.\n",
      "Class weights:  tensor([1.0266, 9.4066, 1.0010, 0.5684, 0.8491, 1.2934, 0.8260],\n",
      "       device='cuda:0')\n",
      "EmoNeXt_tiny_Dataset_FER_BS16_LR0.001in_22KTrue_AMPTrue\n",
      "Device used: cuda\n",
      "[Epoch: 1/80]\n",
      "Eval loss: 2.5085, Eval Accuracy: 1.5325 %\n",
      "[Epoch: 2/80]\n",
      "Eval loss: 2.5167, Eval Accuracy: 1.5325 %\n",
      "[Epoch: 3/80]\n"
     ]
    }
   ],
   "source": [
    "from sklearn.utils.class_weight import compute_class_weight\n",
    "\n",
    "model_sizes = [\"tiny\", \"small\", \"base\", \"large\", \"xlarge\"]\n",
    "\n",
    "# dataset_path = \"Datasets\\\\JAFFE_ResEmoteNet\"\n",
    "dataset_path = \"Datasets\\\\FER_ResEmoteNet\"#_Augmented\"\n",
    "dataset_name = \"FER\" #used only to name model checkpoint\n",
    "batch_size = 16\n",
    "num_workers = 0 #5 #0 = main process\n",
    "\n",
    "train_dataset = datasets.ImageFolder(dataset_path + \"/train\", train_transform)\n",
    "val_dataset = datasets.ImageFolder(dataset_path + \"/validation\", val_transform)\n",
    "test_dataset = datasets.ImageFolder(dataset_path + \"/test\", test_transform)\n",
    "\n",
    "print(\"Using %d images for training.\" % len(train_dataset))\n",
    "print(\"Using %d images for validation.\" % len(val_dataset))\n",
    "print(\"Using %d images for testing.\" % len(test_dataset))\n",
    "\n",
    "train_loader = DataLoader(train_dataset, batch_size=batch_size, shuffle=True, num_workers=num_workers, pin_memory=True)\n",
    "val_loader = DataLoader(val_dataset, batch_size=1, shuffle=False, pin_memory=True)\n",
    "test_loader = DataLoader(test_dataset, batch_size=32, shuffle=False, pin_memory=True)\n",
    "\n",
    "\n",
    "# Calculate class weights for the training dataset (balanced weights) - Modification\n",
    "labels = np.array(train_dataset.targets)\n",
    "classes = np.unique(labels)\n",
    "class_weights_np = compute_class_weight(class_weight='balanced', classes=classes, y=labels)\n",
    "class_weights = torch.tensor(class_weights_np, dtype=torch.float).to(device)\n",
    "\n",
    "print(\"Class weights: \", class_weights)\n",
    "\n",
    "learning_rate=0.001\n",
    "\n",
    "checkpoint_path = None\n",
    "use_mixed_precision = True#False\n",
    "use_in_22k = True#False\n",
    "model = model_sizes[0]\n",
    "\n",
    "net = get_model(len(train_dataset.classes), model, in_22k=use_in_22k)\n",
    "\n",
    "exec_name = f\"EmoNeXt_{model}_Dataset_{dataset_name}_BS{batch_size}_LR{learning_rate}in_22K{use_in_22k}_AMP{use_mixed_precision}\"\n",
    "print(exec_name)\n",
    "\n",
    "# wandb.init(project=\"EmoNeXt\", name=exec_name, anonymous=\"must\")\n",
    "\n",
    "Trainer(\n",
    "    model=net,\n",
    "    training_dataloader = train_loader,\n",
    "    validation_dataloader=val_loader,\n",
    "    testing_dataloader=test_loader,\n",
    "    classes=train_dataset.classes,\n",
    "    output_dir=\"TrainedModels\",\n",
    "    max_epochs=80,\n",
    "    early_stopping_patience=15,\n",
    "    execution_name=exec_name,\n",
    "    lr=learning_rate,\n",
    "    amp=use_mixed_precision,\n",
    "    ema_decay=0.99,\n",
    "    ema_update_every=16,\n",
    "    gradient_accumulation_steps=1,\n",
    "    checkpoint_path=checkpoint_path,\n",
    ").run()"
   ]
  },
  {
   "cell_type": "markdown",
   "metadata": {},
   "source": [
    "### Testing On Some Images"
   ]
  },
  {
   "cell_type": "code",
   "execution_count": null,
   "metadata": {},
   "outputs": [],
   "source": [
    "import torch\n",
    "from torchvision import transforms\n",
    "from PIL import Image\n",
    "import os\n",
    "import matplotlib.pyplot as plt\n",
    "import torch.nn.functional as F  # Import to use softmax\n",
    "\n",
    "# 1. Load the saved model\n",
    "model_path = \"TrainedModels/EmoNeXt_base.pt\"  # Update with the correct path to your model\n",
    "\n",
    "# Load the model architecture\n",
    "# model = get_model(len(train_dataset.classes), \"base\", in_22k=False)  # Update model parameters accordingly\n",
    "model = get_model(6, \"base\", in_22k=False) \n",
    "\n",
    "# Load the model weights\n",
    "checkpoint = torch.load(model_path)\n",
    "model.load_state_dict(checkpoint['model'])  # Load the model state dict (weights)\n",
    "\n",
    "# 2. Put the model in evaluation mode\n",
    "model.eval()\n",
    "\n",
    "# 3. Define the same transformations that were used in training\n",
    "test_transform = transforms.Compose(\n",
    "    [\n",
    "        transforms.Grayscale(),  # Convert image to grayscale if needed\n",
    "        transforms.Resize(236),  # Resize the image\n",
    "        transforms.TenCrop(224),  # Apply ten-cropping (10 different crops)\n",
    "        transforms.Lambda(\n",
    "            lambda crops: torch.stack(\n",
    "                [transforms.ToTensor()(crop) for crop in crops]\n",
    "            )\n",
    "        ),  # Convert each crop to tensor\n",
    "        transforms.Lambda(\n",
    "            lambda crops: torch.stack([crop.repeat(3, 1, 1) for crop in crops])\n",
    "        ),  # Repeat the image across 3 channels (RGB)\n",
    "    ]\n",
    ")\n",
    "\n",
    "# 4. Load your test image (path to your image)\n",
    "image_path = \"TestImages/cry.jpeg\"\n",
    "image = Image.open(image_path)\n",
    "\n",
    "# Apply the transformations to the image\n",
    "image = test_transform(image)\n",
    "\n",
    "# 5. Send the image to the same device as your model\n",
    "device = torch.device('cuda' if torch.cuda.is_available() else 'cpu')\n",
    "image = image.to(device)\n",
    "\n",
    "# Move model to the same device\n",
    "model = model.to(device)\n",
    "\n",
    "# 6. Check the shape and adjust accordingly\n",
    "ncrops, c, h, w = image.shape\n",
    "\n",
    "# 7. Flatten the image tensor to match the expected shape [batch_size * num_crops, channels, height, width]\n",
    "image = image.view(-1, c, h, w)  \n",
    "\n",
    "# class_names = ['Happy', 'Surprised', 'Sad', 'Angry', 'Disgusted', 'Fear'] #JAFFE\n",
    "class_names = ['Angry', 'Disgust', 'Fear', 'Happy', 'Sad', 'Surprise', 'Neutral'] #FER\n",
    "\n",
    "# 8. Make the prediction\n",
    "with torch.no_grad(): \n",
    "    # Pass the image through the model\n",
    "    outputs = model(image)\n",
    "\n",
    "    first_img = image[0].cpu().permute(1, 2, 0).numpy()\n",
    "\n",
    "    plt.imshow(first_img)\n",
    "    plt.show()\n",
    "\n",
    "    cropped_images_classes = outputs[0]\n",
    "    cropped_images_class_probabilities = F.softmax(outputs[1], dim=-1)\n",
    "\n",
    "    # image_label_mean and image_label_mode should return the same value however i was unsure if its more applicable to take the mean or mode label\n",
    "    image_label_mean = torch.round(cropped_images_classes.float().mean(dim=0)).item()\n",
    "    image_label_mode = cropped_images_classes.mode(dim=0).values.item()\n",
    "    image_class_probabilities = cropped_images_class_probabilities.mean(dim=0)\n",
    "\n",
    "    if int(image_label_mean) != image_label_mode:\n",
    "        print(\"Warning: Mean and Mode of the predicted labels are different.\")\n",
    "        exit(1)\n",
    "\n",
    "    print(\"Predicted Label: \", class_names[int(image_label_mean)])\n",
    "    print(\"Predicted Label: \", class_names[int(image_label_mode)])\n",
    "    print(\"Label Prediction Probabilites: \",image_class_probabilities)"
   ]
  },
  {
   "cell_type": "markdown",
   "metadata": {},
   "source": [
    "# Training"
   ]
  },
  {
   "cell_type": "code",
   "execution_count": 18,
   "metadata": {},
   "outputs": [
    {
     "name": "stderr",
     "output_type": "stream",
     "text": [
      "wandb: Currently logged in as: jeromeagius0 (jeromeagius0-university-of-malta) to https://api.wandb.ai. Use `wandb login --relogin` to force relogin\n"
     ]
    }
   ],
   "source": [
    "# !wandb login 01ba9157610df786dc07ecba121471aed0f3f202 --relogin\n",
    "# !wandb login --relogin 01ba9157610df786dc07ecba121471aed0f3f202\n",
    "!wandb login"
   ]
  },
  {
   "cell_type": "code",
   "execution_count": null,
   "metadata": {},
   "outputs": [],
   "source": [
    "# %run EmoNeXt-master/train.py --dataset-path=C:\\MastersRepos\\Deep-Learning-For-Computer-Vision\\Models\\EmoNeXt\\Datasets\\FER_ResEmoteNet --batch-size=16 --lr=0.0001 --epochs=80 --amp --in_22k --num-workers=0 --model-size=tiny --output-dir='TrainedModels'"
   ]
  },
  {
   "cell_type": "code",
   "execution_count": null,
   "metadata": {},
   "outputs": [
    {
     "name": "stdout",
     "output_type": "stream",
     "text": [
      "Preparing dataset..\n",
      "Deleting temporary files..\n"
     ]
    }
   ],
   "source": [
    "%run EmoNeXt-master/scripts/download_dataset.py"
   ]
  },
  {
   "cell_type": "code",
   "execution_count": 3,
   "metadata": {},
   "outputs": [
    {
     "name": "stdout",
     "output_type": "stream",
     "text": [
      "Using 37553 images for training.\n",
      "Using 800 images for evaluation.\n",
      "Using 3200 images for testing.\n",
      "Class to index mapping: {'Angry': 0, 'Contempt': 1, 'Disgust': 2, 'Fear': 3, 'Happy': 4, 'Neutral': 5, 'Sad': 6, 'Surprise': 7}\n",
      "Device used: cuda\n"
     ]
    },
    {
     "name": "stderr",
     "output_type": "stream",
     "text": [
      "C:\\MastersRepos\\Deep-Learning-For-Computer-Vision\\Models\\EmoNeXt\\EmoNeXt-master\\train.py:69: FutureWarning: `torch.cuda.amp.GradScaler(args...)` is deprecated. Please use `torch.amp.GradScaler('cuda', args...)` instead.\n",
      "  self.scaler = torch.cuda.amp.GradScaler(enabled=self.amp)\n"
     ]
    },
    {
     "name": "stdout",
     "output_type": "stream",
     "text": [
      "[Epoch: 1/1]\n",
      "100%|██████████| 2348/2348 [20:20<00:00,  1.92batch/s, loss=2.08, acc=15.2]\n",
      "100%|██████████| 800/800 [00:37<00:00, 21.26batch/s]\n"
     ]
    },
    {
     "name": "stderr",
     "output_type": "stream",
     "text": [
      "\u001b[34m\u001b[1mwandb\u001b[0m: \u001b[33mWARNING\u001b[0m Artifacts logged anonymously cannot be claimed and expire after 7 days.\n"
     ]
    },
    {
     "name": "stdout",
     "output_type": "stream",
     "text": [
      "Eval loss: 2.0001, Eval Accuracy: 23.9999994636 %\n",
      "100%|██████████| 100/100 [31:53<00:00, 19.14s/batch]"
     ]
    },
    {
     "name": "stderr",
     "output_type": "stream",
     "text": [
      "\u001b[34m\u001b[1mwandb\u001b[0m: \u001b[33mWARNING\u001b[0m Artifacts logged anonymously cannot be claimed and expire after 7 days.\n"
     ]
    },
    {
     "name": "stdout",
     "output_type": "stream",
     "text": [
      "\n",
      "Test Accuracy: 15.4687 %\n"
     ]
    },
    {
     "data": {
      "text/html": [],
      "text/plain": [
       "<IPython.core.display.HTML object>"
      ]
     },
     "metadata": {},
     "output_type": "display_data"
    },
    {
     "data": {
      "text/html": [
       "<br>    <style><br>        .wandb-row {<br>            display: flex;<br>            flex-direction: row;<br>            flex-wrap: wrap;<br>            justify-content: flex-start;<br>            width: 100%;<br>        }<br>        .wandb-col {<br>            display: flex;<br>            flex-direction: column;<br>            flex-basis: 100%;<br>            flex: 1;<br>            padding: 10px;<br>        }<br>    </style><br><div class=\"wandb-row\"><div class=\"wandb-col\"><h3>Run history:</h3><br/><table class=\"wandb\"><tr><td>Epoch</td><td>▁</td></tr><tr><td>Train Accuracy</td><td>▁</td></tr><tr><td>Train Loss</td><td>▁</td></tr><tr><td>Val Accuracy</td><td>▁</td></tr><tr><td>Val Loss</td><td>▁</td></tr></table><br/></div><div class=\"wandb-col\"><h3>Run summary:</h3><br/><table class=\"wandb\"><tr><td>Epoch</td><td>1</td></tr><tr><td>Train Accuracy</td><td>15.20975</td></tr><tr><td>Train Loss</td><td>2.07531</td></tr><tr><td>Val Accuracy</td><td>24.0</td></tr><tr><td>Val Loss</td><td>2.00014</td></tr></table><br/></div></div>"
      ],
      "text/plain": [
       "<IPython.core.display.HTML object>"
      ]
     },
     "metadata": {},
     "output_type": "display_data"
    },
    {
     "data": {
      "text/html": [
       " View run <strong style=\"color:#cdcd00\">EmoNeXt_ModelSize_small_Epochs_1_BatchSize_32_LR_1e-05</strong> at: <a href='https://wandb.ai/jeromeagius0-university-of-malta/EmoNeXt/runs/icjmc06g?apiKey=01ba9157610df786dc07ecba121471aed0f3f202' target=\"_blank\">https://wandb.ai/jeromeagius0-university-of-malta/EmoNeXt/runs/icjmc06g?apiKey=01ba9157610df786dc07ecba121471aed0f3f202</a><br> View project at: <a href='https://wandb.ai/jeromeagius0-university-of-malta/EmoNeXt?apiKey=01ba9157610df786dc07ecba121471aed0f3f202' target=\"_blank\">https://wandb.ai/jeromeagius0-university-of-malta/EmoNeXt?apiKey=01ba9157610df786dc07ecba121471aed0f3f202</a><br>Synced 5 W&B file(s), 72 media file(s), 4 artifact file(s) and 0 other file(s)"
      ],
      "text/plain": [
       "<IPython.core.display.HTML object>"
      ]
     },
     "metadata": {},
     "output_type": "display_data"
    },
    {
     "data": {
      "text/html": [
       "Find logs at: <code>.\\wandb\\run-20250319_114454-icjmc06g\\logs</code>"
      ],
      "text/plain": [
       "<IPython.core.display.HTML object>"
      ]
     },
     "metadata": {},
     "output_type": "display_data"
    }
   ],
   "source": [
    "%run EmoNeXt-master/train.py --dataset-path=C:\\MastersRepos\\Deep-Learning-For-Computer-Vision\\Datasets\\AffectNet_Structured_Mapping --batch-size=16 --lr=0.00001 --epochs=1 --amp --in_22k --num-workers=0 --model-size=small --output-dir=TrainedModel"
   ]
  },
  {
   "cell_type": "code",
   "execution_count": 1,
   "metadata": {},
   "outputs": [
    {
     "name": "stderr",
     "output_type": "stream",
     "text": [
      "\u001b[34m\u001b[1mwandb\u001b[0m: Using wandb-core as the SDK backend.  Please refer to https://wandb.me/wandb-core for more information.\n",
      "\u001b[34m\u001b[1mwandb\u001b[0m: Currently logged in as: \u001b[33mjeromeagius0\u001b[0m (\u001b[33mjeromeagius0-university-of-malta\u001b[0m) to \u001b[32mhttps://api.wandb.ai\u001b[0m. Use \u001b[1m`wandb login --relogin`\u001b[0m to force relogin\n"
     ]
    },
    {
     "data": {
      "text/html": [
       "Tracking run with wandb version 0.19.8"
      ],
      "text/plain": [
       "<IPython.core.display.HTML object>"
      ]
     },
     "metadata": {},
     "output_type": "display_data"
    },
    {
     "data": {
      "text/html": [
       "Run data is saved locally in <code>c:\\MastersRepos\\Deep-Learning-For-Computer-Vision\\Models\\EmoNeXt\\wandb\\run-20250318_220303-8p22lz7u</code>"
      ],
      "text/plain": [
       "<IPython.core.display.HTML object>"
      ]
     },
     "metadata": {},
     "output_type": "display_data"
    },
    {
     "data": {
      "text/html": [
       "Syncing run <strong><a href='https://wandb.ai/jeromeagius0-university-of-malta/EmoNeXt/runs/8p22lz7u?apiKey=01ba9157610df786dc07ecba121471aed0f3f202' target=\"_blank\">EmoNeXt_ModelSize_small_Epochs_20_BatchSize_32_LR_1e-05</a></strong> to <a href='https://wandb.ai/jeromeagius0-university-of-malta/EmoNeXt?apiKey=01ba9157610df786dc07ecba121471aed0f3f202' target=\"_blank\">Weights & Biases</a> (<a href='https://wandb.me/developer-guide' target=\"_blank\">docs</a>)<br>"
      ],
      "text/plain": [
       "<IPython.core.display.HTML object>"
      ]
     },
     "metadata": {},
     "output_type": "display_data"
    },
    {
     "data": {
      "text/html": [
       " View project at <a href='https://wandb.ai/jeromeagius0-university-of-malta/EmoNeXt?apiKey=01ba9157610df786dc07ecba121471aed0f3f202' target=\"_blank\">https://wandb.ai/jeromeagius0-university-of-malta/EmoNeXt?apiKey=01ba9157610df786dc07ecba121471aed0f3f202</a>"
      ],
      "text/plain": [
       "<IPython.core.display.HTML object>"
      ]
     },
     "metadata": {},
     "output_type": "display_data"
    },
    {
     "data": {
      "text/html": [
       " View run at <a href='https://wandb.ai/jeromeagius0-university-of-malta/EmoNeXt/runs/8p22lz7u?apiKey=01ba9157610df786dc07ecba121471aed0f3f202' target=\"_blank\">https://wandb.ai/jeromeagius0-university-of-malta/EmoNeXt/runs/8p22lz7u?apiKey=01ba9157610df786dc07ecba121471aed0f3f202</a>"
      ],
      "text/plain": [
       "<IPython.core.display.HTML object>"
      ]
     },
     "metadata": {},
     "output_type": "display_data"
    },
    {
     "data": {
      "text/html": [
       "Do NOT share these links with anyone. They can be used to claim your runs."
      ],
      "text/plain": [
       "<IPython.core.display.HTML object>"
      ]
     },
     "metadata": {},
     "output_type": "display_data"
    },
    {
     "name": "stdout",
     "output_type": "stream",
     "text": [
      "Using 28709 images for training.\n",
      "Using 3589 images for evaluation.\n",
      "Using 3589 images for testing.\n",
      "Class to index mapping: {'Angry': 0, 'Disgust': 1, 'Fear': 2, 'Happy': 3, 'Neutral': 4, 'Sad': 5, 'Surprise': 6}\n",
      "Device used: cuda\n"
     ]
    },
    {
     "name": "stderr",
     "output_type": "stream",
     "text": [
      "C:\\MastersRepos\\Deep-Learning-For-Computer-Vision\\Models\\EmoNeXt\\EmoNeXt-master\\train.py:69: FutureWarning: `torch.cuda.amp.GradScaler(args...)` is deprecated. Please use `torch.amp.GradScaler('cuda', args...)` instead.\n",
      "  self.scaler = torch.cuda.amp.GradScaler(enabled=self.amp)\n"
     ]
    },
    {
     "name": "stdout",
     "output_type": "stream",
     "text": [
      "[Epoch: 1/20]\n",
      "100%|██████████| 898/898 [04:27<00:00,  3.36batch/s, loss=2.32, acc=2.68]\n",
      "100%|██████████| 3589/3589 [01:35<00:00, 37.63batch/s]\n"
     ]
    },
    {
     "name": "stderr",
     "output_type": "stream",
     "text": [
      "\u001b[34m\u001b[1mwandb\u001b[0m: \u001b[33mWARNING\u001b[0m Artifacts logged anonymously cannot be claimed and expire after 7 days.\n"
     ]
    },
    {
     "name": "stdout",
     "output_type": "stream",
     "text": [
      "Eval loss: 2.4610, Eval Accuracy: 1.8389523029 %\n",
      "[Epoch: 2/20]\n",
      "100%|██████████| 898/898 [04:26<00:00,  3.37batch/s, loss=2.25, acc=4.81]\n",
      "100%|██████████| 3589/3589 [01:34<00:00, 38.13batch/s]"
     ]
    },
    {
     "name": "stderr",
     "output_type": "stream",
     "text": [
      "\u001b[34m\u001b[1mwandb\u001b[0m: \u001b[33mWARNING\u001b[0m Artifacts logged anonymously cannot be claimed and expire after 7 days.\n"
     ]
    },
    {
     "name": "stdout",
     "output_type": "stream",
     "text": [
      "\n",
      "Eval loss: 2.3647, Eval Accuracy: 10.2814152837 %\n",
      "[Epoch: 3/20]\n",
      "100%|██████████| 898/898 [04:26<00:00,  3.37batch/s, loss=2.19, acc=10.1]\n",
      "100%|██████████| 3589/3589 [01:33<00:00, 38.58batch/s]\n"
     ]
    },
    {
     "name": "stderr",
     "output_type": "stream",
     "text": [
      "\u001b[34m\u001b[1mwandb\u001b[0m: \u001b[33mWARNING\u001b[0m Artifacts logged anonymously cannot be claimed and expire after 7 days.\n"
     ]
    },
    {
     "name": "stdout",
     "output_type": "stream",
     "text": [
      "Eval loss: 2.3221, Eval Accuracy: 16.9685155153 %\n",
      "[Epoch: 4/20]\n",
      "100%|██████████| 898/898 [04:27<00:00,  3.36batch/s, loss=2.14, acc=14.4]\n",
      "100%|██████████| 3589/3589 [01:32<00:00, 38.73batch/s]"
     ]
    },
    {
     "name": "stderr",
     "output_type": "stream",
     "text": [
      "\u001b[34m\u001b[1mwandb\u001b[0m: \u001b[33mWARNING\u001b[0m Artifacts logged anonymously cannot be claimed and expire after 7 days.\n"
     ]
    },
    {
     "name": "stdout",
     "output_type": "stream",
     "text": [
      "\n",
      "Eval loss: 2.2693, Eval Accuracy: 25.2438008785 %\n",
      "[Epoch: 5/20]\n",
      "100%|██████████| 898/898 [04:27<00:00,  3.36batch/s, loss=2.11, acc=17.7]\n",
      "100%|██████████| 3589/3589 [01:33<00:00, 38.45batch/s]"
     ]
    },
    {
     "name": "stderr",
     "output_type": "stream",
     "text": [
      "\u001b[34m\u001b[1mwandb\u001b[0m: \u001b[33mWARNING\u001b[0m Artifacts logged anonymously cannot be claimed and expire after 7 days.\n"
     ]
    },
    {
     "name": "stdout",
     "output_type": "stream",
     "text": [
      "\n",
      "Eval loss: 2.2620, Eval Accuracy: 29.2281985283 %\n",
      "[Epoch: 6/20]\n",
      "100%|██████████| 898/898 [04:26<00:00,  3.37batch/s, loss=2.09, acc=21]  \n",
      "100%|██████████| 3589/3589 [01:33<00:00, 38.33batch/s]"
     ]
    },
    {
     "name": "stderr",
     "output_type": "stream",
     "text": [
      "\u001b[34m\u001b[1mwandb\u001b[0m: \u001b[33mWARNING\u001b[0m Artifacts logged anonymously cannot be claimed and expire after 7 days.\n"
     ]
    },
    {
     "name": "stdout",
     "output_type": "stream",
     "text": [
      "\n",
      "Eval loss: 2.2407, Eval Accuracy: 27.6400119066 %\n",
      "[Epoch: 7/20]\n",
      "100%|██████████| 898/898 [04:24<00:00,  3.39batch/s, loss=2.07, acc=23.1]\n",
      "100%|██████████| 3589/3589 [01:33<00:00, 38.36batch/s]"
     ]
    },
    {
     "name": "stderr",
     "output_type": "stream",
     "text": [
      "\u001b[34m\u001b[1mwandb\u001b[0m: \u001b[33mWARNING\u001b[0m Artifacts logged anonymously cannot be claimed and expire after 7 days.\n"
     ]
    },
    {
     "name": "stdout",
     "output_type": "stream",
     "text": [
      "\n",
      "Eval loss: 2.2145, Eval Accuracy: 33.0175548792 %\n",
      "[Epoch: 8/20]\n",
      "100%|██████████| 898/898 [04:25<00:00,  3.38batch/s, loss=2.05, acc=25]  \n",
      "100%|██████████| 3589/3589 [01:32<00:00, 38.69batch/s]"
     ]
    },
    {
     "name": "stderr",
     "output_type": "stream",
     "text": [
      "\u001b[34m\u001b[1mwandb\u001b[0m: \u001b[33mWARNING\u001b[0m Artifacts logged anonymously cannot be claimed and expire after 7 days.\n"
     ]
    },
    {
     "name": "stdout",
     "output_type": "stream",
     "text": [
      "\n",
      "Eval loss: 2.2033, Eval Accuracy: 33.4912240505 %\n",
      "[Epoch: 9/20]\n",
      "100%|██████████| 898/898 [04:26<00:00,  3.37batch/s, loss=2.04, acc=26.6]\n",
      "100%|██████████| 3589/3589 [01:33<00:00, 38.47batch/s]"
     ]
    },
    {
     "name": "stderr",
     "output_type": "stream",
     "text": [
      "\u001b[34m\u001b[1mwandb\u001b[0m: \u001b[33mWARNING\u001b[0m Artifacts logged anonymously cannot be claimed and expire after 7 days.\n"
     ]
    },
    {
     "name": "stdout",
     "output_type": "stream",
     "text": [
      "\n",
      "Eval loss: 2.2041, Eval Accuracy: 34.1599345207 %\n",
      "[Epoch: 10/20]\n",
      "100%|██████████| 898/898 [04:26<00:00,  3.37batch/s, loss=2.02, acc=28.8]\n",
      "100%|██████████| 3589/3589 [01:31<00:00, 39.30batch/s]"
     ]
    },
    {
     "name": "stderr",
     "output_type": "stream",
     "text": [
      "\u001b[34m\u001b[1mwandb\u001b[0m: \u001b[33mWARNING\u001b[0m Artifacts logged anonymously cannot be claimed and expire after 7 days.\n"
     ]
    },
    {
     "name": "stdout",
     "output_type": "stream",
     "text": [
      "\n",
      "Eval loss: 2.1838, Eval Accuracy: 37.9771530628 %\n",
      "[Epoch: 11/20]\n",
      "100%|██████████| 898/898 [04:25<00:00,  3.38batch/s, loss=2.01, acc=31]  \n",
      "100%|██████████| 3589/3589 [01:32<00:00, 38.76batch/s]"
     ]
    },
    {
     "name": "stderr",
     "output_type": "stream",
     "text": [
      "\u001b[34m\u001b[1mwandb\u001b[0m: \u001b[33mWARNING\u001b[0m Artifacts logged anonymously cannot be claimed and expire after 7 days.\n"
     ]
    },
    {
     "name": "stdout",
     "output_type": "stream",
     "text": [
      "\n",
      "Eval loss: 2.1708, Eval Accuracy: 37.2527152300 %\n",
      "[Epoch: 12/20]\n",
      "100%|██████████| 898/898 [04:26<00:00,  3.37batch/s, loss=1.99, acc=33.3]\n",
      "100%|██████████| 3589/3589 [01:32<00:00, 38.61batch/s]\n"
     ]
    },
    {
     "name": "stderr",
     "output_type": "stream",
     "text": [
      "\u001b[34m\u001b[1mwandb\u001b[0m: \u001b[33mWARNING\u001b[0m Artifacts logged anonymously cannot be claimed and expire after 7 days.\n"
     ]
    },
    {
     "name": "stdout",
     "output_type": "stream",
     "text": [
      "Eval loss: 2.1704, Eval Accuracy: 36.8069112301 %\n",
      "[Epoch: 13/20]\n",
      "100%|██████████| 898/898 [04:40<00:00,  3.20batch/s, loss=1.97, acc=34.8]\n",
      "100%|██████████| 3589/3589 [01:34<00:00, 37.93batch/s]"
     ]
    },
    {
     "name": "stderr",
     "output_type": "stream",
     "text": [
      "\u001b[34m\u001b[1mwandb\u001b[0m: \u001b[33mWARNING\u001b[0m Artifacts logged anonymously cannot be claimed and expire after 7 days.\n"
     ]
    },
    {
     "name": "stdout",
     "output_type": "stream",
     "text": [
      "\n",
      "Eval loss: 2.1325, Eval Accuracy: 45.7230418921 %\n",
      "[Epoch: 14/20]\n",
      "100%|██████████| 898/898 [04:39<00:00,  3.21batch/s, loss=1.96, acc=36]  \n",
      "100%|██████████| 3589/3589 [01:34<00:00, 37.95batch/s]"
     ]
    },
    {
     "name": "stderr",
     "output_type": "stream",
     "text": [
      "\u001b[34m\u001b[1mwandb\u001b[0m: \u001b[33mWARNING\u001b[0m Artifacts logged anonymously cannot be claimed and expire after 7 days.\n"
     ]
    },
    {
     "name": "stdout",
     "output_type": "stream",
     "text": [
      "\n",
      "Eval loss: 2.1318, Eval Accuracy: 49.4009464979 %\n",
      "[Epoch: 15/20]\n",
      "100%|██████████| 898/898 [04:33<00:00,  3.28batch/s, loss=1.96, acc=37.2]\n",
      "100%|██████████| 3589/3589 [01:32<00:00, 38.80batch/s]\n"
     ]
    },
    {
     "name": "stderr",
     "output_type": "stream",
     "text": [
      "\u001b[34m\u001b[1mwandb\u001b[0m: \u001b[33mWARNING\u001b[0m Artifacts logged anonymously cannot be claimed and expire after 7 days.\n"
     ]
    },
    {
     "name": "stdout",
     "output_type": "stream",
     "text": [
      "Eval loss: 2.1192, Eval Accuracy: 50.4876017570 %\n",
      "[Epoch: 16/20]\n",
      "100%|██████████| 898/898 [04:26<00:00,  3.37batch/s, loss=1.94, acc=39.2]\n",
      "100%|██████████| 3589/3589 [01:32<00:00, 38.90batch/s]"
     ]
    },
    {
     "name": "stderr",
     "output_type": "stream",
     "text": [
      "\u001b[34m\u001b[1mwandb\u001b[0m: \u001b[33mWARNING\u001b[0m Artifacts logged anonymously cannot be claimed and expire after 7 days.\n"
     ]
    },
    {
     "name": "stdout",
     "output_type": "stream",
     "text": [
      "\n",
      "Eval loss: 2.1191, Eval Accuracy: 45.5837279558 %\n",
      "[Epoch: 17/20]\n",
      "100%|██████████| 898/898 [04:26<00:00,  3.37batch/s, loss=1.93, acc=40.4]\n",
      "100%|██████████| 3589/3589 [01:31<00:00, 39.38batch/s]"
     ]
    },
    {
     "name": "stderr",
     "output_type": "stream",
     "text": [
      "\u001b[34m\u001b[1mwandb\u001b[0m: \u001b[33mWARNING\u001b[0m Artifacts logged anonymously cannot be claimed and expire after 7 days.\n"
     ]
    },
    {
     "name": "stdout",
     "output_type": "stream",
     "text": [
      "\n",
      "Eval loss: 2.1041, Eval Accuracy: 49.9582052231 %\n",
      "[Epoch: 18/20]\n",
      "100%|██████████| 898/898 [04:26<00:00,  3.37batch/s, loss=1.93, acc=41.9]\n",
      "100%|██████████| 3589/3589 [01:31<00:00, 39.05batch/s]\n"
     ]
    },
    {
     "name": "stderr",
     "output_type": "stream",
     "text": [
      "\u001b[34m\u001b[1mwandb\u001b[0m: \u001b[33mWARNING\u001b[0m Artifacts logged anonymously cannot be claimed and expire after 7 days.\n"
     ]
    },
    {
     "name": "stdout",
     "output_type": "stream",
     "text": [
      "Eval loss: 2.1145, Eval Accuracy: 47.7013081312 %\n",
      "[Epoch: 19/20]\n",
      "100%|██████████| 898/898 [04:26<00:00,  3.37batch/s, loss=1.91, acc=43]  \n",
      "100%|██████████| 3589/3589 [01:31<00:00, 39.05batch/s]"
     ]
    },
    {
     "name": "stderr",
     "output_type": "stream",
     "text": [
      "\u001b[34m\u001b[1mwandb\u001b[0m: \u001b[33mWARNING\u001b[0m Artifacts logged anonymously cannot be claimed and expire after 7 days.\n"
     ]
    },
    {
     "name": "stdout",
     "output_type": "stream",
     "text": [
      "\n",
      "Eval loss: 2.0991, Eval Accuracy: 51.1005878448 %\n",
      "[Epoch: 20/20]\n",
      "100%|██████████| 898/898 [04:26<00:00,  3.38batch/s, loss=1.9, acc=43.1] \n",
      "100%|██████████| 3589/3589 [01:32<00:00, 38.99batch/s]"
     ]
    },
    {
     "name": "stderr",
     "output_type": "stream",
     "text": [
      "\u001b[34m\u001b[1mwandb\u001b[0m: \u001b[33mWARNING\u001b[0m Artifacts logged anonymously cannot be claimed and expire after 7 days.\n"
     ]
    },
    {
     "name": "stdout",
     "output_type": "stream",
     "text": [
      "\n",
      "Eval loss: 2.0904, Eval Accuracy: 52.5773167610 %\n",
      "100%|██████████| 113/113 [02:17<00:00,  1.22s/batch]\n",
      "Test Accuracy: 51.0170 %\n"
     ]
    },
    {
     "name": "stderr",
     "output_type": "stream",
     "text": [
      "\u001b[34m\u001b[1mwandb\u001b[0m: \u001b[33mWARNING\u001b[0m Artifacts logged anonymously cannot be claimed and expire after 7 days.\n"
     ]
    },
    {
     "data": {
      "text/html": [],
      "text/plain": [
       "<IPython.core.display.HTML object>"
      ]
     },
     "metadata": {},
     "output_type": "display_data"
    },
    {
     "data": {
      "text/html": [
       "<br>    <style><br>        .wandb-row {<br>            display: flex;<br>            flex-direction: row;<br>            flex-wrap: wrap;<br>            justify-content: flex-start;<br>            width: 100%;<br>        }<br>        .wandb-col {<br>            display: flex;<br>            flex-direction: column;<br>            flex-basis: 100%;<br>            flex: 1;<br>            padding: 10px;<br>        }<br>    </style><br><div class=\"wandb-row\"><div class=\"wandb-col\"><h3>Run history:</h3><br/><table class=\"wandb\"><tr><td>Epoch</td><td>▁▁▂▂▂▃▃▄▄▄▅▅▅▆▆▇▇▇██</td></tr><tr><td>Train Accuracy</td><td>▁▁▂▃▄▄▅▅▅▆▆▆▇▇▇▇████</td></tr><tr><td>Train Loss</td><td>█▇▆▅▄▄▄▃▃▃▃▂▂▂▂▂▁▁▁▁</td></tr><tr><td>Val Accuracy</td><td>▁▂▃▄▅▅▅▅▅▆▆▆▇██▇█▇██</td></tr><tr><td>Val Loss</td><td>█▆▅▄▄▄▃▃▃▃▃▃▂▂▂▂▁▁▁▁</td></tr></table><br/></div><div class=\"wandb-col\"><h3>Run summary:</h3><br/><table class=\"wandb\"><tr><td>Epoch</td><td>20</td></tr><tr><td>Train Accuracy</td><td>43.11178</td></tr><tr><td>Train Loss</td><td>1.90457</td></tr><tr><td>Val Accuracy</td><td>52.57732</td></tr><tr><td>Val Loss</td><td>2.09037</td></tr></table><br/></div></div>"
      ],
      "text/plain": [
       "<IPython.core.display.HTML object>"
      ]
     },
     "metadata": {},
     "output_type": "display_data"
    },
    {
     "data": {
      "text/html": [
       " View run <strong style=\"color:#cdcd00\">EmoNeXt_ModelSize_small_Epochs_20_BatchSize_32_LR_1e-05</strong> at: <a href='https://wandb.ai/jeromeagius0-university-of-malta/EmoNeXt/runs/8p22lz7u?apiKey=01ba9157610df786dc07ecba121471aed0f3f202' target=\"_blank\">https://wandb.ai/jeromeagius0-university-of-malta/EmoNeXt/runs/8p22lz7u?apiKey=01ba9157610df786dc07ecba121471aed0f3f202</a><br> View project at: <a href='https://wandb.ai/jeromeagius0-university-of-malta/EmoNeXt?apiKey=01ba9157610df786dc07ecba121471aed0f3f202' target=\"_blank\">https://wandb.ai/jeromeagius0-university-of-malta/EmoNeXt?apiKey=01ba9157610df786dc07ecba121471aed0f3f202</a><br>Synced 5 W&B file(s), 93 media file(s), 42 artifact file(s) and 0 other file(s)"
      ],
      "text/plain": [
       "<IPython.core.display.HTML object>"
      ]
     },
     "metadata": {},
     "output_type": "display_data"
    },
    {
     "data": {
      "text/html": [
       "Find logs at: <code>.\\wandb\\run-20250318_220303-8p22lz7u\\logs</code>"
      ],
      "text/plain": [
       "<IPython.core.display.HTML object>"
      ]
     },
     "metadata": {},
     "output_type": "display_data"
    }
   ],
   "source": [
    "# %run EmoNeXt-master/train.py --dataset-path=C:\\MastersRepos\\Deep-Learning-For-Computer-Vision\\Models\\EmoNeXt\\Datasets\\FER_ResEmoteNet --batch-size=16 --lr=0.1 --epochs=2 --amp --in_22k --num-workers=0 --model-size=tiny --output-dir=TrainedModels\n",
    "\n",
    "# %run EmoNeXt-master/train.py --dataset-path=C:\\MastersRepos\\Deep-Learning-For-Computer-Vision\\Models\\EmoNeXt\\Datasets\\JAFFE_ResEmoteNet --batch-size=32 --lr=0.00001 --epochs=20 --amp --in_22k --num-workers=0 --model-size=base --output-dir=TrainedModels\n",
    "\n",
    "%run EmoNeXt-master/train.py --dataset-path=C:\\MastersRepos\\Deep-Learning-For-Computer-Vision\\Models\\EmoNeXt\\fer2013 --batch-size=32 --lr=0.00001 --epochs=20 --amp --in_22k --num-workers=0 --model-size=small --output-dir=TrainedModel"
   ]
  },
  {
   "cell_type": "markdown",
   "metadata": {},
   "source": [
    "# Loading the model"
   ]
  },
  {
   "cell_type": "code",
   "execution_count": null,
   "metadata": {},
   "outputs": [
    {
     "name": "stdout",
     "output_type": "stream",
     "text": [
      "Using cuda device\n"
     ]
    },
    {
     "data": {
      "image/png": "[encoded data removed]",
      "text/plain": [
       "<Figure size 640x480 with 1 Axes>"
      ]
     },
     "metadata": {},
     "output_type": "display_data"
    },
    {
     "name": "stdout",
     "output_type": "stream",
     "text": [
      "Predicted Label: happy\n",
      "Label Probabilities:\n",
      "angry: 2.76%\n",
      "disgust: 27.89%\n",
      "fear: 1.83%\n",
      "happy: 56.07%\n",
      "sad: 2.44%\n",
      "surprise: 2.52%\n",
      "neutral: 6.48%\n"
     ]
    }
   ],
   "source": [
    "import torch\n",
    "from torchvision import transforms\n",
    "from PIL import Image\n",
    "import os\n",
    "import matplotlib.pyplot as plt\n",
    "import torch.nn.functional as F\n",
    "# from 'EmoNeXt-master' import models\n",
    "from ema_pytorch import EMA\n",
    "import importlib  \n",
    "models = importlib.import_module(\"EmoNeXt-master.models\") #importing the models.py file from the EmoNeXt-master folder. Doesn't work normally due to the - in the directory name\n",
    "\n",
    "# Device configuration\n",
    "device = torch.device(\"cuda\" if torch.cuda.is_available() else \"cpu\")\n",
    "print(f\"Using {device} device\")\n",
    "\n",
    "# 1. Load the saved model\n",
    "# model_path = \"TrainedModel/EmoNeXt-ModelSize_small_Epochs_20_BatchSize_32_LR_1e-05.pt\"\n",
    "model_path = \"TrainedModel/NoAttentionLoss_EmoNeXt_ModelSize_small_Epochs_80_BatchSize_32_LR_1e-05.pt\"\n",
    "\n",
    "# Load the model architecture\n",
    "# model = get_model(len(train_dataset.classes), \"base\", in_22k=False)  # Update model parameters accordingly\n",
    "model = models.get_model(7, \"small\", in_22k=True) \n",
    "\n",
    "checkpoint = torch.load(model_path, map_location=device)\n",
    "\n",
    "# Load the model weights\n",
    "model.load_state_dict(checkpoint[\"model\"], strict=False)\n",
    "\n",
    "# 2. Put the model in evaluation mode\n",
    "model.eval()\n",
    "\n",
    "# 3. Define the same transformations that were used in training\n",
    "test_transform = transforms.Compose(\n",
    "    [\n",
    "        transforms.Grayscale(),\n",
    "        transforms.Resize(236),\n",
    "        transforms.TenCrop(224),\n",
    "        transforms.Lambda(\n",
    "            lambda crops: torch.stack(\n",
    "                [transforms.ToTensor()(crop) for crop in crops]\n",
    "            )\n",
    "        ),\n",
    "        transforms.Lambda(\n",
    "            lambda crops: torch.stack([crop.repeat(3, 1, 1) for crop in crops])\n",
    "        ),\n",
    "    ]\n",
    ")\n",
    "\n",
    "# 4. Load your test image (path to your image)\n",
    "image_path = \"TestImages/train_7_HAP.tiff\"\n",
    "image = Image.open(image_path)\n",
    "\n",
    "# Apply the transformations to the image\n",
    "image = test_transform(image)\n",
    "\n",
    "# Adds the batch size dimension at 1\n",
    "image = image.unsqueeze(0) \n",
    "\n",
    "# 5. Send the image to the same device as your model\n",
    "device = torch.device('cuda' if torch.cuda.is_available() else 'cpu')\n",
    "image = image.to(device)\n",
    "\n",
    "# Move model to the same device\n",
    "model = model.to(device)\n",
    "\n",
    "# Default values in train.py\n",
    "ema_decay = 0.99\n",
    "ema_update_every = 16\n",
    "\n",
    "ema_model = EMA(model, beta=ema_decay, update_every=ema_update_every).to(device)\n",
    "\n",
    "ema_model.load_state_dict(checkpoint[\"ema\"], strict=False)\n",
    "ema_model.eval()\n",
    "\n",
    "# 6. Run inference on the image to get the final prediction and probabilities\n",
    "with torch.no_grad():\n",
    "    bs, ncrops, c, h, w = image.shape  # Expected shape: (1, 10, 3, 224, 224)\n",
    "    inputs = image.view(-1, c, h, w)     # Merge batch and crops: (10, 3, 224, 224)\n",
    "    \n",
    "    # Forward pass through the ema_model; assuming the model returns a tuple (_, logits)\n",
    "    _, logits = ema_model(inputs)\n",
    "    \n",
    "    # Reshape logits back to (batch_size, ncrops, num_classes) and average over crops\n",
    "    outputs_avg = logits.view(bs, ncrops, -1).mean(1)\n",
    "    \n",
    "    predictions = torch.argmax(outputs_avg, dim=1)\n",
    "\n",
    "    predicted_labels = predictions.tolist()\n",
    "    predicted_class = predicted_labels[0]\n",
    "    \n",
    "    # Compute probabilities using softmax\n",
    "    probabilities = F.softmax(outputs_avg, dim=1).cpu().numpy()[0]\n",
    "\n",
    "# Define your class names (adjust as needed)\n",
    "class_names = [\"angry\", \"disgust\", \"fear\", \"happy\", \"sad\", \"surprise\", \"neutral\"]\n",
    "\n",
    "# Print out the results\n",
    "plt.imshow(image[0][0].cpu().permute(1, 2, 0).numpy())\n",
    "plt.show()\n",
    "print(\"Predicted Label:\", class_names[predicted_class])\n",
    "print(\"Label Probabilities:\")\n",
    "for cls, prob in zip(class_names, probabilities):\n",
    "    print(f\"{cls}: {prob*100:.2f}%\")"
   ]
  }
 ],
 "metadata": {
  "kernelspec": {
   "display_name": ".venv",
   "language": "python",
   "name": "python3"
  },
  "language_info": {
   "codemirror_mode": {
    "name": "ipython",
    "version": 3
   },
   "file_extension": ".py",
   "mimetype": "text/x-python",
   "name": "python",
   "nbconvert_exporter": "python",
   "pygments_lexer": "ipython3",
   "version": "3.10.8"
  }
 },
 "nbformat": 4,
 "nbformat_minor": 2
}
