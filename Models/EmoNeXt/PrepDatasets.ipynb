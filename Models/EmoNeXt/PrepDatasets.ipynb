{
 "cells": [
  {
   "cell_type": "code",
   "execution_count": 2,
   "metadata": {},
   "outputs": [],
   "source": [
    "import os\n",
    "import shutil\n",
    "import pandas as pd\n",
    "\n",
    "# Function to move images to corresponding class folder\n",
    "def move_images_to_folder(df, image_dir, parent_dir):\n",
    "    for _, row in df.iterrows():\n",
    "        image_filename = row['filename']\n",
    "        image_path = os.path.join(image_dir, image_filename)\n",
    "        label = row['label']\n",
    "        \n",
    "        # Define the destination path\n",
    "        dest_dir = os.path.join(parent_dir, str(label), image_filename)\n",
    "        \n",
    "        # Move the image to the appropriate class folder\n",
    "        shutil.copy(image_path, dest_dir)\n",
    "\n",
    "for dir in [\"test\", \"train\", \"validation\"]:\n",
    "    dataset_path = \"Datasets\\\\FER_ResEmoteNet\"\n",
    "    dataset_path = os.path.join(dataset_path, dir)\n",
    "    output_dir = image_dir = dataset_path\n",
    "    labels_file = os.path.join(dataset_path, \"labels.csv\")\n",
    "    \n",
    "    # Load the labels CSV\n",
    "    labels_df = pd.read_csv(labels_file)\n",
    "    \n",
    "    # Get unique classes from the labels file\n",
    "    unique_labels = labels_df['label'].unique()\n",
    "    \n",
    "    for label in unique_labels:\n",
    "        os.makedirs(os.path.join(output_dir, str(label)), exist_ok=True)\n",
    "    \n",
    "    # Move images to corresponding class folder\n",
    "    move_images_to_folder(labels_df, image_dir, output_dir)"
   ]
  }
 ],
 "metadata": {
  "kernelspec": {
   "display_name": ".venv",
   "language": "python",
   "name": "python3"
  },
  "language_info": {
   "codemirror_mode": {
    "name": "ipython",
    "version": 3
   },
   "file_extension": ".py",
   "mimetype": "text/x-python",
   "name": "python",
   "nbconvert_exporter": "python",
   "pygments_lexer": "ipython3",
   "version": "3.10.8"
  }
 },
 "nbformat": 4,
 "nbformat_minor": 2
}
